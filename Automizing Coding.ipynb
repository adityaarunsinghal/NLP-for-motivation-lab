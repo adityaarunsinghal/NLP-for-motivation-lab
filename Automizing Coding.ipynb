{
 "cells": [
  {
   "cell_type": "code",
   "execution_count": 1,
   "metadata": {},
   "outputs": [],
   "source": [
    "from collections import defaultdict, Counter"
   ]
  },
  {
   "cell_type": "code",
   "execution_count": 2,
   "metadata": {},
   "outputs": [],
   "source": [
    "import pandas as pd\n",
    "import nltk\n",
    "import gensim.models\n",
    "import numpy as np\n",
    "import predictor\n",
    "from predictor import predictor\n",
    "from model_loader import model_loader\n",
    "\n",
    "data = pd.read_csv(\"/Users/aditya/Documents/GitHub/NLP-for-motivation-lab/data-reduced-joined.csv\")"
   ]
  },
  {
   "cell_type": "code",
   "execution_count": 3,
   "metadata": {},
   "outputs": [
    {
     "output_type": "stream",
     "name": "stdout",
     "text": [
      "{'fit_time': array([6.33271694, 6.8967309 , 5.13775182]), 'score_time': array([0.00129414, 0.00112605, 0.00091815]), 'test_score': array([0.87283237, 0.86127168, 0.8372093 ]), 'train_score': array([0.93623188, 0.95072464, 0.94508671])}\n0.8478260869565217\n"
     ]
    },
    {
     "output_type": "execute_result",
     "data": {
      "text/plain": [
       "0.8478260869565217"
      ]
     },
     "metadata": {},
     "execution_count": 3
    }
   ],
   "source": [
    "# checking predictor performance for specificity\n",
    "\n",
    "mypredictor_s = predictor(data, 'all', k_neighbors = 3, min_df=1)\n",
    "mypredictor_s.train_on('s')\n",
    "mypredictor_s.test()"
   ]
  },
  {
   "cell_type": "code",
   "execution_count": 4,
   "metadata": {},
   "outputs": [],
   "source": [
    "mypredictor_s.save_model(\"general_specificity\")"
   ]
  },
  {
   "cell_type": "code",
   "execution_count": null,
   "metadata": {},
   "outputs": [],
   "source": [
    "mypredictor_d = predictor(data, 'all', k_neighbors = 4, min_df=1)\n",
    "mypredictor_d.train_on('d')\n",
    "mypredictor_d.save_model(\"general_directness\")"
   ]
  },
  {
   "cell_type": "code",
   "execution_count": 46,
   "metadata": {},
   "outputs": [],
   "source": [
    "# coder1_specific_d = data[['all','d1','d2','d3']][:128]\n",
    "# coder1_specific_d['d'] = round(coder1_specific_d[coder1_specific_d.columns[-3:]].mean(axis=1)*10)\n",
    "# coder2_specific_d = data[['all','d1','d2','d3']][128:]\n",
    "# coder2_specific_d['d'] = round(coder2_specific_d[coder2_specific_d.columns[-3:]].mean(axis=1)*10)\n",
    "# coder3_specific_d = data[['all','d4','d5','d6']][:128]\n",
    "# coder3_specific_d['d'] = round(coder3_specific_d[coder3_specific_d.columns[-3:]].mean(axis=1)*10)\n",
    "# coder4_specific_d = data[['all','d4','d5','d6']][128:]\n",
    "# coder4_specific_d['d'] = round(coder4_specific_d[coder4_specific_d.columns[-3:]].mean(axis=1)*10)\n",
    "\n",
    "# coder1_specific_s = data[['all','s1','s2','s3']][:128]\n",
    "# coder1_specific_s['s'] = round(coder1_specific_s[coder1_specific_s.columns[-3:]].mean(axis=1)*10)\n",
    "# coder2_specific_s = data[['all','s1','s2','s3']][128:]\n",
    "# coder2_specific_s['s'] = round(coder2_specific_s[coder2_specific_s.columns[-3:]].mean(axis=1)*10)\n",
    "# coder3_specific_s = data[['all','s4','s5','s6']][:128]\n",
    "# coder3_specific_s['s'] = round(coder3_specific_s[coder3_specific_s.columns[-3:]].mean(axis=1)*10)\n",
    "# coder4_specific_s = data[['all','s4','s5','s6']][128:]\n",
    "# coder4_specific_s['s'] = round(coder4_specific_s[coder4_specific_s.columns[-3:]].mean(axis=1)*10)\n",
    "\n",
    "coder1_specific_d = data[['all','d1','d2','d3']][:128]\n",
    "coder1_specific_d['d'] = round(coder1_specific_d[coder1_specific_d.columns[-3:]].mean(axis=1))\n",
    "coder2_specific_d = data[['all','d1','d2','d3']][128:]\n",
    "coder2_specific_d['d'] = round(coder2_specific_d[coder2_specific_d.columns[-3:]].mean(axis=1))\n",
    "coder3_specific_d = data[['all','d4','d5','d6']][:128]\n",
    "coder3_specific_d['d'] = round(coder3_specific_d[coder3_specific_d.columns[-3:]].mean(axis=1))\n",
    "coder4_specific_d = data[['all','d4','d5','d6']][128:]\n",
    "coder4_specific_d['d'] = round(coder4_specific_d[coder4_specific_d.columns[-3:]].mean(axis=1))\n",
    "\n",
    "coder1_specific_s = data[['all','s1','s2','s3']][:128]\n",
    "coder1_specific_s['s'] = round(coder1_specific_s[coder1_specific_s.columns[-3:]].mean(axis=1))\n",
    "coder2_specific_s = data[['all','s1','s2','s3']][128:]\n",
    "coder2_specific_s['s'] = round(coder2_specific_s[coder2_specific_s.columns[-3:]].mean(axis=1))\n",
    "coder3_specific_s = data[['all','s4','s5','s6']][:128]\n",
    "coder3_specific_s['s'] = round(coder3_specific_s[coder3_specific_s.columns[-3:]].mean(axis=1))\n",
    "coder4_specific_s = data[['all','s4','s5','s6']][128:]\n",
    "coder4_specific_s['s'] = round(coder4_specific_s[coder4_specific_s.columns[-3:]].mean(axis=1))"
   ]
  },
  {
   "cell_type": "code",
   "execution_count": 47,
   "metadata": {},
   "outputs": [
    {
     "output_type": "stream",
     "name": "stdout",
     "text": [
      "{'fit_time': array([2.28260183, 2.8932271 , 2.94697905]), 'score_time': array([0.00194407, 0.00153661, 0.00374913]), 'test_score': array([0.75384615, 0.75384615, 0.69230769]), 'train_score': array([0.95384615, 0.98461538, 0.97692308])}\n0.8571428571428571\n"
     ]
    },
    {
     "output_type": "execute_result",
     "data": {
      "text/plain": [
       "0.8571428571428571"
      ]
     },
     "metadata": {},
     "execution_count": 47
    }
   ],
   "source": [
    "mypredictor_coder1d = predictor(coder1_specific_d, 'all', k_neighbors = 2, min_df=1)\n",
    "mypredictor_coder1d.train_on('d')\n",
    "mypredictor_coder1d.test()\n",
    "# mypredictor_coder1d.save_model('trial_coder1d')"
   ]
  },
  {
   "cell_type": "code",
   "execution_count": 12,
   "metadata": {},
   "outputs": [],
   "source": [
    "def test_coder(df, k, min, on):\n",
    "    mypredictor = predictor(df, 'all', k_neighbors = k, min_df=min)\n",
    "    mypredictor.train_on(on)\n",
    "    mypredictor.test()"
   ]
  },
  {
   "cell_type": "code",
   "execution_count": 13,
   "metadata": {},
   "outputs": [],
   "source": [
    "# loaded_model = model_loader('trial_coder1d')"
   ]
  },
  {
   "cell_type": "code",
   "execution_count": 14,
   "metadata": {},
   "outputs": [],
   "source": [
    "# loaded_model.predict_values(data['all'])"
   ]
  },
  {
   "cell_type": "code",
   "execution_count": 16,
   "metadata": {},
   "outputs": [],
   "source": [
    "# loaded_model.X"
   ]
  },
  {
   "cell_type": "code",
   "execution_count": 15,
   "metadata": {},
   "outputs": [
    {
     "output_type": "execute_result",
     "data": {
      "text/plain": [
       "(300, 3290)"
      ]
     },
     "metadata": {},
     "execution_count": 15
    }
   ],
   "source": [
    "mypredictor_coder1d.X.shape"
   ]
  },
  {
   "cell_type": "code",
   "execution_count": 53,
   "metadata": {},
   "outputs": [
    {
     "output_type": "stream",
     "name": "stdout",
     "text": [
      "{'fit_time': array([0.95626497, 1.44020295, 1.14734483]), 'score_time': array([0.00102282, 0.00061107, 0.00161815]), 'test_score': array([0.86315789, 0.87368421, 0.81914894]), 'train_score': array([0.94179894, 0.95767196, 0.94736842])}\n0.8627450980392157\n"
     ]
    }
   ],
   "source": [
    "test_coder(df = coder1_specific_s, k = 3, min = 2, on = 's')"
   ]
  },
  {
   "cell_type": "code",
   "execution_count": 26,
   "metadata": {},
   "outputs": [
    {
     "output_type": "stream",
     "name": "stdout",
     "text": [
      "{'fit_time': array([0.47122478, 0.45076299, 0.32628298]), 'score_time': array([0.00131416, 0.00066781, 0.00159121]), 'test_score': array([0.72151899, 0.69620253, 0.63291139]), 'train_score': array([0.89240506, 0.91139241, 0.89873418])}\n0.6666666666666666\n"
     ]
    }
   ],
   "source": [
    "# test_coder(df = coder1_specific_s, k = 1, min = 2, on = 's')\n",
    "test_coder(df = coder2_specific_s, k = 2, min = 2, on = 's')"
   ]
  },
  {
   "cell_type": "code",
   "execution_count": 30,
   "metadata": {},
   "outputs": [
    {
     "output_type": "stream",
     "name": "stdout",
     "text": [
      "{'fit_time': array([0.7898488 , 0.61902499, 0.73603916]), 'score_time': array([0.00071907, 0.001724  , 0.00067568]), 'test_score': array([0.75294118, 0.76470588, 0.78823529]), 'train_score': array([0.92941176, 0.94705882, 0.96470588])}\n0.8222222222222222\n"
     ]
    }
   ],
   "source": [
    "test_coder(df = coder3_specific_d, k = 1, min = 2, on = 'd')"
   ]
  },
  {
   "cell_type": "code",
   "execution_count": null,
   "metadata": {},
   "outputs": [],
   "source": [
    "#make package and make it usable\n",
    "#better feature selection\n",
    "#normalize added features\n",
    "#better model explainibility\n",
    "#more hard-coded context (insider knowledge of the process)\n",
    "#better non-ad-hoc selection of hyperparamteres\n",
    "#give irmak averages of coder within reliabilities\n",
    "#neater pipelines\n",
    "#ask profs for ideas\n",
    "#push on github and maintain\n",
    "#make ready for coders to rely on \n",
    "#publish"
   ]
  }
 ],
 "metadata": {
  "kernelspec": {
   "display_name": "Python 3",
   "language": "python",
   "name": "python3"
  },
  "language_info": {
   "codemirror_mode": {
    "name": "ipython",
    "version": 3
   },
   "file_extension": ".py",
   "mimetype": "text/x-python",
   "name": "python",
   "nbconvert_exporter": "python",
   "pygments_lexer": "ipython3",
   "version": "3.9.1-final"
  }
 },
 "nbformat": 4,
 "nbformat_minor": 2
}
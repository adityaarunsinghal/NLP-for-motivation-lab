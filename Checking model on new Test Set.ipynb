{
 "cells": [
  {
   "cell_type": "code",
   "execution_count": 1,
   "metadata": {},
   "outputs": [],
   "source": [
    "import pandas as pd\n",
    "import nltk\n",
    "import gensim.models\n",
    "import numpy as np\n",
    "import predictor\n",
    "from predictor import predictor\n",
    "from model_loader import model_loader\n",
    "from collections import defaultdict, Counter"
   ]
  },
  {
   "cell_type": "code",
   "execution_count": 2,
   "metadata": {},
   "outputs": [],
   "source": [
    "test = pd.read_csv(\"/Users/aditya/Documents/GitHub/NLP-for-motivation-lab/TEST Set (v. analysis).csv\", encoding='latin1')"
   ]
  },
  {
   "cell_type": "code",
   "execution_count": 3,
   "metadata": {},
   "outputs": [],
   "source": [
    "test = test.iloc[:137, :10]\n",
    "test['all'] = \"\"\n",
    "for i in range(len(test)) : test['all'][i] = str(test['wish'][i]) + \" \" + str(test['best'][i]) + \" \" + str(test['direct'][i])\n",
    "test['s'] = (test['specific'] + test['specific.1'] + test['specific.2'])/3\n",
    "test['d'] = (test['direct'] + test['direct.1'] + test['direct.2'])/3"
   ]
  },
  {
   "cell_type": "code",
   "execution_count": 4,
   "metadata": {},
   "outputs": [],
   "source": [
    "test = test[['id','all', 's', 'd']]"
   ]
  },
  {
   "cell_type": "code",
   "execution_count": 6,
   "metadata": {},
   "outputs": [],
   "source": [
    "spec_predictor = model_loader('general_specificity')\n",
    "dir_predictor = model_loader('general_directness')"
   ]
  },
  {
   "cell_type": "code",
   "execution_count": 7,
   "metadata": {},
   "outputs": [],
   "source": [
    "test['s_hat'] = spec_predictor.predict_values(test['all'])\n",
    "test['d_hat'] = dir_predictor.predict_values(test['all'])"
   ]
  },
  {
   "cell_type": "code",
   "execution_count": 8,
   "metadata": {},
   "outputs": [
    {
     "output_type": "execute_result",
     "data": {
      "text/plain": [
       "                    id                                                all  \\\n",
       "0    R_0eaORtecx1qRSXD  helping out my mom cleaning around the house a...   \n",
       "1    R_0k77p3mLWMnYCdj                                Sleeping energy 2.0   \n",
       "2    R_10NISnPmiY0PzoA  good swim practice great improvements and sati...   \n",
       "3    R_11gxSMS2VjUjzKK  getting my grade up i get my grade up and my m...   \n",
       "4    R_11ZpHFGbuCjLE6e  My wish were to be to find a friend that would...   \n",
       "..                 ...                                                ...   \n",
       "132  R_YPjroxvKxIxQBnb  To make someone around me happy and feel good ...   \n",
       "133  R_yrLNx1slcZ8RgTn   be successful, and have a good future better 2.0   \n",
       "134  R_YSpFv60JdjBkXL3  finish my math homework iÕd have less work to ...   \n",
       "135  R_zeTPZApej8XcFnr  i wish to get all my classwork and homework do...   \n",
       "136  R_ZxaafmebttixVKx      to keep going on it wouldn't make me feel 2.0   \n",
       "\n",
       "            s         d  s_hat  d_hat  \n",
       "0    3.666667  3.000000    2.0    3.0  \n",
       "1    2.000000  2.000000    1.0    1.0  \n",
       "2    2.666667  2.333333    2.0    1.0  \n",
       "3    3.333333  4.333333    2.0    2.0  \n",
       "4    3.333333  2.333333    3.0    3.0  \n",
       "..        ...       ...    ...    ...  \n",
       "132  4.000000  3.000000    3.0    2.0  \n",
       "133  2.333333  2.666667    2.0    2.0  \n",
       "134  3.333333  2.666667    3.0    2.0  \n",
       "135  3.333333  3.333333    3.0    2.0  \n",
       "136  2.333333         0    3.0    2.0  \n",
       "\n",
       "[137 rows x 6 columns]"
      ],
      "text/html": "<div>\n<style scoped>\n    .dataframe tbody tr th:only-of-type {\n        vertical-align: middle;\n    }\n\n    .dataframe tbody tr th {\n        vertical-align: top;\n    }\n\n    .dataframe thead th {\n        text-align: right;\n    }\n</style>\n<table border=\"1\" class=\"dataframe\">\n  <thead>\n    <tr style=\"text-align: right;\">\n      <th></th>\n      <th>id</th>\n      <th>all</th>\n      <th>s</th>\n      <th>d</th>\n      <th>s_hat</th>\n      <th>d_hat</th>\n    </tr>\n  </thead>\n  <tbody>\n    <tr>\n      <th>0</th>\n      <td>R_0eaORtecx1qRSXD</td>\n      <td>helping out my mom cleaning around the house a...</td>\n      <td>3.666667</td>\n      <td>3.000000</td>\n      <td>2.0</td>\n      <td>3.0</td>\n    </tr>\n    <tr>\n      <th>1</th>\n      <td>R_0k77p3mLWMnYCdj</td>\n      <td>Sleeping energy 2.0</td>\n      <td>2.000000</td>\n      <td>2.000000</td>\n      <td>1.0</td>\n      <td>1.0</td>\n    </tr>\n    <tr>\n      <th>2</th>\n      <td>R_10NISnPmiY0PzoA</td>\n      <td>good swim practice great improvements and sati...</td>\n      <td>2.666667</td>\n      <td>2.333333</td>\n      <td>2.0</td>\n      <td>1.0</td>\n    </tr>\n    <tr>\n      <th>3</th>\n      <td>R_11gxSMS2VjUjzKK</td>\n      <td>getting my grade up i get my grade up and my m...</td>\n      <td>3.333333</td>\n      <td>4.333333</td>\n      <td>2.0</td>\n      <td>2.0</td>\n    </tr>\n    <tr>\n      <th>4</th>\n      <td>R_11ZpHFGbuCjLE6e</td>\n      <td>My wish were to be to find a friend that would...</td>\n      <td>3.333333</td>\n      <td>2.333333</td>\n      <td>3.0</td>\n      <td>3.0</td>\n    </tr>\n    <tr>\n      <th>...</th>\n      <td>...</td>\n      <td>...</td>\n      <td>...</td>\n      <td>...</td>\n      <td>...</td>\n      <td>...</td>\n    </tr>\n    <tr>\n      <th>132</th>\n      <td>R_YPjroxvKxIxQBnb</td>\n      <td>To make someone around me happy and feel good ...</td>\n      <td>4.000000</td>\n      <td>3.000000</td>\n      <td>3.0</td>\n      <td>2.0</td>\n    </tr>\n    <tr>\n      <th>133</th>\n      <td>R_yrLNx1slcZ8RgTn</td>\n      <td>be successful, and have a good future better 2.0</td>\n      <td>2.333333</td>\n      <td>2.666667</td>\n      <td>2.0</td>\n      <td>2.0</td>\n    </tr>\n    <tr>\n      <th>134</th>\n      <td>R_YSpFv60JdjBkXL3</td>\n      <td>finish my math homework iÕd have less work to ...</td>\n      <td>3.333333</td>\n      <td>2.666667</td>\n      <td>3.0</td>\n      <td>2.0</td>\n    </tr>\n    <tr>\n      <th>135</th>\n      <td>R_zeTPZApej8XcFnr</td>\n      <td>i wish to get all my classwork and homework do...</td>\n      <td>3.333333</td>\n      <td>3.333333</td>\n      <td>3.0</td>\n      <td>2.0</td>\n    </tr>\n    <tr>\n      <th>136</th>\n      <td>R_ZxaafmebttixVKx</td>\n      <td>to keep going on it wouldn't make me feel 2.0</td>\n      <td>2.333333</td>\n      <td>0</td>\n      <td>3.0</td>\n      <td>2.0</td>\n    </tr>\n  </tbody>\n</table>\n<p>137 rows × 6 columns</p>\n</div>"
     },
     "metadata": {},
     "execution_count": 8
    }
   ],
   "source": [
    "test.fillna(\"0\", inplace=True)\n",
    "test"
   ]
  },
  {
   "cell_type": "code",
   "execution_count": 9,
   "metadata": {},
   "outputs": [],
   "source": [
    "test['s'] = test.s.apply(lambda x: round(float(x)))\n",
    "test['d'] = test.d.apply(lambda x: round(float(x)))"
   ]
  },
  {
   "cell_type": "code",
   "execution_count": 10,
   "metadata": {},
   "outputs": [],
   "source": [
    "def accuracy(y, yhat):\n",
    "    return sum([int(a==b) for a, b in zip(y, yhat)])/len(y)*100\n",
    "\n",
    "def loss(y, yhat):\n",
    "    return sum([(a-b)**2 for a, b in zip(y, yhat)])"
   ]
  },
  {
   "cell_type": "code",
   "execution_count": 11,
   "metadata": {},
   "outputs": [
    {
     "output_type": "execute_result",
     "data": {
      "text/plain": [
       "35.76642335766424"
      ]
     },
     "metadata": {},
     "execution_count": 11
    }
   ],
   "source": [
    "print(accuracy(test.s, test.s_hat))\n",
    "print(loss(test.s, test.s_hat))\n",
    "print (\"\\n\")\n",
    "print(accuracy(test.d, test.d_hat))\n",
    "print(loss(test.d, test.d_hat))"
   ]
  }
 ],
 "metadata": {
  "kernelspec": {
   "display_name": "Python 3",
   "language": "python",
   "name": "python3"
  },
  "language_info": {
   "codemirror_mode": {
    "name": "ipython",
    "version": 3
   },
   "file_extension": ".py",
   "mimetype": "text/x-python",
   "name": "python",
   "nbconvert_exporter": "python",
   "pygments_lexer": "ipython3",
   "version": "3.9.1-final"
  }
 },
 "nbformat": 4,
 "nbformat_minor": 2
}
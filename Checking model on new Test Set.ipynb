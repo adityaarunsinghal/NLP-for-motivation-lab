{
 "cells": [
  {
   "cell_type": "code",
   "execution_count": 22,
   "metadata": {},
   "outputs": [],
   "source": [
    "import pandas as pd\n",
    "import nltk\n",
    "import gensim.models\n",
    "import numpy as np\n",
    "import predictor\n",
    "# import matplotlib.pyplot as plt\n",
    "# import seaborn as sns\n",
    "from predictor import predictor\n",
    "from model_loader import model_loader\n",
    "from collections import defaultdict, Counter"
   ]
  },
  {
   "cell_type": "code",
   "execution_count": 52,
   "metadata": {},
   "outputs": [],
   "source": [
    "test = pd.read_csv(\"/Users/aditya/Documents/GitHub/NLP-for-motivation-lab/TEST Set (v. analysis).csv\", encoding='latin1')\n",
    "\n",
    "test2 = pd.read_csv(\"/Users/aditya/Documents/GitHub/NLP-for-motivation-lab/TEST Set (v. analysis)2.csv\", encoding='latin1')"
   ]
  },
  {
   "cell_type": "code",
   "execution_count": 42,
   "metadata": {},
   "outputs": [],
   "source": [
    "def accuracy(y, yhat):\n",
    "    return sum([int(a==b) for a, b in zip(y, yhat)])/len(y)*100\n",
    "\n",
    "def loss(y, yhat):\n",
    "    return sum([(a-b)**2 for a, b in zip(y, yhat)])"
   ]
  },
  {
   "cell_type": "code",
   "execution_count": 43,
   "metadata": {},
   "outputs": [],
   "source": [
    "test = test.iloc[:137, :10]\n",
    "test['all'] = \"\"\n",
    "for i in range(len(test)) : test['all'][i] = str(test['wish'][i]) + \" \" + str(test['best'][i]) + \" \" + str(test['direct'][i])\n",
    "test['s'] = (test['specific'] + test['specific.1'] + test['specific.2'])/3\n",
    "test['d'] = (test['direct'] + test['direct.1'] + test['direct.2'])/3"
   ]
  },
  {
   "cell_type": "code",
   "execution_count": null,
   "metadata": {},
   "outputs": [],
   "source": [
    "test = test.iloc[:137, :10]\n",
    "test['all'] = \"\"\n",
    "for i in range(len(test)) : test['all'][i] = str(test['wish'][i]) + \" \" + str(test['best'][i]) + \" \" + str(test['direct'][i])\n",
    "test['s'] = (test['specific'] + test['specific.1'] + test['specific.2'])/3\n",
    "test['d'] = (test['direct'] + test['direct.1'] + test['direct.2'])/3"
   ]
  },
  {
   "cell_type": "code",
   "execution_count": 44,
   "metadata": {},
   "outputs": [
    {
     "output_type": "execute_result",
     "data": {
      "text/plain": [
       "                    id                                               wish  \\\n",
       "0    R_0eaORtecx1qRSXD                                 helping out my mom   \n",
       "1    R_0k77p3mLWMnYCdj                                           Sleeping   \n",
       "2    R_10NISnPmiY0PzoA                                 good swim practice   \n",
       "3    R_11gxSMS2VjUjzKK                                getting my grade up   \n",
       "4    R_11ZpHFGbuCjLE6e  My wish were to be to find a friend that would...   \n",
       "..                 ...                                                ...   \n",
       "132  R_YPjroxvKxIxQBnb  To make someone around me happy and feel good ...   \n",
       "133  R_yrLNx1slcZ8RgTn              be successful, and have a good future   \n",
       "134  R_YSpFv60JdjBkXL3                            finish my math homework   \n",
       "135  R_zeTPZApej8XcFnr  i wish to get all my classwork and homework do...   \n",
       "136  R_ZxaafmebttixVKx                                   to keep going on   \n",
       "\n",
       "     specific  direct                                               best  \\\n",
       "0         2.0     2.0  cleaning around the house and it will make me ...   \n",
       "1         1.0     2.0                                             energy   \n",
       "2         2.0     1.0                great improvements and satisfaction   \n",
       "3         3.0     3.0              i get my grade up and my mom is happy   \n",
       "4         5.0     3.0  If I could fulfill my wish, then I would proba...   \n",
       "..        ...     ...                                                ...   \n",
       "132       3.0     2.0                          Makes someone feel better   \n",
       "133       2.0     2.0                                             better   \n",
       "134       2.0     2.0                     iÕd have less work to do later   \n",
       "135       4.0     3.0                         paying attention in class.   \n",
       "136       2.0     2.0                           it wouldn't make me feel   \n",
       "\n",
       "     specific.1  direct.1                                               elab  \\\n",
       "0           4.0       4.0  it would make me proud to see my mom come home...   \n",
       "1           1.0       1.0  I don't really sleep that much even though I s...   \n",
       "2           1.0       1.0  Me in a swimming pool screaming of joy because...   \n",
       "3           4.0       3.0  it would be so good when i get my grade up and...   \n",
       "4           4.0       3.0                                                :')   \n",
       "..          ...       ...                                                ...   \n",
       "132         4.0       2.0  When you are making someones day you are putti...   \n",
       "133         1.0       1.0  i will make me feel better because i have a go...   \n",
       "134         5.0       3.0  i would be able to spend time on other things ...   \n",
       "135         3.0       2.0  i will got to class and do my work an ddo ever...   \n",
       "136         4.0       3.0             Don't do anything dumb before a month.   \n",
       "\n",
       "     specific.2  direct.2                                                all  \\\n",
       "0           4.0       4.0  helping out my mom cleaning around the house a...   \n",
       "1           4.0       5.0                                Sleeping energy 2.0   \n",
       "2           3.0       5.0  good swim practice great improvements and sati...   \n",
       "3           4.0       4.0  getting my grade up i get my grade up and my m...   \n",
       "4           2.0       1.0  My wish were to be to find a friend that would...   \n",
       "..          ...       ...                                                ...   \n",
       "132         5.0       5.0  To make someone around me happy and feel good ...   \n",
       "133         5.0       5.0   be successful, and have a good future better 2.0   \n",
       "134         4.0       3.0  finish my math homework iÕd have less work to ...   \n",
       "135         5.0       5.0  i wish to get all my classwork and homework do...   \n",
       "136         4.0       2.0      to keep going on it wouldn't make me feel 2.0   \n",
       "\n",
       "     s  d  \n",
       "0    3  3  \n",
       "1    2  3  \n",
       "2    2  2  \n",
       "3    4  3  \n",
       "4    4  2  \n",
       "..  .. ..  \n",
       "132  4  3  \n",
       "133  3  3  \n",
       "134  4  3  \n",
       "135  4  3  \n",
       "136  3  2  \n",
       "\n",
       "[137 rows x 13 columns]"
      ],
      "text/html": "<div>\n<style scoped>\n    .dataframe tbody tr th:only-of-type {\n        vertical-align: middle;\n    }\n\n    .dataframe tbody tr th {\n        vertical-align: top;\n    }\n\n    .dataframe thead th {\n        text-align: right;\n    }\n</style>\n<table border=\"1\" class=\"dataframe\">\n  <thead>\n    <tr style=\"text-align: right;\">\n      <th></th>\n      <th>id</th>\n      <th>wish</th>\n      <th>specific</th>\n      <th>direct</th>\n      <th>best</th>\n      <th>specific.1</th>\n      <th>direct.1</th>\n      <th>elab</th>\n      <th>specific.2</th>\n      <th>direct.2</th>\n      <th>all</th>\n      <th>s</th>\n      <th>d</th>\n    </tr>\n  </thead>\n  <tbody>\n    <tr>\n      <th>0</th>\n      <td>R_0eaORtecx1qRSXD</td>\n      <td>helping out my mom</td>\n      <td>2.0</td>\n      <td>2.0</td>\n      <td>cleaning around the house and it will make me ...</td>\n      <td>4.0</td>\n      <td>4.0</td>\n      <td>it would make me proud to see my mom come home...</td>\n      <td>4.0</td>\n      <td>4.0</td>\n      <td>helping out my mom cleaning around the house a...</td>\n      <td>3</td>\n      <td>3</td>\n    </tr>\n    <tr>\n      <th>1</th>\n      <td>R_0k77p3mLWMnYCdj</td>\n      <td>Sleeping</td>\n      <td>1.0</td>\n      <td>2.0</td>\n      <td>energy</td>\n      <td>1.0</td>\n      <td>1.0</td>\n      <td>I don't really sleep that much even though I s...</td>\n      <td>4.0</td>\n      <td>5.0</td>\n      <td>Sleeping energy 2.0</td>\n      <td>2</td>\n      <td>3</td>\n    </tr>\n    <tr>\n      <th>2</th>\n      <td>R_10NISnPmiY0PzoA</td>\n      <td>good swim practice</td>\n      <td>2.0</td>\n      <td>1.0</td>\n      <td>great improvements and satisfaction</td>\n      <td>1.0</td>\n      <td>1.0</td>\n      <td>Me in a swimming pool screaming of joy because...</td>\n      <td>3.0</td>\n      <td>5.0</td>\n      <td>good swim practice great improvements and sati...</td>\n      <td>2</td>\n      <td>2</td>\n    </tr>\n    <tr>\n      <th>3</th>\n      <td>R_11gxSMS2VjUjzKK</td>\n      <td>getting my grade up</td>\n      <td>3.0</td>\n      <td>3.0</td>\n      <td>i get my grade up and my mom is happy</td>\n      <td>4.0</td>\n      <td>3.0</td>\n      <td>it would be so good when i get my grade up and...</td>\n      <td>4.0</td>\n      <td>4.0</td>\n      <td>getting my grade up i get my grade up and my m...</td>\n      <td>4</td>\n      <td>3</td>\n    </tr>\n    <tr>\n      <th>4</th>\n      <td>R_11ZpHFGbuCjLE6e</td>\n      <td>My wish were to be to find a friend that would...</td>\n      <td>5.0</td>\n      <td>3.0</td>\n      <td>If I could fulfill my wish, then I would proba...</td>\n      <td>4.0</td>\n      <td>3.0</td>\n      <td>:')</td>\n      <td>2.0</td>\n      <td>1.0</td>\n      <td>My wish were to be to find a friend that would...</td>\n      <td>4</td>\n      <td>2</td>\n    </tr>\n    <tr>\n      <th>...</th>\n      <td>...</td>\n      <td>...</td>\n      <td>...</td>\n      <td>...</td>\n      <td>...</td>\n      <td>...</td>\n      <td>...</td>\n      <td>...</td>\n      <td>...</td>\n      <td>...</td>\n      <td>...</td>\n      <td>...</td>\n      <td>...</td>\n    </tr>\n    <tr>\n      <th>132</th>\n      <td>R_YPjroxvKxIxQBnb</td>\n      <td>To make someone around me happy and feel good ...</td>\n      <td>3.0</td>\n      <td>2.0</td>\n      <td>Makes someone feel better</td>\n      <td>4.0</td>\n      <td>2.0</td>\n      <td>When you are making someones day you are putti...</td>\n      <td>5.0</td>\n      <td>5.0</td>\n      <td>To make someone around me happy and feel good ...</td>\n      <td>4</td>\n      <td>3</td>\n    </tr>\n    <tr>\n      <th>133</th>\n      <td>R_yrLNx1slcZ8RgTn</td>\n      <td>be successful, and have a good future</td>\n      <td>2.0</td>\n      <td>2.0</td>\n      <td>better</td>\n      <td>1.0</td>\n      <td>1.0</td>\n      <td>i will make me feel better because i have a go...</td>\n      <td>5.0</td>\n      <td>5.0</td>\n      <td>be successful, and have a good future better 2.0</td>\n      <td>3</td>\n      <td>3</td>\n    </tr>\n    <tr>\n      <th>134</th>\n      <td>R_YSpFv60JdjBkXL3</td>\n      <td>finish my math homework</td>\n      <td>2.0</td>\n      <td>2.0</td>\n      <td>iÕd have less work to do later</td>\n      <td>5.0</td>\n      <td>3.0</td>\n      <td>i would be able to spend time on other things ...</td>\n      <td>4.0</td>\n      <td>3.0</td>\n      <td>finish my math homework iÕd have less work to ...</td>\n      <td>4</td>\n      <td>3</td>\n    </tr>\n    <tr>\n      <th>135</th>\n      <td>R_zeTPZApej8XcFnr</td>\n      <td>i wish to get all my classwork and homework do...</td>\n      <td>4.0</td>\n      <td>3.0</td>\n      <td>paying attention in class.</td>\n      <td>3.0</td>\n      <td>2.0</td>\n      <td>i will got to class and do my work an ddo ever...</td>\n      <td>5.0</td>\n      <td>5.0</td>\n      <td>i wish to get all my classwork and homework do...</td>\n      <td>4</td>\n      <td>3</td>\n    </tr>\n    <tr>\n      <th>136</th>\n      <td>R_ZxaafmebttixVKx</td>\n      <td>to keep going on</td>\n      <td>2.0</td>\n      <td>2.0</td>\n      <td>it wouldn't make me feel</td>\n      <td>4.0</td>\n      <td>3.0</td>\n      <td>Don't do anything dumb before a month.</td>\n      <td>4.0</td>\n      <td>2.0</td>\n      <td>to keep going on it wouldn't make me feel 2.0</td>\n      <td>3</td>\n      <td>2</td>\n    </tr>\n  </tbody>\n</table>\n<p>137 rows × 13 columns</p>\n</div>"
     },
     "metadata": {},
     "execution_count": 44
    }
   ],
   "source": [
    "# test = test[['id','all', 's', 'd']]\n",
    "test.fillna(test.mean(), inplace=True)\n",
    "test['s'] = test.s.apply(lambda x: round(float(x)))\n",
    "test['d'] = test.d.apply(lambda x: round(float(x)))\n",
    "test"
   ]
  },
  {
   "cell_type": "code",
   "execution_count": 49,
   "metadata": {},
   "outputs": [],
   "source": [
    "# spec_predictor = model_loader('general_specificity')\n",
    "# dir_predictor = model_loader('general_directness')\n",
    "\n",
    "spec_predictor = model_loader('coder3_specific_s')\n",
    "dir_predictor = model_loader('coder3_specific_d')"
   ]
  },
  {
   "cell_type": "code",
   "execution_count": 50,
   "metadata": {},
   "outputs": [],
   "source": [
    "test['s_hat'] = spec_predictor.predict_values(test['all'])\n",
    "test['d_hat'] = dir_predictor.predict_values(test['all'])"
   ]
  },
  {
   "cell_type": "code",
   "execution_count": 51,
   "metadata": {},
   "outputs": [
    {
     "output_type": "stream",
     "name": "stdout",
     "text": [
      "47.43589743589743\n\n\n32.05128205128205\n"
     ]
    }
   ],
   "source": [
    "print(accuracy(test['s'][:78], test.s_hat[:78]))\n",
    "# print(loss(test.s, test.s_hat))\n",
    "print (\"\\n\")\n",
    "print(accuracy(test['d'][:78], test.d_hat[:78]))\n",
    "# print(loss(test.d, test.d_hat))"
   ]
  },
  {
   "cell_type": "code",
   "execution_count": 13,
   "metadata": {},
   "outputs": [
    {
     "output_type": "execute_result",
     "data": {
      "text/plain": [
       "                    id                                                all  s  \\\n",
       "0    R_0eaORtecx1qRSXD  helping out my mom cleaning around the house a...  4   \n",
       "1    R_0k77p3mLWMnYCdj                                Sleeping energy 2.0  2   \n",
       "2    R_10NISnPmiY0PzoA  good swim practice great improvements and sati...  3   \n",
       "3    R_11gxSMS2VjUjzKK  getting my grade up i get my grade up and my m...  3   \n",
       "4    R_11ZpHFGbuCjLE6e  My wish were to be to find a friend that would...  3   \n",
       "..                 ...                                                ... ..   \n",
       "132  R_YPjroxvKxIxQBnb  To make someone around me happy and feel good ...  4   \n",
       "133  R_yrLNx1slcZ8RgTn   be successful, and have a good future better 2.0  2   \n",
       "134  R_YSpFv60JdjBkXL3  finish my math homework iÕd have less work to ...  3   \n",
       "135  R_zeTPZApej8XcFnr  i wish to get all my classwork and homework do...  3   \n",
       "136  R_ZxaafmebttixVKx      to keep going on it wouldn't make me feel 2.0  2   \n",
       "\n",
       "     d  s_hat  d_hat  \n",
       "0    3    3.0    3.0  \n",
       "1    2    2.0    1.0  \n",
       "2    2    2.0    1.0  \n",
       "3    4    3.0    3.0  \n",
       "4    2    4.0    3.0  \n",
       "..  ..    ...    ...  \n",
       "132  3    3.0    3.0  \n",
       "133  3    2.0    1.0  \n",
       "134  3    3.0    2.0  \n",
       "135  3    3.0    3.0  \n",
       "136  0    3.0    3.0  \n",
       "\n",
       "[137 rows x 6 columns]"
      ],
      "text/html": "<div>\n<style scoped>\n    .dataframe tbody tr th:only-of-type {\n        vertical-align: middle;\n    }\n\n    .dataframe tbody tr th {\n        vertical-align: top;\n    }\n\n    .dataframe thead th {\n        text-align: right;\n    }\n</style>\n<table border=\"1\" class=\"dataframe\">\n  <thead>\n    <tr style=\"text-align: right;\">\n      <th></th>\n      <th>id</th>\n      <th>all</th>\n      <th>s</th>\n      <th>d</th>\n      <th>s_hat</th>\n      <th>d_hat</th>\n    </tr>\n  </thead>\n  <tbody>\n    <tr>\n      <th>0</th>\n      <td>R_0eaORtecx1qRSXD</td>\n      <td>helping out my mom cleaning around the house a...</td>\n      <td>4</td>\n      <td>3</td>\n      <td>3.0</td>\n      <td>3.0</td>\n    </tr>\n    <tr>\n      <th>1</th>\n      <td>R_0k77p3mLWMnYCdj</td>\n      <td>Sleeping energy 2.0</td>\n      <td>2</td>\n      <td>2</td>\n      <td>2.0</td>\n      <td>1.0</td>\n    </tr>\n    <tr>\n      <th>2</th>\n      <td>R_10NISnPmiY0PzoA</td>\n      <td>good swim practice great improvements and sati...</td>\n      <td>3</td>\n      <td>2</td>\n      <td>2.0</td>\n      <td>1.0</td>\n    </tr>\n    <tr>\n      <th>3</th>\n      <td>R_11gxSMS2VjUjzKK</td>\n      <td>getting my grade up i get my grade up and my m...</td>\n      <td>3</td>\n      <td>4</td>\n      <td>3.0</td>\n      <td>3.0</td>\n    </tr>\n    <tr>\n      <th>4</th>\n      <td>R_11ZpHFGbuCjLE6e</td>\n      <td>My wish were to be to find a friend that would...</td>\n      <td>3</td>\n      <td>2</td>\n      <td>4.0</td>\n      <td>3.0</td>\n    </tr>\n    <tr>\n      <th>...</th>\n      <td>...</td>\n      <td>...</td>\n      <td>...</td>\n      <td>...</td>\n      <td>...</td>\n      <td>...</td>\n    </tr>\n    <tr>\n      <th>132</th>\n      <td>R_YPjroxvKxIxQBnb</td>\n      <td>To make someone around me happy and feel good ...</td>\n      <td>4</td>\n      <td>3</td>\n      <td>3.0</td>\n      <td>3.0</td>\n    </tr>\n    <tr>\n      <th>133</th>\n      <td>R_yrLNx1slcZ8RgTn</td>\n      <td>be successful, and have a good future better 2.0</td>\n      <td>2</td>\n      <td>3</td>\n      <td>2.0</td>\n      <td>1.0</td>\n    </tr>\n    <tr>\n      <th>134</th>\n      <td>R_YSpFv60JdjBkXL3</td>\n      <td>finish my math homework iÕd have less work to ...</td>\n      <td>3</td>\n      <td>3</td>\n      <td>3.0</td>\n      <td>2.0</td>\n    </tr>\n    <tr>\n      <th>135</th>\n      <td>R_zeTPZApej8XcFnr</td>\n      <td>i wish to get all my classwork and homework do...</td>\n      <td>3</td>\n      <td>3</td>\n      <td>3.0</td>\n      <td>3.0</td>\n    </tr>\n    <tr>\n      <th>136</th>\n      <td>R_ZxaafmebttixVKx</td>\n      <td>to keep going on it wouldn't make me feel 2.0</td>\n      <td>2</td>\n      <td>0</td>\n      <td>3.0</td>\n      <td>3.0</td>\n    </tr>\n  </tbody>\n</table>\n<p>137 rows × 6 columns</p>\n</div>"
     },
     "metadata": {},
     "execution_count": 13
    }
   ],
   "source": [
    "test"
   ]
  },
  {
   "cell_type": "code",
   "execution_count": 17,
   "metadata": {},
   "outputs": [
    {
     "output_type": "execute_result",
     "data": {
      "text/plain": [
       "3    56\n",
       "2    43\n",
       "4    17\n",
       "0    12\n",
       "1     8\n",
       "5     1\n",
       "Name: s, dtype: int64"
      ]
     },
     "metadata": {},
     "execution_count": 17
    }
   ],
   "source": [
    "test.s.value_counts()"
   ]
  },
  {
   "cell_type": "code",
   "execution_count": 18,
   "metadata": {},
   "outputs": [
    {
     "output_type": "execute_result",
     "data": {
      "text/plain": [
       "2.0    80\n",
       "3.0    49\n",
       "4.0     7\n",
       "1.0     1\n",
       "Name: s_hat, dtype: int64"
      ]
     },
     "metadata": {},
     "execution_count": 18
    }
   ],
   "source": [
    "test.s_hat.value_counts()"
   ]
  },
  {
   "cell_type": "code",
   "execution_count": null,
   "metadata": {},
   "outputs": [],
   "source": []
  }
 ],
 "metadata": {
  "kernelspec": {
   "display_name": "Python 3",
   "language": "python",
   "name": "python3"
  },
  "language_info": {
   "codemirror_mode": {
    "name": "ipython",
    "version": 3
   },
   "file_extension": ".py",
   "mimetype": "text/x-python",
   "name": "python",
   "nbconvert_exporter": "python",
   "pygments_lexer": "ipython3",
   "version": "3.9.1-final"
  }
 },
 "nbformat": 4,
 "nbformat_minor": 2
}
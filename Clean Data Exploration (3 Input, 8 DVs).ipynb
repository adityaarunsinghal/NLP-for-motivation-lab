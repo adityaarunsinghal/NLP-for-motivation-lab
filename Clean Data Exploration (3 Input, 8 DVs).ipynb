{
 "cells": [
  {
   "cell_type": "code",
   "execution_count": 14,
   "metadata": {},
   "outputs": [],
   "source": [
    "from collections import defaultdict, Counter"
   ]
  },
  {
   "cell_type": "code",
   "execution_count": 15,
   "metadata": {},
   "outputs": [],
   "source": [
    "import pandas as pd\n",
    "import nltk\n",
    "# import sklearn as sk\n",
    "import gensim.models\n",
    "# from nltk.corpus import stopwords\n",
    "# import string\n",
    "import matplotlib.pyplot as plt\n",
    "# import seaborn as sns\n",
    "import numpy as np\n",
    "# from ast import literal_eval\n",
    "# from predictor import *\n",
    "import predictor\n",
    "# sns.set()\n",
    "\n",
    "clean = pd.read_csv(\"/Users/aditya/Documents/GitHub/NLP-for-motivation-lab/CleanData(v. analysis).csv\")\n",
    "\n",
    "colname = ['id', 'condition', 'wish', 'outcome', 'outcome2', 'useful', 'mins', 'other', 'reuse', 'clarity', 'benefit', 'interest', 'learn']\n",
    "clean = clean.iloc[:256,:13]\n",
    "clean.columns= colname\n",
    "clean.fillna(\"\", inplace=True)"
   ]
  },
  {
   "cell_type": "code",
   "execution_count": 16,
   "metadata": {},
   "outputs": [
    {
     "output_type": "execute_result",
     "data": {
      "text/plain": [
       "                         id condition  useful  mins  other  reuse  clarity  \\\n",
       "0  558af269fdf99b7dfef4d7bd        MC     7.0   1.0    7.0    7.0      7.0   \n",
       "1  55b1add5fdf99b6731f04c5a        MC     1.0   1.0    2.0    1.0      3.0   \n",
       "2  5626a6cfddff3c0011bcd3d8         I     3.0   1.0    2.0    2.0      2.0   \n",
       "3  56a5da6181a8ca000d3e7f40        MC     4.0   1.0    4.0    3.0      2.0   \n",
       "4  56df2ea2452e1300056bc7df        MC     3.0   1.0    4.0    4.0      3.0   \n",
       "\n",
       "   benefit  interest  learn  ...   d5   d6   s1   s2   s3   s4   s5   s6    d  \\\n",
       "0      7.0       7.0    7.0  ...  2.0  5.0  2.0  5.0  5.0  2.0  5.0  5.0  3.0   \n",
       "1      1.0       2.0    2.0  ...  5.0  5.0  4.0  3.0  5.0  4.0  3.0  5.0  5.0   \n",
       "2      2.0       2.0    2.0  ...  5.0  5.0  3.0  5.0  4.0  3.0  5.0  4.0  4.0   \n",
       "3      3.0       5.0    4.0  ...  5.0  5.0  3.0  3.0  4.0  3.0  3.0  4.0  4.0   \n",
       "4      3.0       4.0    3.0  ...  1.0  1.0  2.0  1.0  2.0  2.0  1.0  2.0  1.0   \n",
       "\n",
       "     s  \n",
       "0  4.0  \n",
       "1  4.0  \n",
       "2  4.0  \n",
       "3  3.0  \n",
       "4  2.0  \n",
       "\n",
       "[5 rows x 26 columns]"
      ],
      "text/html": "<div>\n<style scoped>\n    .dataframe tbody tr th:only-of-type {\n        vertical-align: middle;\n    }\n\n    .dataframe tbody tr th {\n        vertical-align: top;\n    }\n\n    .dataframe thead th {\n        text-align: right;\n    }\n</style>\n<table border=\"1\" class=\"dataframe\">\n  <thead>\n    <tr style=\"text-align: right;\">\n      <th></th>\n      <th>id</th>\n      <th>condition</th>\n      <th>useful</th>\n      <th>mins</th>\n      <th>other</th>\n      <th>reuse</th>\n      <th>clarity</th>\n      <th>benefit</th>\n      <th>interest</th>\n      <th>learn</th>\n      <th>...</th>\n      <th>d5</th>\n      <th>d6</th>\n      <th>s1</th>\n      <th>s2</th>\n      <th>s3</th>\n      <th>s4</th>\n      <th>s5</th>\n      <th>s6</th>\n      <th>d</th>\n      <th>s</th>\n    </tr>\n  </thead>\n  <tbody>\n    <tr>\n      <th>0</th>\n      <td>558af269fdf99b7dfef4d7bd</td>\n      <td>MC</td>\n      <td>7.0</td>\n      <td>1.0</td>\n      <td>7.0</td>\n      <td>7.0</td>\n      <td>7.0</td>\n      <td>7.0</td>\n      <td>7.0</td>\n      <td>7.0</td>\n      <td>...</td>\n      <td>2.0</td>\n      <td>5.0</td>\n      <td>2.0</td>\n      <td>5.0</td>\n      <td>5.0</td>\n      <td>2.0</td>\n      <td>5.0</td>\n      <td>5.0</td>\n      <td>3.0</td>\n      <td>4.0</td>\n    </tr>\n    <tr>\n      <th>1</th>\n      <td>55b1add5fdf99b6731f04c5a</td>\n      <td>MC</td>\n      <td>1.0</td>\n      <td>1.0</td>\n      <td>2.0</td>\n      <td>1.0</td>\n      <td>3.0</td>\n      <td>1.0</td>\n      <td>2.0</td>\n      <td>2.0</td>\n      <td>...</td>\n      <td>5.0</td>\n      <td>5.0</td>\n      <td>4.0</td>\n      <td>3.0</td>\n      <td>5.0</td>\n      <td>4.0</td>\n      <td>3.0</td>\n      <td>5.0</td>\n      <td>5.0</td>\n      <td>4.0</td>\n    </tr>\n    <tr>\n      <th>2</th>\n      <td>5626a6cfddff3c0011bcd3d8</td>\n      <td>I</td>\n      <td>3.0</td>\n      <td>1.0</td>\n      <td>2.0</td>\n      <td>2.0</td>\n      <td>2.0</td>\n      <td>2.0</td>\n      <td>2.0</td>\n      <td>2.0</td>\n      <td>...</td>\n      <td>5.0</td>\n      <td>5.0</td>\n      <td>3.0</td>\n      <td>5.0</td>\n      <td>4.0</td>\n      <td>3.0</td>\n      <td>5.0</td>\n      <td>4.0</td>\n      <td>4.0</td>\n      <td>4.0</td>\n    </tr>\n    <tr>\n      <th>3</th>\n      <td>56a5da6181a8ca000d3e7f40</td>\n      <td>MC</td>\n      <td>4.0</td>\n      <td>1.0</td>\n      <td>4.0</td>\n      <td>3.0</td>\n      <td>2.0</td>\n      <td>3.0</td>\n      <td>5.0</td>\n      <td>4.0</td>\n      <td>...</td>\n      <td>5.0</td>\n      <td>5.0</td>\n      <td>3.0</td>\n      <td>3.0</td>\n      <td>4.0</td>\n      <td>3.0</td>\n      <td>3.0</td>\n      <td>4.0</td>\n      <td>4.0</td>\n      <td>3.0</td>\n    </tr>\n    <tr>\n      <th>4</th>\n      <td>56df2ea2452e1300056bc7df</td>\n      <td>MC</td>\n      <td>3.0</td>\n      <td>1.0</td>\n      <td>4.0</td>\n      <td>4.0</td>\n      <td>3.0</td>\n      <td>3.0</td>\n      <td>4.0</td>\n      <td>3.0</td>\n      <td>...</td>\n      <td>1.0</td>\n      <td>1.0</td>\n      <td>2.0</td>\n      <td>1.0</td>\n      <td>2.0</td>\n      <td>2.0</td>\n      <td>1.0</td>\n      <td>2.0</td>\n      <td>1.0</td>\n      <td>2.0</td>\n    </tr>\n  </tbody>\n</table>\n<p>5 rows × 26 columns</p>\n</div>"
     },
     "metadata": {},
     "execution_count": 16
    }
   ],
   "source": [
    "clean['all'] = clean.wish + \" \" + clean.outcome + \" \" + clean.outcome2\n",
    "clean.drop(columns = ['wish', 'outcome', 'outcome2'], inplace=True)\n",
    "\n",
    "# clean['all'] = clean['all'].apply(remove_stop)\n",
    "# model = gensim.models.Word2Vec(clean['all'], min_count = 2)\n",
    "# model.most_similar('happy')\n",
    "\n",
    "# clean = pd.get_dummies(clean, columns = ['useful','mins','other','reuse', 'clarity', 'benefit', 'interest', 'learn'])\n",
    "\n",
    "coders = pd.read_csv('/Users/aditya/Documents/GitHub/NLP-for-motivation-lab/MCII coding replication - coding file(v. analysis).csv')\n",
    "colname = ['id', 'd1', 'd2', 'd3', 'd4', 'd5', 'd6', 's1', 's2', 's3', 's4', 's5', 's6']\n",
    "coders = coders.iloc[:256,:13]\n",
    "coders.columns= colname\n",
    "coders.fillna(1, inplace=True)\n",
    "coders['d'] = round(coders.loc[:,'d1':'d6'].mean(axis=1))\n",
    "coders['s'] = round(coders.loc[:,'s1':'s6'].mean(axis=1))\n",
    "clean = pd.concat([clean, coders], join='outer', axis=1)\n",
    "clean.head()\n",
    "clean.head()"
   ]
  },
  {
   "cell_type": "code",
   "execution_count": 17,
   "metadata": {},
   "outputs": [],
   "source": [
    "# for each_col in clean.loc[:,'useful':'learn']:\n",
    "#     print(each_col)\n",
    "#     plt.hist(clean[each_col])\n",
    "#     print(clean[each_col].value_counts())\n",
    "#     plt.show()"
   ]
  },
  {
   "cell_type": "code",
   "execution_count": 18,
   "metadata": {},
   "outputs": [],
   "source": [
    "history_scores = defaultdict(dict)"
   ]
  },
  {
   "cell_type": "code",
   "execution_count": 19,
   "metadata": {
    "scrolled": false
   },
   "outputs": [],
   "source": [
    "def variation(kind, solver):\n",
    "    history_scores[f'{solver}'][f'{kind}'] = {}\n",
    "    for each_col in clean.loc[:,'useful':'learn']:\n",
    "        mypredictor = predictor.predictor(clean, 'all', kind, solver)\n",
    "        print(\"\\n\" + each_col)\n",
    "        mypredictor.train_on(each_col)\n",
    "        history_scores[f'{mypredictor.solver}'][f'{mypredictor.kind}'][f'{each_col}'] = \\\n",
    "        round(mypredictor.test(), 3)"
   ]
  },
  {
   "cell_type": "code",
   "execution_count": 20,
   "metadata": {},
   "outputs": [
    {
     "output_type": "stream",
     "name": "stdout",
     "text": [
      "\n",
      "useful\n",
      "{'fit_time': array([0.01347804, 0.01676607, 0.01780295]), 'score_time': array([0.00120687, 0.00108099, 0.00123525]), 'test_score': array([0.62962963, 0.65925926, 0.59701493]), 'train_score': array([0.97769517, 0.94423792, 0.93333333])}\n",
      "0.7361111111111112\n",
      "\n",
      "mins\n",
      "{'fit_time': array([0.01439691, 0.01247191, 0.00864816]), 'score_time': array([0.00142908, 0.00069594, 0.00068879]), 'test_score': array([0.7345679 , 0.80246914, 0.83333333]), 'train_score': array([0.97530864, 0.95987654, 0.92592593])}\n",
      "0.8953488372093024\n",
      "\n",
      "other\n",
      "{'fit_time': array([0.01132703, 0.01012588, 0.01739001]), 'score_time': array([0.000705  , 0.00097609, 0.00105095]), 'test_score': array([0.66115702, 0.57024793, 0.60833333]), 'train_score': array([0.94605809, 0.95020747, 0.9214876 ])}\n",
      "0.5846153846153846\n",
      "\n",
      "reuse\n",
      "{'fit_time': array([0.01792908, 0.0149231 , 0.0114181 ]), 'score_time': array([0.00139189, 0.00109911, 0.00151515]), 'test_score': array([0.63309353, 0.58992806, 0.65217391]), 'train_score': array([0.94584838, 0.93140794, 0.94964029])}\n",
      "0.7837837837837838\n",
      "\n",
      "clarity\n",
      "{'fit_time': array([0.01703906, 0.00967717, 0.02451181]), 'score_time': array([0.00137615, 0.00111365, 0.00246406]), 'test_score': array([0.592     , 0.584     , 0.62096774]), 'train_score': array([0.92771084, 0.93975904, 0.912     ])}\n",
      "0.6119402985074627\n",
      "\n",
      "benefit\n",
      "{'fit_time': array([0.00970292, 0.01040411, 0.0096209 ]), 'score_time': array([0.00076413, 0.00094104, 0.00072718]), 'test_score': array([0.65648855, 0.64122137, 0.59230769]), 'train_score': array([0.95402299, 0.94252874, 0.90076336])}\n",
      "0.6428571428571429\n",
      "\n",
      "interest\n",
      "{'fit_time': array([0.01148009, 0.01106286, 0.01276231]), 'score_time': array([0.00076914, 0.00086308, 0.00079679]), 'test_score': array([0.63945578, 0.68027211, 0.66438356]), 'train_score': array([0.93515358, 0.96587031, 0.93197279])}\n",
      "0.717948717948718\n",
      "\n",
      "learn\n",
      "{'fit_time': array([0.01087904, 0.01387882, 0.00977087]), 'score_time': array([0.00079417, 0.0007112 , 0.00089192]), 'test_score': array([0.65116279, 0.6124031 , 0.5859375 ]), 'train_score': array([0.94552529, 0.94163424, 0.92248062])}\n",
      "0.5797101449275363\n"
     ]
    }
   ],
   "source": [
    "variation('l2', 'liblinear')"
   ]
  },
  {
   "cell_type": "code",
   "execution_count": 21,
   "metadata": {},
   "outputs": [
    {
     "output_type": "stream",
     "name": "stdout",
     "text": [
      "\n",
      "useful\n",
      "{'fit_time': array([0.01677513, 0.00918293, 0.00948238]), 'score_time': array([0.00088   , 0.00071216, 0.00076389]), 'test_score': array([0.52592593, 0.4       , 0.44029851]), 'train_score': array([0.53159851, 0.59107807, 0.58518519])}\n",
      "0.6111111111111112\n",
      "\n",
      "mins\n",
      "{'fit_time': array([0.00826287, 0.01328182, 0.01031804]), 'score_time': array([0.00072718, 0.00845718, 0.00072503]), 'test_score': array([0.5617284 , 0.61111111, 0.51234568]), 'train_score': array([0.68518519, 0.66666667, 0.7345679 ])}\n",
      "0.6627906976744186\n",
      "\n",
      "other\n",
      "{'fit_time': array([0.00885296, 0.00905585, 0.00804019]), 'score_time': array([0.00065827, 0.00073028, 0.00112486]), 'test_score': array([0.38016529, 0.3553719 , 0.35833333]), 'train_score': array([0.45643154, 0.42738589, 0.45041322])}\n",
      "0.35384615384615387\n",
      "\n",
      "reuse\n",
      "{'fit_time': array([0.01150298, 0.00892472, 0.00892305]), 'score_time': array([0.00067019, 0.00081038, 0.00081491]), 'test_score': array([0.38129496, 0.32374101, 0.43478261]), 'train_score': array([0.49097473, 0.53068592, 0.46043165])}\n",
      "0.5135135135135135\n",
      "\n",
      "clarity\n",
      "{'fit_time': array([0.00873399, 0.00780797, 0.01075411]), 'score_time': array([0.00082397, 0.00069499, 0.00071001]), 'test_score': array([0.376     , 0.32      , 0.41129032]), 'train_score': array([0.48192771, 0.46184739, 0.488     ])}\n",
      "0.5223880597014925\n",
      "\n",
      "benefit\n",
      "{'fit_time': array([0.008564  , 0.01104689, 0.00942588]), 'score_time': array([0.00076079, 0.00078106, 0.00233006]), 'test_score': array([0.3740458 , 0.34351145, 0.36923077]), 'train_score': array([0.44827586, 0.48275862, 0.49236641])}\n",
      "0.45714285714285713\n",
      "\n",
      "interest\n",
      "{'fit_time': array([0.05775261, 0.04843307, 0.13463902]), 'score_time': array([0.00739408, 0.01600695, 0.0030961 ]), 'test_score': array([0.36734694, 0.48979592, 0.43150685]), 'train_score': array([0.4778157 , 0.56996587, 0.53741497])}\n",
      "0.6282051282051282\n",
      "\n",
      "learn\n",
      "{'fit_time': array([0.00878191, 0.02887011, 0.0098989 ]), 'score_time': array([0.0007329 , 0.00134706, 0.00091529]), 'test_score': array([0.31007752, 0.33333333, 0.3046875 ]), 'train_score': array([0.50972763, 0.48638132, 0.45736434])}\n",
      "0.3188405797101449\n"
     ]
    }
   ],
   "source": [
    "variation('l1', 'liblinear')"
   ]
  },
  {
   "cell_type": "code",
   "execution_count": 9,
   "metadata": {},
   "outputs": [
    {
     "output_type": "stream",
     "name": "stdout",
     "text": [
      "\n",
      "useful\n",
      "{'fit_time': array([0.62012315, 0.9465332 , 1.37709379]), 'score_time': array([0.00155091, 0.00086093, 0.0009861 ]), 'test_score': array([0.65185185, 0.57777778, 0.64925373]), 'train_score': array([0.97769517, 0.95910781, 0.98518519])}\n",
      "0.7638888888888888\n",
      "\n",
      "mins\n",
      "{'fit_time': array([1.01937985, 0.93932176, 0.95555091]), 'score_time': array([0.00956511, 0.00093317, 0.00062394]), 'test_score': array([0.82716049, 0.82098765, 0.87037037]), 'train_score': array([0.97530864, 0.98148148, 0.97530864])}\n",
      "0.8023255813953488\n",
      "\n",
      "other\n",
      "{'fit_time': array([0.63050866, 0.74788404, 0.63324594]), 'score_time': array([0.00140905, 0.00061917, 0.00106716]), 'test_score': array([0.58677686, 0.62809917, 0.63333333]), 'train_score': array([0.93775934, 0.94605809, 0.94628099])}\n",
      "0.676923076923077\n",
      "\n",
      "reuse\n",
      "{'fit_time': array([0.92675996, 0.44227004, 0.39980578]), 'score_time': array([0.00062585, 0.00092411, 0.00063705]), 'test_score': array([0.62589928, 0.64028777, 0.66666667]), 'train_score': array([0.93862816, 0.94584838, 0.94964029])}\n",
      "0.7162162162162162\n",
      "\n",
      "clarity\n",
      "{'fit_time': array([0.42686939, 0.35368395, 0.48134303]), 'score_time': array([0.00111175, 0.00088501, 0.00082684]), 'test_score': array([0.544     , 0.576     , 0.63709677]), 'train_score': array([0.93975904, 0.97188755, 0.952     ])}\n",
      "0.7014925373134329\n",
      "\n",
      "benefit\n",
      "{'fit_time': array([1.37081814, 0.539464  , 0.40321994]), 'score_time': array([0.00094986, 0.00063014, 0.0007093 ]), 'test_score': array([0.59541985, 0.55725191, 0.63846154]), 'train_score': array([0.96168582, 0.95402299, 0.9351145 ])}\n",
      "0.7285714285714285\n",
      "\n",
      "interest\n",
      "{'fit_time': array([0.8071208 , 0.84049392, 0.7214129 ]), 'score_time': array([0.00217319, 0.00063396, 0.0007062 ]), 'test_score': array([0.70748299, 0.63945578, 0.66438356]), 'train_score': array([0.93174061, 0.93856655, 0.94897959])}\n",
      "0.7435897435897436\n",
      "\n",
      "learn\n",
      "{'fit_time': array([0.332443  , 0.58779001, 1.14748001]), 'score_time': array([0.00104094, 0.0111289 , 0.00092697]), 'test_score': array([0.60465116, 0.57364341, 0.53125   ]), 'train_score': array([0.97276265, 0.97276265, 0.96124031])}\n",
      "0.6811594202898551\n"
     ]
    }
   ],
   "source": [
    "variation('l2', 'lbfgs')"
   ]
  },
  {
   "cell_type": "code",
   "execution_count": 10,
   "metadata": {},
   "outputs": [
    {
     "output_type": "stream",
     "name": "stdout",
     "text": [
      "\n",
      "useful\n",
      "{'fit_time': array([0.4216032 , 0.16532707, 0.23309278]), 'score_time': array([0.00081992, 0.00062895, 0.00101304]), 'test_score': array([0.63703704, 0.68888889, 0.6641791 ]), 'train_score': array([0.94052045, 0.94795539, 0.96296296])}\n",
      "0.7222222222222222\n",
      "\n",
      "mins\n",
      "{'fit_time': array([0.08163095, 0.14010024, 0.2360189 ]), 'score_time': array([0.00096798, 0.00085592, 0.00080824]), 'test_score': array([0.79012346, 0.7962963 , 0.82098765]), 'train_score': array([0.97839506, 0.97839506, 0.96296296])}\n",
      "0.9418604651162791\n",
      "\n",
      "other\n",
      "{'fit_time': array([0.16039276, 0.11502695, 0.31518626]), 'score_time': array([0.00093627, 0.00062275, 0.0018158 ]), 'test_score': array([0.56198347, 0.61983471, 0.63333333]), 'train_score': array([0.95850622, 0.95435685, 0.94628099])}\n",
      "0.676923076923077\n",
      "\n",
      "reuse\n",
      "{'fit_time': array([0.19164586, 0.23641896, 0.18518305]), 'score_time': array([0.00125909, 0.0010922 , 0.00102782]), 'test_score': array([0.62589928, 0.56834532, 0.71014493]), 'train_score': array([0.9566787 , 0.94223827, 0.97482014])}\n",
      "0.7027027027027027\n",
      "\n",
      "clarity\n",
      "{'fit_time': array([0.20876122, 0.19921899, 0.14285064]), 'score_time': array([0.00183487, 0.00060296, 0.00262809]), 'test_score': array([0.672     , 0.632     , 0.60483871]), 'train_score': array([0.97188755, 0.96787149, 0.964     ])}\n",
      "0.6268656716417911\n",
      "\n",
      "benefit\n",
      "{'fit_time': array([0.13252497, 0.12919378, 0.1510179 ]), 'score_time': array([0.00060606, 0.00058722, 0.00100613]), 'test_score': array([0.6259542 , 0.58015267, 0.66923077]), 'train_score': array([0.94636015, 0.93869732, 0.95801527])}\n",
      "0.5857142857142857\n",
      "\n",
      "interest\n",
      "{'fit_time': array([0.38137078, 0.44845009, 0.16911507]), 'score_time': array([0.00065684, 0.00078392, 0.00079203]), 'test_score': array([0.6462585 , 0.6462585 , 0.69863014]), 'train_score': array([0.93856655, 0.96245734, 0.95918367])}\n",
      "0.7564102564102564\n",
      "\n",
      "learn\n",
      "{'fit_time': array([0.28354788, 0.29100513, 0.28597403]), 'score_time': array([0.00343299, 0.00707483, 0.00091195]), 'test_score': array([0.60465116, 0.64341085, 0.6171875 ]), 'train_score': array([0.96498054, 0.95719844, 0.96124031])}\n",
      "0.7391304347826086\n"
     ]
    }
   ],
   "source": [
    "variation('l2', 'newton-cg')"
   ]
  },
  {
   "cell_type": "code",
   "execution_count": 11,
   "metadata": {},
   "outputs": [
    {
     "output_type": "execute_result",
     "data": {
      "text/plain": [
       "defaultdict(dict,\n",
       "            {'liblinear': {'l2': {'useful': 0.681,\n",
       "               'mins': 0.837,\n",
       "               'other': 0.723,\n",
       "               'reuse': 0.635,\n",
       "               'clarity': 0.731,\n",
       "               'benefit': 0.686,\n",
       "               'interest': 0.692,\n",
       "               'learn': 0.681},\n",
       "              'l1': {'useful': 0.583,\n",
       "               'mins': 0.756,\n",
       "               'other': 0.446,\n",
       "               'reuse': 0.581,\n",
       "               'clarity': 0.507,\n",
       "               'benefit': 0.5,\n",
       "               'interest': 0.603,\n",
       "               'learn': 0.406}},\n",
       "             'lbfgs': {'l2': {'useful': 0.764,\n",
       "               'mins': 0.802,\n",
       "               'other': 0.677,\n",
       "               'reuse': 0.716,\n",
       "               'clarity': 0.701,\n",
       "               'benefit': 0.729,\n",
       "               'interest': 0.744,\n",
       "               'learn': 0.681}},\n",
       "             'newton-cg': {'l2': {'useful': 0.722,\n",
       "               'mins': 0.942,\n",
       "               'other': 0.677,\n",
       "               'reuse': 0.703,\n",
       "               'clarity': 0.627,\n",
       "               'benefit': 0.586,\n",
       "               'interest': 0.756,\n",
       "               'learn': 0.739}}})"
      ]
     },
     "metadata": {},
     "execution_count": 11
    }
   ],
   "source": [
    "history_scores"
   ]
  },
  {
   "cell_type": "code",
   "execution_count": 12,
   "metadata": {},
   "outputs": [
    {
     "output_type": "stream",
     "name": "stdout",
     "text": [
      "{'fit_time': array([1.91910791, 2.43304276, 1.83866692]), 'score_time': array([0.02544808, 0.00064707, 0.00106597]), 'test_score': array([0.83815029, 0.77456647, 0.8372093 ]), 'train_score': array([0.93333333, 0.93043478, 0.94797688])}\n0.8695652173913043\n"
     ]
    },
    {
     "output_type": "execute_result",
     "data": {
      "text/plain": [
       "0.8695652173913043"
      ]
     },
     "metadata": {},
     "execution_count": 12
    }
   ],
   "source": [
    "#checking predictor performance for specificity\n",
    "\n",
    "mypredictor_coding = predictor.predictor(clean, 'all', k_neighbors = 3)\n",
    "mypredictor_coding.train_on('s')\n",
    "mypredictor_coding.test()"
   ]
  },
  {
   "cell_type": "code",
   "execution_count": 13,
   "metadata": {},
   "outputs": [
    {
     "output_type": "error",
     "ename": "TypeError",
     "evalue": "expected dimension <= 2 array or matrix",
     "traceback": [
      "\u001b[0;31m---------------------------------------------------------------------------\u001b[0m",
      "\u001b[0;31mTypeError\u001b[0m                                 Traceback (most recent call last)",
      "\u001b[0;32m<ipython-input-13-3c684b35cb36>\u001b[0m in \u001b[0;36m<module>\u001b[0;34m\u001b[0m\n\u001b[0;32m----> 1\u001b[0;31m \u001b[0mmypredictor_coding\u001b[0m\u001b[0;34m.\u001b[0m\u001b[0mpredict\u001b[0m\u001b[0;34m(\u001b[0m\u001b[0;34m\"Get extra hours at work so I can be able to pay for things my family needs I would be able to take care of my family and what they need or want If I was able to fulfill this goal, I would have extra hours to able to bring more money home to my family and take care of the little things that we need and want. We could be able to go on vacation and do whatever extra stuff that we want.\"\u001b[0m\u001b[0;34m)\u001b[0m\u001b[0;34m\u001b[0m\u001b[0;34m\u001b[0m\u001b[0m\n\u001b[0m",
      "\u001b[0;32m~/Documents/GitHub/NLP-for-motivation-lab/predictor.py\u001b[0m in \u001b[0;36mpredict\u001b[0;34m(self, x)\u001b[0m\n\u001b[1;32m     63\u001b[0m         \u001b[0mx\u001b[0m \u001b[0;34m=\u001b[0m \u001b[0mself\u001b[0m\u001b[0;34m.\u001b[0m\u001b[0mvectorizer\u001b[0m\u001b[0;34m.\u001b[0m\u001b[0mtransform\u001b[0m\u001b[0;34m(\u001b[0m\u001b[0;34m[\u001b[0m\u001b[0mx\u001b[0m\u001b[0;34m]\u001b[0m\u001b[0;34m)\u001b[0m\u001b[0;34m\u001b[0m\u001b[0;34m\u001b[0m\u001b[0m\n\u001b[1;32m     64\u001b[0m         \u001b[0;31m# x = hstack((x,np.array([count, length])[:,None]))\u001b[0m\u001b[0;34m\u001b[0m\u001b[0;34m\u001b[0m\u001b[0;34m\u001b[0m\u001b[0m\n\u001b[0;32m---> 65\u001b[0;31m         \u001b[0mx\u001b[0m \u001b[0;34m=\u001b[0m \u001b[0mhstack\u001b[0m\u001b[0;34m(\u001b[0m\u001b[0;34m(\u001b[0m\u001b[0mx\u001b[0m\u001b[0;34m,\u001b[0m\u001b[0mnp\u001b[0m\u001b[0;34m.\u001b[0m\u001b[0marray\u001b[0m\u001b[0;34m(\u001b[0m\u001b[0;34m[\u001b[0m\u001b[0;34m[\u001b[0m\u001b[0mcount\u001b[0m\u001b[0;34m,\u001b[0m \u001b[0mlength\u001b[0m\u001b[0;34m]\u001b[0m\u001b[0;34m]\u001b[0m\u001b[0;34m)\u001b[0m\u001b[0;34m[\u001b[0m\u001b[0;34m:\u001b[0m\u001b[0;34m,\u001b[0m\u001b[0;32mNone\u001b[0m\u001b[0;34m]\u001b[0m\u001b[0;34m)\u001b[0m\u001b[0;34m)\u001b[0m\u001b[0;34m\u001b[0m\u001b[0;34m\u001b[0m\u001b[0m\n\u001b[0m\u001b[1;32m     66\u001b[0m         \u001b[0;32mreturn\u001b[0m\u001b[0;34m(\u001b[0m\u001b[0mself\u001b[0m\u001b[0;34m.\u001b[0m\u001b[0mmodel\u001b[0m\u001b[0;34m.\u001b[0m\u001b[0mpredict_proba\u001b[0m\u001b[0;34m(\u001b[0m\u001b[0mx\u001b[0m\u001b[0;34m)\u001b[0m \u001b[0;34m+\u001b[0m \u001b[0;34m\"\\n The predicted value is = \"\u001b[0m \u001b[0;34m+\u001b[0m \u001b[0mself\u001b[0m\u001b[0;34m.\u001b[0m\u001b[0mmodel\u001b[0m\u001b[0;34m.\u001b[0m\u001b[0mpredict\u001b[0m\u001b[0;34m(\u001b[0m\u001b[0mx\u001b[0m\u001b[0;34m)\u001b[0m\u001b[0;34m)\u001b[0m\u001b[0;34m\u001b[0m\u001b[0;34m\u001b[0m\u001b[0m\n",
      "\u001b[0;32m/usr/local/lib/python3.7/site-packages/scipy/sparse/construct.py\u001b[0m in \u001b[0;36mhstack\u001b[0;34m(blocks, format, dtype)\u001b[0m\n\u001b[1;32m    463\u001b[0m \u001b[0;34m\u001b[0m\u001b[0m\n\u001b[1;32m    464\u001b[0m     \"\"\"\n\u001b[0;32m--> 465\u001b[0;31m     \u001b[0;32mreturn\u001b[0m \u001b[0mbmat\u001b[0m\u001b[0;34m(\u001b[0m\u001b[0;34m[\u001b[0m\u001b[0mblocks\u001b[0m\u001b[0;34m]\u001b[0m\u001b[0;34m,\u001b[0m \u001b[0mformat\u001b[0m\u001b[0;34m=\u001b[0m\u001b[0mformat\u001b[0m\u001b[0;34m,\u001b[0m \u001b[0mdtype\u001b[0m\u001b[0;34m=\u001b[0m\u001b[0mdtype\u001b[0m\u001b[0;34m)\u001b[0m\u001b[0;34m\u001b[0m\u001b[0;34m\u001b[0m\u001b[0m\n\u001b[0m\u001b[1;32m    466\u001b[0m \u001b[0;34m\u001b[0m\u001b[0m\n\u001b[1;32m    467\u001b[0m \u001b[0;34m\u001b[0m\u001b[0m\n",
      "\u001b[0;32m/usr/local/lib/python3.7/site-packages/scipy/sparse/construct.py\u001b[0m in \u001b[0;36mbmat\u001b[0;34m(blocks, format, dtype)\u001b[0m\n\u001b[1;32m    572\u001b[0m         \u001b[0;32mfor\u001b[0m \u001b[0mj\u001b[0m \u001b[0;32min\u001b[0m \u001b[0mrange\u001b[0m\u001b[0;34m(\u001b[0m\u001b[0mN\u001b[0m\u001b[0;34m)\u001b[0m\u001b[0;34m:\u001b[0m\u001b[0;34m\u001b[0m\u001b[0;34m\u001b[0m\u001b[0m\n\u001b[1;32m    573\u001b[0m             \u001b[0;32mif\u001b[0m \u001b[0mblocks\u001b[0m\u001b[0;34m[\u001b[0m\u001b[0mi\u001b[0m\u001b[0;34m,\u001b[0m\u001b[0mj\u001b[0m\u001b[0;34m]\u001b[0m \u001b[0;32mis\u001b[0m \u001b[0;32mnot\u001b[0m \u001b[0;32mNone\u001b[0m\u001b[0;34m:\u001b[0m\u001b[0;34m\u001b[0m\u001b[0;34m\u001b[0m\u001b[0m\n\u001b[0;32m--> 574\u001b[0;31m                 \u001b[0mA\u001b[0m \u001b[0;34m=\u001b[0m \u001b[0mcoo_matrix\u001b[0m\u001b[0;34m(\u001b[0m\u001b[0mblocks\u001b[0m\u001b[0;34m[\u001b[0m\u001b[0mi\u001b[0m\u001b[0;34m,\u001b[0m\u001b[0mj\u001b[0m\u001b[0;34m]\u001b[0m\u001b[0;34m)\u001b[0m\u001b[0;34m\u001b[0m\u001b[0;34m\u001b[0m\u001b[0m\n\u001b[0m\u001b[1;32m    575\u001b[0m                 \u001b[0mblocks\u001b[0m\u001b[0;34m[\u001b[0m\u001b[0mi\u001b[0m\u001b[0;34m,\u001b[0m\u001b[0mj\u001b[0m\u001b[0;34m]\u001b[0m \u001b[0;34m=\u001b[0m \u001b[0mA\u001b[0m\u001b[0;34m\u001b[0m\u001b[0;34m\u001b[0m\u001b[0m\n\u001b[1;32m    576\u001b[0m                 \u001b[0mblock_mask\u001b[0m\u001b[0;34m[\u001b[0m\u001b[0mi\u001b[0m\u001b[0;34m,\u001b[0m\u001b[0mj\u001b[0m\u001b[0;34m]\u001b[0m \u001b[0;34m=\u001b[0m \u001b[0;32mTrue\u001b[0m\u001b[0;34m\u001b[0m\u001b[0;34m\u001b[0m\u001b[0m\n",
      "\u001b[0;32m/usr/local/lib/python3.7/site-packages/scipy/sparse/coo.py\u001b[0m in \u001b[0;36m__init__\u001b[0;34m(self, arg1, shape, dtype, copy)\u001b[0m\n\u001b[1;32m    181\u001b[0m \u001b[0;34m\u001b[0m\u001b[0m\n\u001b[1;32m    182\u001b[0m                 \u001b[0;32mif\u001b[0m \u001b[0mM\u001b[0m\u001b[0;34m.\u001b[0m\u001b[0mndim\u001b[0m \u001b[0;34m!=\u001b[0m \u001b[0;36m2\u001b[0m\u001b[0;34m:\u001b[0m\u001b[0;34m\u001b[0m\u001b[0;34m\u001b[0m\u001b[0m\n\u001b[0;32m--> 183\u001b[0;31m                     \u001b[0;32mraise\u001b[0m \u001b[0mTypeError\u001b[0m\u001b[0;34m(\u001b[0m\u001b[0;34m'expected dimension <= 2 array or matrix'\u001b[0m\u001b[0;34m)\u001b[0m\u001b[0;34m\u001b[0m\u001b[0;34m\u001b[0m\u001b[0m\n\u001b[0m\u001b[1;32m    184\u001b[0m \u001b[0;34m\u001b[0m\u001b[0m\n\u001b[1;32m    185\u001b[0m                 \u001b[0mself\u001b[0m\u001b[0;34m.\u001b[0m\u001b[0m_shape\u001b[0m \u001b[0;34m=\u001b[0m \u001b[0mcheck_shape\u001b[0m\u001b[0;34m(\u001b[0m\u001b[0mM\u001b[0m\u001b[0;34m.\u001b[0m\u001b[0mshape\u001b[0m\u001b[0;34m)\u001b[0m\u001b[0;34m\u001b[0m\u001b[0;34m\u001b[0m\u001b[0m\n",
      "\u001b[0;31mTypeError\u001b[0m: expected dimension <= 2 array or matrix"
     ]
    }
   ],
   "source": [
    "mypredictor_coding.predict(\"Get extra hours at work so I can be able to pay for things my family needs I would be able to take care of my family and what they need or want If I was able to fulfill this goal, I would have extra hours to able to bring more money home to my family and take care of the little things that we need and want. We could be able to go on vacation and do whatever extra stuff that we want.\")"
   ]
  },
  {
   "cell_type": "code",
   "execution_count": 14,
   "metadata": {},
   "outputs": [
    {
     "output_type": "execute_result",
     "data": {
      "text/plain": [
       "                  coef\n",
       "no            1.043155\n",
       "from the      0.881520\n",
       "cloud         0.868776\n",
       "from          0.656877\n",
       "best outcome  0.611827\n",
       "...                ...\n",
       "eating       -0.627745\n",
       "satisfied    -0.631579\n",
       "very excited -0.703780\n",
       "happy        -0.757581\n",
       "pizza        -0.785410\n",
       "\n",
       "[997 rows x 1 columns]"
      ],
      "text/html": "<div>\n<style scoped>\n    .dataframe tbody tr th:only-of-type {\n        vertical-align: middle;\n    }\n\n    .dataframe tbody tr th {\n        vertical-align: top;\n    }\n\n    .dataframe thead th {\n        text-align: right;\n    }\n</style>\n<table border=\"1\" class=\"dataframe\">\n  <thead>\n    <tr style=\"text-align: right;\">\n      <th></th>\n      <th>coef</th>\n    </tr>\n  </thead>\n  <tbody>\n    <tr>\n      <th>no</th>\n      <td>1.043155</td>\n    </tr>\n    <tr>\n      <th>from the</th>\n      <td>0.881520</td>\n    </tr>\n    <tr>\n      <th>cloud</th>\n      <td>0.868776</td>\n    </tr>\n    <tr>\n      <th>from</th>\n      <td>0.656877</td>\n    </tr>\n    <tr>\n      <th>best outcome</th>\n      <td>0.611827</td>\n    </tr>\n    <tr>\n      <th>...</th>\n      <td>...</td>\n    </tr>\n    <tr>\n      <th>eating</th>\n      <td>-0.627745</td>\n    </tr>\n    <tr>\n      <th>satisfied</th>\n      <td>-0.631579</td>\n    </tr>\n    <tr>\n      <th>very excited</th>\n      <td>-0.703780</td>\n    </tr>\n    <tr>\n      <th>happy</th>\n      <td>-0.757581</td>\n    </tr>\n    <tr>\n      <th>pizza</th>\n      <td>-0.785410</td>\n    </tr>\n  </tbody>\n</table>\n<p>997 rows × 1 columns</p>\n</div>"
     },
     "metadata": {},
     "execution_count": 14
    }
   ],
   "source": [
    "pd.DataFrame(mypredictor_coding.model.coef_[0][:-1], \n",
    "             mypredictor_coding.vectorizer.get_feature_names(), \n",
    "             columns=['coef'])\\\n",
    "            .sort_values(by='coef', ascending=False)"
   ]
  },
  {
   "cell_type": "code",
   "execution_count": 15,
   "metadata": {},
   "outputs": [
    {
     "output_type": "stream",
     "name": "stdout",
     "text": [
      "{'fit_time': array([0.40769386, 0.39222288, 0.58424807]), 'score_time': array([0.00094795, 0.00061798, 0.00176406]), 'test_score': array([0.79054054, 0.76190476, 0.80272109]), 'train_score': array([0.93197279, 0.93559322, 0.91864407])}\n0.7692307692307693\n"
     ]
    },
    {
     "output_type": "execute_result",
     "data": {
      "text/plain": [
       "0.7692307692307693"
      ]
     },
     "metadata": {},
     "execution_count": 15
    }
   ],
   "source": [
    "#checking predictor performance for directness\n",
    "\n",
    "mypredictor_coding = predictor.predictor(clean, 'all')\n",
    "mypredictor_coding.train_on('d')\n",
    "mypredictor_coding.test()"
   ]
  },
  {
   "cell_type": "code",
   "execution_count": 16,
   "metadata": {},
   "outputs": [
    {
     "output_type": "error",
     "ename": "ValueError",
     "evalue": "blocks[0,:] has incompatible row dimensions. Got blocks[0,1].shape[0] == 2, expected 1.",
     "traceback": [
      "\u001b[0;31m---------------------------------------------------------------------------\u001b[0m",
      "\u001b[0;31mValueError\u001b[0m                                Traceback (most recent call last)",
      "\u001b[0;32m<ipython-input-16-3c684b35cb36>\u001b[0m in \u001b[0;36m<module>\u001b[0;34m\u001b[0m\n\u001b[0;32m----> 1\u001b[0;31m \u001b[0mmypredictor_coding\u001b[0m\u001b[0;34m.\u001b[0m\u001b[0mpredict\u001b[0m\u001b[0;34m(\u001b[0m\u001b[0;34m\"Get extra hours at work so I can be able to pay for things my family needs I would be able to take care of my family and what they need or want If I was able to fulfill this goal, I would have extra hours to able to bring more money home to my family and take care of the little things that we need and want. We could be able to go on vacation and do whatever extra stuff that we want.\"\u001b[0m\u001b[0;34m)\u001b[0m\u001b[0;34m\u001b[0m\u001b[0;34m\u001b[0m\u001b[0m\n\u001b[0m",
      "\u001b[0;32m~/Documents/GitHub/NLP-for-motivation-lab/predictor.py\u001b[0m in \u001b[0;36mpredict\u001b[0;34m(self, x)\u001b[0m\n\u001b[1;32m     62\u001b[0m         \u001b[0mcount\u001b[0m\u001b[0;34m,\u001b[0m \u001b[0mlength\u001b[0m \u001b[0;34m=\u001b[0m \u001b[0mself\u001b[0m\u001b[0;34m.\u001b[0m\u001b[0mcount_stop\u001b[0m\u001b[0;34m(\u001b[0m\u001b[0mx\u001b[0m\u001b[0;34m)\u001b[0m\u001b[0;34m\u001b[0m\u001b[0;34m\u001b[0m\u001b[0m\n\u001b[1;32m     63\u001b[0m         \u001b[0mx\u001b[0m \u001b[0;34m=\u001b[0m \u001b[0mself\u001b[0m\u001b[0;34m.\u001b[0m\u001b[0mvectorizer\u001b[0m\u001b[0;34m.\u001b[0m\u001b[0mtransform\u001b[0m\u001b[0;34m(\u001b[0m\u001b[0;34m[\u001b[0m\u001b[0mx\u001b[0m\u001b[0;34m]\u001b[0m\u001b[0;34m)\u001b[0m\u001b[0;34m\u001b[0m\u001b[0;34m\u001b[0m\u001b[0m\n\u001b[0;32m---> 64\u001b[0;31m         \u001b[0;31m# x = hstack((x,np.array([count, length])[:,None]))\u001b[0m\u001b[0;34m\u001b[0m\u001b[0;34m\u001b[0m\u001b[0;34m\u001b[0m\u001b[0m\n\u001b[0m\u001b[1;32m     65\u001b[0m         \u001b[0mx\u001b[0m \u001b[0;34m=\u001b[0m \u001b[0mhstack\u001b[0m\u001b[0;34m(\u001b[0m\u001b[0;34m(\u001b[0m\u001b[0mx\u001b[0m\u001b[0;34m,\u001b[0m\u001b[0mnp\u001b[0m\u001b[0;34m.\u001b[0m\u001b[0marray\u001b[0m\u001b[0;34m(\u001b[0m\u001b[0;34m[\u001b[0m\u001b[0;34m[\u001b[0m\u001b[0mcount\u001b[0m\u001b[0;34m,\u001b[0m \u001b[0mlength\u001b[0m\u001b[0;34m]\u001b[0m\u001b[0;34m]\u001b[0m\u001b[0;34m)\u001b[0m\u001b[0;34m[\u001b[0m\u001b[0;34m:\u001b[0m\u001b[0;34m,\u001b[0m\u001b[0;32mNone\u001b[0m\u001b[0;34m]\u001b[0m\u001b[0;34m)\u001b[0m\u001b[0;34m)\u001b[0m\u001b[0;34m\u001b[0m\u001b[0;34m\u001b[0m\u001b[0m\n\u001b[1;32m     66\u001b[0m         \u001b[0;32mreturn\u001b[0m\u001b[0;34m(\u001b[0m\u001b[0mself\u001b[0m\u001b[0;34m.\u001b[0m\u001b[0mmodel\u001b[0m\u001b[0;34m.\u001b[0m\u001b[0mpredict_proba\u001b[0m\u001b[0;34m(\u001b[0m\u001b[0mx\u001b[0m\u001b[0;34m)\u001b[0m \u001b[0;34m+\u001b[0m \u001b[0;34m\"\\n The predicted value is = \"\u001b[0m \u001b[0;34m+\u001b[0m \u001b[0mself\u001b[0m\u001b[0;34m.\u001b[0m\u001b[0mmodel\u001b[0m\u001b[0;34m.\u001b[0m\u001b[0mpredict\u001b[0m\u001b[0;34m(\u001b[0m\u001b[0mx\u001b[0m\u001b[0;34m)\u001b[0m\u001b[0;34m)\u001b[0m\u001b[0;34m\u001b[0m\u001b[0;34m\u001b[0m\u001b[0m\n",
      "\u001b[0;32m/usr/local/lib/python3.7/site-packages/scipy/sparse/construct.py\u001b[0m in \u001b[0;36mhstack\u001b[0;34m(blocks, format, dtype)\u001b[0m\n\u001b[1;32m    463\u001b[0m \u001b[0;34m\u001b[0m\u001b[0m\n\u001b[1;32m    464\u001b[0m     \"\"\"\n\u001b[0;32m--> 465\u001b[0;31m     \u001b[0;32mreturn\u001b[0m \u001b[0mbmat\u001b[0m\u001b[0;34m(\u001b[0m\u001b[0;34m[\u001b[0m\u001b[0mblocks\u001b[0m\u001b[0;34m]\u001b[0m\u001b[0;34m,\u001b[0m \u001b[0mformat\u001b[0m\u001b[0;34m=\u001b[0m\u001b[0mformat\u001b[0m\u001b[0;34m,\u001b[0m \u001b[0mdtype\u001b[0m\u001b[0;34m=\u001b[0m\u001b[0mdtype\u001b[0m\u001b[0;34m)\u001b[0m\u001b[0;34m\u001b[0m\u001b[0;34m\u001b[0m\u001b[0m\n\u001b[0m\u001b[1;32m    466\u001b[0m \u001b[0;34m\u001b[0m\u001b[0m\n\u001b[1;32m    467\u001b[0m \u001b[0;34m\u001b[0m\u001b[0m\n",
      "\u001b[0;32m/usr/local/lib/python3.7/site-packages/scipy/sparse/construct.py\u001b[0m in \u001b[0;36mbmat\u001b[0;34m(blocks, format, dtype)\u001b[0m\n\u001b[1;32m    584\u001b[0m                                                     \u001b[0mexp\u001b[0m\u001b[0;34m=\u001b[0m\u001b[0mbrow_lengths\u001b[0m\u001b[0;34m[\u001b[0m\u001b[0mi\u001b[0m\u001b[0;34m]\u001b[0m\u001b[0;34m,\u001b[0m\u001b[0;34m\u001b[0m\u001b[0;34m\u001b[0m\u001b[0m\n\u001b[1;32m    585\u001b[0m                                                     got=A.shape[0]))\n\u001b[0;32m--> 586\u001b[0;31m                     \u001b[0;32mraise\u001b[0m \u001b[0mValueError\u001b[0m\u001b[0;34m(\u001b[0m\u001b[0mmsg\u001b[0m\u001b[0;34m)\u001b[0m\u001b[0;34m\u001b[0m\u001b[0;34m\u001b[0m\u001b[0m\n\u001b[0m\u001b[1;32m    587\u001b[0m \u001b[0;34m\u001b[0m\u001b[0m\n\u001b[1;32m    588\u001b[0m                 \u001b[0;32mif\u001b[0m \u001b[0mbcol_lengths\u001b[0m\u001b[0;34m[\u001b[0m\u001b[0mj\u001b[0m\u001b[0;34m]\u001b[0m \u001b[0;34m==\u001b[0m \u001b[0;36m0\u001b[0m\u001b[0;34m:\u001b[0m\u001b[0;34m\u001b[0m\u001b[0;34m\u001b[0m\u001b[0m\n",
      "\u001b[0;31mValueError\u001b[0m: blocks[0,:] has incompatible row dimensions. Got blocks[0,1].shape[0] == 2, expected 1."
     ]
    }
   ],
   "source": [
    "mypredictor_coding.predict(\"Get extra hours at work so I can be able to pay for things my family needs I would be able to take care of my family and what they need or want If I was able to fulfill this goal, I would have extra hours to able to bring more money home to my family and take care of the little things that we need and want. We could be able to go on vacation and do whatever extra stuff that we want.\")"
   ]
  },
  {
   "cell_type": "code",
   "execution_count": 17,
   "metadata": {},
   "outputs": [
    {
     "output_type": "execute_result",
     "data": {
      "text/plain": [
       "              coef\n",
       "nice      0.742462\n",
       "no        0.722316\n",
       "and       0.676004\n",
       "clean     0.611332\n",
       "done for  0.609716\n",
       "...            ...\n",
       "happy    -0.433513\n",
       "money    -0.433581\n",
       "pizza    -0.457694\n",
       "great    -0.499986\n",
       "would    -0.551500\n",
       "\n",
       "[997 rows x 1 columns]"
      ],
      "text/html": "<div>\n<style scoped>\n    .dataframe tbody tr th:only-of-type {\n        vertical-align: middle;\n    }\n\n    .dataframe tbody tr th {\n        vertical-align: top;\n    }\n\n    .dataframe thead th {\n        text-align: right;\n    }\n</style>\n<table border=\"1\" class=\"dataframe\">\n  <thead>\n    <tr style=\"text-align: right;\">\n      <th></th>\n      <th>coef</th>\n    </tr>\n  </thead>\n  <tbody>\n    <tr>\n      <th>nice</th>\n      <td>0.742462</td>\n    </tr>\n    <tr>\n      <th>no</th>\n      <td>0.722316</td>\n    </tr>\n    <tr>\n      <th>and</th>\n      <td>0.676004</td>\n    </tr>\n    <tr>\n      <th>clean</th>\n      <td>0.611332</td>\n    </tr>\n    <tr>\n      <th>done for</th>\n      <td>0.609716</td>\n    </tr>\n    <tr>\n      <th>...</th>\n      <td>...</td>\n    </tr>\n    <tr>\n      <th>happy</th>\n      <td>-0.433513</td>\n    </tr>\n    <tr>\n      <th>money</th>\n      <td>-0.433581</td>\n    </tr>\n    <tr>\n      <th>pizza</th>\n      <td>-0.457694</td>\n    </tr>\n    <tr>\n      <th>great</th>\n      <td>-0.499986</td>\n    </tr>\n    <tr>\n      <th>would</th>\n      <td>-0.551500</td>\n    </tr>\n  </tbody>\n</table>\n<p>997 rows × 1 columns</p>\n</div>"
     },
     "metadata": {},
     "execution_count": 17
    }
   ],
   "source": [
    "pd.DataFrame(mypredictor_coding.model.coef_[0][:-1], \n",
    "             mypredictor_coding.vectorizer.get_feature_names(), \n",
    "             columns=['coef'])\\\n",
    "            .sort_values(by='coef', ascending=False)"
   ]
  },
  {
   "cell_type": "code",
   "execution_count": 18,
   "metadata": {},
   "outputs": [],
   "source": [
    "#effect of imbalance? \n",
    "#interpreting coeff? \n",
    "#useful exercise? What can be done? \n",
    "#how better approximate coders? "
   ]
  },
  {
   "cell_type": "code",
   "execution_count": 19,
   "metadata": {},
   "outputs": [],
   "source": [
    "coder1_specific_d = clean[['all','d1','d2','d3']][:128]\n",
    "coder1_specific_d['d'] = round(coder1_specific_d[coder1_specific_d.columns[-3:]].mean(axis=1))\n",
    "coder2_specific_d = clean[['all','d1','d2','d3']][128:]\n",
    "coder2_specific_d['d'] = round(coder2_specific_d[coder2_specific_d.columns[-3:]].mean(axis=1))\n",
    "coder3_specific_d = clean[['all','d4','d5','d6']][:128]\n",
    "coder3_specific_d['d'] = round(coder3_specific_d[coder3_specific_d.columns[-3:]].mean(axis=1))\n",
    "coder4_specific_d = clean[['all','d4','d5','d6']][128:]\n",
    "coder4_specific_d['d'] = round(coder4_specific_d[coder4_specific_d.columns[-3:]].mean(axis=1))"
   ]
  },
  {
   "cell_type": "code",
   "execution_count": 20,
   "metadata": {},
   "outputs": [
    {
     "output_type": "stream",
     "name": "stdout",
     "text": [
      "{'fit_time': array([0.20036626, 0.17820287, 0.18497896]), 'score_time': array([0.00254297, 0.00054288, 0.00111198]), 'test_score': array([0.81538462, 0.75384615, 0.78461538]), 'train_score': array([0.96153846, 0.96923077, 0.96923077])}\n0.7428571428571429\n"
     ]
    },
    {
     "output_type": "execute_result",
     "data": {
      "text/plain": [
       "0.7428571428571429"
      ]
     },
     "metadata": {},
     "execution_count": 20
    }
   ],
   "source": [
    "coder1_specific_d_predictor = predictor.predictor(coder1_specific_d, 'all')\n",
    "coder1_specific_d_predictor.train_on('d')\n",
    "coder1_specific_d_predictor.test()"
   ]
  },
  {
   "cell_type": "code",
   "execution_count": 28,
   "metadata": {},
   "outputs": [
    {
     "output_type": "stream",
     "name": "stdout",
     "text": [
      "{'fit_time': array([0.08938217, 0.09994078, 0.08066916]), 'score_time': array([0.00052595, 0.00051808, 0.0007019 ]), 'test_score': array([0.55102041, 0.71428571, 0.64583333]), 'train_score': array([0.91752577, 0.93814433, 0.91836735])}\n0.6153846153846154\n"
     ]
    },
    {
     "output_type": "execute_result",
     "data": {
      "text/plain": [
       "0.6153846153846154"
      ]
     },
     "metadata": {},
     "execution_count": 28
    }
   ],
   "source": [
    "coder2_specific_d_predictor = predictor.predictor(coder2_specific_d, 'all')\n",
    "coder2_specific_d_predictor.train_on('d')\n",
    "coder2_specific_d_predictor.test()"
   ]
  },
  {
   "cell_type": "code",
   "execution_count": 22,
   "metadata": {},
   "outputs": [
    {
     "output_type": "stream",
     "name": "stdout",
     "text": [
      "{'fit_time': array([0.21390104, 0.17577696, 0.24685884]), 'score_time': array([0.00055027, 0.00065899, 0.00054193]), 'test_score': array([0.8       , 0.76923077, 0.75384615]), 'train_score': array([0.96923077, 0.96153846, 0.96923077])}\n0.8285714285714286\n"
     ]
    },
    {
     "output_type": "execute_result",
     "data": {
      "text/plain": [
       "0.8285714285714286"
      ]
     },
     "metadata": {},
     "execution_count": 22
    }
   ],
   "source": [
    "coder3_specific_d_predictor = predictor.predictor(coder3_specific_d, 'all')\n",
    "coder3_specific_d_predictor.train_on('d')\n",
    "coder3_specific_d_predictor.test()"
   ]
  },
  {
   "cell_type": "code",
   "execution_count": 23,
   "metadata": {},
   "outputs": [
    {
     "output_type": "error",
     "ename": "ValueError",
     "evalue": "Expected n_neighbors <= n_samples,  but n_samples = 1, n_neighbors = 2",
     "traceback": [
      "\u001b[0;31m---------------------------------------------------------------------------\u001b[0m",
      "\u001b[0;31mValueError\u001b[0m                                Traceback (most recent call last)",
      "\u001b[0;32m<ipython-input-23-0895bafa8772>\u001b[0m in \u001b[0;36m<module>\u001b[0;34m\u001b[0m\n\u001b[1;32m      1\u001b[0m \u001b[0mcoder4_specific_d_predictor\u001b[0m \u001b[0;34m=\u001b[0m \u001b[0mpredictor\u001b[0m\u001b[0;34m.\u001b[0m\u001b[0mpredictor\u001b[0m\u001b[0;34m(\u001b[0m\u001b[0mcoder4_specific_d\u001b[0m\u001b[0;34m,\u001b[0m \u001b[0;34m'all'\u001b[0m\u001b[0;34m,\u001b[0m \u001b[0mk_neighbors\u001b[0m\u001b[0;34m=\u001b[0m \u001b[0;36m1\u001b[0m\u001b[0;34m)\u001b[0m\u001b[0;34m\u001b[0m\u001b[0;34m\u001b[0m\u001b[0m\n\u001b[0;32m----> 2\u001b[0;31m \u001b[0mcoder4_specific_d_predictor\u001b[0m\u001b[0;34m.\u001b[0m\u001b[0mtrain_on\u001b[0m\u001b[0;34m(\u001b[0m\u001b[0;34m'd'\u001b[0m\u001b[0;34m)\u001b[0m\u001b[0;34m\u001b[0m\u001b[0;34m\u001b[0m\u001b[0m\n\u001b[0m\u001b[1;32m      3\u001b[0m \u001b[0mcoder4_specific_d_predictor\u001b[0m\u001b[0;34m.\u001b[0m\u001b[0mtest\u001b[0m\u001b[0;34m(\u001b[0m\u001b[0;34m)\u001b[0m\u001b[0;34m\u001b[0m\u001b[0;34m\u001b[0m\u001b[0m\n",
      "\u001b[0;32m~/Documents/GitHub/NLP-for-motivation-lab/predictor.py\u001b[0m in \u001b[0;36mtrain_on\u001b[0;34m(self, Ycolname)\u001b[0m\n\u001b[1;32m     37\u001b[0m     \u001b[0;32mdef\u001b[0m \u001b[0mtrain_on\u001b[0m\u001b[0;34m(\u001b[0m\u001b[0mself\u001b[0m\u001b[0;34m,\u001b[0m \u001b[0mYcolname\u001b[0m\u001b[0;34m)\u001b[0m\u001b[0;34m:\u001b[0m\u001b[0;34m\u001b[0m\u001b[0;34m\u001b[0m\u001b[0m\n\u001b[1;32m     38\u001b[0m         \u001b[0mself\u001b[0m\u001b[0;34m.\u001b[0m\u001b[0my\u001b[0m \u001b[0;34m=\u001b[0m \u001b[0mself\u001b[0m\u001b[0;34m.\u001b[0m\u001b[0mdf\u001b[0m\u001b[0;34m[\u001b[0m\u001b[0mYcolname\u001b[0m\u001b[0;34m]\u001b[0m\u001b[0;34m\u001b[0m\u001b[0;34m\u001b[0m\u001b[0m\n\u001b[0;32m---> 39\u001b[0;31m         \u001b[0mself\u001b[0m\u001b[0;34m.\u001b[0m\u001b[0mX\u001b[0m\u001b[0;34m,\u001b[0m \u001b[0mself\u001b[0m\u001b[0;34m.\u001b[0m\u001b[0my\u001b[0m \u001b[0;34m=\u001b[0m \u001b[0mself\u001b[0m\u001b[0;34m.\u001b[0m\u001b[0mbalancer\u001b[0m\u001b[0;34m.\u001b[0m\u001b[0mfit_resample\u001b[0m\u001b[0;34m(\u001b[0m\u001b[0mself\u001b[0m\u001b[0;34m.\u001b[0m\u001b[0mX\u001b[0m\u001b[0;34m,\u001b[0m \u001b[0mself\u001b[0m\u001b[0;34m.\u001b[0m\u001b[0my\u001b[0m\u001b[0;34m)\u001b[0m\u001b[0;34m\u001b[0m\u001b[0;34m\u001b[0m\u001b[0m\n\u001b[0m\u001b[1;32m     40\u001b[0m         \u001b[0mself\u001b[0m\u001b[0;34m.\u001b[0m\u001b[0msplit\u001b[0m\u001b[0;34m(\u001b[0m\u001b[0;34m)\u001b[0m\u001b[0;34m\u001b[0m\u001b[0;34m\u001b[0m\u001b[0m\n\u001b[1;32m     41\u001b[0m         \u001b[0mself\u001b[0m\u001b[0;34m.\u001b[0m\u001b[0mmake_model\u001b[0m\u001b[0;34m(\u001b[0m\u001b[0;34m)\u001b[0m\u001b[0;34m\u001b[0m\u001b[0;34m\u001b[0m\u001b[0m\n",
      "\u001b[0;32m/usr/local/lib/python3.7/site-packages/imblearn/base.py\u001b[0m in \u001b[0;36mfit_resample\u001b[0;34m(self, X, y)\u001b[0m\n\u001b[1;32m     81\u001b[0m         )\n\u001b[1;32m     82\u001b[0m \u001b[0;34m\u001b[0m\u001b[0m\n\u001b[0;32m---> 83\u001b[0;31m         \u001b[0moutput\u001b[0m \u001b[0;34m=\u001b[0m \u001b[0mself\u001b[0m\u001b[0;34m.\u001b[0m\u001b[0m_fit_resample\u001b[0m\u001b[0;34m(\u001b[0m\u001b[0mX\u001b[0m\u001b[0;34m,\u001b[0m \u001b[0my\u001b[0m\u001b[0;34m)\u001b[0m\u001b[0;34m\u001b[0m\u001b[0;34m\u001b[0m\u001b[0m\n\u001b[0m\u001b[1;32m     84\u001b[0m \u001b[0;34m\u001b[0m\u001b[0m\n\u001b[1;32m     85\u001b[0m         y_ = (label_binarize(output[1], np.unique(y))\n",
      "\u001b[0;32m/usr/local/lib/python3.7/site-packages/imblearn/over_sampling/_smote.py\u001b[0m in \u001b[0;36m_fit_resample\u001b[0;34m(self, X, y)\u001b[0m\n\u001b[1;32m    730\u001b[0m \u001b[0;34m\u001b[0m\u001b[0m\n\u001b[1;32m    731\u001b[0m             \u001b[0mself\u001b[0m\u001b[0;34m.\u001b[0m\u001b[0mnn_k_\u001b[0m\u001b[0;34m.\u001b[0m\u001b[0mfit\u001b[0m\u001b[0;34m(\u001b[0m\u001b[0mX_class\u001b[0m\u001b[0;34m)\u001b[0m\u001b[0;34m\u001b[0m\u001b[0;34m\u001b[0m\u001b[0m\n\u001b[0;32m--> 732\u001b[0;31m             \u001b[0mnns\u001b[0m \u001b[0;34m=\u001b[0m \u001b[0mself\u001b[0m\u001b[0;34m.\u001b[0m\u001b[0mnn_k_\u001b[0m\u001b[0;34m.\u001b[0m\u001b[0mkneighbors\u001b[0m\u001b[0;34m(\u001b[0m\u001b[0mX_class\u001b[0m\u001b[0;34m,\u001b[0m \u001b[0mreturn_distance\u001b[0m\u001b[0;34m=\u001b[0m\u001b[0;32mFalse\u001b[0m\u001b[0;34m)\u001b[0m\u001b[0;34m[\u001b[0m\u001b[0;34m:\u001b[0m\u001b[0;34m,\u001b[0m \u001b[0;36m1\u001b[0m\u001b[0;34m:\u001b[0m\u001b[0;34m]\u001b[0m\u001b[0;34m\u001b[0m\u001b[0;34m\u001b[0m\u001b[0m\n\u001b[0m\u001b[1;32m    733\u001b[0m             X_new, y_new = self._make_samples(\n\u001b[1;32m    734\u001b[0m                 \u001b[0mX_class\u001b[0m\u001b[0;34m,\u001b[0m \u001b[0my\u001b[0m\u001b[0;34m.\u001b[0m\u001b[0mdtype\u001b[0m\u001b[0;34m,\u001b[0m \u001b[0mclass_sample\u001b[0m\u001b[0;34m,\u001b[0m \u001b[0mX_class\u001b[0m\u001b[0;34m,\u001b[0m \u001b[0mnns\u001b[0m\u001b[0;34m,\u001b[0m \u001b[0mn_samples\u001b[0m\u001b[0;34m,\u001b[0m \u001b[0;36m1.0\u001b[0m\u001b[0;34m\u001b[0m\u001b[0;34m\u001b[0m\u001b[0m\n",
      "\u001b[0;32m/usr/local/lib/python3.7/site-packages/sklearn/neighbors/_base.py\u001b[0m in \u001b[0;36mkneighbors\u001b[0;34m(self, X, n_neighbors, return_distance)\u001b[0m\n\u001b[1;32m    617\u001b[0m                 \u001b[0;34m\"Expected n_neighbors <= n_samples, \"\u001b[0m\u001b[0;34m\u001b[0m\u001b[0;34m\u001b[0m\u001b[0m\n\u001b[1;32m    618\u001b[0m                 \u001b[0;34m\" but n_samples = %d, n_neighbors = %d\"\u001b[0m \u001b[0;34m%\u001b[0m\u001b[0;34m\u001b[0m\u001b[0;34m\u001b[0m\u001b[0m\n\u001b[0;32m--> 619\u001b[0;31m                 \u001b[0;34m(\u001b[0m\u001b[0mn_samples_fit\u001b[0m\u001b[0;34m,\u001b[0m \u001b[0mn_neighbors\u001b[0m\u001b[0;34m)\u001b[0m\u001b[0;34m\u001b[0m\u001b[0;34m\u001b[0m\u001b[0m\n\u001b[0m\u001b[1;32m    620\u001b[0m             )\n\u001b[1;32m    621\u001b[0m \u001b[0;34m\u001b[0m\u001b[0m\n",
      "\u001b[0;31mValueError\u001b[0m: Expected n_neighbors <= n_samples,  but n_samples = 1, n_neighbors = 2"
     ]
    }
   ],
   "source": [
    "coder4_specific_d_predictor = predictor.predictor(coder4_specific_d, 'all', k_neighbors= 1)\n",
    "coder4_specific_d_predictor.train_on('d')\n",
    "coder4_specific_d_predictor.test()"
   ]
  },
  {
   "cell_type": "code",
   "execution_count": 27,
   "metadata": {},
   "outputs": [
    {
     "output_type": "execute_result",
     "data": {
      "text/plain": [
       "Counter({3.0: 45, 4.0: 15, 2.0: 53, 1.0: 14, 5.0: 1})"
      ]
     },
     "metadata": {},
     "execution_count": 27
    }
   ],
   "source": [
    "Counter(coder4_specific_d.d)"
   ]
  },
  {
   "cell_type": "code",
   "execution_count": null,
   "metadata": {},
   "outputs": [],
   "source": []
  }
 ],
 "metadata": {
  "kernelspec": {
   "display_name": "Python 3",
   "language": "python",
   "name": "python3"
  },
  "language_info": {
   "codemirror_mode": {
    "name": "ipython",
    "version": 3
   },
   "file_extension": ".py",
   "mimetype": "text/x-python",
   "name": "python",
   "nbconvert_exporter": "python",
   "pygments_lexer": "ipython3",
   "version": "3.7.4-final"
  }
 },
 "nbformat": 4,
 "nbformat_minor": 2
}
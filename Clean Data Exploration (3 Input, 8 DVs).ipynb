{
 "cells": [
  {
   "cell_type": "code",
   "execution_count": 1,
   "metadata": {},
   "outputs": [],
   "source": [
    "from collections import defaultdict, Counter"
   ]
  },
  {
   "cell_type": "code",
   "execution_count": 2,
   "metadata": {},
   "outputs": [],
   "source": [
    "import pandas as pd\n",
    "import nltk\n",
    "# import sklearn as sk\n",
    "import gensim.models\n",
    "# from nltk.corpus import stopwords\n",
    "# import string\n",
    "import matplotlib.pyplot as plt\n",
    "# import seaborn as sns\n",
    "import numpy as np\n",
    "# from ast import literal_eval\n",
    "# from predictor import *\n",
    "import predictor\n",
    "# sns.set()\n",
    "\n",
    "clean = pd.read_csv(\"/Users/aditya/Documents/GitHub/NLP-for-motivation-lab/CleanData(v. analysis).csv\")\n",
    "\n",
    "colname = ['id', 'condition', 'wish', 'outcome', 'outcome2', 'useful', 'mins', 'other', 'reuse', 'clarity', 'benefit', 'interest', 'learn']\n",
    "clean = clean.iloc[:256,:13]\n",
    "clean.columns= colname\n",
    "clean.fillna(\"\", inplace=True)"
   ]
  },
  {
   "cell_type": "code",
   "execution_count": 3,
   "metadata": {},
   "outputs": [
    {
     "output_type": "execute_result",
     "data": {
      "text/plain": [
       "                         id condition  useful  mins  other  reuse  clarity  \\\n",
       "0  558af269fdf99b7dfef4d7bd        MC     7.0   1.0    7.0    7.0      7.0   \n",
       "1  55b1add5fdf99b6731f04c5a        MC     1.0   1.0    2.0    1.0      3.0   \n",
       "2  5626a6cfddff3c0011bcd3d8         I     3.0   1.0    2.0    2.0      2.0   \n",
       "3  56a5da6181a8ca000d3e7f40        MC     4.0   1.0    4.0    3.0      2.0   \n",
       "4  56df2ea2452e1300056bc7df        MC     3.0   1.0    4.0    4.0      3.0   \n",
       "\n",
       "   benefit  interest  learn  ...   d5   d6   s1   s2   s3   s4   s5   s6    d  \\\n",
       "0      7.0       7.0    7.0  ...  2.0  5.0  2.0  5.0  5.0  2.0  5.0  5.0  3.0   \n",
       "1      1.0       2.0    2.0  ...  5.0  5.0  4.0  3.0  5.0  4.0  3.0  5.0  5.0   \n",
       "2      2.0       2.0    2.0  ...  5.0  5.0  3.0  5.0  4.0  3.0  5.0  4.0  4.0   \n",
       "3      3.0       5.0    4.0  ...  5.0  5.0  3.0  3.0  4.0  3.0  3.0  4.0  4.0   \n",
       "4      3.0       4.0    3.0  ...  1.0  1.0  2.0  1.0  2.0  2.0  1.0  2.0  1.0   \n",
       "\n",
       "     s  \n",
       "0  4.0  \n",
       "1  4.0  \n",
       "2  4.0  \n",
       "3  3.0  \n",
       "4  2.0  \n",
       "\n",
       "[5 rows x 26 columns]"
      ],
      "text/html": "<div>\n<style scoped>\n    .dataframe tbody tr th:only-of-type {\n        vertical-align: middle;\n    }\n\n    .dataframe tbody tr th {\n        vertical-align: top;\n    }\n\n    .dataframe thead th {\n        text-align: right;\n    }\n</style>\n<table border=\"1\" class=\"dataframe\">\n  <thead>\n    <tr style=\"text-align: right;\">\n      <th></th>\n      <th>id</th>\n      <th>condition</th>\n      <th>useful</th>\n      <th>mins</th>\n      <th>other</th>\n      <th>reuse</th>\n      <th>clarity</th>\n      <th>benefit</th>\n      <th>interest</th>\n      <th>learn</th>\n      <th>...</th>\n      <th>d5</th>\n      <th>d6</th>\n      <th>s1</th>\n      <th>s2</th>\n      <th>s3</th>\n      <th>s4</th>\n      <th>s5</th>\n      <th>s6</th>\n      <th>d</th>\n      <th>s</th>\n    </tr>\n  </thead>\n  <tbody>\n    <tr>\n      <th>0</th>\n      <td>558af269fdf99b7dfef4d7bd</td>\n      <td>MC</td>\n      <td>7.0</td>\n      <td>1.0</td>\n      <td>7.0</td>\n      <td>7.0</td>\n      <td>7.0</td>\n      <td>7.0</td>\n      <td>7.0</td>\n      <td>7.0</td>\n      <td>...</td>\n      <td>2.0</td>\n      <td>5.0</td>\n      <td>2.0</td>\n      <td>5.0</td>\n      <td>5.0</td>\n      <td>2.0</td>\n      <td>5.0</td>\n      <td>5.0</td>\n      <td>3.0</td>\n      <td>4.0</td>\n    </tr>\n    <tr>\n      <th>1</th>\n      <td>55b1add5fdf99b6731f04c5a</td>\n      <td>MC</td>\n      <td>1.0</td>\n      <td>1.0</td>\n      <td>2.0</td>\n      <td>1.0</td>\n      <td>3.0</td>\n      <td>1.0</td>\n      <td>2.0</td>\n      <td>2.0</td>\n      <td>...</td>\n      <td>5.0</td>\n      <td>5.0</td>\n      <td>4.0</td>\n      <td>3.0</td>\n      <td>5.0</td>\n      <td>4.0</td>\n      <td>3.0</td>\n      <td>5.0</td>\n      <td>5.0</td>\n      <td>4.0</td>\n    </tr>\n    <tr>\n      <th>2</th>\n      <td>5626a6cfddff3c0011bcd3d8</td>\n      <td>I</td>\n      <td>3.0</td>\n      <td>1.0</td>\n      <td>2.0</td>\n      <td>2.0</td>\n      <td>2.0</td>\n      <td>2.0</td>\n      <td>2.0</td>\n      <td>2.0</td>\n      <td>...</td>\n      <td>5.0</td>\n      <td>5.0</td>\n      <td>3.0</td>\n      <td>5.0</td>\n      <td>4.0</td>\n      <td>3.0</td>\n      <td>5.0</td>\n      <td>4.0</td>\n      <td>4.0</td>\n      <td>4.0</td>\n    </tr>\n    <tr>\n      <th>3</th>\n      <td>56a5da6181a8ca000d3e7f40</td>\n      <td>MC</td>\n      <td>4.0</td>\n      <td>1.0</td>\n      <td>4.0</td>\n      <td>3.0</td>\n      <td>2.0</td>\n      <td>3.0</td>\n      <td>5.0</td>\n      <td>4.0</td>\n      <td>...</td>\n      <td>5.0</td>\n      <td>5.0</td>\n      <td>3.0</td>\n      <td>3.0</td>\n      <td>4.0</td>\n      <td>3.0</td>\n      <td>3.0</td>\n      <td>4.0</td>\n      <td>4.0</td>\n      <td>3.0</td>\n    </tr>\n    <tr>\n      <th>4</th>\n      <td>56df2ea2452e1300056bc7df</td>\n      <td>MC</td>\n      <td>3.0</td>\n      <td>1.0</td>\n      <td>4.0</td>\n      <td>4.0</td>\n      <td>3.0</td>\n      <td>3.0</td>\n      <td>4.0</td>\n      <td>3.0</td>\n      <td>...</td>\n      <td>1.0</td>\n      <td>1.0</td>\n      <td>2.0</td>\n      <td>1.0</td>\n      <td>2.0</td>\n      <td>2.0</td>\n      <td>1.0</td>\n      <td>2.0</td>\n      <td>1.0</td>\n      <td>2.0</td>\n    </tr>\n  </tbody>\n</table>\n<p>5 rows × 26 columns</p>\n</div>"
     },
     "metadata": {},
     "execution_count": 3
    }
   ],
   "source": [
    "clean['all'] = clean.wish + \" \" + clean.outcome + \" \" + clean.outcome2\n",
    "clean.drop(columns = ['wish', 'outcome', 'outcome2'], inplace=True)\n",
    "\n",
    "# clean['all'] = clean['all'].apply(remove_stop)\n",
    "# model = gensim.models.Word2Vec(clean['all'], min_count = 2)\n",
    "# model.most_similar('happy')\n",
    "\n",
    "# clean = pd.get_dummies(clean, columns = ['useful','mins','other','reuse', 'clarity', 'benefit', 'interest', 'learn'])\n",
    "\n",
    "coders = pd.read_csv('/Users/aditya/Documents/GitHub/NLP-for-motivation-lab/MCII coding replication - coding file(v. analysis).csv')\n",
    "colname = ['id', 'd1', 'd2', 'd3', 'd4', 'd5', 'd6', 's1', 's2', 's3', 's4', 's5', 's6']\n",
    "coders = coders.iloc[:256,:13]\n",
    "coders.columns= colname\n",
    "coders.fillna(1, inplace=True)\n",
    "coders['d'] = round(coders.loc[:,'d1':'d6'].mean(axis=1))\n",
    "coders['s'] = round(coders.loc[:,'s1':'s6'].mean(axis=1))\n",
    "clean = pd.concat([clean, coders], join='outer', axis=1)\n",
    "clean.head()\n",
    "clean.head()"
   ]
  },
  {
   "cell_type": "code",
   "execution_count": 4,
   "metadata": {},
   "outputs": [],
   "source": [
    "# for each_col in clean.loc[:,'useful':'learn']:\n",
    "#     print(each_col)\n",
    "#     plt.hist(clean[each_col])\n",
    "#     print(clean[each_col].value_counts())\n",
    "#     plt.show()"
   ]
  },
  {
   "cell_type": "code",
   "execution_count": 5,
   "metadata": {},
   "outputs": [],
   "source": [
    "history_scores = defaultdict(dict)"
   ]
  },
  {
   "cell_type": "code",
   "execution_count": 6,
   "metadata": {
    "scrolled": false
   },
   "outputs": [],
   "source": [
    "def variation(kind, solver):\n",
    "    history_scores[f'{solver}'][f'{kind}'] = {}\n",
    "    for each_col in clean.loc[:,'useful':'learn']:\n",
    "        mypredictor = predictor.predictor(clean, 'all', kind, solver)\n",
    "        print(\"\\n\" + each_col)\n",
    "        mypredictor.train_on(each_col)\n",
    "        history_scores[f'{mypredictor.solver}'][f'{mypredictor.kind}'][f'{each_col}'] = \\\n",
    "        round(mypredictor.test(), 3)"
   ]
  },
  {
   "cell_type": "code",
   "execution_count": 7,
   "metadata": {},
   "outputs": [
    {
     "output_type": "stream",
     "name": "stdout",
     "text": [
      "\n",
      "useful\n",
      "{'fit_time': array([0.01024699, 0.01006484, 0.010216  ]), 'score_time': array([0.00101113, 0.00067496, 0.00072908]), 'test_score': array([0.65185185, 0.6962963 , 0.68656716]), 'train_score': array([0.95167286, 0.95910781, 0.95555556])}\n",
      "0.6944444444444444\n",
      "\n",
      "mins\n",
      "{'fit_time': array([0.02977371, 0.03106213, 0.01425719]), 'score_time': array([0.00071716, 0.00151777, 0.00092101]), 'test_score': array([0.80246914, 0.81481481, 0.83333333]), 'train_score': array([0.96296296, 0.96604938, 0.92592593])}\n",
      "0.8255813953488372\n",
      "\n",
      "other\n",
      "{'fit_time': array([0.01132703, 0.03227401, 0.02095819]), 'score_time': array([0.0014801 , 0.01014614, 0.00069499]), 'test_score': array([0.61983471, 0.70247934, 0.575     ]), 'train_score': array([0.97095436, 0.93775934, 0.93801653])}\n",
      "0.7076923076923077\n",
      "\n",
      "reuse\n",
      "{'fit_time': array([0.02003098, 0.02939391, 0.03432202]), 'score_time': array([0.00091505, 0.0006609 , 0.00068307]), 'test_score': array([0.63309353, 0.61870504, 0.63768116]), 'train_score': array([0.94584838, 0.94584838, 0.94244604])}\n",
      "0.7432432432432432\n",
      "\n",
      "clarity\n",
      "{'fit_time': array([0.00952792, 0.02412868, 0.01575303]), 'score_time': array([0.00069404, 0.00065422, 0.000633  ]), 'test_score': array([0.616     , 0.68      , 0.56451613]), 'train_score': array([0.96787149, 0.97188755, 0.952     ])}\n",
      "0.6268656716417911\n",
      "\n",
      "benefit\n",
      "{'fit_time': array([0.02220988, 0.01267195, 0.01419997]), 'score_time': array([0.00063729, 0.00228906, 0.00063992]), 'test_score': array([0.61068702, 0.61832061, 0.57692308]), 'train_score': array([0.94252874, 0.92720307, 0.94656489])}\n",
      "0.6571428571428571\n",
      "\n",
      "interest\n",
      "{'fit_time': array([0.01524711, 0.03724194, 0.02241397]), 'score_time': array([0.00174904, 0.00065112, 0.00243497]), 'test_score': array([0.72108844, 0.69387755, 0.7260274 ]), 'train_score': array([0.93174061, 0.94539249, 0.95238095])}\n",
      "0.6538461538461539\n",
      "\n",
      "learn\n",
      "{'fit_time': array([0.02156425, 0.01565099, 0.01299596]), 'score_time': array([0.00088501, 0.00063491, 0.00071192]), 'test_score': array([0.58914729, 0.59689922, 0.6484375 ]), 'train_score': array([0.96498054, 0.96498054, 0.9496124 ])}\n",
      "0.7101449275362319\n"
     ]
    }
   ],
   "source": [
    "variation('l2', 'liblinear')"
   ]
  },
  {
   "cell_type": "code",
   "execution_count": 8,
   "metadata": {},
   "outputs": [
    {
     "output_type": "stream",
     "name": "stdout",
     "text": [
      "\n",
      "useful\n",
      "{'fit_time': array([0.00784159, 0.00906277, 0.0133729 ]), 'score_time': array([0.00062108, 0.00072026, 0.00064993]), 'test_score': array([0.43703704, 0.42222222, 0.38059701]), 'train_score': array([0.50557621, 0.5204461 , 0.55925926])}\n",
      "0.6388888888888888\n",
      "\n",
      "mins\n",
      "{'fit_time': array([0.02109575, 0.0172658 , 0.01702929]), 'score_time': array([0.00169206, 0.00294709, 0.00086498]), 'test_score': array([0.59259259, 0.61728395, 0.5       ]), 'train_score': array([0.72530864, 0.68518519, 0.72839506])}\n",
      "0.6744186046511628\n",
      "\n",
      "other\n",
      "{'fit_time': array([0.00789666, 0.00886893, 0.01133394]), 'score_time': array([0.00105214, 0.00093889, 0.0015161 ]), 'test_score': array([0.33884298, 0.40495868, 0.35833333]), 'train_score': array([0.52282158, 0.406639  , 0.47933884])}\n",
      "0.4153846153846154\n",
      "\n",
      "reuse\n",
      "{'fit_time': array([0.00902605, 0.00801492, 0.00884032]), 'score_time': array([0.0008688 , 0.0014689 , 0.00071073]), 'test_score': array([0.39568345, 0.30935252, 0.27536232]), 'train_score': array([0.50180505, 0.46570397, 0.49640288])}\n",
      "0.44594594594594594\n",
      "\n",
      "clarity\n",
      "{'fit_time': array([0.00898695, 0.03994107, 0.08347106]), 'score_time': array([0.0008831 , 0.00138974, 0.00233483]), 'test_score': array([0.344     , 0.296     , 0.31451613]), 'train_score': array([0.44176707, 0.45783133, 0.476     ])}\n",
      "0.5970149253731343\n",
      "\n",
      "benefit\n",
      "{'fit_time': array([0.00882697, 0.00913811, 0.00836992]), 'score_time': array([0.00062585, 0.00072718, 0.00235224]), 'test_score': array([0.36641221, 0.29007634, 0.37692308]), 'train_score': array([0.44061303, 0.4559387 , 0.47709924])}\n",
      "0.42857142857142855\n",
      "\n",
      "interest\n",
      "{'fit_time': array([0.00981379, 0.00873613, 0.01039481]), 'score_time': array([0.00109625, 0.00069284, 0.00073028]), 'test_score': array([0.44897959, 0.3877551 , 0.45890411]), 'train_score': array([0.54607509, 0.5221843 , 0.52040816])}\n",
      "0.5769230769230769\n",
      "\n",
      "learn\n",
      "{'fit_time': array([0.00787091, 0.00779295, 0.00734305]), 'score_time': array([0.00058103, 0.00060296, 0.00057602]), 'test_score': array([0.26356589, 0.41860465, 0.3515625 ]), 'train_score': array([0.49416342, 0.51750973, 0.43023256])}\n",
      "0.4782608695652174\n"
     ]
    }
   ],
   "source": [
    "variation('l1', 'liblinear')"
   ]
  },
  {
   "cell_type": "code",
   "execution_count": 9,
   "metadata": {},
   "outputs": [
    {
     "output_type": "stream",
     "name": "stdout",
     "text": [
      "\n",
      "useful\n",
      "{'fit_time': array([0.34344816, 0.36755729, 0.37296009]), 'score_time': array([0.00100875, 0.00062275, 0.00072527]), 'test_score': array([0.62222222, 0.59259259, 0.68656716]), 'train_score': array([0.97026022, 0.96654275, 0.94444444])}\n",
      "0.8194444444444444\n",
      "\n",
      "mins\n",
      "{'fit_time': array([0.23927712, 0.30915976, 0.22416687]), 'score_time': array([0.00063205, 0.00059295, 0.00108218]), 'test_score': array([0.77160494, 0.87037037, 0.74691358]), 'train_score': array([0.97839506, 0.97222222, 0.97839506])}\n",
      "0.8837209302325582\n",
      "\n",
      "other\n",
      "{'fit_time': array([1.00984383, 0.42486382, 0.65177298]), 'score_time': array([0.00061703, 0.00092316, 0.00320196]), 'test_score': array([0.60330579, 0.63636364, 0.55      ]), 'train_score': array([0.93775934, 0.9626556 , 0.94628099])}\n",
      "0.6461538461538462\n",
      "\n",
      "reuse\n",
      "{'fit_time': array([0.31350398, 0.32334113, 0.26955199]), 'score_time': array([0.00068307, 0.00097084, 0.00068307]), 'test_score': array([0.72661871, 0.68345324, 0.63043478]), 'train_score': array([0.9566787 , 0.96389892, 0.94964029])}\n",
      "0.7567567567567568\n",
      "\n",
      "clarity\n",
      "{'fit_time': array([0.35916519, 0.27531695, 0.29813194]), 'score_time': array([0.00065184, 0.00080895, 0.0007298 ]), 'test_score': array([0.632     , 0.648     , 0.60483871]), 'train_score': array([0.95582329, 0.95983936, 0.96      ])}\n",
      "0.6119402985074627\n",
      "\n",
      "benefit\n",
      "{'fit_time': array([0.458601  , 0.49402761, 0.60647297]), 'score_time': array([0.00063205, 0.00085235, 0.00065994]), 'test_score': array([0.58015267, 0.60305344, 0.66153846]), 'train_score': array([0.92720307, 0.95785441, 0.95419847])}\n",
      "0.6428571428571429\n",
      "\n",
      "interest\n",
      "{'fit_time': array([0.72567987, 0.5502212 , 0.43439198]), 'score_time': array([0.00073409, 0.00070977, 0.0014019 ]), 'test_score': array([0.73469388, 0.68027211, 0.65068493]), 'train_score': array([0.97269625, 0.9556314 , 0.96938776])}\n",
      "0.7307692307692307\n",
      "\n",
      "learn\n",
      "{'fit_time': array([0.46643496, 0.53637099, 0.35901332]), 'score_time': array([0.0012691 , 0.00358081, 0.00079179]), 'test_score': array([0.59689922, 0.53488372, 0.6015625 ]), 'train_score': array([0.9688716 , 0.94552529, 0.96899225])}\n",
      "0.7391304347826086\n"
     ]
    }
   ],
   "source": [
    "variation('l2', 'lbfgs')"
   ]
  },
  {
   "cell_type": "code",
   "execution_count": 10,
   "metadata": {},
   "outputs": [
    {
     "output_type": "stream",
     "name": "stdout",
     "text": [
      "\n",
      "useful\n",
      "{'fit_time': array([0.12203908, 0.08909488, 0.11541986]), 'score_time': array([0.00186396, 0.00082517, 0.00072503]), 'test_score': array([0.6962963 , 0.68888889, 0.64925373]), 'train_score': array([0.99256506, 0.95910781, 0.96666667])}\n",
      "0.6944444444444444\n",
      "\n",
      "mins\n",
      "{'fit_time': array([0.06808901, 0.06004786, 0.07288909]), 'score_time': array([0.00075698, 0.00066113, 0.00158286]), 'test_score': array([0.87654321, 0.81481481, 0.80864198]), 'train_score': array([0.97222222, 0.98148148, 0.98765432])}\n",
      "0.872093023255814\n",
      "\n",
      "other\n",
      "{'fit_time': array([0.09885883, 0.09988093, 0.09829211]), 'score_time': array([0.00072312, 0.00084114, 0.00070977]), 'test_score': array([0.60330579, 0.6446281 , 0.625     ]), 'train_score': array([0.93775934, 0.94605809, 0.95867769])}\n",
      "0.6923076923076923\n",
      "\n",
      "reuse\n",
      "{'fit_time': array([0.10481906, 0.10120821, 0.08668494]), 'score_time': array([0.00059509, 0.00064993, 0.00062895]), 'test_score': array([0.61151079, 0.58992806, 0.67391304]), 'train_score': array([0.94223827, 0.94223827, 0.97841727])}\n",
      "0.7972972972972973\n",
      "\n",
      "clarity\n",
      "{'fit_time': array([0.067343  , 0.07985115, 0.06865621]), 'score_time': array([0.00069213, 0.00060415, 0.00057983]), 'test_score': array([0.664     , 0.632     , 0.62096774]), 'train_score': array([0.98393574, 0.93975904, 0.948     ])}\n",
      "0.6567164179104478\n",
      "\n",
      "benefit\n",
      "{'fit_time': array([0.24315715, 0.22005582, 0.13547182]), 'score_time': array([0.00134182, 0.00083518, 0.00339937]), 'test_score': array([0.72519084, 0.61832061, 0.58461538]), 'train_score': array([0.95785441, 0.94636015, 0.95801527])}\n",
      "0.6857142857142857\n",
      "\n",
      "interest\n",
      "{'fit_time': array([0.07933998, 0.06678009, 0.06983495]), 'score_time': array([0.00058866, 0.00065589, 0.00058603]), 'test_score': array([0.63945578, 0.67346939, 0.69178082]), 'train_score': array([0.95221843, 0.95221843, 0.95578231])}\n",
      "0.7564102564102564\n",
      "\n",
      "learn\n",
      "{'fit_time': array([0.06366491, 0.06985903, 0.07082391]), 'score_time': array([0.00056696, 0.00095296, 0.00095105]), 'test_score': array([0.5503876 , 0.58914729, 0.625     ]), 'train_score': array([0.93774319, 0.9688716 , 0.95348837])}\n",
      "0.6811594202898551\n"
     ]
    }
   ],
   "source": [
    "variation('l2', 'newton-cg')"
   ]
  },
  {
   "cell_type": "code",
   "execution_count": 11,
   "metadata": {},
   "outputs": [
    {
     "output_type": "execute_result",
     "data": {
      "text/plain": [
       "defaultdict(dict,\n",
       "            {'liblinear': {'l2': {'useful': 0.694,\n",
       "               'mins': 0.826,\n",
       "               'other': 0.708,\n",
       "               'reuse': 0.743,\n",
       "               'clarity': 0.627,\n",
       "               'benefit': 0.657,\n",
       "               'interest': 0.654,\n",
       "               'learn': 0.71},\n",
       "              'l1': {'useful': 0.639,\n",
       "               'mins': 0.674,\n",
       "               'other': 0.415,\n",
       "               'reuse': 0.446,\n",
       "               'clarity': 0.597,\n",
       "               'benefit': 0.429,\n",
       "               'interest': 0.577,\n",
       "               'learn': 0.478}},\n",
       "             'lbfgs': {'l2': {'useful': 0.819,\n",
       "               'mins': 0.884,\n",
       "               'other': 0.646,\n",
       "               'reuse': 0.757,\n",
       "               'clarity': 0.612,\n",
       "               'benefit': 0.643,\n",
       "               'interest': 0.731,\n",
       "               'learn': 0.739}},\n",
       "             'newton-cg': {'l2': {'useful': 0.694,\n",
       "               'mins': 0.872,\n",
       "               'other': 0.692,\n",
       "               'reuse': 0.797,\n",
       "               'clarity': 0.657,\n",
       "               'benefit': 0.686,\n",
       "               'interest': 0.756,\n",
       "               'learn': 0.681}}})"
      ]
     },
     "metadata": {},
     "execution_count": 11
    }
   ],
   "source": [
    "history_scores"
   ]
  },
  {
   "cell_type": "code",
   "execution_count": 27,
   "metadata": {},
   "outputs": [
    {
     "output_type": "stream",
     "name": "stdout",
     "text": [
      "{'fit_time': array([1.98405719, 2.75770211, 2.08658504]), 'score_time': array([0.00598598, 0.00164676, 0.00920987]), 'test_score': array([0.86705202, 0.80924855, 0.75581395]), 'train_score': array([0.92753623, 0.93333333, 0.93352601])}\n0.8478260869565217\n"
     ]
    },
    {
     "output_type": "execute_result",
     "data": {
      "text/plain": [
       "0.8478260869565217"
      ]
     },
     "metadata": {},
     "execution_count": 27
    }
   ],
   "source": [
    "#checking predictor performance for specificity\n",
    "\n",
    "mypredictor_coding = predictor.predictor(clean, 'all', k_neighbors = 3)\n",
    "mypredictor_coding.train_on('s')\n",
    "mypredictor_coding.test()"
   ]
  },
  {
   "cell_type": "code",
   "execution_count": 13,
   "metadata": {},
   "outputs": [],
   "source": [
    "# mypredictor_coding.predict(\"Get extra hours at work so I can be able to pay for things my family needs I would be able to take care of my family and what they need or want If I was able to fulfill this goal, I would have extra hours to able to bring more money home to my family and take care of the little things that we need and want. We could be able to go on vacation and do whatever extra stuff that we want.\")"
   ]
  },
  {
   "cell_type": "code",
   "execution_count": 30,
   "metadata": {},
   "outputs": [
    {
     "output_type": "execute_result",
     "data": {
      "text/plain": [
       "                    coef\n",
       "best outcome    1.131070\n",
       "nice            1.089450\n",
       "outcome         1.065673\n",
       "best            0.982216\n",
       "no              0.819329\n",
       "very            0.700961\n",
       "from the        0.693840\n",
       "important       0.686195\n",
       "thoughts        0.669646\n",
       "cloud           0.668014\n",
       "down            0.589455\n",
       "be nice         0.567617\n",
       "that would      0.567612\n",
       "visit           0.529409\n",
       "most important  0.525961\n",
       "success         0.523043\n",
       "this is         0.522532\n",
       "from            0.516830\n",
       "important wish  0.503230\n",
       "wish            0.494202"
      ],
      "text/html": "<div>\n<style scoped>\n    .dataframe tbody tr th:only-of-type {\n        vertical-align: middle;\n    }\n\n    .dataframe tbody tr th {\n        vertical-align: top;\n    }\n\n    .dataframe thead th {\n        text-align: right;\n    }\n</style>\n<table border=\"1\" class=\"dataframe\">\n  <thead>\n    <tr style=\"text-align: right;\">\n      <th></th>\n      <th>coef</th>\n    </tr>\n  </thead>\n  <tbody>\n    <tr>\n      <th>best outcome</th>\n      <td>1.131070</td>\n    </tr>\n    <tr>\n      <th>nice</th>\n      <td>1.089450</td>\n    </tr>\n    <tr>\n      <th>outcome</th>\n      <td>1.065673</td>\n    </tr>\n    <tr>\n      <th>best</th>\n      <td>0.982216</td>\n    </tr>\n    <tr>\n      <th>no</th>\n      <td>0.819329</td>\n    </tr>\n    <tr>\n      <th>very</th>\n      <td>0.700961</td>\n    </tr>\n    <tr>\n      <th>from the</th>\n      <td>0.693840</td>\n    </tr>\n    <tr>\n      <th>important</th>\n      <td>0.686195</td>\n    </tr>\n    <tr>\n      <th>thoughts</th>\n      <td>0.669646</td>\n    </tr>\n    <tr>\n      <th>cloud</th>\n      <td>0.668014</td>\n    </tr>\n    <tr>\n      <th>down</th>\n      <td>0.589455</td>\n    </tr>\n    <tr>\n      <th>be nice</th>\n      <td>0.567617</td>\n    </tr>\n    <tr>\n      <th>that would</th>\n      <td>0.567612</td>\n    </tr>\n    <tr>\n      <th>visit</th>\n      <td>0.529409</td>\n    </tr>\n    <tr>\n      <th>most important</th>\n      <td>0.525961</td>\n    </tr>\n    <tr>\n      <th>success</th>\n      <td>0.523043</td>\n    </tr>\n    <tr>\n      <th>this is</th>\n      <td>0.522532</td>\n    </tr>\n    <tr>\n      <th>from</th>\n      <td>0.516830</td>\n    </tr>\n    <tr>\n      <th>important wish</th>\n      <td>0.503230</td>\n    </tr>\n    <tr>\n      <th>wish</th>\n      <td>0.494202</td>\n    </tr>\n  </tbody>\n</table>\n</div>"
     },
     "metadata": {},
     "execution_count": 30
    }
   ],
   "source": [
    "pd.DataFrame(mypredictor_coding.model.coef_[0][:-1], \n",
    "             mypredictor_coding.vectorizer.get_feature_names(), \n",
    "             columns=['coef'])\\\n",
    "            .sort_values(by='coef', ascending=False)[:20]\n",
    "\n",
    "# pd.DataFrame(mypredictor_coding.model.coef_[0][:-1], \n",
    "            #  mypredictor_coding.vectorizer.vocabulary_, \n",
    "#              columns=['coef'])\\\n",
    "#             .sort_values(by='coef', ascending=False) "
   ]
  },
  {
   "cell_type": "code",
   "execution_count": 31,
   "metadata": {},
   "outputs": [
    {
     "output_type": "stream",
     "name": "stdout",
     "text": [
      "{'fit_time': array([1.08829594, 3.50048709, 4.00405502]), 'score_time': array([0.00197482, 0.00262618, 0.00122499]), 'test_score': array([0.72972973, 0.76190476, 0.80952381]), 'train_score': array([0.93197279, 0.96610169, 0.95932203])}\n0.7307692307692307\n"
     ]
    },
    {
     "output_type": "execute_result",
     "data": {
      "text/plain": [
       "0.7307692307692307"
      ]
     },
     "metadata": {},
     "execution_count": 31
    }
   ],
   "source": [
    "#checking predictor performance for directness\n",
    "\n",
    "mypredictor_coding = predictor.predictor(clean, 'all')\n",
    "mypredictor_coding.train_on('d')\n",
    "mypredictor_coding.test()"
   ]
  },
  {
   "cell_type": "code",
   "execution_count": 16,
   "metadata": {},
   "outputs": [],
   "source": [
    "# mypredictor_coding.predict(\"Get extra hours at work so I can be able to pay for things my family needs I would be able to take care of my family and what they need or want If I was able to fulfill this goal, I would have extra hours to able to bring more money home to my family and take care of the little things that we need and want. We could be able to go on vacation and do whatever extra stuff that we want.\")"
   ]
  },
  {
   "cell_type": "code",
   "execution_count": 37,
   "metadata": {},
   "outputs": [
    {
     "output_type": "execute_result",
     "data": {
      "text/plain": [
       "coef   -0.190963\n",
       "Name: can, dtype: float64"
      ]
     },
     "metadata": {},
     "execution_count": 37
    }
   ],
   "source": [
    "pd.DataFrame(mypredictor_coding.model.coef_[0][:-1], \n",
    "             mypredictor_coding.vectorizer.get_feature_names(), \n",
    "             columns=['coef'])\\\n",
    "            .sort_values(by='coef', ascending=False).loc['can']\n",
    "\n",
    "# pd.DataFrame(mypredictor_coding.model.coef_[0][:-1], \n",
    "#              mypredictor_coding.vectorizer.vocabulary_, \n",
    "#              columns=['coef'])\\\n",
    "#             .sort_values(by='coef', ascending=False)"
   ]
  },
  {
   "cell_type": "code",
   "execution_count": 18,
   "metadata": {},
   "outputs": [],
   "source": [
    "#effect of imbalance? \n",
    "#interpreting coeff? \n",
    "#useful exercise? What can be done? \n",
    "#how better approximate coders? "
   ]
  },
  {
   "cell_type": "code",
   "execution_count": 19,
   "metadata": {},
   "outputs": [],
   "source": [
    "coder1_specific_d = clean[['all','d1','d2','d3']][:128]\n",
    "coder1_specific_d['d'] = round(coder1_specific_d[coder1_specific_d.columns[-3:]].mean(axis=1))\n",
    "coder2_specific_d = clean[['all','d1','d2','d3']][128:]\n",
    "coder2_specific_d['d'] = round(coder2_specific_d[coder2_specific_d.columns[-3:]].mean(axis=1))\n",
    "coder3_specific_d = clean[['all','d4','d5','d6']][:128]\n",
    "coder3_specific_d['d'] = round(coder3_specific_d[coder3_specific_d.columns[-3:]].mean(axis=1))\n",
    "coder4_specific_d = clean[['all','d4','d5','d6']][128:]\n",
    "coder4_specific_d['d'] = round(coder4_specific_d[coder4_specific_d.columns[-3:]].mean(axis=1))"
   ]
  },
  {
   "cell_type": "code",
   "execution_count": 20,
   "metadata": {},
   "outputs": [
    {
     "output_type": "stream",
     "name": "stdout",
     "text": [
      "{'fit_time': array([0.33437634, 0.77607608, 0.41888905]), 'score_time': array([0.00091982, 0.00123   , 0.00064397]), 'test_score': array([0.75384615, 0.73846154, 0.70769231]), 'train_score': array([0.93846154, 0.96923077, 0.94615385])}\n0.8571428571428571\n"
     ]
    },
    {
     "output_type": "execute_result",
     "data": {
      "text/plain": [
       "0.8571428571428571"
      ]
     },
     "metadata": {},
     "execution_count": 20
    }
   ],
   "source": [
    "coder1_specific_d_predictor = predictor.predictor(coder1_specific_d, 'all')\n",
    "coder1_specific_d_predictor.train_on('d')\n",
    "coder1_specific_d_predictor.test()"
   ]
  },
  {
   "cell_type": "code",
   "execution_count": 21,
   "metadata": {},
   "outputs": [
    {
     "output_type": "stream",
     "name": "stdout",
     "text": [
      "{'fit_time': array([0.34607077, 0.16277313, 0.3660419 ]), 'score_time': array([0.00052023, 0.0010221 , 0.00054193]), 'test_score': array([0.55102041, 0.63265306, 0.6875    ]), 'train_score': array([0.88659794, 0.89690722, 0.91836735])}\n0.6153846153846154\n"
     ]
    },
    {
     "output_type": "execute_result",
     "data": {
      "text/plain": [
       "0.6153846153846154"
      ]
     },
     "metadata": {},
     "execution_count": 21
    }
   ],
   "source": [
    "coder2_specific_d_predictor = predictor.predictor(coder2_specific_d, 'all')\n",
    "coder2_specific_d_predictor.train_on('d')\n",
    "coder2_specific_d_predictor.test()"
   ]
  },
  {
   "cell_type": "code",
   "execution_count": 22,
   "metadata": {},
   "outputs": [
    {
     "output_type": "stream",
     "name": "stdout",
     "text": [
      "{'fit_time': array([0.28028798, 0.43775892, 0.21471262]), 'score_time': array([0.00341797, 0.00066209, 0.00090337]), 'test_score': array([0.75384615, 0.75384615, 0.69230769]), 'train_score': array([0.94615385, 0.96923077, 0.92307692])}\n0.8\n"
     ]
    },
    {
     "output_type": "execute_result",
     "data": {
      "text/plain": [
       "0.8"
      ]
     },
     "metadata": {},
     "execution_count": 22
    }
   ],
   "source": [
    "coder3_specific_d_predictor = predictor.predictor(coder3_specific_d, 'all')\n",
    "coder3_specific_d_predictor.train_on('d')\n",
    "coder3_specific_d_predictor.test()"
   ]
  },
  {
   "cell_type": "code",
   "execution_count": 23,
   "metadata": {},
   "outputs": [
    {
     "output_type": "error",
     "ename": "ValueError",
     "evalue": "Expected n_neighbors <= n_samples,  but n_samples = 1, n_neighbors = 2",
     "traceback": [
      "\u001b[0;31m---------------------------------------------------------------------------\u001b[0m",
      "\u001b[0;31mValueError\u001b[0m                                Traceback (most recent call last)",
      "\u001b[0;32m<ipython-input-23-0895bafa8772>\u001b[0m in \u001b[0;36m<module>\u001b[0;34m\u001b[0m\n\u001b[1;32m      1\u001b[0m \u001b[0mcoder4_specific_d_predictor\u001b[0m \u001b[0;34m=\u001b[0m \u001b[0mpredictor\u001b[0m\u001b[0;34m.\u001b[0m\u001b[0mpredictor\u001b[0m\u001b[0;34m(\u001b[0m\u001b[0mcoder4_specific_d\u001b[0m\u001b[0;34m,\u001b[0m \u001b[0;34m'all'\u001b[0m\u001b[0;34m,\u001b[0m \u001b[0mk_neighbors\u001b[0m\u001b[0;34m=\u001b[0m \u001b[0;36m1\u001b[0m\u001b[0;34m)\u001b[0m\u001b[0;34m\u001b[0m\u001b[0;34m\u001b[0m\u001b[0m\n\u001b[0;32m----> 2\u001b[0;31m \u001b[0mcoder4_specific_d_predictor\u001b[0m\u001b[0;34m.\u001b[0m\u001b[0mtrain_on\u001b[0m\u001b[0;34m(\u001b[0m\u001b[0;34m'd'\u001b[0m\u001b[0;34m)\u001b[0m\u001b[0;34m\u001b[0m\u001b[0;34m\u001b[0m\u001b[0m\n\u001b[0m\u001b[1;32m      3\u001b[0m \u001b[0mcoder4_specific_d_predictor\u001b[0m\u001b[0;34m.\u001b[0m\u001b[0mtest\u001b[0m\u001b[0;34m(\u001b[0m\u001b[0;34m)\u001b[0m\u001b[0;34m\u001b[0m\u001b[0;34m\u001b[0m\u001b[0m\n",
      "\u001b[0;32m~/Documents/GitHub/NLP-for-motivation-lab/predictor.py\u001b[0m in \u001b[0;36mtrain_on\u001b[0;34m(self, Ycolname)\u001b[0m\n\u001b[1;32m     38\u001b[0m     \u001b[0;32mdef\u001b[0m \u001b[0mtrain_on\u001b[0m\u001b[0;34m(\u001b[0m\u001b[0mself\u001b[0m\u001b[0;34m,\u001b[0m \u001b[0mYcolname\u001b[0m\u001b[0;34m)\u001b[0m\u001b[0;34m:\u001b[0m\u001b[0;34m\u001b[0m\u001b[0;34m\u001b[0m\u001b[0m\n\u001b[1;32m     39\u001b[0m         \u001b[0mself\u001b[0m\u001b[0;34m.\u001b[0m\u001b[0my\u001b[0m \u001b[0;34m=\u001b[0m \u001b[0mself\u001b[0m\u001b[0;34m.\u001b[0m\u001b[0mdf\u001b[0m\u001b[0;34m[\u001b[0m\u001b[0mYcolname\u001b[0m\u001b[0;34m]\u001b[0m\u001b[0;34m\u001b[0m\u001b[0;34m\u001b[0m\u001b[0m\n\u001b[0;32m---> 40\u001b[0;31m         \u001b[0mself\u001b[0m\u001b[0;34m.\u001b[0m\u001b[0mX\u001b[0m\u001b[0;34m,\u001b[0m \u001b[0mself\u001b[0m\u001b[0;34m.\u001b[0m\u001b[0my\u001b[0m \u001b[0;34m=\u001b[0m \u001b[0mself\u001b[0m\u001b[0;34m.\u001b[0m\u001b[0mbalancer\u001b[0m\u001b[0;34m.\u001b[0m\u001b[0mfit_resample\u001b[0m\u001b[0;34m(\u001b[0m\u001b[0mself\u001b[0m\u001b[0;34m.\u001b[0m\u001b[0mX\u001b[0m\u001b[0;34m,\u001b[0m \u001b[0mself\u001b[0m\u001b[0;34m.\u001b[0m\u001b[0my\u001b[0m\u001b[0;34m)\u001b[0m\u001b[0;34m\u001b[0m\u001b[0;34m\u001b[0m\u001b[0m\n\u001b[0m\u001b[1;32m     41\u001b[0m         \u001b[0mself\u001b[0m\u001b[0;34m.\u001b[0m\u001b[0msplit\u001b[0m\u001b[0;34m(\u001b[0m\u001b[0;34m)\u001b[0m\u001b[0;34m\u001b[0m\u001b[0;34m\u001b[0m\u001b[0m\n\u001b[1;32m     42\u001b[0m         \u001b[0mself\u001b[0m\u001b[0;34m.\u001b[0m\u001b[0mmake_model\u001b[0m\u001b[0;34m(\u001b[0m\u001b[0;34m)\u001b[0m\u001b[0;34m\u001b[0m\u001b[0;34m\u001b[0m\u001b[0m\n",
      "\u001b[0;32m/usr/local/lib/python3.7/site-packages/imblearn/base.py\u001b[0m in \u001b[0;36mfit_resample\u001b[0;34m(self, X, y)\u001b[0m\n\u001b[1;32m     81\u001b[0m         )\n\u001b[1;32m     82\u001b[0m \u001b[0;34m\u001b[0m\u001b[0m\n\u001b[0;32m---> 83\u001b[0;31m         \u001b[0moutput\u001b[0m \u001b[0;34m=\u001b[0m \u001b[0mself\u001b[0m\u001b[0;34m.\u001b[0m\u001b[0m_fit_resample\u001b[0m\u001b[0;34m(\u001b[0m\u001b[0mX\u001b[0m\u001b[0;34m,\u001b[0m \u001b[0my\u001b[0m\u001b[0;34m)\u001b[0m\u001b[0;34m\u001b[0m\u001b[0;34m\u001b[0m\u001b[0m\n\u001b[0m\u001b[1;32m     84\u001b[0m \u001b[0;34m\u001b[0m\u001b[0m\n\u001b[1;32m     85\u001b[0m         y_ = (label_binarize(output[1], np.unique(y))\n",
      "\u001b[0;32m/usr/local/lib/python3.7/site-packages/imblearn/over_sampling/_smote.py\u001b[0m in \u001b[0;36m_fit_resample\u001b[0;34m(self, X, y)\u001b[0m\n\u001b[1;32m    730\u001b[0m \u001b[0;34m\u001b[0m\u001b[0m\n\u001b[1;32m    731\u001b[0m             \u001b[0mself\u001b[0m\u001b[0;34m.\u001b[0m\u001b[0mnn_k_\u001b[0m\u001b[0;34m.\u001b[0m\u001b[0mfit\u001b[0m\u001b[0;34m(\u001b[0m\u001b[0mX_class\u001b[0m\u001b[0;34m)\u001b[0m\u001b[0;34m\u001b[0m\u001b[0;34m\u001b[0m\u001b[0m\n\u001b[0;32m--> 732\u001b[0;31m             \u001b[0mnns\u001b[0m \u001b[0;34m=\u001b[0m \u001b[0mself\u001b[0m\u001b[0;34m.\u001b[0m\u001b[0mnn_k_\u001b[0m\u001b[0;34m.\u001b[0m\u001b[0mkneighbors\u001b[0m\u001b[0;34m(\u001b[0m\u001b[0mX_class\u001b[0m\u001b[0;34m,\u001b[0m \u001b[0mreturn_distance\u001b[0m\u001b[0;34m=\u001b[0m\u001b[0;32mFalse\u001b[0m\u001b[0;34m)\u001b[0m\u001b[0;34m[\u001b[0m\u001b[0;34m:\u001b[0m\u001b[0;34m,\u001b[0m \u001b[0;36m1\u001b[0m\u001b[0;34m:\u001b[0m\u001b[0;34m]\u001b[0m\u001b[0;34m\u001b[0m\u001b[0;34m\u001b[0m\u001b[0m\n\u001b[0m\u001b[1;32m    733\u001b[0m             X_new, y_new = self._make_samples(\n\u001b[1;32m    734\u001b[0m                 \u001b[0mX_class\u001b[0m\u001b[0;34m,\u001b[0m \u001b[0my\u001b[0m\u001b[0;34m.\u001b[0m\u001b[0mdtype\u001b[0m\u001b[0;34m,\u001b[0m \u001b[0mclass_sample\u001b[0m\u001b[0;34m,\u001b[0m \u001b[0mX_class\u001b[0m\u001b[0;34m,\u001b[0m \u001b[0mnns\u001b[0m\u001b[0;34m,\u001b[0m \u001b[0mn_samples\u001b[0m\u001b[0;34m,\u001b[0m \u001b[0;36m1.0\u001b[0m\u001b[0;34m\u001b[0m\u001b[0;34m\u001b[0m\u001b[0m\n",
      "\u001b[0;32m/usr/local/lib/python3.7/site-packages/sklearn/neighbors/_base.py\u001b[0m in \u001b[0;36mkneighbors\u001b[0;34m(self, X, n_neighbors, return_distance)\u001b[0m\n\u001b[1;32m    617\u001b[0m                 \u001b[0;34m\"Expected n_neighbors <= n_samples, \"\u001b[0m\u001b[0;34m\u001b[0m\u001b[0;34m\u001b[0m\u001b[0m\n\u001b[1;32m    618\u001b[0m                 \u001b[0;34m\" but n_samples = %d, n_neighbors = %d\"\u001b[0m \u001b[0;34m%\u001b[0m\u001b[0;34m\u001b[0m\u001b[0;34m\u001b[0m\u001b[0m\n\u001b[0;32m--> 619\u001b[0;31m                 \u001b[0;34m(\u001b[0m\u001b[0mn_samples_fit\u001b[0m\u001b[0;34m,\u001b[0m \u001b[0mn_neighbors\u001b[0m\u001b[0;34m)\u001b[0m\u001b[0;34m\u001b[0m\u001b[0;34m\u001b[0m\u001b[0m\n\u001b[0m\u001b[1;32m    620\u001b[0m             )\n\u001b[1;32m    621\u001b[0m \u001b[0;34m\u001b[0m\u001b[0m\n",
      "\u001b[0;31mValueError\u001b[0m: Expected n_neighbors <= n_samples,  but n_samples = 1, n_neighbors = 2"
     ]
    }
   ],
   "source": [
    "coder4_specific_d_predictor = predictor.predictor(coder4_specific_d, 'all', k_neighbors= 1)\n",
    "coder4_specific_d_predictor.train_on('d')\n",
    "coder4_specific_d_predictor.test()"
   ]
  },
  {
   "cell_type": "code",
   "execution_count": 27,
   "metadata": {},
   "outputs": [
    {
     "output_type": "execute_result",
     "data": {
      "text/plain": [
       "Counter({3.0: 45, 4.0: 15, 2.0: 53, 1.0: 14, 5.0: 1})"
      ]
     },
     "metadata": {},
     "execution_count": 27
    }
   ],
   "source": [
    "Counter(coder4_specific_d.d)"
   ]
  },
  {
   "cell_type": "code",
   "execution_count": null,
   "metadata": {},
   "outputs": [],
   "source": [
    "#make more flexible to super low values"
   ]
  }
 ],
 "metadata": {
  "kernelspec": {
   "display_name": "Python 3",
   "language": "python",
   "name": "python3"
  },
  "language_info": {
   "codemirror_mode": {
    "name": "ipython",
    "version": 3
   },
   "file_extension": ".py",
   "mimetype": "text/x-python",
   "name": "python",
   "nbconvert_exporter": "python",
   "pygments_lexer": "ipython3",
   "version": "3.7.4-final"
  }
 },
 "nbformat": 4,
 "nbformat_minor": 2
}
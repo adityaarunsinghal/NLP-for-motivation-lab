{
 "cells": [
  {
   "cell_type": "code",
   "execution_count": 1,
   "metadata": {},
   "outputs": [],
   "source": [
    "from scipy.sparse import coo_matrix, hstack\n",
    "from sklearn.linear_model import LogisticRegression\n",
    "from sklearn import metrics\n",
    "from sklearn.model_selection import cross_validate\n",
    "from sklearn.model_selection import train_test_split\n",
    "from collections import defaultdict"
   ]
  },
  {
   "cell_type": "code",
   "execution_count": 2,
   "metadata": {},
   "outputs": [
    {
     "data": {
      "text/html": [
       "<div>\n",
       "<style scoped>\n",
       "    .dataframe tbody tr th:only-of-type {\n",
       "        vertical-align: middle;\n",
       "    }\n",
       "\n",
       "    .dataframe tbody tr th {\n",
       "        vertical-align: top;\n",
       "    }\n",
       "\n",
       "    .dataframe thead th {\n",
       "        text-align: right;\n",
       "    }\n",
       "</style>\n",
       "<table border=\"1\" class=\"dataframe\">\n",
       "  <thead>\n",
       "    <tr style=\"text-align: right;\">\n",
       "      <th></th>\n",
       "      <th>id</th>\n",
       "      <th>condition</th>\n",
       "      <th>wish</th>\n",
       "      <th>outcome</th>\n",
       "      <th>outcome2</th>\n",
       "      <th>useful</th>\n",
       "      <th>mins</th>\n",
       "      <th>other</th>\n",
       "      <th>reuse</th>\n",
       "      <th>clarity</th>\n",
       "      <th>benefit</th>\n",
       "      <th>interest</th>\n",
       "      <th>learn</th>\n",
       "    </tr>\n",
       "  </thead>\n",
       "  <tbody>\n",
       "    <tr>\n",
       "      <th>0</th>\n",
       "      <td>558af269fdf99b7dfef4d7bd</td>\n",
       "      <td>MC</td>\n",
       "      <td>do a Bible study</td>\n",
       "      <td>finish Bible study and feel fulfilled</td>\n",
       "      <td>I'll do the Bible study I've been meaning to d...</td>\n",
       "      <td>7.0</td>\n",
       "      <td>1.0</td>\n",
       "      <td>7.0</td>\n",
       "      <td>7.0</td>\n",
       "      <td>7.0</td>\n",
       "      <td>7.0</td>\n",
       "      <td>7.0</td>\n",
       "      <td>7.0</td>\n",
       "    </tr>\n",
       "    <tr>\n",
       "      <th>1</th>\n",
       "      <td>55b1add5fdf99b6731f04c5a</td>\n",
       "      <td>MC</td>\n",
       "      <td>I want to clean my house</td>\n",
       "      <td>I will get everything tidy</td>\n",
       "      <td>I will feel better in a nice clean house</td>\n",
       "      <td>1.0</td>\n",
       "      <td>1.0</td>\n",
       "      <td>2.0</td>\n",
       "      <td>1.0</td>\n",
       "      <td>3.0</td>\n",
       "      <td>1.0</td>\n",
       "      <td>2.0</td>\n",
       "      <td>2.0</td>\n",
       "    </tr>\n",
       "    <tr>\n",
       "      <th>2</th>\n",
       "      <td>5626a6cfddff3c0011bcd3d8</td>\n",
       "      <td>I</td>\n",
       "      <td>Eat healthy and exercise</td>\n",
       "      <td>I burn more calories than I eat</td>\n",
       "      <td>I feel accomplished and good about mysefl</td>\n",
       "      <td>3.0</td>\n",
       "      <td>1.0</td>\n",
       "      <td>2.0</td>\n",
       "      <td>2.0</td>\n",
       "      <td>2.0</td>\n",
       "      <td>2.0</td>\n",
       "      <td>2.0</td>\n",
       "      <td>2.0</td>\n",
       "    </tr>\n",
       "    <tr>\n",
       "      <th>3</th>\n",
       "      <td>56a5da6181a8ca000d3e7f40</td>\n",
       "      <td>MC</td>\n",
       "      <td>Spend quality time with my cat</td>\n",
       "      <td>My cat appears happy</td>\n",
       "      <td>When my cat is happy, he is laying next to me ...</td>\n",
       "      <td>4.0</td>\n",
       "      <td>1.0</td>\n",
       "      <td>4.0</td>\n",
       "      <td>3.0</td>\n",
       "      <td>2.0</td>\n",
       "      <td>3.0</td>\n",
       "      <td>5.0</td>\n",
       "      <td>4.0</td>\n",
       "    </tr>\n",
       "    <tr>\n",
       "      <th>4</th>\n",
       "      <td>56df2ea2452e1300056bc7df</td>\n",
       "      <td>MC</td>\n",
       "      <td>Go out to eat</td>\n",
       "      <td>Care Free</td>\n",
       "      <td>Happy, no problems</td>\n",
       "      <td>3.0</td>\n",
       "      <td>1.0</td>\n",
       "      <td>4.0</td>\n",
       "      <td>4.0</td>\n",
       "      <td>3.0</td>\n",
       "      <td>3.0</td>\n",
       "      <td>4.0</td>\n",
       "      <td>3.0</td>\n",
       "    </tr>\n",
       "  </tbody>\n",
       "</table>\n",
       "</div>"
      ],
      "text/plain": [
       "                         id condition                            wish  \\\n",
       "0  558af269fdf99b7dfef4d7bd        MC                do a Bible study   \n",
       "1  55b1add5fdf99b6731f04c5a        MC        I want to clean my house   \n",
       "2  5626a6cfddff3c0011bcd3d8         I        Eat healthy and exercise   \n",
       "3  56a5da6181a8ca000d3e7f40        MC  Spend quality time with my cat   \n",
       "4  56df2ea2452e1300056bc7df        MC                   Go out to eat   \n",
       "\n",
       "                                 outcome  \\\n",
       "0  finish Bible study and feel fulfilled   \n",
       "1             I will get everything tidy   \n",
       "2        I burn more calories than I eat   \n",
       "3                   My cat appears happy   \n",
       "4                             Care Free    \n",
       "\n",
       "                                            outcome2  useful  mins  other  \\\n",
       "0  I'll do the Bible study I've been meaning to d...     7.0   1.0    7.0   \n",
       "1           I will feel better in a nice clean house     1.0   1.0    2.0   \n",
       "2          I feel accomplished and good about mysefl     3.0   1.0    2.0   \n",
       "3  When my cat is happy, he is laying next to me ...     4.0   1.0    4.0   \n",
       "4                                 Happy, no problems     3.0   1.0    4.0   \n",
       "\n",
       "   reuse  clarity  benefit  interest  learn  \n",
       "0    7.0      7.0      7.0       7.0    7.0  \n",
       "1    1.0      3.0      1.0       2.0    2.0  \n",
       "2    2.0      2.0      2.0       2.0    2.0  \n",
       "3    3.0      2.0      3.0       5.0    4.0  \n",
       "4    4.0      3.0      3.0       4.0    3.0  "
      ]
     },
     "execution_count": 2,
     "metadata": {},
     "output_type": "execute_result"
    }
   ],
   "source": [
    "import pandas as pd\n",
    "import nltk\n",
    "import sklearn as sk\n",
    "import gensim.models\n",
    "from nltk.corpus import stopwords\n",
    "import string\n",
    "import matplotlib.pyplot as plt\n",
    "import seaborn as sns\n",
    "import numpy as np\n",
    "from ast import literal_eval\n",
    "from sklearn.feature_extraction.text import TfidfVectorizer\n",
    "sns.set()\n",
    "\n",
    "clean = pd.read_csv(\"/Users/aditya/Google Drive (as11919@nyu.edu)/Syncing with Mac/NYU Research Analysis/Motivation Lab/CleanData(v. analysis).csv\")\n",
    "\n",
    "colname = ['id', 'condition', 'wish', 'outcome', 'outcome2', 'useful', 'mins', 'other', 'reuse', 'clarity', 'benefit', 'interest', 'learn']\n",
    "clean = clean.iloc[:256,:13]\n",
    "clean.columns= colname\n",
    "clean.fillna(\"\", inplace=True)\n",
    "clean.head()"
   ]
  },
  {
   "cell_type": "code",
   "execution_count": 3,
   "metadata": {},
   "outputs": [
    {
     "data": {
      "text/html": [
       "<div>\n",
       "<style scoped>\n",
       "    .dataframe tbody tr th:only-of-type {\n",
       "        vertical-align: middle;\n",
       "    }\n",
       "\n",
       "    .dataframe tbody tr th {\n",
       "        vertical-align: top;\n",
       "    }\n",
       "\n",
       "    .dataframe thead th {\n",
       "        text-align: right;\n",
       "    }\n",
       "</style>\n",
       "<table border=\"1\" class=\"dataframe\">\n",
       "  <thead>\n",
       "    <tr style=\"text-align: right;\">\n",
       "      <th></th>\n",
       "      <th>id</th>\n",
       "      <th>condition</th>\n",
       "      <th>useful</th>\n",
       "      <th>mins</th>\n",
       "      <th>other</th>\n",
       "      <th>reuse</th>\n",
       "      <th>clarity</th>\n",
       "      <th>benefit</th>\n",
       "      <th>interest</th>\n",
       "      <th>learn</th>\n",
       "      <th>all</th>\n",
       "    </tr>\n",
       "  </thead>\n",
       "  <tbody>\n",
       "    <tr>\n",
       "      <th>0</th>\n",
       "      <td>558af269fdf99b7dfef4d7bd</td>\n",
       "      <td>MC</td>\n",
       "      <td>7.0</td>\n",
       "      <td>1.0</td>\n",
       "      <td>7.0</td>\n",
       "      <td>7.0</td>\n",
       "      <td>7.0</td>\n",
       "      <td>7.0</td>\n",
       "      <td>7.0</td>\n",
       "      <td>7.0</td>\n",
       "      <td>do a Bible study finish Bible study and feel f...</td>\n",
       "    </tr>\n",
       "    <tr>\n",
       "      <th>1</th>\n",
       "      <td>55b1add5fdf99b6731f04c5a</td>\n",
       "      <td>MC</td>\n",
       "      <td>1.0</td>\n",
       "      <td>1.0</td>\n",
       "      <td>2.0</td>\n",
       "      <td>1.0</td>\n",
       "      <td>3.0</td>\n",
       "      <td>1.0</td>\n",
       "      <td>2.0</td>\n",
       "      <td>2.0</td>\n",
       "      <td>I want to clean my house I will get everything...</td>\n",
       "    </tr>\n",
       "    <tr>\n",
       "      <th>2</th>\n",
       "      <td>5626a6cfddff3c0011bcd3d8</td>\n",
       "      <td>I</td>\n",
       "      <td>3.0</td>\n",
       "      <td>1.0</td>\n",
       "      <td>2.0</td>\n",
       "      <td>2.0</td>\n",
       "      <td>2.0</td>\n",
       "      <td>2.0</td>\n",
       "      <td>2.0</td>\n",
       "      <td>2.0</td>\n",
       "      <td>Eat healthy and exercise I burn more calories ...</td>\n",
       "    </tr>\n",
       "    <tr>\n",
       "      <th>3</th>\n",
       "      <td>56a5da6181a8ca000d3e7f40</td>\n",
       "      <td>MC</td>\n",
       "      <td>4.0</td>\n",
       "      <td>1.0</td>\n",
       "      <td>4.0</td>\n",
       "      <td>3.0</td>\n",
       "      <td>2.0</td>\n",
       "      <td>3.0</td>\n",
       "      <td>5.0</td>\n",
       "      <td>4.0</td>\n",
       "      <td>Spend quality time with my cat My cat appears ...</td>\n",
       "    </tr>\n",
       "    <tr>\n",
       "      <th>4</th>\n",
       "      <td>56df2ea2452e1300056bc7df</td>\n",
       "      <td>MC</td>\n",
       "      <td>3.0</td>\n",
       "      <td>1.0</td>\n",
       "      <td>4.0</td>\n",
       "      <td>4.0</td>\n",
       "      <td>3.0</td>\n",
       "      <td>3.0</td>\n",
       "      <td>4.0</td>\n",
       "      <td>3.0</td>\n",
       "      <td>Go out to eat Care Free  Happy, no problems</td>\n",
       "    </tr>\n",
       "  </tbody>\n",
       "</table>\n",
       "</div>"
      ],
      "text/plain": [
       "                         id condition  useful  mins  other  reuse  clarity  \\\n",
       "0  558af269fdf99b7dfef4d7bd        MC     7.0   1.0    7.0    7.0      7.0   \n",
       "1  55b1add5fdf99b6731f04c5a        MC     1.0   1.0    2.0    1.0      3.0   \n",
       "2  5626a6cfddff3c0011bcd3d8         I     3.0   1.0    2.0    2.0      2.0   \n",
       "3  56a5da6181a8ca000d3e7f40        MC     4.0   1.0    4.0    3.0      2.0   \n",
       "4  56df2ea2452e1300056bc7df        MC     3.0   1.0    4.0    4.0      3.0   \n",
       "\n",
       "   benefit  interest  learn                                                all  \n",
       "0      7.0       7.0    7.0  do a Bible study finish Bible study and feel f...  \n",
       "1      1.0       2.0    2.0  I want to clean my house I will get everything...  \n",
       "2      2.0       2.0    2.0  Eat healthy and exercise I burn more calories ...  \n",
       "3      3.0       5.0    4.0  Spend quality time with my cat My cat appears ...  \n",
       "4      3.0       4.0    3.0        Go out to eat Care Free  Happy, no problems  "
      ]
     },
     "execution_count": 3,
     "metadata": {},
     "output_type": "execute_result"
    }
   ],
   "source": [
    "clean['all'] = clean.wish + \" \" + clean.outcome + \" \" + clean.outcome2\n",
    "clean.drop(columns = ['wish', 'outcome', 'outcome2'], inplace=True)\n",
    "\n",
    "# clean['all'] = clean['all'].apply(remove_stop)\n",
    "# model = gensim.models.Word2Vec(clean['all'], min_count = 2)\n",
    "# model.most_similar('happy')\n",
    "\n",
    "# clean = pd.get_dummies(clean, columns = ['useful','mins','other','reuse', 'clarity', 'benefit', 'interest', 'learn'])\n",
    "clean.head()"
   ]
  },
  {
   "cell_type": "code",
   "execution_count": 4,
   "metadata": {},
   "outputs": [],
   "source": [
    "# clean['all'] = clean['all'].apply(lambda x:' '.join(x))"
   ]
  },
  {
   "cell_type": "code",
   "execution_count": 5,
   "metadata": {},
   "outputs": [
    {
     "name": "stdout",
     "output_type": "stream",
     "text": [
      "useful\n"
     ]
    },
    {
     "data": {
      "image/png": "[encoded data removed]",
      "text/plain": [
       "<Figure size 432x288 with 1 Axes>"
      ]
     },
     "metadata": {
      "needs_background": "light"
     },
     "output_type": "display_data"
    },
    {
     "name": "stdout",
     "output_type": "stream",
     "text": [
      "mins\n"
     ]
    },
    {
     "data": {
      "image/png": "[encoded data removed]",
      "text/plain": [
       "<Figure size 432x288 with 1 Axes>"
      ]
     },
     "metadata": {
      "needs_background": "light"
     },
     "output_type": "display_data"
    },
    {
     "name": "stdout",
     "output_type": "stream",
     "text": [
      "other\n"
     ]
    },
    {
     "data": {
      "image/png": "[encoded data removed]",
      "text/plain": [
       "<Figure size 432x288 with 1 Axes>"
      ]
     },
     "metadata": {
      "needs_background": "light"
     },
     "output_type": "display_data"
    },
    {
     "name": "stdout",
     "output_type": "stream",
     "text": [
      "reuse\n"
     ]
    },
    {
     "data": {
      "image/png": "[encoded data removed]",
      "text/plain": [
       "<Figure size 432x288 with 1 Axes>"
      ]
     },
     "metadata": {
      "needs_background": "light"
     },
     "output_type": "display_data"
    },
    {
     "name": "stdout",
     "output_type": "stream",
     "text": [
      "clarity\n"
     ]
    },
    {
     "data": {
      "image/png": "[encoded data removed]",
      "text/plain": [
       "<Figure size 432x288 with 1 Axes>"
      ]
     },
     "metadata": {
      "needs_background": "light"
     },
     "output_type": "display_data"
    },
    {
     "name": "stdout",
     "output_type": "stream",
     "text": [
      "benefit\n"
     ]
    },
    {
     "data": {
      "image/png": "[encoded data removed]",
      "text/plain": [
       "<Figure size 432x288 with 1 Axes>"
      ]
     },
     "metadata": {
      "needs_background": "light"
     },
     "output_type": "display_data"
    },
    {
     "name": "stdout",
     "output_type": "stream",
     "text": [
      "interest\n"
     ]
    },
    {
     "data": {
      "image/png": "[encoded data removed]",
      "text/plain": [
       "<Figure size 432x288 with 1 Axes>"
      ]
     },
     "metadata": {
      "needs_background": "light"
     },
     "output_type": "display_data"
    },
    {
     "name": "stdout",
     "output_type": "stream",
     "text": [
      "learn\n"
     ]
    },
    {
     "data": {
      "image/png": "[encoded data removed]",
      "text/plain": [
       "<Figure size 432x288 with 1 Axes>"
      ]
     },
     "metadata": {
      "needs_background": "light"
     },
     "output_type": "display_data"
    }
   ],
   "source": [
    "for each_col in clean.loc[:,'useful':'learn']:\n",
    "    print(each_col)\n",
    "    plt.hist(clean[each_col])\n",
    "    plt.show()"
   ]
  },
  {
   "cell_type": "code",
   "execution_count": 6,
   "metadata": {},
   "outputs": [],
   "source": [
    "history_scores = defaultdict(dict)"
   ]
  },
  {
   "cell_type": "code",
   "execution_count": 7,
   "metadata": {},
   "outputs": [],
   "source": [
    "class predictor:\n",
    "    def __init__(self, df, Xcolname, kind='l2', solver='lbfgs'):\n",
    "        self.stop_words = stopwords.words(\"english\")\n",
    "        df['num_stop'] = df[Xcolname].apply(self.count_stop)\n",
    "        self.df = df\n",
    "        self.kind=kind\n",
    "        self.solver=solver\n",
    "        self.vectorizer = TfidfVectorizer(ngram_range=(1,2), min_df=2, stop_words={'english'})\n",
    "        X = self.vectorizer.fit_transform(df[Xcolname])\n",
    "        self.X = hstack((X,np.array(df['num_stop'])[:,None]))\n",
    "    \n",
    "    def count_stop(self, entry):\n",
    "        new = entry.lower()\n",
    "        new = nltk.word_tokenize(new)\n",
    "        num_stop = sum([1 for x in new if x in self.stop_words])\n",
    "        return(num_stop)\n",
    "\n",
    "    def set_Y(self, Ycolname):\n",
    "        self.y = self.df[Ycolname]\n",
    "        self.x_train, self.x_test, self.y_train, self.y_test = train_test_split(self.X, self.y, test_size=0.10, random_state=0)\n",
    "        \n",
    "    def train(self, Ycolname):\n",
    "        self.set_Y(Ycolname)\n",
    "        self.model = LogisticRegression(max_iter=1000, penalty=self.kind, solver=self.solver, class_weight='balanced').fit(self.x_train,self.y_train)\n",
    "        print(cross_validate(self.model, self.x_train, self.y_train, return_train_score=True, cv=3))\n",
    "\n",
    "    def test(self):\n",
    "        score = self.model.score(self.x_test, self.y_test)\n",
    "        print(score)\n",
    "        return(score)\n",
    "    \n",
    "    def predict(self, x):\n",
    "        count = self.count_stop(x[0])\n",
    "        x = self.vectorizer.transform(x)\n",
    "        x = hstack((x,np.array([count])[:,None]))\n",
    "        return(self.model.predict_proba(x), \"The pred is = \", self.model.predict(x))"
   ]
  },
  {
   "cell_type": "code",
   "execution_count": 8,
   "metadata": {
    "scrolled": false
   },
   "outputs": [],
   "source": [
    "def variation(kind, solver):\n",
    "    mypredictor = predictor(clean, 'all', kind, solver)\n",
    "    history_scores[f'{mypredictor.solver}'][f'{mypredictor.kind}'] = {}\n",
    "    for each_col in clean.loc[:,'useful':'learn']:\n",
    "        print(each_col)\n",
    "        mypredictor.train(each_col)\n",
    "        history_scores[f'{mypredictor.solver}'][f'{mypredictor.kind}'][f'{each_col}'] = mypredictor.test()"
   ]
  },
  {
   "cell_type": "code",
   "execution_count": 9,
   "metadata": {},
   "outputs": [
    {
     "name": "stdout",
     "output_type": "stream",
     "text": [
      "useful\n",
      "{'fit_time': array([0.00562096, 0.00566912, 0.00567198]), 'score_time': array([0.00073695, 0.00073195, 0.0006988 ]), 'test_score': array([0.23376623, 0.19480519, 0.31578947]), 'train_score': array([0.92810458, 0.94771242, 0.88961039])}\n",
      "0.2692307692307692\n",
      "mins\n",
      "{'fit_time': array([0.00429106, 0.00343299, 0.00349689]), 'score_time': array([0.00065684, 0.00068831, 0.00053   ]), 'test_score': array([0.54545455, 0.54545455, 0.47368421]), 'train_score': array([0.91503268, 0.94771242, 0.8961039 ])}\n",
      "0.5769230769230769\n",
      "other\n",
      "{'fit_time': array([0.00556231, 0.00557089, 0.00536704]), 'score_time': array([0.00064182, 0.00064397, 0.00059485]), 'test_score': array([0.23376623, 0.28571429, 0.26315789]), 'train_score': array([0.92810458, 0.96078431, 0.92857143])}\n",
      "0.3076923076923077\n",
      "reuse\n",
      "{'fit_time': array([0.00556111, 0.00550079, 0.00532913]), 'score_time': array([0.00063992, 0.00065422, 0.00059295]), 'test_score': array([0.20779221, 0.18181818, 0.25      ]), 'train_score': array([0.92810458, 0.95424837, 0.90909091])}\n",
      "0.2692307692307692\n",
      "clarity\n",
      "{'fit_time': array([0.00585699, 0.00558305, 0.00532293]), 'score_time': array([0.00067496, 0.00061798, 0.00060487]), 'test_score': array([0.22077922, 0.19480519, 0.23684211]), 'train_score': array([0.93464052, 0.93464052, 0.94155844])}\n",
      "0.19230769230769232\n",
      "benefit\n",
      "{'fit_time': array([0.00676489, 0.01121783, 0.00714827]), 'score_time': array([0.00131011, 0.0010519 , 0.0008328 ]), 'test_score': array([0.15584416, 0.16883117, 0.22368421]), 'train_score': array([0.94117647, 0.92810458, 0.92857143])}\n",
      "0.15384615384615385\n",
      "interest\n",
      "{'fit_time': array([0.00728297, 0.00712085, 0.008986  ]), 'score_time': array([0.00099611, 0.00102019, 0.00068498]), 'test_score': array([0.22077922, 0.24675325, 0.26315789]), 'train_score': array([0.96732026, 0.95424837, 0.9025974 ])}\n",
      "0.23076923076923078\n",
      "learn\n",
      "{'fit_time': array([0.01649308, 0.01411605, 0.01391172]), 'score_time': array([0.00061536, 0.00074482, 0.00076318]), 'test_score': array([0.23376623, 0.23376623, 0.25      ]), 'train_score': array([0.94771242, 0.96732026, 0.95454545])}\n",
      "0.11538461538461539\n"
     ]
    }
   ],
   "source": [
    "# variation('l2', 'liblinear')"
   ]
  },
  {
   "cell_type": "code",
   "execution_count": 10,
   "metadata": {},
   "outputs": [
    {
     "name": "stdout",
     "output_type": "stream",
     "text": [
      "useful\n",
      "{'fit_time': array([0.00560594, 0.00583386, 0.00639987]), 'score_time': array([0.00065398, 0.00066304, 0.00079203]), 'test_score': array([0.20779221, 0.12987013, 0.23684211]), 'train_score': array([0.32026144, 0.2745098 , 0.27272727])}\n",
      "0.2692307692307692\n",
      "mins\n",
      "{'fit_time': array([0.00391603, 0.0040319 , 0.00381804]), 'score_time': array([0.00056505, 0.0005703 , 0.00061965]), 'test_score': array([0.54545455, 0.54545455, 0.53947368]), 'train_score': array([0.5751634 , 0.58169935, 0.55194805])}\n",
      "0.6153846153846154\n",
      "other\n",
      "{'fit_time': array([0.00559902, 0.00594473, 0.00534081]), 'score_time': array([0.00063396, 0.00066209, 0.00062013]), 'test_score': array([0.23376623, 0.22077922, 0.17105263]), 'train_score': array([0.32026144, 0.30718954, 0.27272727])}\n",
      "0.23076923076923078\n",
      "reuse\n",
      "{'fit_time': array([0.00572586, 0.00567079, 0.00572586]), 'score_time': array([0.00062013, 0.00065804, 0.00065899]), 'test_score': array([0.20779221, 0.15584416, 0.21052632]), 'train_score': array([0.24836601, 0.26143791, 0.27922078])}\n",
      "0.23076923076923078\n",
      "clarity\n",
      "{'fit_time': array([0.00540805, 0.00599813, 0.00583601]), 'score_time': array([0.00060701, 0.00064802, 0.00063682]), 'test_score': array([0.15584416, 0.14285714, 0.18421053]), 'train_score': array([0.23529412, 0.24836601, 0.24675325])}\n",
      "0.3076923076923077\n",
      "benefit\n",
      "{'fit_time': array([0.00611186, 0.00674915, 0.0058682 ]), 'score_time': array([0.00066805, 0.00062513, 0.00112796]), 'test_score': array([0.11688312, 0.1038961 , 0.19736842]), 'train_score': array([0.26797386, 0.26797386, 0.24025974])}\n",
      "0.19230769230769232\n",
      "interest\n",
      "{'fit_time': array([0.01062202, 0.00736737, 0.007061  ]), 'score_time': array([0.00101185, 0.00064182, 0.00080514]), 'test_score': array([0.22077922, 0.19480519, 0.25      ]), 'train_score': array([0.31372549, 0.30065359, 0.35064935])}\n",
      "0.23076923076923078\n",
      "learn\n",
      "{'fit_time': array([0.00538111, 0.00605488, 0.0050981 ]), 'score_time': array([0.00065589, 0.00075889, 0.00058007]), 'test_score': array([0.18181818, 0.12987013, 0.22368421]), 'train_score': array([0.29411765, 0.22875817, 0.24025974])}\n",
      "0.2692307692307692\n"
     ]
    }
   ],
   "source": [
    "# variation('l1', 'liblinear')"
   ]
  },
  {
   "cell_type": "code",
   "execution_count": 11,
   "metadata": {},
   "outputs": [
    {
     "name": "stdout",
     "output_type": "stream",
     "text": [
      "useful\n",
      "{'fit_time': array([0.50132298, 0.44543934, 0.43080187]), 'score_time': array([0.00483894, 0.00108171, 0.00092697]), 'test_score': array([0.20779221, 0.16883117, 0.30263158]), 'train_score': array([0.90849673, 0.92810458, 0.8961039 ])}\n",
      "0.23076923076923078\n",
      "mins\n",
      "{'fit_time': array([0.26561403, 0.33484793, 0.29441404]), 'score_time': array([0.00626016, 0.00107598, 0.00061417]), 'test_score': array([0.44155844, 0.51948052, 0.31578947]), 'train_score': array([0.94117647, 0.96078431, 0.94155844])}\n",
      "0.34615384615384615\n",
      "other\n",
      "{'fit_time': array([0.47692609, 0.5583179 , 0.30522513]), 'score_time': array([0.00067306, 0.00215101, 0.00063491]), 'test_score': array([0.23376623, 0.25974026, 0.23684211]), 'train_score': array([0.94117647, 0.95424837, 0.91558442])}\n",
      "0.38461538461538464\n",
      "reuse\n",
      "{'fit_time': array([0.19777799, 0.63495612, 0.20408702]), 'score_time': array([0.00081205, 0.00269604, 0.00069404]), 'test_score': array([0.22077922, 0.15584416, 0.26315789]), 'train_score': array([0.92156863, 0.95424837, 0.90909091])}\n",
      "0.11538461538461539\n",
      "clarity\n",
      "{'fit_time': array([0.25105095, 0.28375506, 0.66008091]), 'score_time': array([0.00064516, 0.00083208, 0.00102329]), 'test_score': array([0.16883117, 0.20779221, 0.21052632]), 'train_score': array([0.89542484, 0.91503268, 0.88961039])}\n",
      "0.15384615384615385\n",
      "benefit\n",
      "{'fit_time': array([0.34411907, 0.30088377, 0.65723705]), 'score_time': array([0.00061297, 0.00104713, 0.00060391]), 'test_score': array([0.15584416, 0.15584416, 0.22368421]), 'train_score': array([0.93464052, 0.88888889, 0.92207792])}\n",
      "0.07692307692307693\n",
      "interest\n",
      "{'fit_time': array([0.21907997, 0.17999601, 0.23019385]), 'score_time': array([0.00060725, 0.00080109, 0.00059628]), 'test_score': array([0.19480519, 0.19480519, 0.21052632]), 'train_score': array([0.92810458, 0.90196078, 0.92207792])}\n",
      "0.19230769230769232\n",
      "learn\n",
      "{'fit_time': array([0.21233606, 0.22848392, 0.20135498]), 'score_time': array([0.000669  , 0.000633  , 0.00061703]), 'test_score': array([0.19480519, 0.22077922, 0.23684211]), 'train_score': array([0.95424837, 0.94117647, 0.94805195])}\n",
      "0.11538461538461539\n"
     ]
    }
   ],
   "source": [
    "# variation('l2', 'lbfgs')"
   ]
  },
  {
   "cell_type": "code",
   "execution_count": 12,
   "metadata": {},
   "outputs": [
    {
     "name": "stdout",
     "output_type": "stream",
     "text": [
      "useful\n",
      "{'fit_time': array([0.15278387, 0.07142305, 0.07770967]), 'score_time': array([0.00123   , 0.00258279, 0.00056028]), 'test_score': array([0.19480519, 0.16883117, 0.30263158]), 'train_score': array([0.90849673, 0.92810458, 0.8961039 ])}\n",
      "0.23076923076923078\n",
      "mins\n",
      "{'fit_time': array([0.03699207, 0.05515122, 0.03426719]), 'score_time': array([0.00062418, 0.00059605, 0.0005331 ]), 'test_score': array([0.44155844, 0.51948052, 0.31578947]), 'train_score': array([0.94117647, 0.96078431, 0.94155844])}\n",
      "0.34615384615384615\n",
      "other\n",
      "{'fit_time': array([0.12592506, 0.08518314, 0.08756995]), 'score_time': array([0.0006249 , 0.00055385, 0.00062895]), 'test_score': array([0.23376623, 0.27272727, 0.23684211]), 'train_score': array([0.94117647, 0.95424837, 0.91558442])}\n",
      "0.38461538461538464\n",
      "reuse\n",
      "{'fit_time': array([0.05378485, 0.05995417, 0.10056186]), 'score_time': array([0.00071597, 0.00115299, 0.00731111]), 'test_score': array([0.22077922, 0.15584416, 0.26315789]), 'train_score': array([0.92156863, 0.95424837, 0.90909091])}\n",
      "0.11538461538461539\n",
      "clarity\n",
      "{'fit_time': array([0.06501198, 0.11525702, 0.06498504]), 'score_time': array([0.00059295, 0.00094223, 0.00067782]), 'test_score': array([0.16883117, 0.20779221, 0.21052632]), 'train_score': array([0.90196078, 0.91503268, 0.88961039])}\n",
      "0.15384615384615385\n",
      "benefit\n",
      "{'fit_time': array([0.05891109, 0.04894018, 0.06928682]), 'score_time': array([0.00055218, 0.00064898, 0.00061107]), 'test_score': array([0.15584416, 0.15584416, 0.22368421]), 'train_score': array([0.93464052, 0.88888889, 0.92207792])}\n",
      "0.07692307692307693\n",
      "interest\n",
      "{'fit_time': array([0.05067492, 0.04892397, 0.07241297]), 'score_time': array([0.00055718, 0.00055981, 0.00058603]), 'test_score': array([0.19480519, 0.19480519, 0.21052632]), 'train_score': array([0.92810458, 0.90196078, 0.92207792])}\n",
      "0.19230769230769232\n",
      "learn\n",
      "{'fit_time': array([0.04519606, 0.04996276, 0.0621829 ]), 'score_time': array([0.00055504, 0.00059009, 0.00102401]), 'test_score': array([0.19480519, 0.22077922, 0.23684211]), 'train_score': array([0.95424837, 0.94117647, 0.94805195])}\n",
      "0.11538461538461539\n"
     ]
    }
   ],
   "source": [
    "# variation('l2', 'newton-cg')"
   ]
  },
  {
   "cell_type": "code",
   "execution_count": 13,
   "metadata": {},
   "outputs": [
    {
     "data": {
      "text/plain": [
       "defaultdict(dict,\n",
       "            {'liblinear': {'l2': {'useful': 0.2692307692307692,\n",
       "               'mins': 0.5769230769230769,\n",
       "               'other': 0.3076923076923077,\n",
       "               'reuse': 0.2692307692307692,\n",
       "               'clarity': 0.19230769230769232,\n",
       "               'benefit': 0.15384615384615385,\n",
       "               'interest': 0.23076923076923078,\n",
       "               'learn': 0.11538461538461539},\n",
       "              'l1': {'useful': 0.2692307692307692,\n",
       "               'mins': 0.6153846153846154,\n",
       "               'other': 0.23076923076923078,\n",
       "               'reuse': 0.23076923076923078,\n",
       "               'clarity': 0.3076923076923077,\n",
       "               'benefit': 0.19230769230769232,\n",
       "               'interest': 0.23076923076923078,\n",
       "               'learn': 0.2692307692307692}},\n",
       "             'lbfgs': {'l2': {'useful': 0.23076923076923078,\n",
       "               'mins': 0.34615384615384615,\n",
       "               'other': 0.38461538461538464,\n",
       "               'reuse': 0.11538461538461539,\n",
       "               'clarity': 0.15384615384615385,\n",
       "               'benefit': 0.07692307692307693,\n",
       "               'interest': 0.19230769230769232,\n",
       "               'learn': 0.11538461538461539}},\n",
       "             'newton-cg': {'l2': {'useful': 0.23076923076923078,\n",
       "               'mins': 0.34615384615384615,\n",
       "               'other': 0.38461538461538464,\n",
       "               'reuse': 0.11538461538461539,\n",
       "               'clarity': 0.15384615384615385,\n",
       "               'benefit': 0.07692307692307693,\n",
       "               'interest': 0.19230769230769232,\n",
       "               'learn': 0.11538461538461539}}})"
      ]
     },
     "execution_count": 13,
     "metadata": {},
     "output_type": "execute_result"
    }
   ],
   "source": [
    "history_scores"
   ]
  },
  {
   "cell_type": "code",
   "execution_count": 14,
   "metadata": {},
   "outputs": [
    {
     "data": {
      "text/html": [
       "<div>\n",
       "<style scoped>\n",
       "    .dataframe tbody tr th:only-of-type {\n",
       "        vertical-align: middle;\n",
       "    }\n",
       "\n",
       "    .dataframe tbody tr th {\n",
       "        vertical-align: top;\n",
       "    }\n",
       "\n",
       "    .dataframe thead th {\n",
       "        text-align: right;\n",
       "    }\n",
       "</style>\n",
       "<table border=\"1\" class=\"dataframe\">\n",
       "  <thead>\n",
       "    <tr style=\"text-align: right;\">\n",
       "      <th></th>\n",
       "      <th>id</th>\n",
       "      <th>d1</th>\n",
       "      <th>d2</th>\n",
       "      <th>d3</th>\n",
       "      <th>d4</th>\n",
       "      <th>d5</th>\n",
       "      <th>d6</th>\n",
       "      <th>s1</th>\n",
       "      <th>s2</th>\n",
       "      <th>s3</th>\n",
       "      <th>s4</th>\n",
       "      <th>s5</th>\n",
       "      <th>s6</th>\n",
       "    </tr>\n",
       "  </thead>\n",
       "  <tbody>\n",
       "    <tr>\n",
       "      <th>0</th>\n",
       "      <td>558af269fdf99b7dfef4d7bd</td>\n",
       "      <td>2.0</td>\n",
       "      <td>2.0</td>\n",
       "      <td>5.0</td>\n",
       "      <td>2.0</td>\n",
       "      <td>2.0</td>\n",
       "      <td>5.0</td>\n",
       "      <td>2.0</td>\n",
       "      <td>5.0</td>\n",
       "      <td>5.0</td>\n",
       "      <td>2.0</td>\n",
       "      <td>5.0</td>\n",
       "      <td>5.0</td>\n",
       "    </tr>\n",
       "    <tr>\n",
       "      <th>1</th>\n",
       "      <td>55b1add5fdf99b6731f04c5a</td>\n",
       "      <td>5.0</td>\n",
       "      <td>5.0</td>\n",
       "      <td>5.0</td>\n",
       "      <td>5.0</td>\n",
       "      <td>5.0</td>\n",
       "      <td>5.0</td>\n",
       "      <td>4.0</td>\n",
       "      <td>3.0</td>\n",
       "      <td>5.0</td>\n",
       "      <td>4.0</td>\n",
       "      <td>3.0</td>\n",
       "      <td>5.0</td>\n",
       "    </tr>\n",
       "    <tr>\n",
       "      <th>2</th>\n",
       "      <td>5626a6cfddff3c0011bcd3d8</td>\n",
       "      <td>2.0</td>\n",
       "      <td>5.0</td>\n",
       "      <td>5.0</td>\n",
       "      <td>2.0</td>\n",
       "      <td>5.0</td>\n",
       "      <td>5.0</td>\n",
       "      <td>3.0</td>\n",
       "      <td>5.0</td>\n",
       "      <td>4.0</td>\n",
       "      <td>3.0</td>\n",
       "      <td>5.0</td>\n",
       "      <td>4.0</td>\n",
       "    </tr>\n",
       "    <tr>\n",
       "      <th>3</th>\n",
       "      <td>56a5da6181a8ca000d3e7f40</td>\n",
       "      <td>2.0</td>\n",
       "      <td>5.0</td>\n",
       "      <td>5.0</td>\n",
       "      <td>2.0</td>\n",
       "      <td>5.0</td>\n",
       "      <td>5.0</td>\n",
       "      <td>3.0</td>\n",
       "      <td>3.0</td>\n",
       "      <td>4.0</td>\n",
       "      <td>3.0</td>\n",
       "      <td>3.0</td>\n",
       "      <td>4.0</td>\n",
       "    </tr>\n",
       "    <tr>\n",
       "      <th>4</th>\n",
       "      <td>56df2ea2452e1300056bc7df</td>\n",
       "      <td>2.0</td>\n",
       "      <td>1.0</td>\n",
       "      <td>1.0</td>\n",
       "      <td>2.0</td>\n",
       "      <td>1.0</td>\n",
       "      <td>1.0</td>\n",
       "      <td>2.0</td>\n",
       "      <td>1.0</td>\n",
       "      <td>2.0</td>\n",
       "      <td>2.0</td>\n",
       "      <td>1.0</td>\n",
       "      <td>2.0</td>\n",
       "    </tr>\n",
       "  </tbody>\n",
       "</table>\n",
       "</div>"
      ],
      "text/plain": [
       "                         id   d1   d2   d3   d4   d5   d6   s1   s2   s3   s4  \\\n",
       "0  558af269fdf99b7dfef4d7bd  2.0  2.0  5.0  2.0  2.0  5.0  2.0  5.0  5.0  2.0   \n",
       "1  55b1add5fdf99b6731f04c5a  5.0  5.0  5.0  5.0  5.0  5.0  4.0  3.0  5.0  4.0   \n",
       "2  5626a6cfddff3c0011bcd3d8  2.0  5.0  5.0  2.0  5.0  5.0  3.0  5.0  4.0  3.0   \n",
       "3  56a5da6181a8ca000d3e7f40  2.0  5.0  5.0  2.0  5.0  5.0  3.0  3.0  4.0  3.0   \n",
       "4  56df2ea2452e1300056bc7df  2.0  1.0  1.0  2.0  1.0  1.0  2.0  1.0  2.0  2.0   \n",
       "\n",
       "    s5   s6  \n",
       "0  5.0  5.0  \n",
       "1  3.0  5.0  \n",
       "2  5.0  4.0  \n",
       "3  3.0  4.0  \n",
       "4  1.0  2.0  "
      ]
     },
     "execution_count": 14,
     "metadata": {},
     "output_type": "execute_result"
    }
   ],
   "source": [
    "coders = pd.read_csv('/Users/aditya/Google Drive (as11919@nyu.edu)/Syncing with Mac/NYU Research Analysis/Motivation Lab/MCII coding replication - coding file(v. analysis).csv')\n",
    "colname = ['id', 'd1', 'd2', 'd3', 'd4', 'd5', 'd6', 's1', 's2', 's3', 's4', 's5', 's6']\n",
    "coders = coders.iloc[:256,:13]\n",
    "coders.columns= colname\n",
    "coders.fillna(1, inplace=True)\n",
    "coders.head()"
   ]
  },
  {
   "cell_type": "code",
   "execution_count": 15,
   "metadata": {
    "scrolled": true
   },
   "outputs": [],
   "source": [
    "coders['d'] = round(coders.loc[:,'d1':'d6'].mean(axis=1))\n",
    "coders['s'] = round(coders.loc[:,'s1':'s6'].mean(axis=1))\n",
    "# coders = coders[['id','d','s']]"
   ]
  },
  {
   "cell_type": "code",
   "execution_count": 16,
   "metadata": {},
   "outputs": [],
   "source": [
    "clean = pd.concat([clean, coders], join='outer', axis=1)"
   ]
  },
  {
   "cell_type": "code",
   "execution_count": 18,
   "metadata": {},
   "outputs": [
    {
     "name": "stdout",
     "output_type": "stream",
     "text": [
      "{'fit_time': array([0.33329797, 0.51799893, 0.27703595]), 'score_time': array([0.00057507, 0.00056791, 0.00064588]), 'test_score': array([0.63636364, 0.57142857, 0.53947368]), 'train_score': array([0.77777778, 0.79738562, 0.79220779])}\n",
      "0.5769230769230769\n"
     ]
    },
    {
     "data": {
      "text/plain": [
       "0.5769230769230769"
      ]
     },
     "execution_count": 18,
     "metadata": {},
     "output_type": "execute_result"
    }
   ],
   "source": [
    "mypredictor_coding = predictor(clean, 'all')\n",
    "mypredictor_coding.train('s')\n",
    "mypredictor_coding.test()"
   ]
  },
  {
   "cell_type": "code",
   "execution_count": 19,
   "metadata": {},
   "outputs": [
    {
     "data": {
      "text/plain": [
       "(array([[8.04174837e-20, 3.12112536e-06, 8.29003558e-03, 7.20391459e-02,\n",
       "         9.19667697e-01]]), 'The pred is = ', array([5.]))"
      ]
     },
     "execution_count": 19,
     "metadata": {},
     "output_type": "execute_result"
    }
   ],
   "source": [
    "mypredictor_coding.predict([\"Get extra hours at work so I can be able to pay for things my family needs I would be able to take care of my family and what they need or want If I was able to fulfill this goal, I would have extra hours to able to bring more money home to my family and take care of the little things that we need and want. We could be able to go on vacation and do whatever extra stuff that we want.\"])"
   ]
  },
  {
   "cell_type": "code",
   "execution_count": 20,
   "metadata": {},
   "outputs": [
    {
     "data": {
      "text/html": [
       "<div>\n",
       "<style scoped>\n",
       "    .dataframe tbody tr th:only-of-type {\n",
       "        vertical-align: middle;\n",
       "    }\n",
       "\n",
       "    .dataframe tbody tr th {\n",
       "        vertical-align: top;\n",
       "    }\n",
       "\n",
       "    .dataframe thead th {\n",
       "        text-align: right;\n",
       "    }\n",
       "</style>\n",
       "<table border=\"1\" class=\"dataframe\">\n",
       "  <thead>\n",
       "    <tr style=\"text-align: right;\">\n",
       "      <th></th>\n",
       "      <th>coef</th>\n",
       "    </tr>\n",
       "  </thead>\n",
       "  <tbody>\n",
       "    <tr>\n",
       "      <th>nice</th>\n",
       "      <td>1.032567</td>\n",
       "    </tr>\n",
       "    <tr>\n",
       "      <th>best outcome</th>\n",
       "      <td>0.895995</td>\n",
       "    </tr>\n",
       "    <tr>\n",
       "      <th>outcome</th>\n",
       "      <td>0.840696</td>\n",
       "    </tr>\n",
       "    <tr>\n",
       "      <th>best</th>\n",
       "      <td>0.776535</td>\n",
       "    </tr>\n",
       "    <tr>\n",
       "      <th>very</th>\n",
       "      <td>0.727568</td>\n",
       "    </tr>\n",
       "    <tr>\n",
       "      <th>...</th>\n",
       "      <td>...</td>\n",
       "    </tr>\n",
       "    <tr>\n",
       "      <th>satisfied</th>\n",
       "      <td>-0.263350</td>\n",
       "    </tr>\n",
       "    <tr>\n",
       "      <th>excited</th>\n",
       "      <td>-0.269013</td>\n",
       "    </tr>\n",
       "    <tr>\n",
       "      <th>very excited</th>\n",
       "      <td>-0.299798</td>\n",
       "    </tr>\n",
       "    <tr>\n",
       "      <th>clean</th>\n",
       "      <td>-0.347384</td>\n",
       "    </tr>\n",
       "    <tr>\n",
       "      <th>happy</th>\n",
       "      <td>-0.519249</td>\n",
       "    </tr>\n",
       "  </tbody>\n",
       "</table>\n",
       "<p>997 rows × 1 columns</p>\n",
       "</div>"
      ],
      "text/plain": [
       "                  coef\n",
       "nice          1.032567\n",
       "best outcome  0.895995\n",
       "outcome       0.840696\n",
       "best          0.776535\n",
       "very          0.727568\n",
       "...                ...\n",
       "satisfied    -0.263350\n",
       "excited      -0.269013\n",
       "very excited -0.299798\n",
       "clean        -0.347384\n",
       "happy        -0.519249\n",
       "\n",
       "[997 rows x 1 columns]"
      ]
     },
     "execution_count": 20,
     "metadata": {},
     "output_type": "execute_result"
    }
   ],
   "source": [
    "pd.DataFrame(mypredictor_coding.model.coef_[0][:-1], \n",
    "             mypredictor_coding.vectorizer.get_feature_names(), \n",
    "             columns=['coef'])\\\n",
    "            .sort_values(by='coef', ascending=False)"
   ]
  },
  {
   "cell_type": "code",
   "execution_count": 21,
   "metadata": {},
   "outputs": [],
   "source": [
    "#effect of imbalance? \n",
    "#interpretting coeff? \n",
    "#useful exercise? What can be done? \n",
    "#how better approximate coders? "
   ]
  },
  {
   "cell_type": "code",
   "execution_count": 44,
   "metadata": {},
   "outputs": [],
   "source": [
    "coder1_specific_d = clean[['all','d1','d2','d3']][:128]\n",
    "coder1_specific_d['d'] = round(coder1_specific_d[coder1_specific_d.columns[-3:]].mean(axis=1))\n",
    "coder2_specific_d = clean[['all','d1','d2','d3']][128:]\n",
    "coder2_specific_d['d'] = round(coder2_specific_d[coder2_specific_d.columns[-3:]].mean(axis=1))\n",
    "coder3_specific_d = clean[['all','d4','d5','d6']][:128]\n",
    "coder3_specific_d['d'] = round(coder3_specific_d[coder3_specific_d.columns[-3:]].mean(axis=1))\n",
    "coder4_specific_d = clean[['all','d4','d5','d6']][128:]\n",
    "coder4_specific_d['d'] = round(coder4_specific_d[coder4_specific_d.columns[-3:]].mean(axis=1))"
   ]
  },
  {
   "cell_type": "code",
   "execution_count": 46,
   "metadata": {},
   "outputs": [
    {
     "name": "stdout",
     "output_type": "stream",
     "text": [
      "{'fit_time': array([0.19108129, 0.29073691, 0.30254698]), 'score_time': array([0.00072765, 0.00057507, 0.00055099]), 'test_score': array([0.48717949, 0.5       , 0.5       ]), 'train_score': array([0.85526316, 0.81818182, 0.93506494])}\n",
      "0.23076923076923078\n"
     ]
    },
    {
     "data": {
      "text/plain": [
       "0.23076923076923078"
      ]
     },
     "execution_count": 46,
     "metadata": {},
     "output_type": "execute_result"
    }
   ],
   "source": [
    "coder1_specific_d_predictor = predictor(coder1_specific_d, 'all')\n",
    "coder1_specific_d_predictor.train('d')\n",
    "coder1_specific_d_predictor.test()"
   ]
  },
  {
   "cell_type": "code",
   "execution_count": null,
   "metadata": {},
   "outputs": [],
   "source": []
  }
 ],
 "metadata": {
  "kernelspec": {
   "display_name": "Python 3",
   "language": "python",
   "name": "python3"
  },
  "language_info": {
   "codemirror_mode": {
    "name": "ipython",
    "version": 3
   },
   "file_extension": ".py",
   "mimetype": "text/x-python",
   "name": "python",
   "nbconvert_exporter": "python",
   "pygments_lexer": "ipython3",
   "version": "3.7.4"
  }
 },
 "nbformat": 4,
 "nbformat_minor": 2
}

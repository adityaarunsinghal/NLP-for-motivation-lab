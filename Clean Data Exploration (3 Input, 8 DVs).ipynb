{
 "cells": [
  {
   "cell_type": "code",
   "execution_count": 1,
   "metadata": {},
   "outputs": [],
   "source": [
    "from collections import defaultdict, Counter"
   ]
  },
  {
   "cell_type": "code",
   "execution_count": 2,
   "metadata": {},
   "outputs": [],
   "source": [
    "import pandas as pd\n",
    "import nltk\n",
    "# import sklearn as sk\n",
    "import gensim.models\n",
    "# from nltk.corpus import stopwords\n",
    "# import string\n",
    "import matplotlib.pyplot as plt\n",
    "# import seaborn as sns\n",
    "import numpy as np\n",
    "# from ast import literal_eval\n",
    "# from predictor import *\n",
    "import predictor\n",
    "# sns.set()\n",
    "\n",
    "clean = pd.read_csv(\"/Users/aditya/Documents/GitHub/NLP-for-motivation-lab/CleanData(v. analysis).csv\")\n",
    "\n",
    "colname = ['id', 'condition', 'wish', 'outcome', 'outcome2', 'useful', 'mins', 'other', 'reuse', 'clarity', 'benefit', 'interest', 'learn']\n",
    "clean = clean.iloc[:256,:13]\n",
    "clean.columns= colname\n",
    "clean.fillna(\"\", inplace=True)"
   ]
  },
  {
   "cell_type": "code",
   "execution_count": 3,
   "metadata": {},
   "outputs": [
    {
     "output_type": "execute_result",
     "data": {
      "text/plain": [
       "                         id condition  useful  mins  other  reuse  clarity  \\\n",
       "0  558af269fdf99b7dfef4d7bd        MC     7.0   1.0    7.0    7.0      7.0   \n",
       "1  55b1add5fdf99b6731f04c5a        MC     1.0   1.0    2.0    1.0      3.0   \n",
       "2  5626a6cfddff3c0011bcd3d8         I     3.0   1.0    2.0    2.0      2.0   \n",
       "3  56a5da6181a8ca000d3e7f40        MC     4.0   1.0    4.0    3.0      2.0   \n",
       "4  56df2ea2452e1300056bc7df        MC     3.0   1.0    4.0    4.0      3.0   \n",
       "\n",
       "   benefit  interest  learn  ...   d5   d6   s1   s2   s3   s4   s5   s6    d  \\\n",
       "0      7.0       7.0    7.0  ...  2.0  5.0  2.0  5.0  5.0  2.0  5.0  5.0  3.0   \n",
       "1      1.0       2.0    2.0  ...  5.0  5.0  4.0  3.0  5.0  4.0  3.0  5.0  5.0   \n",
       "2      2.0       2.0    2.0  ...  5.0  5.0  3.0  5.0  4.0  3.0  5.0  4.0  4.0   \n",
       "3      3.0       5.0    4.0  ...  5.0  5.0  3.0  3.0  4.0  3.0  3.0  4.0  4.0   \n",
       "4      3.0       4.0    3.0  ...  1.0  1.0  2.0  1.0  2.0  2.0  1.0  2.0  1.0   \n",
       "\n",
       "     s  \n",
       "0  4.0  \n",
       "1  4.0  \n",
       "2  4.0  \n",
       "3  3.0  \n",
       "4  2.0  \n",
       "\n",
       "[5 rows x 26 columns]"
      ],
      "text/html": "<div>\n<style scoped>\n    .dataframe tbody tr th:only-of-type {\n        vertical-align: middle;\n    }\n\n    .dataframe tbody tr th {\n        vertical-align: top;\n    }\n\n    .dataframe thead th {\n        text-align: right;\n    }\n</style>\n<table border=\"1\" class=\"dataframe\">\n  <thead>\n    <tr style=\"text-align: right;\">\n      <th></th>\n      <th>id</th>\n      <th>condition</th>\n      <th>useful</th>\n      <th>mins</th>\n      <th>other</th>\n      <th>reuse</th>\n      <th>clarity</th>\n      <th>benefit</th>\n      <th>interest</th>\n      <th>learn</th>\n      <th>...</th>\n      <th>d5</th>\n      <th>d6</th>\n      <th>s1</th>\n      <th>s2</th>\n      <th>s3</th>\n      <th>s4</th>\n      <th>s5</th>\n      <th>s6</th>\n      <th>d</th>\n      <th>s</th>\n    </tr>\n  </thead>\n  <tbody>\n    <tr>\n      <th>0</th>\n      <td>558af269fdf99b7dfef4d7bd</td>\n      <td>MC</td>\n      <td>7.0</td>\n      <td>1.0</td>\n      <td>7.0</td>\n      <td>7.0</td>\n      <td>7.0</td>\n      <td>7.0</td>\n      <td>7.0</td>\n      <td>7.0</td>\n      <td>...</td>\n      <td>2.0</td>\n      <td>5.0</td>\n      <td>2.0</td>\n      <td>5.0</td>\n      <td>5.0</td>\n      <td>2.0</td>\n      <td>5.0</td>\n      <td>5.0</td>\n      <td>3.0</td>\n      <td>4.0</td>\n    </tr>\n    <tr>\n      <th>1</th>\n      <td>55b1add5fdf99b6731f04c5a</td>\n      <td>MC</td>\n      <td>1.0</td>\n      <td>1.0</td>\n      <td>2.0</td>\n      <td>1.0</td>\n      <td>3.0</td>\n      <td>1.0</td>\n      <td>2.0</td>\n      <td>2.0</td>\n      <td>...</td>\n      <td>5.0</td>\n      <td>5.0</td>\n      <td>4.0</td>\n      <td>3.0</td>\n      <td>5.0</td>\n      <td>4.0</td>\n      <td>3.0</td>\n      <td>5.0</td>\n      <td>5.0</td>\n      <td>4.0</td>\n    </tr>\n    <tr>\n      <th>2</th>\n      <td>5626a6cfddff3c0011bcd3d8</td>\n      <td>I</td>\n      <td>3.0</td>\n      <td>1.0</td>\n      <td>2.0</td>\n      <td>2.0</td>\n      <td>2.0</td>\n      <td>2.0</td>\n      <td>2.0</td>\n      <td>2.0</td>\n      <td>...</td>\n      <td>5.0</td>\n      <td>5.0</td>\n      <td>3.0</td>\n      <td>5.0</td>\n      <td>4.0</td>\n      <td>3.0</td>\n      <td>5.0</td>\n      <td>4.0</td>\n      <td>4.0</td>\n      <td>4.0</td>\n    </tr>\n    <tr>\n      <th>3</th>\n      <td>56a5da6181a8ca000d3e7f40</td>\n      <td>MC</td>\n      <td>4.0</td>\n      <td>1.0</td>\n      <td>4.0</td>\n      <td>3.0</td>\n      <td>2.0</td>\n      <td>3.0</td>\n      <td>5.0</td>\n      <td>4.0</td>\n      <td>...</td>\n      <td>5.0</td>\n      <td>5.0</td>\n      <td>3.0</td>\n      <td>3.0</td>\n      <td>4.0</td>\n      <td>3.0</td>\n      <td>3.0</td>\n      <td>4.0</td>\n      <td>4.0</td>\n      <td>3.0</td>\n    </tr>\n    <tr>\n      <th>4</th>\n      <td>56df2ea2452e1300056bc7df</td>\n      <td>MC</td>\n      <td>3.0</td>\n      <td>1.0</td>\n      <td>4.0</td>\n      <td>4.0</td>\n      <td>3.0</td>\n      <td>3.0</td>\n      <td>4.0</td>\n      <td>3.0</td>\n      <td>...</td>\n      <td>1.0</td>\n      <td>1.0</td>\n      <td>2.0</td>\n      <td>1.0</td>\n      <td>2.0</td>\n      <td>2.0</td>\n      <td>1.0</td>\n      <td>2.0</td>\n      <td>1.0</td>\n      <td>2.0</td>\n    </tr>\n  </tbody>\n</table>\n<p>5 rows × 26 columns</p>\n</div>"
     },
     "metadata": {},
     "execution_count": 3
    }
   ],
   "source": [
    "clean['all'] = clean.wish + \" \" + clean.outcome + \" \" + clean.outcome2\n",
    "clean.drop(columns = ['wish', 'outcome', 'outcome2'], inplace=True)\n",
    "\n",
    "# clean['all'] = clean['all'].apply(remove_stop)\n",
    "# model = gensim.models.Word2Vec(clean['all'], min_count = 2)\n",
    "# model.most_similar('happy')\n",
    "\n",
    "# clean = pd.get_dummies(clean, columns = ['useful','mins','other','reuse', 'clarity', 'benefit', 'interest', 'learn'])\n",
    "\n",
    "coders = pd.read_csv('/Users/aditya/Documents/GitHub/NLP-for-motivation-lab/MCII coding replication - coding file(v. analysis).csv')\n",
    "colname = ['id', 'd1', 'd2', 'd3', 'd4', 'd5', 'd6', 's1', 's2', 's3', 's4', 's5', 's6']\n",
    "coders = coders.iloc[:256,:13]\n",
    "coders.columns= colname\n",
    "coders.fillna(1, inplace=True)\n",
    "coders['d'] = round(coders.loc[:,'d1':'d6'].mean(axis=1))\n",
    "coders['s'] = round(coders.loc[:,'s1':'s6'].mean(axis=1))\n",
    "clean = pd.concat([clean, coders], join='outer', axis=1)\n",
    "clean.head()\n",
    "clean.head()"
   ]
  },
  {
   "cell_type": "code",
   "execution_count": 4,
   "metadata": {},
   "outputs": [],
   "source": [
    "# for each_col in clean.loc[:,'useful':'learn']:\n",
    "#     print(each_col)\n",
    "#     plt.hist(clean[each_col])\n",
    "#     print(clean[each_col].value_counts())\n",
    "#     plt.show()"
   ]
  },
  {
   "cell_type": "code",
   "execution_count": 5,
   "metadata": {},
   "outputs": [],
   "source": [
    "history_scores = defaultdict(dict)"
   ]
  },
  {
   "cell_type": "code",
   "execution_count": 6,
   "metadata": {
    "scrolled": false
   },
   "outputs": [],
   "source": [
    "def variation(kind, solver):\n",
    "    history_scores[f'{solver}'][f'{kind}'] = {}\n",
    "    for each_col in clean.loc[:,'useful':'learn']:\n",
    "        mypredictor = predictor.predictor(clean, 'all', kind, solver)\n",
    "        print(\"\\n\" + each_col)\n",
    "        mypredictor.train_on(each_col)\n",
    "        history_scores[f'{mypredictor.solver}'][f'{mypredictor.kind}'][f'{each_col}'] = \\\n",
    "        round(mypredictor.test(), 3)"
   ]
  },
  {
   "cell_type": "code",
   "execution_count": 7,
   "metadata": {},
   "outputs": [
    {
     "output_type": "stream",
     "name": "stdout",
     "text": [
      "\n",
      "useful\n",
      "{'fit_time': array([0.02604795, 0.01860094, 0.03776217]), 'score_time': array([0.00280786, 0.00077009, 0.0142107 ]), 'test_score': array([0.6       , 0.66666667, 0.64925373]), 'train_score': array([0.94795539, 0.95539033, 0.95925926])}\n",
      "0.7361111111111112\n",
      "\n",
      "mins\n",
      "{'fit_time': array([0.00833416, 0.01048303, 0.01020908]), 'score_time': array([0.00076604, 0.00061488, 0.00077415]), 'test_score': array([0.7962963 , 0.85185185, 0.83333333]), 'train_score': array([0.96604938, 0.95987654, 0.97530864])}\n",
      "0.8488372093023255\n",
      "\n",
      "other\n",
      "{'fit_time': array([0.02578306, 0.01529717, 0.01489997]), 'score_time': array([0.00152898, 0.00071073, 0.00095105]), 'test_score': array([0.56198347, 0.62809917, 0.56666667]), 'train_score': array([0.95850622, 0.95435685, 0.96280992])}\n",
      "0.6923076923076923\n",
      "\n",
      "reuse\n",
      "{'fit_time': array([0.01552606, 0.01512122, 0.01483202]), 'score_time': array([0.00072598, 0.0006988 , 0.00063515]), 'test_score': array([0.62589928, 0.60431655, 0.68115942]), 'train_score': array([0.94584838, 0.93501805, 0.93884892])}\n",
      "0.7297297297297297\n",
      "\n",
      "clarity\n",
      "{'fit_time': array([0.02894473, 0.01645017, 0.0168488 ]), 'score_time': array([0.00072813, 0.0007298 , 0.00084782]), 'test_score': array([0.576     , 0.568     , 0.59677419]), 'train_score': array([0.93574297, 0.93574297, 0.924     ])}\n",
      "0.6865671641791045\n",
      "\n",
      "benefit\n",
      "{'fit_time': array([0.08391213, 0.01856279, 0.04915309]), 'score_time': array([0.00272989, 0.00072002, 0.001127  ]), 'test_score': array([0.58778626, 0.63358779, 0.59230769]), 'train_score': array([0.92720307, 0.94636015, 0.93129771])}\n",
      "0.6142857142857143\n",
      "\n",
      "interest\n",
      "{'fit_time': array([0.0712049 , 0.01590395, 0.02054   ]), 'score_time': array([0.00396609, 0.00187111, 0.00247383]), 'test_score': array([0.68027211, 0.67346939, 0.64383562]), 'train_score': array([0.95221843, 0.94197952, 0.93537415])}\n",
      "0.6153846153846154\n",
      "\n",
      "learn\n",
      "{'fit_time': array([0.00979185, 0.0105691 , 0.01048183]), 'score_time': array([0.00258899, 0.00078988, 0.00084615]), 'test_score': array([0.63565891, 0.58914729, 0.5703125 ]), 'train_score': array([0.94163424, 0.94941634, 0.96899225])}\n",
      "0.7101449275362319\n"
     ]
    }
   ],
   "source": [
    "variation('l2', 'liblinear')"
   ]
  },
  {
   "cell_type": "code",
   "execution_count": 8,
   "metadata": {},
   "outputs": [
    {
     "output_type": "stream",
     "name": "stdout",
     "text": [
      "\n",
      "useful\n",
      "{'fit_time': array([0.01965022, 0.05429673, 0.16226625]), 'score_time': array([0.00118089, 0.04433203, 0.01547074]), 'test_score': array([0.43703704, 0.43703704, 0.44776119]), 'train_score': array([0.51672862, 0.56505576, 0.55555556])}\n",
      "0.5555555555555556\n",
      "\n",
      "mins\n",
      "{'fit_time': array([0.03047109, 0.01208782, 0.0126152 ]), 'score_time': array([0.0006721 , 0.024225  , 0.00074077]), 'test_score': array([0.62962963, 0.63580247, 0.53703704]), 'train_score': array([0.75925926, 0.73148148, 0.69444444])}\n",
      "0.6511627906976745\n",
      "\n",
      "other\n",
      "{'fit_time': array([0.08670592, 0.05704808, 0.03701401]), 'score_time': array([0.00324798, 0.01230597, 0.00075006]), 'test_score': array([0.33057851, 0.40495868, 0.4       ]), 'train_score': array([0.45643154, 0.46473029, 0.49586777])}\n",
      "0.49230769230769234\n",
      "\n",
      "reuse\n",
      "{'fit_time': array([0.01181126, 0.0118649 , 0.01062417]), 'score_time': array([0.00107384, 0.00083017, 0.00089288]), 'test_score': array([0.34532374, 0.30215827, 0.36231884]), 'train_score': array([0.45126354, 0.46570397, 0.45683453])}\n",
      "0.32432432432432434\n",
      "\n",
      "clarity\n",
      "{'fit_time': array([0.01048684, 0.00828791, 0.00872922]), 'score_time': array([0.00072193, 0.00065112, 0.00064301]), 'test_score': array([0.376     , 0.384     , 0.33870968]), 'train_score': array([0.43373494, 0.4939759 , 0.504     ])}\n",
      "0.5074626865671642\n",
      "\n",
      "benefit\n",
      "{'fit_time': array([0.01021075, 0.00848699, 0.00918102]), 'score_time': array([0.00070024, 0.00064206, 0.00070477]), 'test_score': array([0.40458015, 0.35114504, 0.4       ]), 'train_score': array([0.48659004, 0.55172414, 0.51908397])}\n",
      "0.38571428571428573\n",
      "\n",
      "interest\n",
      "{'fit_time': array([0.01018882, 0.01139712, 0.0223732 ]), 'score_time': array([0.00074506, 0.00211906, 0.00105596]), 'test_score': array([0.47619048, 0.49659864, 0.43150685]), 'train_score': array([0.53924915, 0.61774744, 0.53741497])}\n",
      "0.46153846153846156\n",
      "\n",
      "learn\n",
      "{'fit_time': array([0.00817895, 0.0103581 , 0.02279282]), 'score_time': array([0.00062394, 0.00125003, 0.00085211]), 'test_score': array([0.3255814 , 0.33333333, 0.3671875 ]), 'train_score': array([0.44357977, 0.49027237, 0.50775194])}\n",
      "0.4927536231884058\n"
     ]
    }
   ],
   "source": [
    "variation('l1', 'liblinear')"
   ]
  },
  {
   "cell_type": "code",
   "execution_count": 9,
   "metadata": {},
   "outputs": [
    {
     "output_type": "stream",
     "name": "stdout",
     "text": [
      "\n",
      "useful\n",
      "{'fit_time': array([0.36928296, 0.27514482, 0.35450578]), 'score_time': array([0.00075889, 0.00062394, 0.00068521]), 'test_score': array([0.61481481, 0.65925926, 0.70149254]), 'train_score': array([0.95167286, 0.96654275, 0.97037037])}\n",
      "0.6944444444444444\n",
      "\n",
      "mins\n",
      "{'fit_time': array([0.41233802, 0.36720395, 0.35271096]), 'score_time': array([0.00139308, 0.00211501, 0.00102401]), 'test_score': array([0.82716049, 0.77777778, 0.80246914]), 'train_score': array([0.97839506, 0.9845679 , 0.97222222])}\n",
      "0.8837209302325582\n",
      "\n",
      "other\n",
      "{'fit_time': array([0.58985686, 0.81558895, 0.52855396]), 'score_time': array([0.00064325, 0.00065303, 0.00072026]), 'test_score': array([0.61983471, 0.58677686, 0.65      ]), 'train_score': array([0.94605809, 0.96680498, 0.97107438])}\n",
      "0.676923076923077\n",
      "\n",
      "reuse\n",
      "{'fit_time': array([0.65068913, 0.4171989 , 0.36006713]), 'score_time': array([0.00064087, 0.00099301, 0.00063896]), 'test_score': array([0.65467626, 0.55395683, 0.64492754]), 'train_score': array([0.97472924, 0.94584838, 0.95683453])}\n",
      "0.7027027027027027\n",
      "\n",
      "clarity\n",
      "{'fit_time': array([0.39341903, 0.32507586, 0.29529595]), 'score_time': array([0.00093102, 0.00060391, 0.00064492]), 'test_score': array([0.6       , 0.52      , 0.62096774]), 'train_score': array([0.95582329, 0.95180723, 0.944     ])}\n",
      "0.6865671641791045\n",
      "\n",
      "benefit\n",
      "{'fit_time': array([0.31580901, 0.4020741 , 0.38719988]), 'score_time': array([0.0010159 , 0.0006578 , 0.00215697]), 'test_score': array([0.64122137, 0.6259542 , 0.53076923]), 'train_score': array([0.92720307, 0.96168582, 0.95038168])}\n",
      "0.6857142857142857\n",
      "\n",
      "interest\n",
      "{'fit_time': array([0.41469193, 0.46805882, 0.57122326]), 'score_time': array([0.00067425, 0.00173688, 0.00089598]), 'test_score': array([0.65986395, 0.6122449 , 0.66438356]), 'train_score': array([0.9556314 , 0.94880546, 0.92517007])}\n",
      "0.7692307692307693\n",
      "\n",
      "learn\n",
      "{'fit_time': array([0.48388124, 0.59172678, 0.472646  ]), 'score_time': array([0.00063372, 0.00263333, 0.00093699]), 'test_score': array([0.57364341, 0.60465116, 0.5859375 ]), 'train_score': array([0.9688716 , 0.96498054, 0.96124031])}\n",
      "0.7246376811594203\n"
     ]
    }
   ],
   "source": [
    "variation('l2', 'lbfgs')"
   ]
  },
  {
   "cell_type": "code",
   "execution_count": 10,
   "metadata": {},
   "outputs": [
    {
     "output_type": "stream",
     "name": "stdout",
     "text": [
      "\n",
      "useful\n",
      "{'fit_time': array([0.17502117, 0.13997197, 0.19402528]), 'score_time': array([0.00062275, 0.00169516, 0.00090599]), 'test_score': array([0.65185185, 0.68888889, 0.71641791]), 'train_score': array([0.97769517, 0.9739777 , 0.97777778])}\n",
      "0.6944444444444444\n",
      "\n",
      "mins\n",
      "{'fit_time': array([0.10795999, 0.05303884, 0.05152702]), 'score_time': array([0.00400591, 0.00057602, 0.0010879 ]), 'test_score': array([0.80864198, 0.7962963 , 0.81481481]), 'train_score': array([0.97222222, 0.96604938, 0.9845679 ])}\n",
      "0.8488372093023255\n",
      "\n",
      "other\n",
      "{'fit_time': array([0.08224702, 0.08610106, 0.09373379]), 'score_time': array([0.00058508, 0.00058603, 0.00056005]), 'test_score': array([0.66942149, 0.60330579, 0.6       ]), 'train_score': array([0.9626556 , 0.93775934, 0.96694215])}\n",
      "0.676923076923077\n",
      "\n",
      "reuse\n",
      "{'fit_time': array([0.18561792, 0.16759825, 0.07286501]), 'score_time': array([0.00066519, 0.0006547 , 0.00065994]), 'test_score': array([0.64028777, 0.66906475, 0.67391304]), 'train_score': array([0.96028881, 0.9566787 , 0.93884892])}\n",
      "0.6486486486486487\n",
      "\n",
      "clarity\n",
      "{'fit_time': array([0.09907794, 0.06777191, 0.073915  ]), 'score_time': array([0.00055313, 0.00057602, 0.00055981]), 'test_score': array([0.584     , 0.512     , 0.63709677]), 'train_score': array([0.95180723, 0.95180723, 0.964     ])}\n",
      "0.6716417910447762\n",
      "\n",
      "benefit\n",
      "{'fit_time': array([0.0805161 , 0.15344214, 0.14077783]), 'score_time': array([0.00059295, 0.00056911, 0.00061703]), 'test_score': array([0.61832061, 0.64885496, 0.61538462]), 'train_score': array([0.95402299, 0.93869732, 0.93129771])}\n",
      "0.6285714285714286\n",
      "\n",
      "interest\n",
      "{'fit_time': array([0.17597675, 0.137676  , 0.16788697]), 'score_time': array([0.00137711, 0.00779724, 0.00196409]), 'test_score': array([0.66666667, 0.69387755, 0.69178082]), 'train_score': array([0.96587031, 0.96587031, 0.93877551])}\n",
      "0.7435897435897436\n",
      "\n",
      "learn\n",
      "{'fit_time': array([0.07851911, 0.09499478, 0.25441408]), 'score_time': array([0.00060487, 0.00060391, 0.00093889]), 'test_score': array([0.58914729, 0.59689922, 0.53125   ]), 'train_score': array([0.95330739, 0.96498054, 0.96899225])}\n",
      "0.782608695652174\n"
     ]
    }
   ],
   "source": [
    "variation('l2', 'newton-cg')"
   ]
  },
  {
   "cell_type": "code",
   "execution_count": 11,
   "metadata": {},
   "outputs": [
    {
     "output_type": "execute_result",
     "data": {
      "text/plain": [
       "defaultdict(dict,\n",
       "            {'liblinear': {'l2': {'useful': 0.736,\n",
       "               'mins': 0.849,\n",
       "               'other': 0.692,\n",
       "               'reuse': 0.73,\n",
       "               'clarity': 0.687,\n",
       "               'benefit': 0.614,\n",
       "               'interest': 0.615,\n",
       "               'learn': 0.71},\n",
       "              'l1': {'useful': 0.556,\n",
       "               'mins': 0.651,\n",
       "               'other': 0.492,\n",
       "               'reuse': 0.324,\n",
       "               'clarity': 0.507,\n",
       "               'benefit': 0.386,\n",
       "               'interest': 0.462,\n",
       "               'learn': 0.493}},\n",
       "             'lbfgs': {'l2': {'useful': 0.694,\n",
       "               'mins': 0.884,\n",
       "               'other': 0.677,\n",
       "               'reuse': 0.703,\n",
       "               'clarity': 0.687,\n",
       "               'benefit': 0.686,\n",
       "               'interest': 0.769,\n",
       "               'learn': 0.725}},\n",
       "             'newton-cg': {'l2': {'useful': 0.694,\n",
       "               'mins': 0.849,\n",
       "               'other': 0.677,\n",
       "               'reuse': 0.649,\n",
       "               'clarity': 0.672,\n",
       "               'benefit': 0.629,\n",
       "               'interest': 0.744,\n",
       "               'learn': 0.783}}})"
      ]
     },
     "metadata": {},
     "execution_count": 11
    }
   ],
   "source": [
    "history_scores"
   ]
  },
  {
   "cell_type": "code",
   "execution_count": 12,
   "metadata": {},
   "outputs": [
    {
     "output_type": "stream",
     "name": "stdout",
     "text": [
      "{'fit_time': array([1.08222222, 0.69229913, 0.62917304]), 'score_time': array([0.00065279, 0.000772  , 0.01146412]), 'test_score': array([0.8265896 , 0.8265896 , 0.83139535]), 'train_score': array([0.93623188, 0.93913043, 0.93930636])}\n0.8913043478260869\n"
     ]
    },
    {
     "output_type": "execute_result",
     "data": {
      "text/plain": [
       "0.8913043478260869"
      ]
     },
     "metadata": {},
     "execution_count": 12
    }
   ],
   "source": [
    "#checking predictor performance for specificity\n",
    "\n",
    "mypredictor_coding = predictor.predictor(clean, 'all', k_neighbors = 3)\n",
    "mypredictor_coding.train_on('s')\n",
    "mypredictor_coding.test()"
   ]
  },
  {
   "cell_type": "code",
   "execution_count": 13,
   "metadata": {},
   "outputs": [
    {
     "output_type": "error",
     "ename": "ValueError",
     "evalue": "blocks[0,:] has incompatible row dimensions. Got blocks[0,1].shape[0] == 2, expected 1.",
     "traceback": [
      "\u001b[0;31m---------------------------------------------------------------------------\u001b[0m",
      "\u001b[0;31mValueError\u001b[0m                                Traceback (most recent call last)",
      "\u001b[0;32m<ipython-input-13-3c684b35cb36>\u001b[0m in \u001b[0;36m<module>\u001b[0;34m\u001b[0m\n\u001b[0;32m----> 1\u001b[0;31m \u001b[0mmypredictor_coding\u001b[0m\u001b[0;34m.\u001b[0m\u001b[0mpredict\u001b[0m\u001b[0;34m(\u001b[0m\u001b[0;34m\"Get extra hours at work so I can be able to pay for things my family needs I would be able to take care of my family and what they need or want If I was able to fulfill this goal, I would have extra hours to able to bring more money home to my family and take care of the little things that we need and want. We could be able to go on vacation and do whatever extra stuff that we want.\"\u001b[0m\u001b[0;34m)\u001b[0m\u001b[0;34m\u001b[0m\u001b[0;34m\u001b[0m\u001b[0m\n\u001b[0m",
      "\u001b[0;32m~/Documents/GitHub/NLP-for-motivation-lab/predictor.py\u001b[0m in \u001b[0;36mpredict\u001b[0;34m(self, x)\u001b[0m\n\u001b[1;32m     62\u001b[0m         \u001b[0mcount\u001b[0m\u001b[0;34m,\u001b[0m \u001b[0mlength\u001b[0m \u001b[0;34m=\u001b[0m \u001b[0mself\u001b[0m\u001b[0;34m.\u001b[0m\u001b[0mcount_stop\u001b[0m\u001b[0;34m(\u001b[0m\u001b[0mx\u001b[0m\u001b[0;34m)\u001b[0m\u001b[0;34m\u001b[0m\u001b[0;34m\u001b[0m\u001b[0m\n\u001b[1;32m     63\u001b[0m         \u001b[0mx\u001b[0m \u001b[0;34m=\u001b[0m \u001b[0mself\u001b[0m\u001b[0;34m.\u001b[0m\u001b[0mvectorizer\u001b[0m\u001b[0;34m.\u001b[0m\u001b[0mtransform\u001b[0m\u001b[0;34m(\u001b[0m\u001b[0;34m[\u001b[0m\u001b[0mx\u001b[0m\u001b[0;34m]\u001b[0m\u001b[0;34m)\u001b[0m\u001b[0;34m\u001b[0m\u001b[0;34m\u001b[0m\u001b[0m\n\u001b[0;32m---> 64\u001b[0;31m         \u001b[0mx\u001b[0m \u001b[0;34m=\u001b[0m \u001b[0mhstack\u001b[0m\u001b[0;34m(\u001b[0m\u001b[0;34m(\u001b[0m\u001b[0mx\u001b[0m\u001b[0;34m,\u001b[0m\u001b[0mnp\u001b[0m\u001b[0;34m.\u001b[0m\u001b[0marray\u001b[0m\u001b[0;34m(\u001b[0m\u001b[0;34m[\u001b[0m\u001b[0mcount\u001b[0m\u001b[0;34m,\u001b[0m \u001b[0mlength\u001b[0m\u001b[0;34m]\u001b[0m\u001b[0;34m)\u001b[0m\u001b[0;34m[\u001b[0m\u001b[0;34m:\u001b[0m\u001b[0;34m,\u001b[0m\u001b[0;32mNone\u001b[0m\u001b[0;34m]\u001b[0m\u001b[0;34m)\u001b[0m\u001b[0;34m)\u001b[0m\u001b[0;34m\u001b[0m\u001b[0;34m\u001b[0m\u001b[0m\n\u001b[0m\u001b[1;32m     65\u001b[0m         \u001b[0;32mreturn\u001b[0m\u001b[0;34m(\u001b[0m\u001b[0mself\u001b[0m\u001b[0;34m.\u001b[0m\u001b[0mmodel\u001b[0m\u001b[0;34m.\u001b[0m\u001b[0mpredict_proba\u001b[0m\u001b[0;34m(\u001b[0m\u001b[0mx\u001b[0m\u001b[0;34m)\u001b[0m \u001b[0;34m+\u001b[0m \u001b[0;34m\"\\n The predicted value is = \"\u001b[0m \u001b[0;34m+\u001b[0m \u001b[0mself\u001b[0m\u001b[0;34m.\u001b[0m\u001b[0mmodel\u001b[0m\u001b[0;34m.\u001b[0m\u001b[0mpredict\u001b[0m\u001b[0;34m(\u001b[0m\u001b[0mx\u001b[0m\u001b[0;34m)\u001b[0m\u001b[0;34m)\u001b[0m\u001b[0;34m\u001b[0m\u001b[0;34m\u001b[0m\u001b[0m\n",
      "\u001b[0;32m/usr/local/lib/python3.7/site-packages/scipy/sparse/construct.py\u001b[0m in \u001b[0;36mhstack\u001b[0;34m(blocks, format, dtype)\u001b[0m\n\u001b[1;32m    463\u001b[0m \u001b[0;34m\u001b[0m\u001b[0m\n\u001b[1;32m    464\u001b[0m     \"\"\"\n\u001b[0;32m--> 465\u001b[0;31m     \u001b[0;32mreturn\u001b[0m \u001b[0mbmat\u001b[0m\u001b[0;34m(\u001b[0m\u001b[0;34m[\u001b[0m\u001b[0mblocks\u001b[0m\u001b[0;34m]\u001b[0m\u001b[0;34m,\u001b[0m \u001b[0mformat\u001b[0m\u001b[0;34m=\u001b[0m\u001b[0mformat\u001b[0m\u001b[0;34m,\u001b[0m \u001b[0mdtype\u001b[0m\u001b[0;34m=\u001b[0m\u001b[0mdtype\u001b[0m\u001b[0;34m)\u001b[0m\u001b[0;34m\u001b[0m\u001b[0;34m\u001b[0m\u001b[0m\n\u001b[0m\u001b[1;32m    466\u001b[0m \u001b[0;34m\u001b[0m\u001b[0m\n\u001b[1;32m    467\u001b[0m \u001b[0;34m\u001b[0m\u001b[0m\n",
      "\u001b[0;32m/usr/local/lib/python3.7/site-packages/scipy/sparse/construct.py\u001b[0m in \u001b[0;36mbmat\u001b[0;34m(blocks, format, dtype)\u001b[0m\n\u001b[1;32m    584\u001b[0m                                                     \u001b[0mexp\u001b[0m\u001b[0;34m=\u001b[0m\u001b[0mbrow_lengths\u001b[0m\u001b[0;34m[\u001b[0m\u001b[0mi\u001b[0m\u001b[0;34m]\u001b[0m\u001b[0;34m,\u001b[0m\u001b[0;34m\u001b[0m\u001b[0;34m\u001b[0m\u001b[0m\n\u001b[1;32m    585\u001b[0m                                                     got=A.shape[0]))\n\u001b[0;32m--> 586\u001b[0;31m                     \u001b[0;32mraise\u001b[0m \u001b[0mValueError\u001b[0m\u001b[0;34m(\u001b[0m\u001b[0mmsg\u001b[0m\u001b[0;34m)\u001b[0m\u001b[0;34m\u001b[0m\u001b[0;34m\u001b[0m\u001b[0m\n\u001b[0m\u001b[1;32m    587\u001b[0m \u001b[0;34m\u001b[0m\u001b[0m\n\u001b[1;32m    588\u001b[0m                 \u001b[0;32mif\u001b[0m \u001b[0mbcol_lengths\u001b[0m\u001b[0;34m[\u001b[0m\u001b[0mj\u001b[0m\u001b[0;34m]\u001b[0m \u001b[0;34m==\u001b[0m \u001b[0;36m0\u001b[0m\u001b[0;34m:\u001b[0m\u001b[0;34m\u001b[0m\u001b[0;34m\u001b[0m\u001b[0m\n",
      "\u001b[0;31mValueError\u001b[0m: blocks[0,:] has incompatible row dimensions. Got blocks[0,1].shape[0] == 2, expected 1."
     ]
    }
   ],
   "source": [
    "mypredictor_coding.predict(\"Get extra hours at work so I can be able to pay for things my family needs I would be able to take care of my family and what they need or want If I was able to fulfill this goal, I would have extra hours to able to bring more money home to my family and take care of the little things that we need and want. We could be able to go on vacation and do whatever extra stuff that we want.\")"
   ]
  },
  {
   "cell_type": "code",
   "execution_count": 14,
   "metadata": {},
   "outputs": [
    {
     "output_type": "execute_result",
     "data": {
      "text/plain": [
       "                  coef\n",
       "no            1.043155\n",
       "from the      0.881520\n",
       "cloud         0.868776\n",
       "from          0.656877\n",
       "best outcome  0.611827\n",
       "...                ...\n",
       "eating       -0.627745\n",
       "satisfied    -0.631579\n",
       "very excited -0.703780\n",
       "happy        -0.757581\n",
       "pizza        -0.785410\n",
       "\n",
       "[997 rows x 1 columns]"
      ],
      "text/html": "<div>\n<style scoped>\n    .dataframe tbody tr th:only-of-type {\n        vertical-align: middle;\n    }\n\n    .dataframe tbody tr th {\n        vertical-align: top;\n    }\n\n    .dataframe thead th {\n        text-align: right;\n    }\n</style>\n<table border=\"1\" class=\"dataframe\">\n  <thead>\n    <tr style=\"text-align: right;\">\n      <th></th>\n      <th>coef</th>\n    </tr>\n  </thead>\n  <tbody>\n    <tr>\n      <th>no</th>\n      <td>1.043155</td>\n    </tr>\n    <tr>\n      <th>from the</th>\n      <td>0.881520</td>\n    </tr>\n    <tr>\n      <th>cloud</th>\n      <td>0.868776</td>\n    </tr>\n    <tr>\n      <th>from</th>\n      <td>0.656877</td>\n    </tr>\n    <tr>\n      <th>best outcome</th>\n      <td>0.611827</td>\n    </tr>\n    <tr>\n      <th>...</th>\n      <td>...</td>\n    </tr>\n    <tr>\n      <th>eating</th>\n      <td>-0.627745</td>\n    </tr>\n    <tr>\n      <th>satisfied</th>\n      <td>-0.631579</td>\n    </tr>\n    <tr>\n      <th>very excited</th>\n      <td>-0.703780</td>\n    </tr>\n    <tr>\n      <th>happy</th>\n      <td>-0.757581</td>\n    </tr>\n    <tr>\n      <th>pizza</th>\n      <td>-0.785410</td>\n    </tr>\n  </tbody>\n</table>\n<p>997 rows × 1 columns</p>\n</div>"
     },
     "metadata": {},
     "execution_count": 14
    }
   ],
   "source": [
    "pd.DataFrame(mypredictor_coding.model.coef_[0][:-1], \n",
    "             mypredictor_coding.vectorizer.get_feature_names(), \n",
    "             columns=['coef'])\\\n",
    "            .sort_values(by='coef', ascending=False)"
   ]
  },
  {
   "cell_type": "code",
   "execution_count": 15,
   "metadata": {},
   "outputs": [
    {
     "output_type": "stream",
     "name": "stdout",
     "text": [
      "{'fit_time': array([0.40769386, 0.39222288, 0.58424807]), 'score_time': array([0.00094795, 0.00061798, 0.00176406]), 'test_score': array([0.79054054, 0.76190476, 0.80272109]), 'train_score': array([0.93197279, 0.93559322, 0.91864407])}\n0.7692307692307693\n"
     ]
    },
    {
     "output_type": "execute_result",
     "data": {
      "text/plain": [
       "0.7692307692307693"
      ]
     },
     "metadata": {},
     "execution_count": 15
    }
   ],
   "source": [
    "#checking predictor performance for directness\n",
    "\n",
    "mypredictor_coding = predictor.predictor(clean, 'all')\n",
    "mypredictor_coding.train_on('d')\n",
    "mypredictor_coding.test()"
   ]
  },
  {
   "cell_type": "code",
   "execution_count": 16,
   "metadata": {},
   "outputs": [
    {
     "output_type": "error",
     "ename": "ValueError",
     "evalue": "blocks[0,:] has incompatible row dimensions. Got blocks[0,1].shape[0] == 2, expected 1.",
     "traceback": [
      "\u001b[0;31m---------------------------------------------------------------------------\u001b[0m",
      "\u001b[0;31mValueError\u001b[0m                                Traceback (most recent call last)",
      "\u001b[0;32m<ipython-input-16-3c684b35cb36>\u001b[0m in \u001b[0;36m<module>\u001b[0;34m\u001b[0m\n\u001b[0;32m----> 1\u001b[0;31m \u001b[0mmypredictor_coding\u001b[0m\u001b[0;34m.\u001b[0m\u001b[0mpredict\u001b[0m\u001b[0;34m(\u001b[0m\u001b[0;34m\"Get extra hours at work so I can be able to pay for things my family needs I would be able to take care of my family and what they need or want If I was able to fulfill this goal, I would have extra hours to able to bring more money home to my family and take care of the little things that we need and want. We could be able to go on vacation and do whatever extra stuff that we want.\"\u001b[0m\u001b[0;34m)\u001b[0m\u001b[0;34m\u001b[0m\u001b[0;34m\u001b[0m\u001b[0m\n\u001b[0m",
      "\u001b[0;32m~/Documents/GitHub/NLP-for-motivation-lab/predictor.py\u001b[0m in \u001b[0;36mpredict\u001b[0;34m(self, x)\u001b[0m\n\u001b[1;32m     62\u001b[0m         \u001b[0mcount\u001b[0m\u001b[0;34m,\u001b[0m \u001b[0mlength\u001b[0m \u001b[0;34m=\u001b[0m \u001b[0mself\u001b[0m\u001b[0;34m.\u001b[0m\u001b[0mcount_stop\u001b[0m\u001b[0;34m(\u001b[0m\u001b[0mx\u001b[0m\u001b[0;34m)\u001b[0m\u001b[0;34m\u001b[0m\u001b[0;34m\u001b[0m\u001b[0m\n\u001b[1;32m     63\u001b[0m         \u001b[0mx\u001b[0m \u001b[0;34m=\u001b[0m \u001b[0mself\u001b[0m\u001b[0;34m.\u001b[0m\u001b[0mvectorizer\u001b[0m\u001b[0;34m.\u001b[0m\u001b[0mtransform\u001b[0m\u001b[0;34m(\u001b[0m\u001b[0;34m[\u001b[0m\u001b[0mx\u001b[0m\u001b[0;34m]\u001b[0m\u001b[0;34m)\u001b[0m\u001b[0;34m\u001b[0m\u001b[0;34m\u001b[0m\u001b[0m\n\u001b[0;32m---> 64\u001b[0;31m         \u001b[0;31m# x = hstack((x,np.array([count, length])[:,None]))\u001b[0m\u001b[0;34m\u001b[0m\u001b[0;34m\u001b[0m\u001b[0;34m\u001b[0m\u001b[0m\n\u001b[0m\u001b[1;32m     65\u001b[0m         \u001b[0mx\u001b[0m \u001b[0;34m=\u001b[0m \u001b[0mhstack\u001b[0m\u001b[0;34m(\u001b[0m\u001b[0;34m(\u001b[0m\u001b[0mx\u001b[0m\u001b[0;34m,\u001b[0m\u001b[0mnp\u001b[0m\u001b[0;34m.\u001b[0m\u001b[0marray\u001b[0m\u001b[0;34m(\u001b[0m\u001b[0;34m[\u001b[0m\u001b[0;34m[\u001b[0m\u001b[0mcount\u001b[0m\u001b[0;34m,\u001b[0m \u001b[0mlength\u001b[0m\u001b[0;34m]\u001b[0m\u001b[0;34m]\u001b[0m\u001b[0;34m)\u001b[0m\u001b[0;34m[\u001b[0m\u001b[0;34m:\u001b[0m\u001b[0;34m,\u001b[0m\u001b[0;32mNone\u001b[0m\u001b[0;34m]\u001b[0m\u001b[0;34m)\u001b[0m\u001b[0;34m)\u001b[0m\u001b[0;34m\u001b[0m\u001b[0;34m\u001b[0m\u001b[0m\n\u001b[1;32m     66\u001b[0m         \u001b[0;32mreturn\u001b[0m\u001b[0;34m(\u001b[0m\u001b[0mself\u001b[0m\u001b[0;34m.\u001b[0m\u001b[0mmodel\u001b[0m\u001b[0;34m.\u001b[0m\u001b[0mpredict_proba\u001b[0m\u001b[0;34m(\u001b[0m\u001b[0mx\u001b[0m\u001b[0;34m)\u001b[0m \u001b[0;34m+\u001b[0m \u001b[0;34m\"\\n The predicted value is = \"\u001b[0m \u001b[0;34m+\u001b[0m \u001b[0mself\u001b[0m\u001b[0;34m.\u001b[0m\u001b[0mmodel\u001b[0m\u001b[0;34m.\u001b[0m\u001b[0mpredict\u001b[0m\u001b[0;34m(\u001b[0m\u001b[0mx\u001b[0m\u001b[0;34m)\u001b[0m\u001b[0;34m)\u001b[0m\u001b[0;34m\u001b[0m\u001b[0;34m\u001b[0m\u001b[0m\n",
      "\u001b[0;32m/usr/local/lib/python3.7/site-packages/scipy/sparse/construct.py\u001b[0m in \u001b[0;36mhstack\u001b[0;34m(blocks, format, dtype)\u001b[0m\n\u001b[1;32m    463\u001b[0m \u001b[0;34m\u001b[0m\u001b[0m\n\u001b[1;32m    464\u001b[0m     \"\"\"\n\u001b[0;32m--> 465\u001b[0;31m     \u001b[0;32mreturn\u001b[0m \u001b[0mbmat\u001b[0m\u001b[0;34m(\u001b[0m\u001b[0;34m[\u001b[0m\u001b[0mblocks\u001b[0m\u001b[0;34m]\u001b[0m\u001b[0;34m,\u001b[0m \u001b[0mformat\u001b[0m\u001b[0;34m=\u001b[0m\u001b[0mformat\u001b[0m\u001b[0;34m,\u001b[0m \u001b[0mdtype\u001b[0m\u001b[0;34m=\u001b[0m\u001b[0mdtype\u001b[0m\u001b[0;34m)\u001b[0m\u001b[0;34m\u001b[0m\u001b[0;34m\u001b[0m\u001b[0m\n\u001b[0m\u001b[1;32m    466\u001b[0m \u001b[0;34m\u001b[0m\u001b[0m\n\u001b[1;32m    467\u001b[0m \u001b[0;34m\u001b[0m\u001b[0m\n",
      "\u001b[0;32m/usr/local/lib/python3.7/site-packages/scipy/sparse/construct.py\u001b[0m in \u001b[0;36mbmat\u001b[0;34m(blocks, format, dtype)\u001b[0m\n\u001b[1;32m    584\u001b[0m                                                     \u001b[0mexp\u001b[0m\u001b[0;34m=\u001b[0m\u001b[0mbrow_lengths\u001b[0m\u001b[0;34m[\u001b[0m\u001b[0mi\u001b[0m\u001b[0;34m]\u001b[0m\u001b[0;34m,\u001b[0m\u001b[0;34m\u001b[0m\u001b[0;34m\u001b[0m\u001b[0m\n\u001b[1;32m    585\u001b[0m                                                     got=A.shape[0]))\n\u001b[0;32m--> 586\u001b[0;31m                     \u001b[0;32mraise\u001b[0m \u001b[0mValueError\u001b[0m\u001b[0;34m(\u001b[0m\u001b[0mmsg\u001b[0m\u001b[0;34m)\u001b[0m\u001b[0;34m\u001b[0m\u001b[0;34m\u001b[0m\u001b[0m\n\u001b[0m\u001b[1;32m    587\u001b[0m \u001b[0;34m\u001b[0m\u001b[0m\n\u001b[1;32m    588\u001b[0m                 \u001b[0;32mif\u001b[0m \u001b[0mbcol_lengths\u001b[0m\u001b[0;34m[\u001b[0m\u001b[0mj\u001b[0m\u001b[0;34m]\u001b[0m \u001b[0;34m==\u001b[0m \u001b[0;36m0\u001b[0m\u001b[0;34m:\u001b[0m\u001b[0;34m\u001b[0m\u001b[0;34m\u001b[0m\u001b[0m\n",
      "\u001b[0;31mValueError\u001b[0m: blocks[0,:] has incompatible row dimensions. Got blocks[0,1].shape[0] == 2, expected 1."
     ]
    }
   ],
   "source": [
    "mypredictor_coding.predict(\"Get extra hours at work so I can be able to pay for things my family needs I would be able to take care of my family and what they need or want If I was able to fulfill this goal, I would have extra hours to able to bring more money home to my family and take care of the little things that we need and want. We could be able to go on vacation and do whatever extra stuff that we want.\")"
   ]
  },
  {
   "cell_type": "code",
   "execution_count": 17,
   "metadata": {},
   "outputs": [
    {
     "output_type": "execute_result",
     "data": {
      "text/plain": [
       "              coef\n",
       "nice      0.742462\n",
       "no        0.722316\n",
       "and       0.676004\n",
       "clean     0.611332\n",
       "done for  0.609716\n",
       "...            ...\n",
       "happy    -0.433513\n",
       "money    -0.433581\n",
       "pizza    -0.457694\n",
       "great    -0.499986\n",
       "would    -0.551500\n",
       "\n",
       "[997 rows x 1 columns]"
      ],
      "text/html": "<div>\n<style scoped>\n    .dataframe tbody tr th:only-of-type {\n        vertical-align: middle;\n    }\n\n    .dataframe tbody tr th {\n        vertical-align: top;\n    }\n\n    .dataframe thead th {\n        text-align: right;\n    }\n</style>\n<table border=\"1\" class=\"dataframe\">\n  <thead>\n    <tr style=\"text-align: right;\">\n      <th></th>\n      <th>coef</th>\n    </tr>\n  </thead>\n  <tbody>\n    <tr>\n      <th>nice</th>\n      <td>0.742462</td>\n    </tr>\n    <tr>\n      <th>no</th>\n      <td>0.722316</td>\n    </tr>\n    <tr>\n      <th>and</th>\n      <td>0.676004</td>\n    </tr>\n    <tr>\n      <th>clean</th>\n      <td>0.611332</td>\n    </tr>\n    <tr>\n      <th>done for</th>\n      <td>0.609716</td>\n    </tr>\n    <tr>\n      <th>...</th>\n      <td>...</td>\n    </tr>\n    <tr>\n      <th>happy</th>\n      <td>-0.433513</td>\n    </tr>\n    <tr>\n      <th>money</th>\n      <td>-0.433581</td>\n    </tr>\n    <tr>\n      <th>pizza</th>\n      <td>-0.457694</td>\n    </tr>\n    <tr>\n      <th>great</th>\n      <td>-0.499986</td>\n    </tr>\n    <tr>\n      <th>would</th>\n      <td>-0.551500</td>\n    </tr>\n  </tbody>\n</table>\n<p>997 rows × 1 columns</p>\n</div>"
     },
     "metadata": {},
     "execution_count": 17
    }
   ],
   "source": [
    "pd.DataFrame(mypredictor_coding.model.coef_[0][:-1], \n",
    "             mypredictor_coding.vectorizer.get_feature_names(), \n",
    "             columns=['coef'])\\\n",
    "            .sort_values(by='coef', ascending=False)"
   ]
  },
  {
   "cell_type": "code",
   "execution_count": 18,
   "metadata": {},
   "outputs": [],
   "source": [
    "#effect of imbalance? \n",
    "#interpreting coeff? \n",
    "#useful exercise? What can be done? \n",
    "#how better approximate coders? "
   ]
  },
  {
   "cell_type": "code",
   "execution_count": 19,
   "metadata": {},
   "outputs": [],
   "source": [
    "coder1_specific_d = clean[['all','d1','d2','d3']][:128]\n",
    "coder1_specific_d['d'] = round(coder1_specific_d[coder1_specific_d.columns[-3:]].mean(axis=1))\n",
    "coder2_specific_d = clean[['all','d1','d2','d3']][128:]\n",
    "coder2_specific_d['d'] = round(coder2_specific_d[coder2_specific_d.columns[-3:]].mean(axis=1))\n",
    "coder3_specific_d = clean[['all','d4','d5','d6']][:128]\n",
    "coder3_specific_d['d'] = round(coder3_specific_d[coder3_specific_d.columns[-3:]].mean(axis=1))\n",
    "coder4_specific_d = clean[['all','d4','d5','d6']][128:]\n",
    "coder4_specific_d['d'] = round(coder4_specific_d[coder4_specific_d.columns[-3:]].mean(axis=1))"
   ]
  },
  {
   "cell_type": "code",
   "execution_count": 20,
   "metadata": {},
   "outputs": [
    {
     "output_type": "stream",
     "name": "stdout",
     "text": [
      "{'fit_time': array([0.20036626, 0.17820287, 0.18497896]), 'score_time': array([0.00254297, 0.00054288, 0.00111198]), 'test_score': array([0.81538462, 0.75384615, 0.78461538]), 'train_score': array([0.96153846, 0.96923077, 0.96923077])}\n0.7428571428571429\n"
     ]
    },
    {
     "output_type": "execute_result",
     "data": {
      "text/plain": [
       "0.7428571428571429"
      ]
     },
     "metadata": {},
     "execution_count": 20
    }
   ],
   "source": [
    "coder1_specific_d_predictor = predictor.predictor(coder1_specific_d, 'all')\n",
    "coder1_specific_d_predictor.train_on('d')\n",
    "coder1_specific_d_predictor.test()"
   ]
  },
  {
   "cell_type": "code",
   "execution_count": 28,
   "metadata": {},
   "outputs": [
    {
     "output_type": "stream",
     "name": "stdout",
     "text": [
      "{'fit_time': array([0.08938217, 0.09994078, 0.08066916]), 'score_time': array([0.00052595, 0.00051808, 0.0007019 ]), 'test_score': array([0.55102041, 0.71428571, 0.64583333]), 'train_score': array([0.91752577, 0.93814433, 0.91836735])}\n0.6153846153846154\n"
     ]
    },
    {
     "output_type": "execute_result",
     "data": {
      "text/plain": [
       "0.6153846153846154"
      ]
     },
     "metadata": {},
     "execution_count": 28
    }
   ],
   "source": [
    "coder2_specific_d_predictor = predictor.predictor(coder2_specific_d, 'all')\n",
    "coder2_specific_d_predictor.train_on('d')\n",
    "coder2_specific_d_predictor.test()"
   ]
  },
  {
   "cell_type": "code",
   "execution_count": 22,
   "metadata": {},
   "outputs": [
    {
     "output_type": "stream",
     "name": "stdout",
     "text": [
      "{'fit_time': array([0.21390104, 0.17577696, 0.24685884]), 'score_time': array([0.00055027, 0.00065899, 0.00054193]), 'test_score': array([0.8       , 0.76923077, 0.75384615]), 'train_score': array([0.96923077, 0.96153846, 0.96923077])}\n0.8285714285714286\n"
     ]
    },
    {
     "output_type": "execute_result",
     "data": {
      "text/plain": [
       "0.8285714285714286"
      ]
     },
     "metadata": {},
     "execution_count": 22
    }
   ],
   "source": [
    "coder3_specific_d_predictor = predictor.predictor(coder3_specific_d, 'all')\n",
    "coder3_specific_d_predictor.train_on('d')\n",
    "coder3_specific_d_predictor.test()"
   ]
  },
  {
   "cell_type": "code",
   "execution_count": 23,
   "metadata": {},
   "outputs": [
    {
     "output_type": "error",
     "ename": "ValueError",
     "evalue": "Expected n_neighbors <= n_samples,  but n_samples = 1, n_neighbors = 2",
     "traceback": [
      "\u001b[0;31m---------------------------------------------------------------------------\u001b[0m",
      "\u001b[0;31mValueError\u001b[0m                                Traceback (most recent call last)",
      "\u001b[0;32m<ipython-input-23-0895bafa8772>\u001b[0m in \u001b[0;36m<module>\u001b[0;34m\u001b[0m\n\u001b[1;32m      1\u001b[0m \u001b[0mcoder4_specific_d_predictor\u001b[0m \u001b[0;34m=\u001b[0m \u001b[0mpredictor\u001b[0m\u001b[0;34m.\u001b[0m\u001b[0mpredictor\u001b[0m\u001b[0;34m(\u001b[0m\u001b[0mcoder4_specific_d\u001b[0m\u001b[0;34m,\u001b[0m \u001b[0;34m'all'\u001b[0m\u001b[0;34m,\u001b[0m \u001b[0mk_neighbors\u001b[0m\u001b[0;34m=\u001b[0m \u001b[0;36m1\u001b[0m\u001b[0;34m)\u001b[0m\u001b[0;34m\u001b[0m\u001b[0;34m\u001b[0m\u001b[0m\n\u001b[0;32m----> 2\u001b[0;31m \u001b[0mcoder4_specific_d_predictor\u001b[0m\u001b[0;34m.\u001b[0m\u001b[0mtrain_on\u001b[0m\u001b[0;34m(\u001b[0m\u001b[0;34m'd'\u001b[0m\u001b[0;34m)\u001b[0m\u001b[0;34m\u001b[0m\u001b[0;34m\u001b[0m\u001b[0m\n\u001b[0m\u001b[1;32m      3\u001b[0m \u001b[0mcoder4_specific_d_predictor\u001b[0m\u001b[0;34m.\u001b[0m\u001b[0mtest\u001b[0m\u001b[0;34m(\u001b[0m\u001b[0;34m)\u001b[0m\u001b[0;34m\u001b[0m\u001b[0;34m\u001b[0m\u001b[0m\n",
      "\u001b[0;32m~/Documents/GitHub/NLP-for-motivation-lab/predictor.py\u001b[0m in \u001b[0;36mtrain_on\u001b[0;34m(self, Ycolname)\u001b[0m\n\u001b[1;32m     37\u001b[0m     \u001b[0;32mdef\u001b[0m \u001b[0mtrain_on\u001b[0m\u001b[0;34m(\u001b[0m\u001b[0mself\u001b[0m\u001b[0;34m,\u001b[0m \u001b[0mYcolname\u001b[0m\u001b[0;34m)\u001b[0m\u001b[0;34m:\u001b[0m\u001b[0;34m\u001b[0m\u001b[0;34m\u001b[0m\u001b[0m\n\u001b[1;32m     38\u001b[0m         \u001b[0mself\u001b[0m\u001b[0;34m.\u001b[0m\u001b[0my\u001b[0m \u001b[0;34m=\u001b[0m \u001b[0mself\u001b[0m\u001b[0;34m.\u001b[0m\u001b[0mdf\u001b[0m\u001b[0;34m[\u001b[0m\u001b[0mYcolname\u001b[0m\u001b[0;34m]\u001b[0m\u001b[0;34m\u001b[0m\u001b[0;34m\u001b[0m\u001b[0m\n\u001b[0;32m---> 39\u001b[0;31m         \u001b[0mself\u001b[0m\u001b[0;34m.\u001b[0m\u001b[0mX\u001b[0m\u001b[0;34m,\u001b[0m \u001b[0mself\u001b[0m\u001b[0;34m.\u001b[0m\u001b[0my\u001b[0m \u001b[0;34m=\u001b[0m \u001b[0mself\u001b[0m\u001b[0;34m.\u001b[0m\u001b[0mbalancer\u001b[0m\u001b[0;34m.\u001b[0m\u001b[0mfit_resample\u001b[0m\u001b[0;34m(\u001b[0m\u001b[0mself\u001b[0m\u001b[0;34m.\u001b[0m\u001b[0mX\u001b[0m\u001b[0;34m,\u001b[0m \u001b[0mself\u001b[0m\u001b[0;34m.\u001b[0m\u001b[0my\u001b[0m\u001b[0;34m)\u001b[0m\u001b[0;34m\u001b[0m\u001b[0;34m\u001b[0m\u001b[0m\n\u001b[0m\u001b[1;32m     40\u001b[0m         \u001b[0mself\u001b[0m\u001b[0;34m.\u001b[0m\u001b[0msplit\u001b[0m\u001b[0;34m(\u001b[0m\u001b[0;34m)\u001b[0m\u001b[0;34m\u001b[0m\u001b[0;34m\u001b[0m\u001b[0m\n\u001b[1;32m     41\u001b[0m         \u001b[0mself\u001b[0m\u001b[0;34m.\u001b[0m\u001b[0mmake_model\u001b[0m\u001b[0;34m(\u001b[0m\u001b[0;34m)\u001b[0m\u001b[0;34m\u001b[0m\u001b[0;34m\u001b[0m\u001b[0m\n",
      "\u001b[0;32m/usr/local/lib/python3.7/site-packages/imblearn/base.py\u001b[0m in \u001b[0;36mfit_resample\u001b[0;34m(self, X, y)\u001b[0m\n\u001b[1;32m     81\u001b[0m         )\n\u001b[1;32m     82\u001b[0m \u001b[0;34m\u001b[0m\u001b[0m\n\u001b[0;32m---> 83\u001b[0;31m         \u001b[0moutput\u001b[0m \u001b[0;34m=\u001b[0m \u001b[0mself\u001b[0m\u001b[0;34m.\u001b[0m\u001b[0m_fit_resample\u001b[0m\u001b[0;34m(\u001b[0m\u001b[0mX\u001b[0m\u001b[0;34m,\u001b[0m \u001b[0my\u001b[0m\u001b[0;34m)\u001b[0m\u001b[0;34m\u001b[0m\u001b[0;34m\u001b[0m\u001b[0m\n\u001b[0m\u001b[1;32m     84\u001b[0m \u001b[0;34m\u001b[0m\u001b[0m\n\u001b[1;32m     85\u001b[0m         y_ = (label_binarize(output[1], np.unique(y))\n",
      "\u001b[0;32m/usr/local/lib/python3.7/site-packages/imblearn/over_sampling/_smote.py\u001b[0m in \u001b[0;36m_fit_resample\u001b[0;34m(self, X, y)\u001b[0m\n\u001b[1;32m    730\u001b[0m \u001b[0;34m\u001b[0m\u001b[0m\n\u001b[1;32m    731\u001b[0m             \u001b[0mself\u001b[0m\u001b[0;34m.\u001b[0m\u001b[0mnn_k_\u001b[0m\u001b[0;34m.\u001b[0m\u001b[0mfit\u001b[0m\u001b[0;34m(\u001b[0m\u001b[0mX_class\u001b[0m\u001b[0;34m)\u001b[0m\u001b[0;34m\u001b[0m\u001b[0;34m\u001b[0m\u001b[0m\n\u001b[0;32m--> 732\u001b[0;31m             \u001b[0mnns\u001b[0m \u001b[0;34m=\u001b[0m \u001b[0mself\u001b[0m\u001b[0;34m.\u001b[0m\u001b[0mnn_k_\u001b[0m\u001b[0;34m.\u001b[0m\u001b[0mkneighbors\u001b[0m\u001b[0;34m(\u001b[0m\u001b[0mX_class\u001b[0m\u001b[0;34m,\u001b[0m \u001b[0mreturn_distance\u001b[0m\u001b[0;34m=\u001b[0m\u001b[0;32mFalse\u001b[0m\u001b[0;34m)\u001b[0m\u001b[0;34m[\u001b[0m\u001b[0;34m:\u001b[0m\u001b[0;34m,\u001b[0m \u001b[0;36m1\u001b[0m\u001b[0;34m:\u001b[0m\u001b[0;34m]\u001b[0m\u001b[0;34m\u001b[0m\u001b[0;34m\u001b[0m\u001b[0m\n\u001b[0m\u001b[1;32m    733\u001b[0m             X_new, y_new = self._make_samples(\n\u001b[1;32m    734\u001b[0m                 \u001b[0mX_class\u001b[0m\u001b[0;34m,\u001b[0m \u001b[0my\u001b[0m\u001b[0;34m.\u001b[0m\u001b[0mdtype\u001b[0m\u001b[0;34m,\u001b[0m \u001b[0mclass_sample\u001b[0m\u001b[0;34m,\u001b[0m \u001b[0mX_class\u001b[0m\u001b[0;34m,\u001b[0m \u001b[0mnns\u001b[0m\u001b[0;34m,\u001b[0m \u001b[0mn_samples\u001b[0m\u001b[0;34m,\u001b[0m \u001b[0;36m1.0\u001b[0m\u001b[0;34m\u001b[0m\u001b[0;34m\u001b[0m\u001b[0m\n",
      "\u001b[0;32m/usr/local/lib/python3.7/site-packages/sklearn/neighbors/_base.py\u001b[0m in \u001b[0;36mkneighbors\u001b[0;34m(self, X, n_neighbors, return_distance)\u001b[0m\n\u001b[1;32m    617\u001b[0m                 \u001b[0;34m\"Expected n_neighbors <= n_samples, \"\u001b[0m\u001b[0;34m\u001b[0m\u001b[0;34m\u001b[0m\u001b[0m\n\u001b[1;32m    618\u001b[0m                 \u001b[0;34m\" but n_samples = %d, n_neighbors = %d\"\u001b[0m \u001b[0;34m%\u001b[0m\u001b[0;34m\u001b[0m\u001b[0;34m\u001b[0m\u001b[0m\n\u001b[0;32m--> 619\u001b[0;31m                 \u001b[0;34m(\u001b[0m\u001b[0mn_samples_fit\u001b[0m\u001b[0;34m,\u001b[0m \u001b[0mn_neighbors\u001b[0m\u001b[0;34m)\u001b[0m\u001b[0;34m\u001b[0m\u001b[0;34m\u001b[0m\u001b[0m\n\u001b[0m\u001b[1;32m    620\u001b[0m             )\n\u001b[1;32m    621\u001b[0m \u001b[0;34m\u001b[0m\u001b[0m\n",
      "\u001b[0;31mValueError\u001b[0m: Expected n_neighbors <= n_samples,  but n_samples = 1, n_neighbors = 2"
     ]
    }
   ],
   "source": [
    "coder4_specific_d_predictor = predictor.predictor(coder4_specific_d, 'all', k_neighbors= 1)\n",
    "coder4_specific_d_predictor.train_on('d')\n",
    "coder4_specific_d_predictor.test()"
   ]
  },
  {
   "cell_type": "code",
   "execution_count": 27,
   "metadata": {},
   "outputs": [
    {
     "output_type": "execute_result",
     "data": {
      "text/plain": [
       "Counter({3.0: 45, 4.0: 15, 2.0: 53, 1.0: 14, 5.0: 1})"
      ]
     },
     "metadata": {},
     "execution_count": 27
    }
   ],
   "source": [
    "Counter(coder4_specific_d.d)"
   ]
  },
  {
   "cell_type": "code",
   "execution_count": null,
   "metadata": {},
   "outputs": [],
   "source": []
  }
 ],
 "metadata": {
  "kernelspec": {
   "display_name": "Python 3",
   "language": "python",
   "name": "python3"
  },
  "language_info": {
   "codemirror_mode": {
    "name": "ipython",
    "version": 3
   },
   "file_extension": ".py",
   "mimetype": "text/x-python",
   "name": "python",
   "nbconvert_exporter": "python",
   "pygments_lexer": "ipython3",
   "version": "3.7.4-final"
  }
 },
 "nbformat": 4,
 "nbformat_minor": 2
}
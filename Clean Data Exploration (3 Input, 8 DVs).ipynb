{
 "cells": [
  {
   "cell_type": "code",
   "execution_count": 14,
   "metadata": {},
   "outputs": [],
   "source": [
    "from collections import defaultdict, Counter"
   ]
  },
  {
   "cell_type": "code",
   "execution_count": 15,
   "metadata": {},
   "outputs": [],
   "source": [
    "import pandas as pd\n",
    "import nltk\n",
    "# import sklearn as sk\n",
    "import gensim.models\n",
    "# from nltk.corpus import stopwords\n",
    "# import string\n",
    "import matplotlib.pyplot as plt\n",
    "# import seaborn as sns\n",
    "import numpy as np\n",
    "# from ast import literal_eval\n",
    "# from predictor import *\n",
    "import predictor\n",
    "# sns.set()\n",
    "\n",
    "clean = pd.read_csv(\"/Users/aditya/Documents/GitHub/NLP-for-motivation-lab/CleanData(v. analysis).csv\")\n",
    "\n",
    "colname = ['id', 'condition', 'wish', 'outcome', 'outcome2', 'useful', 'mins', 'other', 'reuse', 'clarity', 'benefit', 'interest', 'learn']\n",
    "clean = clean.iloc[:256,:13]\n",
    "clean.columns= colname\n",
    "clean.fillna(\"\", inplace=True)"
   ]
  },
  {
   "cell_type": "code",
   "execution_count": 16,
   "metadata": {},
   "outputs": [
    {
     "output_type": "execute_result",
     "data": {
      "text/plain": [
       "                         id condition  useful  mins  other  reuse  clarity  \\\n",
       "0  558af269fdf99b7dfef4d7bd        MC     7.0   1.0    7.0    7.0      7.0   \n",
       "1  55b1add5fdf99b6731f04c5a        MC     1.0   1.0    2.0    1.0      3.0   \n",
       "2  5626a6cfddff3c0011bcd3d8         I     3.0   1.0    2.0    2.0      2.0   \n",
       "3  56a5da6181a8ca000d3e7f40        MC     4.0   1.0    4.0    3.0      2.0   \n",
       "4  56df2ea2452e1300056bc7df        MC     3.0   1.0    4.0    4.0      3.0   \n",
       "\n",
       "   benefit  interest  learn  ...   d5   d6   s1   s2   s3   s4   s5   s6    d  \\\n",
       "0      7.0       7.0    7.0  ...  2.0  5.0  2.0  5.0  5.0  2.0  5.0  5.0  3.0   \n",
       "1      1.0       2.0    2.0  ...  5.0  5.0  4.0  3.0  5.0  4.0  3.0  5.0  5.0   \n",
       "2      2.0       2.0    2.0  ...  5.0  5.0  3.0  5.0  4.0  3.0  5.0  4.0  4.0   \n",
       "3      3.0       5.0    4.0  ...  5.0  5.0  3.0  3.0  4.0  3.0  3.0  4.0  4.0   \n",
       "4      3.0       4.0    3.0  ...  1.0  1.0  2.0  1.0  2.0  2.0  1.0  2.0  1.0   \n",
       "\n",
       "     s  \n",
       "0  4.0  \n",
       "1  4.0  \n",
       "2  4.0  \n",
       "3  3.0  \n",
       "4  2.0  \n",
       "\n",
       "[5 rows x 26 columns]"
      ],
      "text/html": "<div>\n<style scoped>\n    .dataframe tbody tr th:only-of-type {\n        vertical-align: middle;\n    }\n\n    .dataframe tbody tr th {\n        vertical-align: top;\n    }\n\n    .dataframe thead th {\n        text-align: right;\n    }\n</style>\n<table border=\"1\" class=\"dataframe\">\n  <thead>\n    <tr style=\"text-align: right;\">\n      <th></th>\n      <th>id</th>\n      <th>condition</th>\n      <th>useful</th>\n      <th>mins</th>\n      <th>other</th>\n      <th>reuse</th>\n      <th>clarity</th>\n      <th>benefit</th>\n      <th>interest</th>\n      <th>learn</th>\n      <th>...</th>\n      <th>d5</th>\n      <th>d6</th>\n      <th>s1</th>\n      <th>s2</th>\n      <th>s3</th>\n      <th>s4</th>\n      <th>s5</th>\n      <th>s6</th>\n      <th>d</th>\n      <th>s</th>\n    </tr>\n  </thead>\n  <tbody>\n    <tr>\n      <th>0</th>\n      <td>558af269fdf99b7dfef4d7bd</td>\n      <td>MC</td>\n      <td>7.0</td>\n      <td>1.0</td>\n      <td>7.0</td>\n      <td>7.0</td>\n      <td>7.0</td>\n      <td>7.0</td>\n      <td>7.0</td>\n      <td>7.0</td>\n      <td>...</td>\n      <td>2.0</td>\n      <td>5.0</td>\n      <td>2.0</td>\n      <td>5.0</td>\n      <td>5.0</td>\n      <td>2.0</td>\n      <td>5.0</td>\n      <td>5.0</td>\n      <td>3.0</td>\n      <td>4.0</td>\n    </tr>\n    <tr>\n      <th>1</th>\n      <td>55b1add5fdf99b6731f04c5a</td>\n      <td>MC</td>\n      <td>1.0</td>\n      <td>1.0</td>\n      <td>2.0</td>\n      <td>1.0</td>\n      <td>3.0</td>\n      <td>1.0</td>\n      <td>2.0</td>\n      <td>2.0</td>\n      <td>...</td>\n      <td>5.0</td>\n      <td>5.0</td>\n      <td>4.0</td>\n      <td>3.0</td>\n      <td>5.0</td>\n      <td>4.0</td>\n      <td>3.0</td>\n      <td>5.0</td>\n      <td>5.0</td>\n      <td>4.0</td>\n    </tr>\n    <tr>\n      <th>2</th>\n      <td>5626a6cfddff3c0011bcd3d8</td>\n      <td>I</td>\n      <td>3.0</td>\n      <td>1.0</td>\n      <td>2.0</td>\n      <td>2.0</td>\n      <td>2.0</td>\n      <td>2.0</td>\n      <td>2.0</td>\n      <td>2.0</td>\n      <td>...</td>\n      <td>5.0</td>\n      <td>5.0</td>\n      <td>3.0</td>\n      <td>5.0</td>\n      <td>4.0</td>\n      <td>3.0</td>\n      <td>5.0</td>\n      <td>4.0</td>\n      <td>4.0</td>\n      <td>4.0</td>\n    </tr>\n    <tr>\n      <th>3</th>\n      <td>56a5da6181a8ca000d3e7f40</td>\n      <td>MC</td>\n      <td>4.0</td>\n      <td>1.0</td>\n      <td>4.0</td>\n      <td>3.0</td>\n      <td>2.0</td>\n      <td>3.0</td>\n      <td>5.0</td>\n      <td>4.0</td>\n      <td>...</td>\n      <td>5.0</td>\n      <td>5.0</td>\n      <td>3.0</td>\n      <td>3.0</td>\n      <td>4.0</td>\n      <td>3.0</td>\n      <td>3.0</td>\n      <td>4.0</td>\n      <td>4.0</td>\n      <td>3.0</td>\n    </tr>\n    <tr>\n      <th>4</th>\n      <td>56df2ea2452e1300056bc7df</td>\n      <td>MC</td>\n      <td>3.0</td>\n      <td>1.0</td>\n      <td>4.0</td>\n      <td>4.0</td>\n      <td>3.0</td>\n      <td>3.0</td>\n      <td>4.0</td>\n      <td>3.0</td>\n      <td>...</td>\n      <td>1.0</td>\n      <td>1.0</td>\n      <td>2.0</td>\n      <td>1.0</td>\n      <td>2.0</td>\n      <td>2.0</td>\n      <td>1.0</td>\n      <td>2.0</td>\n      <td>1.0</td>\n      <td>2.0</td>\n    </tr>\n  </tbody>\n</table>\n<p>5 rows × 26 columns</p>\n</div>"
     },
     "metadata": {},
     "execution_count": 16
    }
   ],
   "source": [
    "clean['all'] = clean.wish + \" \" + clean.outcome + \" \" + clean.outcome2\n",
    "clean.drop(columns = ['wish', 'outcome', 'outcome2'], inplace=True)\n",
    "\n",
    "# clean['all'] = clean['all'].apply(remove_stop)\n",
    "# model = gensim.models.Word2Vec(clean['all'], min_count = 2)\n",
    "# model.most_similar('happy')\n",
    "\n",
    "# clean = pd.get_dummies(clean, columns = ['useful','mins','other','reuse', 'clarity', 'benefit', 'interest', 'learn'])\n",
    "\n",
    "coders = pd.read_csv('/Users/aditya/Documents/GitHub/NLP-for-motivation-lab/MCII coding replication - coding file(v. analysis).csv')\n",
    "colname = ['id', 'd1', 'd2', 'd3', 'd4', 'd5', 'd6', 's1', 's2', 's3', 's4', 's5', 's6']\n",
    "coders = coders.iloc[:256,:13]\n",
    "coders.columns= colname\n",
    "coders.fillna(1, inplace=True)\n",
    "coders['d'] = round(coders.loc[:,'d1':'d6'].mean(axis=1))\n",
    "coders['s'] = round(coders.loc[:,'s1':'s6'].mean(axis=1))\n",
    "clean = pd.concat([clean, coders], join='outer', axis=1)\n",
    "clean.head()\n",
    "clean.head()"
   ]
  },
  {
   "cell_type": "code",
   "execution_count": 17,
   "metadata": {},
   "outputs": [],
   "source": [
    "# for each_col in clean.loc[:,'useful':'learn']:\n",
    "#     print(each_col)\n",
    "#     plt.hist(clean[each_col])\n",
    "#     print(clean[each_col].value_counts())\n",
    "#     plt.show()"
   ]
  },
  {
   "cell_type": "code",
   "execution_count": 18,
   "metadata": {},
   "outputs": [],
   "source": [
    "history_scores = defaultdict(dict)"
   ]
  },
  {
   "cell_type": "code",
   "execution_count": 19,
   "metadata": {
    "scrolled": false
   },
   "outputs": [],
   "source": [
    "def variation(kind, solver):\n",
    "    history_scores[f'{solver}'][f'{kind}'] = {}\n",
    "    for each_col in clean.loc[:,'useful':'learn']:\n",
    "        mypredictor = predictor.predictor(clean, 'all', kind, solver)\n",
    "        print(\"\\n\" + each_col)\n",
    "        mypredictor.train_on(each_col)\n",
    "        history_scores[f'{mypredictor.solver}'][f'{mypredictor.kind}'][f'{each_col}'] = \\\n",
    "        round(mypredictor.test(), 3)"
   ]
  },
  {
   "cell_type": "code",
   "execution_count": 20,
   "metadata": {},
   "outputs": [
    {
     "output_type": "stream",
     "name": "stdout",
     "text": [
      "\n",
      "useful\n",
      "{'fit_time': array([0.01347804, 0.01676607, 0.01780295]), 'score_time': array([0.00120687, 0.00108099, 0.00123525]), 'test_score': array([0.62962963, 0.65925926, 0.59701493]), 'train_score': array([0.97769517, 0.94423792, 0.93333333])}\n",
      "0.7361111111111112\n",
      "\n",
      "mins\n",
      "{'fit_time': array([0.01439691, 0.01247191, 0.00864816]), 'score_time': array([0.00142908, 0.00069594, 0.00068879]), 'test_score': array([0.7345679 , 0.80246914, 0.83333333]), 'train_score': array([0.97530864, 0.95987654, 0.92592593])}\n",
      "0.8953488372093024\n",
      "\n",
      "other\n",
      "{'fit_time': array([0.01132703, 0.01012588, 0.01739001]), 'score_time': array([0.000705  , 0.00097609, 0.00105095]), 'test_score': array([0.66115702, 0.57024793, 0.60833333]), 'train_score': array([0.94605809, 0.95020747, 0.9214876 ])}\n",
      "0.5846153846153846\n",
      "\n",
      "reuse\n",
      "{'fit_time': array([0.01792908, 0.0149231 , 0.0114181 ]), 'score_time': array([0.00139189, 0.00109911, 0.00151515]), 'test_score': array([0.63309353, 0.58992806, 0.65217391]), 'train_score': array([0.94584838, 0.93140794, 0.94964029])}\n",
      "0.7837837837837838\n",
      "\n",
      "clarity\n",
      "{'fit_time': array([0.01703906, 0.00967717, 0.02451181]), 'score_time': array([0.00137615, 0.00111365, 0.00246406]), 'test_score': array([0.592     , 0.584     , 0.62096774]), 'train_score': array([0.92771084, 0.93975904, 0.912     ])}\n",
      "0.6119402985074627\n",
      "\n",
      "benefit\n",
      "{'fit_time': array([0.00970292, 0.01040411, 0.0096209 ]), 'score_time': array([0.00076413, 0.00094104, 0.00072718]), 'test_score': array([0.65648855, 0.64122137, 0.59230769]), 'train_score': array([0.95402299, 0.94252874, 0.90076336])}\n",
      "0.6428571428571429\n",
      "\n",
      "interest\n",
      "{'fit_time': array([0.01148009, 0.01106286, 0.01276231]), 'score_time': array([0.00076914, 0.00086308, 0.00079679]), 'test_score': array([0.63945578, 0.68027211, 0.66438356]), 'train_score': array([0.93515358, 0.96587031, 0.93197279])}\n",
      "0.717948717948718\n",
      "\n",
      "learn\n",
      "{'fit_time': array([0.01087904, 0.01387882, 0.00977087]), 'score_time': array([0.00079417, 0.0007112 , 0.00089192]), 'test_score': array([0.65116279, 0.6124031 , 0.5859375 ]), 'train_score': array([0.94552529, 0.94163424, 0.92248062])}\n",
      "0.5797101449275363\n"
     ]
    }
   ],
   "source": [
    "variation('l2', 'liblinear')"
   ]
  },
  {
   "cell_type": "code",
   "execution_count": 21,
   "metadata": {},
   "outputs": [
    {
     "output_type": "stream",
     "name": "stdout",
     "text": [
      "\n",
      "useful\n",
      "{'fit_time': array([0.01677513, 0.00918293, 0.00948238]), 'score_time': array([0.00088   , 0.00071216, 0.00076389]), 'test_score': array([0.52592593, 0.4       , 0.44029851]), 'train_score': array([0.53159851, 0.59107807, 0.58518519])}\n",
      "0.6111111111111112\n",
      "\n",
      "mins\n",
      "{'fit_time': array([0.00826287, 0.01328182, 0.01031804]), 'score_time': array([0.00072718, 0.00845718, 0.00072503]), 'test_score': array([0.5617284 , 0.61111111, 0.51234568]), 'train_score': array([0.68518519, 0.66666667, 0.7345679 ])}\n",
      "0.6627906976744186\n",
      "\n",
      "other\n",
      "{'fit_time': array([0.00885296, 0.00905585, 0.00804019]), 'score_time': array([0.00065827, 0.00073028, 0.00112486]), 'test_score': array([0.38016529, 0.3553719 , 0.35833333]), 'train_score': array([0.45643154, 0.42738589, 0.45041322])}\n",
      "0.35384615384615387\n",
      "\n",
      "reuse\n",
      "{'fit_time': array([0.01150298, 0.00892472, 0.00892305]), 'score_time': array([0.00067019, 0.00081038, 0.00081491]), 'test_score': array([0.38129496, 0.32374101, 0.43478261]), 'train_score': array([0.49097473, 0.53068592, 0.46043165])}\n",
      "0.5135135135135135\n",
      "\n",
      "clarity\n",
      "{'fit_time': array([0.00873399, 0.00780797, 0.01075411]), 'score_time': array([0.00082397, 0.00069499, 0.00071001]), 'test_score': array([0.376     , 0.32      , 0.41129032]), 'train_score': array([0.48192771, 0.46184739, 0.488     ])}\n",
      "0.5223880597014925\n",
      "\n",
      "benefit\n",
      "{'fit_time': array([0.008564  , 0.01104689, 0.00942588]), 'score_time': array([0.00076079, 0.00078106, 0.00233006]), 'test_score': array([0.3740458 , 0.34351145, 0.36923077]), 'train_score': array([0.44827586, 0.48275862, 0.49236641])}\n",
      "0.45714285714285713\n",
      "\n",
      "interest\n",
      "{'fit_time': array([0.05775261, 0.04843307, 0.13463902]), 'score_time': array([0.00739408, 0.01600695, 0.0030961 ]), 'test_score': array([0.36734694, 0.48979592, 0.43150685]), 'train_score': array([0.4778157 , 0.56996587, 0.53741497])}\n",
      "0.6282051282051282\n",
      "\n",
      "learn\n",
      "{'fit_time': array([0.00878191, 0.02887011, 0.0098989 ]), 'score_time': array([0.0007329 , 0.00134706, 0.00091529]), 'test_score': array([0.31007752, 0.33333333, 0.3046875 ]), 'train_score': array([0.50972763, 0.48638132, 0.45736434])}\n",
      "0.3188405797101449\n"
     ]
    }
   ],
   "source": [
    "variation('l1', 'liblinear')"
   ]
  },
  {
   "cell_type": "code",
   "execution_count": 22,
   "metadata": {},
   "outputs": [
    {
     "output_type": "stream",
     "name": "stdout",
     "text": [
      "\n",
      "useful\n",
      "{'fit_time': array([0.54537702, 0.6873951 , 0.55810022]), 'score_time': array([0.0006361 , 0.00156188, 0.00120211]), 'test_score': array([0.6       , 0.66666667, 0.67164179]), 'train_score': array([0.9739777 , 0.94423792, 0.95925926])}\n",
      "0.6944444444444444\n",
      "\n",
      "mins\n",
      "{'fit_time': array([0.25978518, 0.32074404, 0.206043  ]), 'score_time': array([0.00071001, 0.00071788, 0.00061178]), 'test_score': array([0.89506173, 0.84567901, 0.84567901]), 'train_score': array([0.97530864, 0.99074074, 0.97839506])}\n",
      "0.8604651162790697\n",
      "\n",
      "other\n",
      "{'fit_time': array([0.31186414, 0.83614421, 0.58006811]), 'score_time': array([0.0012629 , 0.00099683, 0.00128388]), 'test_score': array([0.55371901, 0.63636364, 0.61666667]), 'train_score': array([0.96680498, 0.96680498, 0.94214876])}\n",
      "0.6153846153846154\n",
      "\n",
      "reuse\n",
      "{'fit_time': array([0.76118994, 0.87163424, 0.47901678]), 'score_time': array([0.00082183, 0.00065589, 0.00084901]), 'test_score': array([0.61870504, 0.68345324, 0.55797101]), 'train_score': array([0.9566787 , 0.96028881, 0.94964029])}\n",
      "0.6486486486486487\n",
      "\n",
      "clarity\n",
      "{'fit_time': array([0.56328392, 0.65533996, 0.59513092]), 'score_time': array([0.00170803, 0.00093985, 0.00100398]), 'test_score': array([0.592    , 0.568    , 0.5483871]), 'train_score': array([0.95180723, 0.95582329, 0.956     ])}\n",
      "0.6417910447761194\n",
      "\n",
      "benefit\n",
      "{'fit_time': array([0.48192477, 0.34120989, 0.30174112]), 'score_time': array([0.00136495, 0.00065827, 0.00064397]), 'test_score': array([0.6259542 , 0.51908397, 0.60769231]), 'train_score': array([0.96168582, 0.91954023, 0.9351145 ])}\n",
      "0.7142857142857143\n",
      "\n",
      "interest\n",
      "{'fit_time': array([0.35415697, 0.3714807 , 0.35580611]), 'score_time': array([0.00071001, 0.00083613, 0.00066781]), 'test_score': array([0.69387755, 0.62585034, 0.64383562]), 'train_score': array([0.98293515, 0.92491468, 0.95238095])}\n",
      "0.6923076923076923\n",
      "\n",
      "learn\n",
      "{'fit_time': array([0.335253  , 0.45374489, 0.38011432]), 'score_time': array([0.00095892, 0.0007329 , 0.00068498]), 'test_score': array([0.5503876 , 0.58139535, 0.6328125 ]), 'train_score': array([0.95330739, 0.96108949, 0.96511628])}\n",
      "0.7101449275362319\n"
     ]
    }
   ],
   "source": [
    "variation('l2', 'lbfgs')"
   ]
  },
  {
   "cell_type": "code",
   "execution_count": 23,
   "metadata": {},
   "outputs": [
    {
     "output_type": "stream",
     "name": "stdout",
     "text": [
      "\n",
      "useful\n",
      "{'fit_time': array([0.10228872, 0.11856484, 0.12896729]), 'score_time': array([0.00062013, 0.00089693, 0.00113487]), 'test_score': array([0.68148148, 0.65925926, 0.58955224]), 'train_score': array([0.94795539, 0.96282528, 0.96296296])}\n",
      "0.6944444444444444\n",
      "\n",
      "mins\n",
      "{'fit_time': array([0.07064486, 0.07413006, 0.06009412]), 'score_time': array([0.00091815, 0.00094199, 0.00083995]), 'test_score': array([0.82098765, 0.78395062, 0.7345679 ]), 'train_score': array([0.97222222, 0.95987654, 0.97530864])}\n",
      "0.8604651162790697\n",
      "\n",
      "other\n",
      "{'fit_time': array([0.09083509, 0.07690477, 0.10461736]), 'score_time': array([0.00118017, 0.00077605, 0.00063586]), 'test_score': array([0.66115702, 0.63636364, 0.575     ]), 'train_score': array([0.96680498, 0.94190871, 0.95454545])}\n",
      "0.676923076923077\n",
      "\n",
      "reuse\n",
      "{'fit_time': array([0.09430003, 0.22779202, 0.10845709]), 'score_time': array([0.00227308, 0.00104189, 0.00077391]), 'test_score': array([0.71942446, 0.65467626, 0.67391304]), 'train_score': array([0.96389892, 0.95306859, 0.95683453])}\n",
      "0.6756756756756757\n",
      "\n",
      "clarity\n",
      "{'fit_time': array([0.10632706, 0.18616581, 0.14732194]), 'score_time': array([0.00096774, 0.00851822, 0.00140905]), 'test_score': array([0.504     , 0.6       , 0.64516129]), 'train_score': array([0.93975904, 0.95983936, 0.96      ])}\n",
      "0.6417910447761194\n",
      "\n",
      "benefit\n",
      "{'fit_time': array([0.27802896, 0.1218009 , 0.13336086]), 'score_time': array([0.00067925, 0.00068998, 0.00060701]), 'test_score': array([0.54961832, 0.59541985, 0.54615385]), 'train_score': array([0.94636015, 0.95402299, 0.94274809])}\n",
      "0.6857142857142857\n",
      "\n",
      "interest\n",
      "{'fit_time': array([0.08929324, 0.0888021 , 0.10422993]), 'score_time': array([0.00109386, 0.00068688, 0.00068235]), 'test_score': array([0.61904762, 0.6462585 , 0.69178082]), 'train_score': array([0.96245734, 0.96245734, 0.94557823])}\n",
      "0.6282051282051282\n",
      "\n",
      "learn\n",
      "{'fit_time': array([0.08541799, 0.08238173, 0.09290719]), 'score_time': array([0.00072694, 0.00058699, 0.00085187]), 'test_score': array([0.62790698, 0.59689922, 0.6796875 ]), 'train_score': array([0.96498054, 0.95330739, 0.96511628])}\n",
      "0.6086956521739131\n"
     ]
    }
   ],
   "source": [
    "variation('l2', 'newton-cg')"
   ]
  },
  {
   "cell_type": "code",
   "execution_count": 24,
   "metadata": {},
   "outputs": [
    {
     "output_type": "execute_result",
     "data": {
      "text/plain": [
       "defaultdict(dict,\n",
       "            {'liblinear': {'l2': {'useful': 0.736,\n",
       "               'mins': 0.895,\n",
       "               'other': 0.585,\n",
       "               'reuse': 0.784,\n",
       "               'clarity': 0.612,\n",
       "               'benefit': 0.643,\n",
       "               'interest': 0.718,\n",
       "               'learn': 0.58},\n",
       "              'l1': {'useful': 0.611,\n",
       "               'mins': 0.663,\n",
       "               'other': 0.354,\n",
       "               'reuse': 0.514,\n",
       "               'clarity': 0.522,\n",
       "               'benefit': 0.457,\n",
       "               'interest': 0.628,\n",
       "               'learn': 0.319}},\n",
       "             'lbfgs': {'l2': {'useful': 0.694,\n",
       "               'mins': 0.86,\n",
       "               'other': 0.615,\n",
       "               'reuse': 0.649,\n",
       "               'clarity': 0.642,\n",
       "               'benefit': 0.714,\n",
       "               'interest': 0.692,\n",
       "               'learn': 0.71}},\n",
       "             'newton-cg': {'l2': {'useful': 0.694,\n",
       "               'mins': 0.86,\n",
       "               'other': 0.677,\n",
       "               'reuse': 0.676,\n",
       "               'clarity': 0.642,\n",
       "               'benefit': 0.686,\n",
       "               'interest': 0.628,\n",
       "               'learn': 0.609}}})"
      ]
     },
     "metadata": {},
     "execution_count": 24
    }
   ],
   "source": [
    "history_scores"
   ]
  },
  {
   "cell_type": "code",
   "execution_count": 25,
   "metadata": {},
   "outputs": [
    {
     "output_type": "stream",
     "name": "stdout",
     "text": [
      "{'fit_time': array([0.66337395, 0.651057  , 0.63933992]), 'score_time': array([0.00099802, 0.00068092, 0.00115108]), 'test_score': array([0.78612717, 0.83236994, 0.8372093 ]), 'train_score': array([0.92753623, 0.94782609, 0.93352601])}\n0.8369565217391305\n"
     ]
    },
    {
     "output_type": "execute_result",
     "data": {
      "text/plain": [
       "0.8369565217391305"
      ]
     },
     "metadata": {},
     "execution_count": 25
    }
   ],
   "source": [
    "#checking predictor performance for specificity\n",
    "\n",
    "mypredictor_coding = predictor.predictor(clean, 'all', k_neighbors = 3)\n",
    "mypredictor_coding.train_on('s')\n",
    "mypredictor_coding.test()"
   ]
  },
  {
   "cell_type": "code",
   "execution_count": 26,
   "metadata": {},
   "outputs": [
    {
     "output_type": "error",
     "ename": "TypeError",
     "evalue": "expected dimension <= 2 array or matrix",
     "traceback": [
      "\u001b[0;31m---------------------------------------------------------------------------\u001b[0m",
      "\u001b[0;31mTypeError\u001b[0m                                 Traceback (most recent call last)",
      "\u001b[0;32m<ipython-input-26-3c684b35cb36>\u001b[0m in \u001b[0;36m<module>\u001b[0;34m\u001b[0m\n\u001b[0;32m----> 1\u001b[0;31m \u001b[0mmypredictor_coding\u001b[0m\u001b[0;34m.\u001b[0m\u001b[0mpredict\u001b[0m\u001b[0;34m(\u001b[0m\u001b[0;34m\"Get extra hours at work so I can be able to pay for things my family needs I would be able to take care of my family and what they need or want If I was able to fulfill this goal, I would have extra hours to able to bring more money home to my family and take care of the little things that we need and want. We could be able to go on vacation and do whatever extra stuff that we want.\"\u001b[0m\u001b[0;34m)\u001b[0m\u001b[0;34m\u001b[0m\u001b[0;34m\u001b[0m\u001b[0m\n\u001b[0m",
      "\u001b[0;32m~/Documents/GitHub/NLP-for-motivation-lab/predictor.py\u001b[0m in \u001b[0;36mpredict\u001b[0;34m(self, x)\u001b[0m\n\u001b[1;32m     63\u001b[0m         \u001b[0mx\u001b[0m \u001b[0;34m=\u001b[0m \u001b[0mself\u001b[0m\u001b[0;34m.\u001b[0m\u001b[0mvectorizer\u001b[0m\u001b[0;34m.\u001b[0m\u001b[0mtransform\u001b[0m\u001b[0;34m(\u001b[0m\u001b[0;34m[\u001b[0m\u001b[0mx\u001b[0m\u001b[0;34m]\u001b[0m\u001b[0;34m)\u001b[0m\u001b[0;34m\u001b[0m\u001b[0;34m\u001b[0m\u001b[0m\n\u001b[1;32m     64\u001b[0m         \u001b[0;31m# x = hstack((x,np.array([count, length])[:,None]))\u001b[0m\u001b[0;34m\u001b[0m\u001b[0;34m\u001b[0m\u001b[0;34m\u001b[0m\u001b[0m\n\u001b[0;32m---> 65\u001b[0;31m         \u001b[0mx\u001b[0m \u001b[0;34m=\u001b[0m \u001b[0mhstack\u001b[0m\u001b[0;34m(\u001b[0m\u001b[0;34m(\u001b[0m\u001b[0mx\u001b[0m\u001b[0;34m,\u001b[0m\u001b[0mnp\u001b[0m\u001b[0;34m.\u001b[0m\u001b[0marray\u001b[0m\u001b[0;34m(\u001b[0m\u001b[0;34m[\u001b[0m\u001b[0;34m[\u001b[0m\u001b[0mcount\u001b[0m\u001b[0;34m,\u001b[0m \u001b[0mlength\u001b[0m\u001b[0;34m]\u001b[0m\u001b[0;34m]\u001b[0m\u001b[0;34m)\u001b[0m\u001b[0;34m[\u001b[0m\u001b[0;34m:\u001b[0m\u001b[0;34m,\u001b[0m\u001b[0;32mNone\u001b[0m\u001b[0;34m]\u001b[0m\u001b[0;34m)\u001b[0m\u001b[0;34m)\u001b[0m\u001b[0;34m\u001b[0m\u001b[0;34m\u001b[0m\u001b[0m\n\u001b[0m\u001b[1;32m     66\u001b[0m         \u001b[0;32mreturn\u001b[0m\u001b[0;34m(\u001b[0m\u001b[0mself\u001b[0m\u001b[0;34m.\u001b[0m\u001b[0mmodel\u001b[0m\u001b[0;34m.\u001b[0m\u001b[0mpredict_proba\u001b[0m\u001b[0;34m(\u001b[0m\u001b[0mx\u001b[0m\u001b[0;34m)\u001b[0m \u001b[0;34m+\u001b[0m \u001b[0;34m\"\\n The predicted value is = \"\u001b[0m \u001b[0;34m+\u001b[0m \u001b[0mself\u001b[0m\u001b[0;34m.\u001b[0m\u001b[0mmodel\u001b[0m\u001b[0;34m.\u001b[0m\u001b[0mpredict\u001b[0m\u001b[0;34m(\u001b[0m\u001b[0mx\u001b[0m\u001b[0;34m)\u001b[0m\u001b[0;34m)\u001b[0m\u001b[0;34m\u001b[0m\u001b[0;34m\u001b[0m\u001b[0m\n",
      "\u001b[0;32m/usr/local/lib/python3.7/site-packages/scipy/sparse/construct.py\u001b[0m in \u001b[0;36mhstack\u001b[0;34m(blocks, format, dtype)\u001b[0m\n\u001b[1;32m    463\u001b[0m \u001b[0;34m\u001b[0m\u001b[0m\n\u001b[1;32m    464\u001b[0m     \"\"\"\n\u001b[0;32m--> 465\u001b[0;31m     \u001b[0;32mreturn\u001b[0m \u001b[0mbmat\u001b[0m\u001b[0;34m(\u001b[0m\u001b[0;34m[\u001b[0m\u001b[0mblocks\u001b[0m\u001b[0;34m]\u001b[0m\u001b[0;34m,\u001b[0m \u001b[0mformat\u001b[0m\u001b[0;34m=\u001b[0m\u001b[0mformat\u001b[0m\u001b[0;34m,\u001b[0m \u001b[0mdtype\u001b[0m\u001b[0;34m=\u001b[0m\u001b[0mdtype\u001b[0m\u001b[0;34m)\u001b[0m\u001b[0;34m\u001b[0m\u001b[0;34m\u001b[0m\u001b[0m\n\u001b[0m\u001b[1;32m    466\u001b[0m \u001b[0;34m\u001b[0m\u001b[0m\n\u001b[1;32m    467\u001b[0m \u001b[0;34m\u001b[0m\u001b[0m\n",
      "\u001b[0;32m/usr/local/lib/python3.7/site-packages/scipy/sparse/construct.py\u001b[0m in \u001b[0;36mbmat\u001b[0;34m(blocks, format, dtype)\u001b[0m\n\u001b[1;32m    572\u001b[0m         \u001b[0;32mfor\u001b[0m \u001b[0mj\u001b[0m \u001b[0;32min\u001b[0m \u001b[0mrange\u001b[0m\u001b[0;34m(\u001b[0m\u001b[0mN\u001b[0m\u001b[0;34m)\u001b[0m\u001b[0;34m:\u001b[0m\u001b[0;34m\u001b[0m\u001b[0;34m\u001b[0m\u001b[0m\n\u001b[1;32m    573\u001b[0m             \u001b[0;32mif\u001b[0m \u001b[0mblocks\u001b[0m\u001b[0;34m[\u001b[0m\u001b[0mi\u001b[0m\u001b[0;34m,\u001b[0m\u001b[0mj\u001b[0m\u001b[0;34m]\u001b[0m \u001b[0;32mis\u001b[0m \u001b[0;32mnot\u001b[0m \u001b[0;32mNone\u001b[0m\u001b[0;34m:\u001b[0m\u001b[0;34m\u001b[0m\u001b[0;34m\u001b[0m\u001b[0m\n\u001b[0;32m--> 574\u001b[0;31m                 \u001b[0mA\u001b[0m \u001b[0;34m=\u001b[0m \u001b[0mcoo_matrix\u001b[0m\u001b[0;34m(\u001b[0m\u001b[0mblocks\u001b[0m\u001b[0;34m[\u001b[0m\u001b[0mi\u001b[0m\u001b[0;34m,\u001b[0m\u001b[0mj\u001b[0m\u001b[0;34m]\u001b[0m\u001b[0;34m)\u001b[0m\u001b[0;34m\u001b[0m\u001b[0;34m\u001b[0m\u001b[0m\n\u001b[0m\u001b[1;32m    575\u001b[0m                 \u001b[0mblocks\u001b[0m\u001b[0;34m[\u001b[0m\u001b[0mi\u001b[0m\u001b[0;34m,\u001b[0m\u001b[0mj\u001b[0m\u001b[0;34m]\u001b[0m \u001b[0;34m=\u001b[0m \u001b[0mA\u001b[0m\u001b[0;34m\u001b[0m\u001b[0;34m\u001b[0m\u001b[0m\n\u001b[1;32m    576\u001b[0m                 \u001b[0mblock_mask\u001b[0m\u001b[0;34m[\u001b[0m\u001b[0mi\u001b[0m\u001b[0;34m,\u001b[0m\u001b[0mj\u001b[0m\u001b[0;34m]\u001b[0m \u001b[0;34m=\u001b[0m \u001b[0;32mTrue\u001b[0m\u001b[0;34m\u001b[0m\u001b[0;34m\u001b[0m\u001b[0m\n",
      "\u001b[0;32m/usr/local/lib/python3.7/site-packages/scipy/sparse/coo.py\u001b[0m in \u001b[0;36m__init__\u001b[0;34m(self, arg1, shape, dtype, copy)\u001b[0m\n\u001b[1;32m    181\u001b[0m \u001b[0;34m\u001b[0m\u001b[0m\n\u001b[1;32m    182\u001b[0m                 \u001b[0;32mif\u001b[0m \u001b[0mM\u001b[0m\u001b[0;34m.\u001b[0m\u001b[0mndim\u001b[0m \u001b[0;34m!=\u001b[0m \u001b[0;36m2\u001b[0m\u001b[0;34m:\u001b[0m\u001b[0;34m\u001b[0m\u001b[0;34m\u001b[0m\u001b[0m\n\u001b[0;32m--> 183\u001b[0;31m                     \u001b[0;32mraise\u001b[0m \u001b[0mTypeError\u001b[0m\u001b[0;34m(\u001b[0m\u001b[0;34m'expected dimension <= 2 array or matrix'\u001b[0m\u001b[0;34m)\u001b[0m\u001b[0;34m\u001b[0m\u001b[0;34m\u001b[0m\u001b[0m\n\u001b[0m\u001b[1;32m    184\u001b[0m \u001b[0;34m\u001b[0m\u001b[0m\n\u001b[1;32m    185\u001b[0m                 \u001b[0mself\u001b[0m\u001b[0;34m.\u001b[0m\u001b[0m_shape\u001b[0m \u001b[0;34m=\u001b[0m \u001b[0mcheck_shape\u001b[0m\u001b[0;34m(\u001b[0m\u001b[0mM\u001b[0m\u001b[0;34m.\u001b[0m\u001b[0mshape\u001b[0m\u001b[0;34m)\u001b[0m\u001b[0;34m\u001b[0m\u001b[0;34m\u001b[0m\u001b[0m\n",
      "\u001b[0;31mTypeError\u001b[0m: expected dimension <= 2 array or matrix"
     ]
    }
   ],
   "source": [
    "mypredictor_coding.predict(\"Get extra hours at work so I can be able to pay for things my family needs I would be able to take care of my family and what they need or want If I was able to fulfill this goal, I would have extra hours to able to bring more money home to my family and take care of the little things that we need and want. We could be able to go on vacation and do whatever extra stuff that we want.\")"
   ]
  },
  {
   "cell_type": "code",
   "execution_count": 27,
   "metadata": {},
   "outputs": [
    {
     "output_type": "execute_result",
     "data": {
      "text/plain": [
       "                  coef\n",
       "best outcome  1.121172\n",
       "no            1.068561\n",
       "outcome       1.054009\n",
       "nice          1.037671\n",
       "best          0.968832\n",
       "...                ...\n",
       "eating       -0.513334\n",
       "satisfied    -0.584102\n",
       "pizza        -0.641077\n",
       "very excited -0.652505\n",
       "happy        -0.770163\n",
       "\n",
       "[997 rows x 1 columns]"
      ],
      "text/html": "<div>\n<style scoped>\n    .dataframe tbody tr th:only-of-type {\n        vertical-align: middle;\n    }\n\n    .dataframe tbody tr th {\n        vertical-align: top;\n    }\n\n    .dataframe thead th {\n        text-align: right;\n    }\n</style>\n<table border=\"1\" class=\"dataframe\">\n  <thead>\n    <tr style=\"text-align: right;\">\n      <th></th>\n      <th>coef</th>\n    </tr>\n  </thead>\n  <tbody>\n    <tr>\n      <th>best outcome</th>\n      <td>1.121172</td>\n    </tr>\n    <tr>\n      <th>no</th>\n      <td>1.068561</td>\n    </tr>\n    <tr>\n      <th>outcome</th>\n      <td>1.054009</td>\n    </tr>\n    <tr>\n      <th>nice</th>\n      <td>1.037671</td>\n    </tr>\n    <tr>\n      <th>best</th>\n      <td>0.968832</td>\n    </tr>\n    <tr>\n      <th>...</th>\n      <td>...</td>\n    </tr>\n    <tr>\n      <th>eating</th>\n      <td>-0.513334</td>\n    </tr>\n    <tr>\n      <th>satisfied</th>\n      <td>-0.584102</td>\n    </tr>\n    <tr>\n      <th>pizza</th>\n      <td>-0.641077</td>\n    </tr>\n    <tr>\n      <th>very excited</th>\n      <td>-0.652505</td>\n    </tr>\n    <tr>\n      <th>happy</th>\n      <td>-0.770163</td>\n    </tr>\n  </tbody>\n</table>\n<p>997 rows × 1 columns</p>\n</div>"
     },
     "metadata": {},
     "execution_count": 27
    }
   ],
   "source": [
    "pd.DataFrame(mypredictor_coding.model.coef_[0][:-1], \n",
    "             mypredictor_coding.vectorizer.get_feature_names(), \n",
    "             columns=['coef'])\\\n",
    "            .sort_values(by='coef', ascending=False)"
   ]
  },
  {
   "cell_type": "code",
   "execution_count": 28,
   "metadata": {},
   "outputs": [
    {
     "output_type": "stream",
     "name": "stdout",
     "text": [
      "{'fit_time': array([0.67229128, 0.45767975, 0.66482997]), 'score_time': array([0.00058866, 0.00114202, 0.00134015]), 'test_score': array([0.78378378, 0.76870748, 0.81632653]), 'train_score': array([0.93877551, 0.93898305, 0.94237288])}\n0.8076923076923077\n"
     ]
    },
    {
     "output_type": "execute_result",
     "data": {
      "text/plain": [
       "0.8076923076923077"
      ]
     },
     "metadata": {},
     "execution_count": 28
    }
   ],
   "source": [
    "#checking predictor performance for directness\n",
    "\n",
    "mypredictor_coding = predictor.predictor(clean, 'all')\n",
    "mypredictor_coding.train_on('d')\n",
    "mypredictor_coding.test()"
   ]
  },
  {
   "cell_type": "code",
   "execution_count": 29,
   "metadata": {},
   "outputs": [
    {
     "output_type": "error",
     "ename": "TypeError",
     "evalue": "expected dimension <= 2 array or matrix",
     "traceback": [
      "\u001b[0;31m---------------------------------------------------------------------------\u001b[0m",
      "\u001b[0;31mTypeError\u001b[0m                                 Traceback (most recent call last)",
      "\u001b[0;32m<ipython-input-29-3c684b35cb36>\u001b[0m in \u001b[0;36m<module>\u001b[0;34m\u001b[0m\n\u001b[0;32m----> 1\u001b[0;31m \u001b[0mmypredictor_coding\u001b[0m\u001b[0;34m.\u001b[0m\u001b[0mpredict\u001b[0m\u001b[0;34m(\u001b[0m\u001b[0;34m\"Get extra hours at work so I can be able to pay for things my family needs I would be able to take care of my family and what they need or want If I was able to fulfill this goal, I would have extra hours to able to bring more money home to my family and take care of the little things that we need and want. We could be able to go on vacation and do whatever extra stuff that we want.\"\u001b[0m\u001b[0;34m)\u001b[0m\u001b[0;34m\u001b[0m\u001b[0;34m\u001b[0m\u001b[0m\n\u001b[0m",
      "\u001b[0;32m~/Documents/GitHub/NLP-for-motivation-lab/predictor.py\u001b[0m in \u001b[0;36mpredict\u001b[0;34m(self, x)\u001b[0m\n\u001b[1;32m     63\u001b[0m         \u001b[0mx\u001b[0m \u001b[0;34m=\u001b[0m \u001b[0mself\u001b[0m\u001b[0;34m.\u001b[0m\u001b[0mvectorizer\u001b[0m\u001b[0;34m.\u001b[0m\u001b[0mtransform\u001b[0m\u001b[0;34m(\u001b[0m\u001b[0;34m[\u001b[0m\u001b[0mx\u001b[0m\u001b[0;34m]\u001b[0m\u001b[0;34m)\u001b[0m\u001b[0;34m\u001b[0m\u001b[0;34m\u001b[0m\u001b[0m\n\u001b[1;32m     64\u001b[0m         \u001b[0;31m# x = hstack((x,np.array([count, length])[:,None]))\u001b[0m\u001b[0;34m\u001b[0m\u001b[0;34m\u001b[0m\u001b[0;34m\u001b[0m\u001b[0m\n\u001b[0;32m---> 65\u001b[0;31m         \u001b[0mx\u001b[0m \u001b[0;34m=\u001b[0m \u001b[0mhstack\u001b[0m\u001b[0;34m(\u001b[0m\u001b[0;34m(\u001b[0m\u001b[0mx\u001b[0m\u001b[0;34m,\u001b[0m\u001b[0mnp\u001b[0m\u001b[0;34m.\u001b[0m\u001b[0marray\u001b[0m\u001b[0;34m(\u001b[0m\u001b[0;34m[\u001b[0m\u001b[0;34m[\u001b[0m\u001b[0mcount\u001b[0m\u001b[0;34m,\u001b[0m \u001b[0mlength\u001b[0m\u001b[0;34m]\u001b[0m\u001b[0;34m]\u001b[0m\u001b[0;34m)\u001b[0m\u001b[0;34m[\u001b[0m\u001b[0;34m:\u001b[0m\u001b[0;34m,\u001b[0m\u001b[0;32mNone\u001b[0m\u001b[0;34m]\u001b[0m\u001b[0;34m)\u001b[0m\u001b[0;34m)\u001b[0m\u001b[0;34m\u001b[0m\u001b[0;34m\u001b[0m\u001b[0m\n\u001b[0m\u001b[1;32m     66\u001b[0m         \u001b[0;32mreturn\u001b[0m\u001b[0;34m(\u001b[0m\u001b[0mself\u001b[0m\u001b[0;34m.\u001b[0m\u001b[0mmodel\u001b[0m\u001b[0;34m.\u001b[0m\u001b[0mpredict_proba\u001b[0m\u001b[0;34m(\u001b[0m\u001b[0mx\u001b[0m\u001b[0;34m)\u001b[0m \u001b[0;34m+\u001b[0m \u001b[0;34m\"\\n The predicted value is = \"\u001b[0m \u001b[0;34m+\u001b[0m \u001b[0mself\u001b[0m\u001b[0;34m.\u001b[0m\u001b[0mmodel\u001b[0m\u001b[0;34m.\u001b[0m\u001b[0mpredict\u001b[0m\u001b[0;34m(\u001b[0m\u001b[0mx\u001b[0m\u001b[0;34m)\u001b[0m\u001b[0;34m)\u001b[0m\u001b[0;34m\u001b[0m\u001b[0;34m\u001b[0m\u001b[0m\n",
      "\u001b[0;32m/usr/local/lib/python3.7/site-packages/scipy/sparse/construct.py\u001b[0m in \u001b[0;36mhstack\u001b[0;34m(blocks, format, dtype)\u001b[0m\n\u001b[1;32m    463\u001b[0m \u001b[0;34m\u001b[0m\u001b[0m\n\u001b[1;32m    464\u001b[0m     \"\"\"\n\u001b[0;32m--> 465\u001b[0;31m     \u001b[0;32mreturn\u001b[0m \u001b[0mbmat\u001b[0m\u001b[0;34m(\u001b[0m\u001b[0;34m[\u001b[0m\u001b[0mblocks\u001b[0m\u001b[0;34m]\u001b[0m\u001b[0;34m,\u001b[0m \u001b[0mformat\u001b[0m\u001b[0;34m=\u001b[0m\u001b[0mformat\u001b[0m\u001b[0;34m,\u001b[0m \u001b[0mdtype\u001b[0m\u001b[0;34m=\u001b[0m\u001b[0mdtype\u001b[0m\u001b[0;34m)\u001b[0m\u001b[0;34m\u001b[0m\u001b[0;34m\u001b[0m\u001b[0m\n\u001b[0m\u001b[1;32m    466\u001b[0m \u001b[0;34m\u001b[0m\u001b[0m\n\u001b[1;32m    467\u001b[0m \u001b[0;34m\u001b[0m\u001b[0m\n",
      "\u001b[0;32m/usr/local/lib/python3.7/site-packages/scipy/sparse/construct.py\u001b[0m in \u001b[0;36mbmat\u001b[0;34m(blocks, format, dtype)\u001b[0m\n\u001b[1;32m    572\u001b[0m         \u001b[0;32mfor\u001b[0m \u001b[0mj\u001b[0m \u001b[0;32min\u001b[0m \u001b[0mrange\u001b[0m\u001b[0;34m(\u001b[0m\u001b[0mN\u001b[0m\u001b[0;34m)\u001b[0m\u001b[0;34m:\u001b[0m\u001b[0;34m\u001b[0m\u001b[0;34m\u001b[0m\u001b[0m\n\u001b[1;32m    573\u001b[0m             \u001b[0;32mif\u001b[0m \u001b[0mblocks\u001b[0m\u001b[0;34m[\u001b[0m\u001b[0mi\u001b[0m\u001b[0;34m,\u001b[0m\u001b[0mj\u001b[0m\u001b[0;34m]\u001b[0m \u001b[0;32mis\u001b[0m \u001b[0;32mnot\u001b[0m \u001b[0;32mNone\u001b[0m\u001b[0;34m:\u001b[0m\u001b[0;34m\u001b[0m\u001b[0;34m\u001b[0m\u001b[0m\n\u001b[0;32m--> 574\u001b[0;31m                 \u001b[0mA\u001b[0m \u001b[0;34m=\u001b[0m \u001b[0mcoo_matrix\u001b[0m\u001b[0;34m(\u001b[0m\u001b[0mblocks\u001b[0m\u001b[0;34m[\u001b[0m\u001b[0mi\u001b[0m\u001b[0;34m,\u001b[0m\u001b[0mj\u001b[0m\u001b[0;34m]\u001b[0m\u001b[0;34m)\u001b[0m\u001b[0;34m\u001b[0m\u001b[0;34m\u001b[0m\u001b[0m\n\u001b[0m\u001b[1;32m    575\u001b[0m                 \u001b[0mblocks\u001b[0m\u001b[0;34m[\u001b[0m\u001b[0mi\u001b[0m\u001b[0;34m,\u001b[0m\u001b[0mj\u001b[0m\u001b[0;34m]\u001b[0m \u001b[0;34m=\u001b[0m \u001b[0mA\u001b[0m\u001b[0;34m\u001b[0m\u001b[0;34m\u001b[0m\u001b[0m\n\u001b[1;32m    576\u001b[0m                 \u001b[0mblock_mask\u001b[0m\u001b[0;34m[\u001b[0m\u001b[0mi\u001b[0m\u001b[0;34m,\u001b[0m\u001b[0mj\u001b[0m\u001b[0;34m]\u001b[0m \u001b[0;34m=\u001b[0m \u001b[0;32mTrue\u001b[0m\u001b[0;34m\u001b[0m\u001b[0;34m\u001b[0m\u001b[0m\n",
      "\u001b[0;32m/usr/local/lib/python3.7/site-packages/scipy/sparse/coo.py\u001b[0m in \u001b[0;36m__init__\u001b[0;34m(self, arg1, shape, dtype, copy)\u001b[0m\n\u001b[1;32m    181\u001b[0m \u001b[0;34m\u001b[0m\u001b[0m\n\u001b[1;32m    182\u001b[0m                 \u001b[0;32mif\u001b[0m \u001b[0mM\u001b[0m\u001b[0;34m.\u001b[0m\u001b[0mndim\u001b[0m \u001b[0;34m!=\u001b[0m \u001b[0;36m2\u001b[0m\u001b[0;34m:\u001b[0m\u001b[0;34m\u001b[0m\u001b[0;34m\u001b[0m\u001b[0m\n\u001b[0;32m--> 183\u001b[0;31m                     \u001b[0;32mraise\u001b[0m \u001b[0mTypeError\u001b[0m\u001b[0;34m(\u001b[0m\u001b[0;34m'expected dimension <= 2 array or matrix'\u001b[0m\u001b[0;34m)\u001b[0m\u001b[0;34m\u001b[0m\u001b[0;34m\u001b[0m\u001b[0m\n\u001b[0m\u001b[1;32m    184\u001b[0m \u001b[0;34m\u001b[0m\u001b[0m\n\u001b[1;32m    185\u001b[0m                 \u001b[0mself\u001b[0m\u001b[0;34m.\u001b[0m\u001b[0m_shape\u001b[0m \u001b[0;34m=\u001b[0m \u001b[0mcheck_shape\u001b[0m\u001b[0;34m(\u001b[0m\u001b[0mM\u001b[0m\u001b[0;34m.\u001b[0m\u001b[0mshape\u001b[0m\u001b[0;34m)\u001b[0m\u001b[0;34m\u001b[0m\u001b[0;34m\u001b[0m\u001b[0m\n",
      "\u001b[0;31mTypeError\u001b[0m: expected dimension <= 2 array or matrix"
     ]
    }
   ],
   "source": [
    "mypredictor_coding.predict(\"Get extra hours at work so I can be able to pay for things my family needs I would be able to take care of my family and what they need or want If I was able to fulfill this goal, I would have extra hours to able to bring more money home to my family and take care of the little things that we need and want. We could be able to go on vacation and do whatever extra stuff that we want.\")"
   ]
  },
  {
   "cell_type": "code",
   "execution_count": 30,
   "metadata": {},
   "outputs": [
    {
     "output_type": "execute_result",
     "data": {
      "text/plain": [
       "             coef\n",
       "nice     1.152689\n",
       "no       1.073091\n",
       "you      1.064943\n",
       "car      1.011018\n",
       "way      0.787090\n",
       "...           ...\n",
       "to      -0.563204\n",
       "workout -0.571160\n",
       "will    -0.753253\n",
       "feel    -0.779748\n",
       "would   -0.800541\n",
       "\n",
       "[997 rows x 1 columns]"
      ],
      "text/html": "<div>\n<style scoped>\n    .dataframe tbody tr th:only-of-type {\n        vertical-align: middle;\n    }\n\n    .dataframe tbody tr th {\n        vertical-align: top;\n    }\n\n    .dataframe thead th {\n        text-align: right;\n    }\n</style>\n<table border=\"1\" class=\"dataframe\">\n  <thead>\n    <tr style=\"text-align: right;\">\n      <th></th>\n      <th>coef</th>\n    </tr>\n  </thead>\n  <tbody>\n    <tr>\n      <th>nice</th>\n      <td>1.152689</td>\n    </tr>\n    <tr>\n      <th>no</th>\n      <td>1.073091</td>\n    </tr>\n    <tr>\n      <th>you</th>\n      <td>1.064943</td>\n    </tr>\n    <tr>\n      <th>car</th>\n      <td>1.011018</td>\n    </tr>\n    <tr>\n      <th>way</th>\n      <td>0.787090</td>\n    </tr>\n    <tr>\n      <th>...</th>\n      <td>...</td>\n    </tr>\n    <tr>\n      <th>to</th>\n      <td>-0.563204</td>\n    </tr>\n    <tr>\n      <th>workout</th>\n      <td>-0.571160</td>\n    </tr>\n    <tr>\n      <th>will</th>\n      <td>-0.753253</td>\n    </tr>\n    <tr>\n      <th>feel</th>\n      <td>-0.779748</td>\n    </tr>\n    <tr>\n      <th>would</th>\n      <td>-0.800541</td>\n    </tr>\n  </tbody>\n</table>\n<p>997 rows × 1 columns</p>\n</div>"
     },
     "metadata": {},
     "execution_count": 30
    }
   ],
   "source": [
    "pd.DataFrame(mypredictor_coding.model.coef_[0][:-1], \n",
    "             mypredictor_coding.vectorizer.get_feature_names(), \n",
    "             columns=['coef'])\\\n",
    "            .sort_values(by='coef', ascending=False)"
   ]
  },
  {
   "cell_type": "code",
   "execution_count": 31,
   "metadata": {},
   "outputs": [],
   "source": [
    "#effect of imbalance? \n",
    "#interpreting coeff? \n",
    "#useful exercise? What can be done? \n",
    "#how better approximate coders? "
   ]
  },
  {
   "cell_type": "code",
   "execution_count": 32,
   "metadata": {},
   "outputs": [],
   "source": [
    "coder1_specific_d = clean[['all','d1','d2','d3']][:128]\n",
    "coder1_specific_d['d'] = round(coder1_specific_d[coder1_specific_d.columns[-3:]].mean(axis=1))\n",
    "coder2_specific_d = clean[['all','d1','d2','d3']][128:]\n",
    "coder2_specific_d['d'] = round(coder2_specific_d[coder2_specific_d.columns[-3:]].mean(axis=1))\n",
    "coder3_specific_d = clean[['all','d4','d5','d6']][:128]\n",
    "coder3_specific_d['d'] = round(coder3_specific_d[coder3_specific_d.columns[-3:]].mean(axis=1))\n",
    "coder4_specific_d = clean[['all','d4','d5','d6']][128:]\n",
    "coder4_specific_d['d'] = round(coder4_specific_d[coder4_specific_d.columns[-3:]].mean(axis=1))"
   ]
  },
  {
   "cell_type": "code",
   "execution_count": 33,
   "metadata": {},
   "outputs": [
    {
     "output_type": "stream",
     "name": "stdout",
     "text": [
      "{'fit_time': array([0.28684092, 0.37595987, 0.25536489]), 'score_time': array([0.00053596, 0.00070596, 0.00483608]), 'test_score': array([0.69230769, 0.78461538, 0.61538462]), 'train_score': array([0.95384615, 0.96153846, 0.95384615])}\n0.8\n"
     ]
    },
    {
     "output_type": "execute_result",
     "data": {
      "text/plain": [
       "0.8"
      ]
     },
     "metadata": {},
     "execution_count": 33
    }
   ],
   "source": [
    "coder1_specific_d_predictor = predictor.predictor(coder1_specific_d, 'all')\n",
    "coder1_specific_d_predictor.train_on('d')\n",
    "coder1_specific_d_predictor.test()"
   ]
  },
  {
   "cell_type": "code",
   "execution_count": 34,
   "metadata": {},
   "outputs": [
    {
     "output_type": "stream",
     "name": "stdout",
     "text": [
      "{'fit_time': array([0.20186615, 0.14877892, 0.23002601]), 'score_time': array([0.00054669, 0.00054693, 0.00083613]), 'test_score': array([0.57142857, 0.55102041, 0.60416667]), 'train_score': array([0.91752577, 0.91752577, 0.93877551])}\n0.8461538461538461\n"
     ]
    },
    {
     "output_type": "execute_result",
     "data": {
      "text/plain": [
       "0.8461538461538461"
      ]
     },
     "metadata": {},
     "execution_count": 34
    }
   ],
   "source": [
    "coder2_specific_d_predictor = predictor.predictor(coder2_specific_d, 'all')\n",
    "coder2_specific_d_predictor.train_on('d')\n",
    "coder2_specific_d_predictor.test()"
   ]
  },
  {
   "cell_type": "code",
   "execution_count": 35,
   "metadata": {},
   "outputs": [
    {
     "output_type": "stream",
     "name": "stdout",
     "text": [
      "{'fit_time': array([0.53536582, 0.68376088, 0.36124516]), 'score_time': array([0.00112987, 0.00095391, 0.00054097]), 'test_score': array([0.78461538, 0.69230769, 0.76923077]), 'train_score': array([0.96923077, 0.97692308, 0.95384615])}\n0.7428571428571429\n"
     ]
    },
    {
     "output_type": "execute_result",
     "data": {
      "text/plain": [
       "0.7428571428571429"
      ]
     },
     "metadata": {},
     "execution_count": 35
    }
   ],
   "source": [
    "coder3_specific_d_predictor = predictor.predictor(coder3_specific_d, 'all')\n",
    "coder3_specific_d_predictor.train_on('d')\n",
    "coder3_specific_d_predictor.test()"
   ]
  },
  {
   "cell_type": "code",
   "execution_count": 36,
   "metadata": {},
   "outputs": [
    {
     "output_type": "error",
     "ename": "ValueError",
     "evalue": "Expected n_neighbors <= n_samples,  but n_samples = 1, n_neighbors = 2",
     "traceback": [
      "\u001b[0;31m---------------------------------------------------------------------------\u001b[0m",
      "\u001b[0;31mValueError\u001b[0m                                Traceback (most recent call last)",
      "\u001b[0;32m<ipython-input-36-0895bafa8772>\u001b[0m in \u001b[0;36m<module>\u001b[0;34m\u001b[0m\n\u001b[1;32m      1\u001b[0m \u001b[0mcoder4_specific_d_predictor\u001b[0m \u001b[0;34m=\u001b[0m \u001b[0mpredictor\u001b[0m\u001b[0;34m.\u001b[0m\u001b[0mpredictor\u001b[0m\u001b[0;34m(\u001b[0m\u001b[0mcoder4_specific_d\u001b[0m\u001b[0;34m,\u001b[0m \u001b[0;34m'all'\u001b[0m\u001b[0;34m,\u001b[0m \u001b[0mk_neighbors\u001b[0m\u001b[0;34m=\u001b[0m \u001b[0;36m1\u001b[0m\u001b[0;34m)\u001b[0m\u001b[0;34m\u001b[0m\u001b[0;34m\u001b[0m\u001b[0m\n\u001b[0;32m----> 2\u001b[0;31m \u001b[0mcoder4_specific_d_predictor\u001b[0m\u001b[0;34m.\u001b[0m\u001b[0mtrain_on\u001b[0m\u001b[0;34m(\u001b[0m\u001b[0;34m'd'\u001b[0m\u001b[0;34m)\u001b[0m\u001b[0;34m\u001b[0m\u001b[0;34m\u001b[0m\u001b[0m\n\u001b[0m\u001b[1;32m      3\u001b[0m \u001b[0mcoder4_specific_d_predictor\u001b[0m\u001b[0;34m.\u001b[0m\u001b[0mtest\u001b[0m\u001b[0;34m(\u001b[0m\u001b[0;34m)\u001b[0m\u001b[0;34m\u001b[0m\u001b[0;34m\u001b[0m\u001b[0m\n",
      "\u001b[0;32m~/Documents/GitHub/NLP-for-motivation-lab/predictor.py\u001b[0m in \u001b[0;36mtrain_on\u001b[0;34m(self, Ycolname)\u001b[0m\n\u001b[1;32m     37\u001b[0m     \u001b[0;32mdef\u001b[0m \u001b[0mtrain_on\u001b[0m\u001b[0;34m(\u001b[0m\u001b[0mself\u001b[0m\u001b[0;34m,\u001b[0m \u001b[0mYcolname\u001b[0m\u001b[0;34m)\u001b[0m\u001b[0;34m:\u001b[0m\u001b[0;34m\u001b[0m\u001b[0;34m\u001b[0m\u001b[0m\n\u001b[1;32m     38\u001b[0m         \u001b[0mself\u001b[0m\u001b[0;34m.\u001b[0m\u001b[0my\u001b[0m \u001b[0;34m=\u001b[0m \u001b[0mself\u001b[0m\u001b[0;34m.\u001b[0m\u001b[0mdf\u001b[0m\u001b[0;34m[\u001b[0m\u001b[0mYcolname\u001b[0m\u001b[0;34m]\u001b[0m\u001b[0;34m\u001b[0m\u001b[0;34m\u001b[0m\u001b[0m\n\u001b[0;32m---> 39\u001b[0;31m         \u001b[0mself\u001b[0m\u001b[0;34m.\u001b[0m\u001b[0mX\u001b[0m\u001b[0;34m,\u001b[0m \u001b[0mself\u001b[0m\u001b[0;34m.\u001b[0m\u001b[0my\u001b[0m \u001b[0;34m=\u001b[0m \u001b[0mself\u001b[0m\u001b[0;34m.\u001b[0m\u001b[0mbalancer\u001b[0m\u001b[0;34m.\u001b[0m\u001b[0mfit_resample\u001b[0m\u001b[0;34m(\u001b[0m\u001b[0mself\u001b[0m\u001b[0;34m.\u001b[0m\u001b[0mX\u001b[0m\u001b[0;34m,\u001b[0m \u001b[0mself\u001b[0m\u001b[0;34m.\u001b[0m\u001b[0my\u001b[0m\u001b[0;34m)\u001b[0m\u001b[0;34m\u001b[0m\u001b[0;34m\u001b[0m\u001b[0m\n\u001b[0m\u001b[1;32m     40\u001b[0m         \u001b[0mself\u001b[0m\u001b[0;34m.\u001b[0m\u001b[0msplit\u001b[0m\u001b[0;34m(\u001b[0m\u001b[0;34m)\u001b[0m\u001b[0;34m\u001b[0m\u001b[0;34m\u001b[0m\u001b[0m\n\u001b[1;32m     41\u001b[0m         \u001b[0mself\u001b[0m\u001b[0;34m.\u001b[0m\u001b[0mmake_model\u001b[0m\u001b[0;34m(\u001b[0m\u001b[0;34m)\u001b[0m\u001b[0;34m\u001b[0m\u001b[0;34m\u001b[0m\u001b[0m\n",
      "\u001b[0;32m/usr/local/lib/python3.7/site-packages/imblearn/base.py\u001b[0m in \u001b[0;36mfit_resample\u001b[0;34m(self, X, y)\u001b[0m\n\u001b[1;32m     81\u001b[0m         )\n\u001b[1;32m     82\u001b[0m \u001b[0;34m\u001b[0m\u001b[0m\n\u001b[0;32m---> 83\u001b[0;31m         \u001b[0moutput\u001b[0m \u001b[0;34m=\u001b[0m \u001b[0mself\u001b[0m\u001b[0;34m.\u001b[0m\u001b[0m_fit_resample\u001b[0m\u001b[0;34m(\u001b[0m\u001b[0mX\u001b[0m\u001b[0;34m,\u001b[0m \u001b[0my\u001b[0m\u001b[0;34m)\u001b[0m\u001b[0;34m\u001b[0m\u001b[0;34m\u001b[0m\u001b[0m\n\u001b[0m\u001b[1;32m     84\u001b[0m \u001b[0;34m\u001b[0m\u001b[0m\n\u001b[1;32m     85\u001b[0m         y_ = (label_binarize(output[1], np.unique(y))\n",
      "\u001b[0;32m/usr/local/lib/python3.7/site-packages/imblearn/over_sampling/_smote.py\u001b[0m in \u001b[0;36m_fit_resample\u001b[0;34m(self, X, y)\u001b[0m\n\u001b[1;32m    730\u001b[0m \u001b[0;34m\u001b[0m\u001b[0m\n\u001b[1;32m    731\u001b[0m             \u001b[0mself\u001b[0m\u001b[0;34m.\u001b[0m\u001b[0mnn_k_\u001b[0m\u001b[0;34m.\u001b[0m\u001b[0mfit\u001b[0m\u001b[0;34m(\u001b[0m\u001b[0mX_class\u001b[0m\u001b[0;34m)\u001b[0m\u001b[0;34m\u001b[0m\u001b[0;34m\u001b[0m\u001b[0m\n\u001b[0;32m--> 732\u001b[0;31m             \u001b[0mnns\u001b[0m \u001b[0;34m=\u001b[0m \u001b[0mself\u001b[0m\u001b[0;34m.\u001b[0m\u001b[0mnn_k_\u001b[0m\u001b[0;34m.\u001b[0m\u001b[0mkneighbors\u001b[0m\u001b[0;34m(\u001b[0m\u001b[0mX_class\u001b[0m\u001b[0;34m,\u001b[0m \u001b[0mreturn_distance\u001b[0m\u001b[0;34m=\u001b[0m\u001b[0;32mFalse\u001b[0m\u001b[0;34m)\u001b[0m\u001b[0;34m[\u001b[0m\u001b[0;34m:\u001b[0m\u001b[0;34m,\u001b[0m \u001b[0;36m1\u001b[0m\u001b[0;34m:\u001b[0m\u001b[0;34m]\u001b[0m\u001b[0;34m\u001b[0m\u001b[0;34m\u001b[0m\u001b[0m\n\u001b[0m\u001b[1;32m    733\u001b[0m             X_new, y_new = self._make_samples(\n\u001b[1;32m    734\u001b[0m                 \u001b[0mX_class\u001b[0m\u001b[0;34m,\u001b[0m \u001b[0my\u001b[0m\u001b[0;34m.\u001b[0m\u001b[0mdtype\u001b[0m\u001b[0;34m,\u001b[0m \u001b[0mclass_sample\u001b[0m\u001b[0;34m,\u001b[0m \u001b[0mX_class\u001b[0m\u001b[0;34m,\u001b[0m \u001b[0mnns\u001b[0m\u001b[0;34m,\u001b[0m \u001b[0mn_samples\u001b[0m\u001b[0;34m,\u001b[0m \u001b[0;36m1.0\u001b[0m\u001b[0;34m\u001b[0m\u001b[0;34m\u001b[0m\u001b[0m\n",
      "\u001b[0;32m/usr/local/lib/python3.7/site-packages/sklearn/neighbors/_base.py\u001b[0m in \u001b[0;36mkneighbors\u001b[0;34m(self, X, n_neighbors, return_distance)\u001b[0m\n\u001b[1;32m    617\u001b[0m                 \u001b[0;34m\"Expected n_neighbors <= n_samples, \"\u001b[0m\u001b[0;34m\u001b[0m\u001b[0;34m\u001b[0m\u001b[0m\n\u001b[1;32m    618\u001b[0m                 \u001b[0;34m\" but n_samples = %d, n_neighbors = %d\"\u001b[0m \u001b[0;34m%\u001b[0m\u001b[0;34m\u001b[0m\u001b[0;34m\u001b[0m\u001b[0m\n\u001b[0;32m--> 619\u001b[0;31m                 \u001b[0;34m(\u001b[0m\u001b[0mn_samples_fit\u001b[0m\u001b[0;34m,\u001b[0m \u001b[0mn_neighbors\u001b[0m\u001b[0;34m)\u001b[0m\u001b[0;34m\u001b[0m\u001b[0;34m\u001b[0m\u001b[0m\n\u001b[0m\u001b[1;32m    620\u001b[0m             )\n\u001b[1;32m    621\u001b[0m \u001b[0;34m\u001b[0m\u001b[0m\n",
      "\u001b[0;31mValueError\u001b[0m: Expected n_neighbors <= n_samples,  but n_samples = 1, n_neighbors = 2"
     ]
    }
   ],
   "source": [
    "coder4_specific_d_predictor = predictor.predictor(coder4_specific_d, 'all', k_neighbors= 1)\n",
    "coder4_specific_d_predictor.train_on('d')\n",
    "coder4_specific_d_predictor.test()"
   ]
  },
  {
   "cell_type": "code",
   "execution_count": 27,
   "metadata": {},
   "outputs": [
    {
     "output_type": "execute_result",
     "data": {
      "text/plain": [
       "Counter({3.0: 45, 4.0: 15, 2.0: 53, 1.0: 14, 5.0: 1})"
      ]
     },
     "metadata": {},
     "execution_count": 27
    }
   ],
   "source": [
    "Counter(coder4_specific_d.d)"
   ]
  },
  {
   "cell_type": "code",
   "execution_count": null,
   "metadata": {},
   "outputs": [],
   "source": []
  }
 ],
 "metadata": {
  "kernelspec": {
   "display_name": "Python 3",
   "language": "python",
   "name": "python3"
  },
  "language_info": {
   "codemirror_mode": {
    "name": "ipython",
    "version": 3
   },
   "file_extension": ".py",
   "mimetype": "text/x-python",
   "name": "python",
   "nbconvert_exporter": "python",
   "pygments_lexer": "ipython3",
   "version": "3.7.4-final"
  }
 },
 "nbformat": 4,
 "nbformat_minor": 2
}
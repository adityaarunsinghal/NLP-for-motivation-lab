{
 "cells": [
  {
   "cell_type": "code",
   "execution_count": 20,
   "metadata": {},
   "outputs": [],
   "source": [
    "from collections import defaultdict\n",
    "import imblearn"
   ]
  },
  {
   "cell_type": "code",
   "execution_count": 21,
   "metadata": {},
   "outputs": [],
   "source": [
    "import pandas as pd\n",
    "import nltk\n",
    "import sklearn as sk\n",
    "import gensim.models\n",
    "import matplotlib.pyplot as plt\n",
    "import seaborn as sns\n",
    "import numpy as np\n",
    "from ast import literal_eval\n",
    "import predictor\n",
    "sns.set()\n",
    "\n",
    "clean = pd.read_csv(\"/Users/aditya/Documents/GitHub/NLP-for-motivation-lab/CleanData(v. analysis).csv\")\n",
    "\n",
    "colname = ['id', 'condition', 'wish', 'outcome', 'outcome2', 'useful', 'mins', 'other', 'reuse', 'clarity', 'benefit', 'interest', 'learn']\n",
    "clean = clean.iloc[:256,:13]\n",
    "clean.columns= colname\n",
    "clean.fillna(\"\", inplace=True)"
   ]
  },
  {
   "cell_type": "code",
   "execution_count": 22,
   "metadata": {},
   "outputs": [],
   "source": [
    "clean['all'] = clean.wish + \" \" + clean.outcome + \" \" + clean.outcome2\n",
    "clean.drop(columns = ['wish', 'outcome', 'outcome2'], inplace=True)"
   ]
  },
  {
   "cell_type": "code",
   "execution_count": 23,
   "metadata": {},
   "outputs": [
    {
     "output_type": "execute_result",
     "data": {
      "text/plain": [
       "                         id condition  useful  mins  other  reuse  clarity  \\\n",
       "0  558af269fdf99b7dfef4d7bd        MC     7.0   1.0    7.0    7.0      7.0   \n",
       "1  55b1add5fdf99b6731f04c5a        MC     1.0   1.0    2.0    1.0      3.0   \n",
       "2  5626a6cfddff3c0011bcd3d8         I     3.0   1.0    2.0    2.0      2.0   \n",
       "3  56a5da6181a8ca000d3e7f40        MC     4.0   1.0    4.0    3.0      2.0   \n",
       "4  56df2ea2452e1300056bc7df        MC     3.0   1.0    4.0    4.0      3.0   \n",
       "\n",
       "   benefit  interest  learn  ...   d5   d6   s1   s2   s3   s4   s5   s6    d  \\\n",
       "0      7.0       7.0    7.0  ...  2.0  5.0  2.0  5.0  5.0  2.0  5.0  5.0  3.0   \n",
       "1      1.0       2.0    2.0  ...  5.0  5.0  4.0  3.0  5.0  4.0  3.0  5.0  5.0   \n",
       "2      2.0       2.0    2.0  ...  5.0  5.0  3.0  5.0  4.0  3.0  5.0  4.0  4.0   \n",
       "3      3.0       5.0    4.0  ...  5.0  5.0  3.0  3.0  4.0  3.0  3.0  4.0  4.0   \n",
       "4      3.0       4.0    3.0  ...  1.0  1.0  2.0  1.0  2.0  2.0  1.0  2.0  1.0   \n",
       "\n",
       "     s  \n",
       "0  4.0  \n",
       "1  4.0  \n",
       "2  4.0  \n",
       "3  3.0  \n",
       "4  2.0  \n",
       "\n",
       "[5 rows x 26 columns]"
      ],
      "text/html": "<div>\n<style scoped>\n    .dataframe tbody tr th:only-of-type {\n        vertical-align: middle;\n    }\n\n    .dataframe tbody tr th {\n        vertical-align: top;\n    }\n\n    .dataframe thead th {\n        text-align: right;\n    }\n</style>\n<table border=\"1\" class=\"dataframe\">\n  <thead>\n    <tr style=\"text-align: right;\">\n      <th></th>\n      <th>id</th>\n      <th>condition</th>\n      <th>useful</th>\n      <th>mins</th>\n      <th>other</th>\n      <th>reuse</th>\n      <th>clarity</th>\n      <th>benefit</th>\n      <th>interest</th>\n      <th>learn</th>\n      <th>...</th>\n      <th>d5</th>\n      <th>d6</th>\n      <th>s1</th>\n      <th>s2</th>\n      <th>s3</th>\n      <th>s4</th>\n      <th>s5</th>\n      <th>s6</th>\n      <th>d</th>\n      <th>s</th>\n    </tr>\n  </thead>\n  <tbody>\n    <tr>\n      <th>0</th>\n      <td>558af269fdf99b7dfef4d7bd</td>\n      <td>MC</td>\n      <td>7.0</td>\n      <td>1.0</td>\n      <td>7.0</td>\n      <td>7.0</td>\n      <td>7.0</td>\n      <td>7.0</td>\n      <td>7.0</td>\n      <td>7.0</td>\n      <td>...</td>\n      <td>2.0</td>\n      <td>5.0</td>\n      <td>2.0</td>\n      <td>5.0</td>\n      <td>5.0</td>\n      <td>2.0</td>\n      <td>5.0</td>\n      <td>5.0</td>\n      <td>3.0</td>\n      <td>4.0</td>\n    </tr>\n    <tr>\n      <th>1</th>\n      <td>55b1add5fdf99b6731f04c5a</td>\n      <td>MC</td>\n      <td>1.0</td>\n      <td>1.0</td>\n      <td>2.0</td>\n      <td>1.0</td>\n      <td>3.0</td>\n      <td>1.0</td>\n      <td>2.0</td>\n      <td>2.0</td>\n      <td>...</td>\n      <td>5.0</td>\n      <td>5.0</td>\n      <td>4.0</td>\n      <td>3.0</td>\n      <td>5.0</td>\n      <td>4.0</td>\n      <td>3.0</td>\n      <td>5.0</td>\n      <td>5.0</td>\n      <td>4.0</td>\n    </tr>\n    <tr>\n      <th>2</th>\n      <td>5626a6cfddff3c0011bcd3d8</td>\n      <td>I</td>\n      <td>3.0</td>\n      <td>1.0</td>\n      <td>2.0</td>\n      <td>2.0</td>\n      <td>2.0</td>\n      <td>2.0</td>\n      <td>2.0</td>\n      <td>2.0</td>\n      <td>...</td>\n      <td>5.0</td>\n      <td>5.0</td>\n      <td>3.0</td>\n      <td>5.0</td>\n      <td>4.0</td>\n      <td>3.0</td>\n      <td>5.0</td>\n      <td>4.0</td>\n      <td>4.0</td>\n      <td>4.0</td>\n    </tr>\n    <tr>\n      <th>3</th>\n      <td>56a5da6181a8ca000d3e7f40</td>\n      <td>MC</td>\n      <td>4.0</td>\n      <td>1.0</td>\n      <td>4.0</td>\n      <td>3.0</td>\n      <td>2.0</td>\n      <td>3.0</td>\n      <td>5.0</td>\n      <td>4.0</td>\n      <td>...</td>\n      <td>5.0</td>\n      <td>5.0</td>\n      <td>3.0</td>\n      <td>3.0</td>\n      <td>4.0</td>\n      <td>3.0</td>\n      <td>3.0</td>\n      <td>4.0</td>\n      <td>4.0</td>\n      <td>3.0</td>\n    </tr>\n    <tr>\n      <th>4</th>\n      <td>56df2ea2452e1300056bc7df</td>\n      <td>MC</td>\n      <td>3.0</td>\n      <td>1.0</td>\n      <td>4.0</td>\n      <td>4.0</td>\n      <td>3.0</td>\n      <td>3.0</td>\n      <td>4.0</td>\n      <td>3.0</td>\n      <td>...</td>\n      <td>1.0</td>\n      <td>1.0</td>\n      <td>2.0</td>\n      <td>1.0</td>\n      <td>2.0</td>\n      <td>2.0</td>\n      <td>1.0</td>\n      <td>2.0</td>\n      <td>1.0</td>\n      <td>2.0</td>\n    </tr>\n  </tbody>\n</table>\n<p>5 rows × 26 columns</p>\n</div>"
     },
     "metadata": {},
     "execution_count": 23
    }
   ],
   "source": [
    "coders = pd.read_csv('/Users/aditya/Documents/GitHub/NLP-for-motivation-lab/MCII coding replication - coding file(v. analysis).csv')\n",
    "colname = ['id', 'd1', 'd2', 'd3', 'd4', 'd5', 'd6', 's1', 's2', 's3', 's4', 's5', 's6']\n",
    "coders = coders.iloc[:256,:13]\n",
    "coders.columns= colname\n",
    "coders.fillna(1, inplace=True)\n",
    "coders['d'] = round(coders.loc[:,'d1':'d6'].mean(axis=1))\n",
    "coders['s'] = round(coders.loc[:,'s1':'s6'].mean(axis=1))\n",
    "clean = pd.concat([clean, coders], join='outer', axis=1)\n",
    "clean.head()"
   ]
  },
  {
   "cell_type": "code",
   "execution_count": 27,
   "metadata": {},
   "outputs": [
    {
     "output_type": "stream",
     "name": "stdout",
     "text": [
      "{'fit_time': array([0.34386611, 0.33522201, 0.44573998]), 'score_time': array([0.00056887, 0.00065422, 0.00088286]), 'test_score': array([0.55844156, 0.53246753, 0.5       ]), 'train_score': array([0.81045752, 0.82352941, 0.83116883])}\n0.38461538461538464\n"
     ]
    },
    {
     "output_type": "execute_result",
     "data": {
      "text/plain": [
       "0.38461538461538464"
      ]
     },
     "metadata": {},
     "execution_count": 27
    }
   ],
   "source": [
    "mypredictor = predictor.predictor(clean, 'all')\n",
    "mypredictor.train_on('d')\n",
    "mypredictor.test()"
   ]
  },
  {
   "cell_type": "code",
   "execution_count": 28,
   "metadata": {},
   "outputs": [],
   "source": [
    "balancer = imblearn.over_sampling.SMOTE()\n",
    "X, y = balancer.fit_resample(mypredictor.get_X(), clean['d'])"
   ]
  },
  {
   "cell_type": "code",
   "execution_count": 34,
   "metadata": {},
   "outputs": [
    {
     "output_type": "error",
     "ename": "AttributeError",
     "evalue": "'predictor' object has no attribute 'manual_X_y'",
     "traceback": [
      "\u001b[0;31m---------------------------------------------------------------------------\u001b[0m",
      "\u001b[0;31mAttributeError\u001b[0m                            Traceback (most recent call last)",
      "\u001b[0;32m<ipython-input-34-f08eb603685d>\u001b[0m in \u001b[0;36m<module>\u001b[0;34m\u001b[0m\n\u001b[0;32m----> 1\u001b[0;31m \u001b[0mmypredictor\u001b[0m\u001b[0;34m.\u001b[0m\u001b[0mmanual_X_y\u001b[0m\u001b[0;34m(\u001b[0m\u001b[0mX\u001b[0m\u001b[0;34m,\u001b[0m\u001b[0my\u001b[0m\u001b[0;34m)\u001b[0m\u001b[0;34m\u001b[0m\u001b[0;34m\u001b[0m\u001b[0m\n\u001b[0m\u001b[1;32m      2\u001b[0m \u001b[0mmypredictor\u001b[0m\u001b[0;34m.\u001b[0m\u001b[0mtest\u001b[0m\u001b[0;34m(\u001b[0m\u001b[0;34m)\u001b[0m\u001b[0;34m\u001b[0m\u001b[0;34m\u001b[0m\u001b[0m\n",
      "\u001b[0;31mAttributeError\u001b[0m: 'predictor' object has no attribute 'manual_X_y'"
     ]
    }
   ],
   "source": [
    "mypredictor.manual_X_y(X,y)\n",
    "mypredictor.test()"
   ]
  },
  {
   "cell_type": "code",
   "execution_count": null,
   "metadata": {},
   "outputs": [],
   "source": []
  }
 ],
 "metadata": {
  "kernelspec": {
   "display_name": "Python 3",
   "language": "python",
   "name": "python3"
  },
  "language_info": {
   "codemirror_mode": {
    "name": "ipython",
    "version": 3
   },
   "file_extension": ".py",
   "mimetype": "text/x-python",
   "name": "python",
   "nbconvert_exporter": "python",
   "pygments_lexer": "ipython3",
   "version": "3.7.4-final"
  }
 },
 "nbformat": 4,
 "nbformat_minor": 2
}
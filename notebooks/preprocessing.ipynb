{
 "metadata": {
  "language_info": {
   "codemirror_mode": {
    "name": "ipython",
    "version": 3
   },
   "file_extension": ".py",
   "mimetype": "text/x-python",
   "name": "python",
   "nbconvert_exporter": "python",
   "pygments_lexer": "ipython3",
   "version": "3.9.1-final"
  },
  "orig_nbformat": 2,
  "kernelspec": {
   "name": "python3",
   "display_name": "Python 3.9.1 64-bit",
   "metadata": {
    "interpreter": {
     "hash": "7812ea015bdcee6f23a998adcdd2ef97c151c0c241b7b7070987d9313e41299d"
    }
   }
  }
 },
 "nbformat": 4,
 "nbformat_minor": 2,
 "cells": [
  {
   "cell_type": "code",
   "execution_count": 140,
   "metadata": {},
   "outputs": [],
   "source": [
    "from preprocess import pp_entries as preprocess\n",
    "from sklearn.linear_model import LogisticRegression\n",
    "from sklearn.linear_model import Lasso\n",
    "from sklearn.model_selection import cross_validate\n",
    "from sklearn.ensemble import RandomForestClassifier\n",
    "from sklearn.model_selection import GridSearchCV\n",
    "from sklearn.pipeline import Pipeline\n",
    "from joblib import load, dump\n",
    "import numpy as np\n",
    "import imblearn"
   ]
  },
  {
   "cell_type": "code",
   "execution_count": 50,
   "metadata": {},
   "outputs": [
    {
     "output_type": "execute_result",
     "data": {
      "text/plain": [
       "                                                   all      scores\n",
       "0    do a Bible study finish Bible study and feel f...  (3.0, 4.0)\n",
       "1    I want to clean my house I will get everything...  (5.0, 4.0)\n",
       "2    Eat healthy and exercise I burn more calories ...  (4.0, 4.0)\n",
       "3    Spend quality time with my cat My cat appears ...  (4.0, 3.0)\n",
       "4          Go out to eat Care Free  Happy, no problems  (1.0, 2.0)\n",
       "..                                                 ...         ...\n",
       "123  finish reading the book im currently reading p...  (3.0, 4.0)\n",
       "124  drink a gallon of water hydrated and energized...  (2.0, 3.0)\n",
       "125  repeat approach fuse comfort souvenir start Al...  (3.0, 2.0)\n",
       "126                                         good no hg  (1.0, 1.0)\n",
       "127  Every business is being asked to fulfill its p...  (5.0, 5.0)\n",
       "\n",
       "[128 rows x 2 columns]"
      ],
      "text/html": "<div>\n<style scoped>\n    .dataframe tbody tr th:only-of-type {\n        vertical-align: middle;\n    }\n\n    .dataframe tbody tr th {\n        vertical-align: top;\n    }\n\n    .dataframe thead th {\n        text-align: right;\n    }\n</style>\n<table border=\"1\" class=\"dataframe\">\n  <thead>\n    <tr style=\"text-align: right;\">\n      <th></th>\n      <th>all</th>\n      <th>scores</th>\n    </tr>\n  </thead>\n  <tbody>\n    <tr>\n      <th>0</th>\n      <td>do a Bible study finish Bible study and feel f...</td>\n      <td>(3.0, 4.0)</td>\n    </tr>\n    <tr>\n      <th>1</th>\n      <td>I want to clean my house I will get everything...</td>\n      <td>(5.0, 4.0)</td>\n    </tr>\n    <tr>\n      <th>2</th>\n      <td>Eat healthy and exercise I burn more calories ...</td>\n      <td>(4.0, 4.0)</td>\n    </tr>\n    <tr>\n      <th>3</th>\n      <td>Spend quality time with my cat My cat appears ...</td>\n      <td>(4.0, 3.0)</td>\n    </tr>\n    <tr>\n      <th>4</th>\n      <td>Go out to eat Care Free  Happy, no problems</td>\n      <td>(1.0, 2.0)</td>\n    </tr>\n    <tr>\n      <th>...</th>\n      <td>...</td>\n      <td>...</td>\n    </tr>\n    <tr>\n      <th>123</th>\n      <td>finish reading the book im currently reading p...</td>\n      <td>(3.0, 4.0)</td>\n    </tr>\n    <tr>\n      <th>124</th>\n      <td>drink a gallon of water hydrated and energized...</td>\n      <td>(2.0, 3.0)</td>\n    </tr>\n    <tr>\n      <th>125</th>\n      <td>repeat approach fuse comfort souvenir start Al...</td>\n      <td>(3.0, 2.0)</td>\n    </tr>\n    <tr>\n      <th>126</th>\n      <td>good no hg</td>\n      <td>(1.0, 1.0)</td>\n    </tr>\n    <tr>\n      <th>127</th>\n      <td>Every business is being asked to fulfill its p...</td>\n      <td>(5.0, 5.0)</td>\n    </tr>\n  </tbody>\n</table>\n<p>128 rows × 2 columns</p>\n</div>"
     },
     "metadata": {},
     "execution_count": 50
    }
   ],
   "source": [
    "export_example = pd.read_pickle('coder_format_example.pkl')\n",
    "export_example"
   ]
  },
  {
   "source": [],
   "cell_type": "markdown",
   "metadata": {}
  },
  {
   "cell_type": "code",
   "execution_count": 51,
   "metadata": {},
   "outputs": [
    {
     "output_type": "execute_result",
     "data": {
      "text/plain": [
       "      VB   DT   JJ   NN  RBR   CC  VBN   MD  VBP  VBG  ...  POS   WP  WDT  \\\n",
       "0    6.0  3.0  5.0  6.0  1.0  2.0  2.0  2.0  1.0  1.0  ...  0.0  0.0  0.0   \n",
       "1    3.0  1.0  1.0  8.0  0.0  0.0  0.0  2.0  1.0  0.0  ...  0.0  0.0  0.0   \n",
       "2    0.0  0.0  4.0  4.0  0.0  2.0  1.0  0.0  3.0  0.0  ...  0.0  0.0  0.0   \n",
       "3    1.0  0.0  5.0  6.0  1.0  2.0  1.0  0.0  2.0  2.0  ...  0.0  0.0  0.0   \n",
       "4    2.0  1.0  3.0  0.0  0.0  0.0  0.0  0.0  0.0  0.0  ...  0.0  0.0  0.0   \n",
       "..   ...  ...  ...  ...  ...  ...  ...  ...  ...  ...  ...  ...  ...  ...   \n",
       "123  4.0  4.0  3.0  8.0  0.0  2.0  0.0  0.0  3.0  3.0  ...  0.0  0.0  0.0   \n",
       "124  1.0  2.0  0.0  5.0  0.0  1.0  2.0  0.0  1.0  0.0  ...  0.0  0.0  0.0   \n",
       "125  1.0  1.0  1.0  4.0  0.0  0.0  0.0  1.0  0.0  0.0  ...  0.0  0.0  0.0   \n",
       "126  0.0  1.0  1.0  1.0  0.0  0.0  0.0  0.0  0.0  0.0  ...  0.0  0.0  0.0   \n",
       "127  6.0  6.0  6.0  9.0  0.0  0.0  9.0  3.0  6.0  3.0  ...  0.0  0.0  0.0   \n",
       "\n",
       "     RBS   ``   ''  PDT    (    )   EX  \n",
       "0    0.0  0.0  0.0  0.0  0.0  0.0  0.0  \n",
       "1    0.0  0.0  0.0  0.0  0.0  0.0  0.0  \n",
       "2    0.0  0.0  0.0  0.0  0.0  0.0  0.0  \n",
       "3    0.0  0.0  0.0  0.0  0.0  0.0  0.0  \n",
       "4    0.0  0.0  0.0  0.0  0.0  0.0  0.0  \n",
       "..   ...  ...  ...  ...  ...  ...  ...  \n",
       "123  0.0  0.0  0.0  0.0  0.0  0.0  0.0  \n",
       "124  0.0  0.0  0.0  0.0  0.0  0.0  0.0  \n",
       "125  0.0  0.0  0.0  1.0  0.0  0.0  0.0  \n",
       "126  0.0  0.0  0.0  0.0  0.0  0.0  0.0  \n",
       "127  0.0  0.0  0.0  0.0  0.0  0.0  0.0  \n",
       "\n",
       "[128 rows x 36 columns]"
      ],
      "text/html": "<div>\n<style scoped>\n    .dataframe tbody tr th:only-of-type {\n        vertical-align: middle;\n    }\n\n    .dataframe tbody tr th {\n        vertical-align: top;\n    }\n\n    .dataframe thead th {\n        text-align: right;\n    }\n</style>\n<table border=\"1\" class=\"dataframe\">\n  <thead>\n    <tr style=\"text-align: right;\">\n      <th></th>\n      <th>VB</th>\n      <th>DT</th>\n      <th>JJ</th>\n      <th>NN</th>\n      <th>RBR</th>\n      <th>CC</th>\n      <th>VBN</th>\n      <th>MD</th>\n      <th>VBP</th>\n      <th>VBG</th>\n      <th>...</th>\n      <th>POS</th>\n      <th>WP</th>\n      <th>WDT</th>\n      <th>RBS</th>\n      <th>``</th>\n      <th>''</th>\n      <th>PDT</th>\n      <th>(</th>\n      <th>)</th>\n      <th>EX</th>\n    </tr>\n  </thead>\n  <tbody>\n    <tr>\n      <th>0</th>\n      <td>6.0</td>\n      <td>3.0</td>\n      <td>5.0</td>\n      <td>6.0</td>\n      <td>1.0</td>\n      <td>2.0</td>\n      <td>2.0</td>\n      <td>2.0</td>\n      <td>1.0</td>\n      <td>1.0</td>\n      <td>...</td>\n      <td>0.0</td>\n      <td>0.0</td>\n      <td>0.0</td>\n      <td>0.0</td>\n      <td>0.0</td>\n      <td>0.0</td>\n      <td>0.0</td>\n      <td>0.0</td>\n      <td>0.0</td>\n      <td>0.0</td>\n    </tr>\n    <tr>\n      <th>1</th>\n      <td>3.0</td>\n      <td>1.0</td>\n      <td>1.0</td>\n      <td>8.0</td>\n      <td>0.0</td>\n      <td>0.0</td>\n      <td>0.0</td>\n      <td>2.0</td>\n      <td>1.0</td>\n      <td>0.0</td>\n      <td>...</td>\n      <td>0.0</td>\n      <td>0.0</td>\n      <td>0.0</td>\n      <td>0.0</td>\n      <td>0.0</td>\n      <td>0.0</td>\n      <td>0.0</td>\n      <td>0.0</td>\n      <td>0.0</td>\n      <td>0.0</td>\n    </tr>\n    <tr>\n      <th>2</th>\n      <td>0.0</td>\n      <td>0.0</td>\n      <td>4.0</td>\n      <td>4.0</td>\n      <td>0.0</td>\n      <td>2.0</td>\n      <td>1.0</td>\n      <td>0.0</td>\n      <td>3.0</td>\n      <td>0.0</td>\n      <td>...</td>\n      <td>0.0</td>\n      <td>0.0</td>\n      <td>0.0</td>\n      <td>0.0</td>\n      <td>0.0</td>\n      <td>0.0</td>\n      <td>0.0</td>\n      <td>0.0</td>\n      <td>0.0</td>\n      <td>0.0</td>\n    </tr>\n    <tr>\n      <th>3</th>\n      <td>1.0</td>\n      <td>0.0</td>\n      <td>5.0</td>\n      <td>6.0</td>\n      <td>1.0</td>\n      <td>2.0</td>\n      <td>1.0</td>\n      <td>0.0</td>\n      <td>2.0</td>\n      <td>2.0</td>\n      <td>...</td>\n      <td>0.0</td>\n      <td>0.0</td>\n      <td>0.0</td>\n      <td>0.0</td>\n      <td>0.0</td>\n      <td>0.0</td>\n      <td>0.0</td>\n      <td>0.0</td>\n      <td>0.0</td>\n      <td>0.0</td>\n    </tr>\n    <tr>\n      <th>4</th>\n      <td>2.0</td>\n      <td>1.0</td>\n      <td>3.0</td>\n      <td>0.0</td>\n      <td>0.0</td>\n      <td>0.0</td>\n      <td>0.0</td>\n      <td>0.0</td>\n      <td>0.0</td>\n      <td>0.0</td>\n      <td>...</td>\n      <td>0.0</td>\n      <td>0.0</td>\n      <td>0.0</td>\n      <td>0.0</td>\n      <td>0.0</td>\n      <td>0.0</td>\n      <td>0.0</td>\n      <td>0.0</td>\n      <td>0.0</td>\n      <td>0.0</td>\n    </tr>\n    <tr>\n      <th>...</th>\n      <td>...</td>\n      <td>...</td>\n      <td>...</td>\n      <td>...</td>\n      <td>...</td>\n      <td>...</td>\n      <td>...</td>\n      <td>...</td>\n      <td>...</td>\n      <td>...</td>\n      <td>...</td>\n      <td>...</td>\n      <td>...</td>\n      <td>...</td>\n      <td>...</td>\n      <td>...</td>\n      <td>...</td>\n      <td>...</td>\n      <td>...</td>\n      <td>...</td>\n      <td>...</td>\n    </tr>\n    <tr>\n      <th>123</th>\n      <td>4.0</td>\n      <td>4.0</td>\n      <td>3.0</td>\n      <td>8.0</td>\n      <td>0.0</td>\n      <td>2.0</td>\n      <td>0.0</td>\n      <td>0.0</td>\n      <td>3.0</td>\n      <td>3.0</td>\n      <td>...</td>\n      <td>0.0</td>\n      <td>0.0</td>\n      <td>0.0</td>\n      <td>0.0</td>\n      <td>0.0</td>\n      <td>0.0</td>\n      <td>0.0</td>\n      <td>0.0</td>\n      <td>0.0</td>\n      <td>0.0</td>\n    </tr>\n    <tr>\n      <th>124</th>\n      <td>1.0</td>\n      <td>2.0</td>\n      <td>0.0</td>\n      <td>5.0</td>\n      <td>0.0</td>\n      <td>1.0</td>\n      <td>2.0</td>\n      <td>0.0</td>\n      <td>1.0</td>\n      <td>0.0</td>\n      <td>...</td>\n      <td>0.0</td>\n      <td>0.0</td>\n      <td>0.0</td>\n      <td>0.0</td>\n      <td>0.0</td>\n      <td>0.0</td>\n      <td>0.0</td>\n      <td>0.0</td>\n      <td>0.0</td>\n      <td>0.0</td>\n    </tr>\n    <tr>\n      <th>125</th>\n      <td>1.0</td>\n      <td>1.0</td>\n      <td>1.0</td>\n      <td>4.0</td>\n      <td>0.0</td>\n      <td>0.0</td>\n      <td>0.0</td>\n      <td>1.0</td>\n      <td>0.0</td>\n      <td>0.0</td>\n      <td>...</td>\n      <td>0.0</td>\n      <td>0.0</td>\n      <td>0.0</td>\n      <td>0.0</td>\n      <td>0.0</td>\n      <td>0.0</td>\n      <td>1.0</td>\n      <td>0.0</td>\n      <td>0.0</td>\n      <td>0.0</td>\n    </tr>\n    <tr>\n      <th>126</th>\n      <td>0.0</td>\n      <td>1.0</td>\n      <td>1.0</td>\n      <td>1.0</td>\n      <td>0.0</td>\n      <td>0.0</td>\n      <td>0.0</td>\n      <td>0.0</td>\n      <td>0.0</td>\n      <td>0.0</td>\n      <td>...</td>\n      <td>0.0</td>\n      <td>0.0</td>\n      <td>0.0</td>\n      <td>0.0</td>\n      <td>0.0</td>\n      <td>0.0</td>\n      <td>0.0</td>\n      <td>0.0</td>\n      <td>0.0</td>\n      <td>0.0</td>\n    </tr>\n    <tr>\n      <th>127</th>\n      <td>6.0</td>\n      <td>6.0</td>\n      <td>6.0</td>\n      <td>9.0</td>\n      <td>0.0</td>\n      <td>0.0</td>\n      <td>9.0</td>\n      <td>3.0</td>\n      <td>6.0</td>\n      <td>3.0</td>\n      <td>...</td>\n      <td>0.0</td>\n      <td>0.0</td>\n      <td>0.0</td>\n      <td>0.0</td>\n      <td>0.0</td>\n      <td>0.0</td>\n      <td>0.0</td>\n      <td>0.0</td>\n      <td>0.0</td>\n      <td>0.0</td>\n    </tr>\n  </tbody>\n</table>\n<p>128 rows × 36 columns</p>\n</div>"
     },
     "metadata": {},
     "execution_count": 51
    }
   ],
   "source": [
    "data = preprocess(export_example['all'])\n",
    "data"
   ]
  },
  {
   "cell_type": "code",
   "execution_count": 52,
   "metadata": {},
   "outputs": [],
   "source": [
    "data['direct'], data['specific'] = zip(*export_example['scores'])"
   ]
  },
  {
   "cell_type": "code",
   "execution_count": 53,
   "metadata": {},
   "outputs": [
    {
     "output_type": "execute_result",
     "data": {
      "text/plain": [
       "      VB   DT   JJ   NN  RBR   CC  VBN   MD  VBP  VBG  ...  WDT  RBS   ``  \\\n",
       "0    6.0  3.0  5.0  6.0  1.0  2.0  2.0  2.0  1.0  1.0  ...  0.0  0.0  0.0   \n",
       "1    3.0  1.0  1.0  8.0  0.0  0.0  0.0  2.0  1.0  0.0  ...  0.0  0.0  0.0   \n",
       "2    0.0  0.0  4.0  4.0  0.0  2.0  1.0  0.0  3.0  0.0  ...  0.0  0.0  0.0   \n",
       "3    1.0  0.0  5.0  6.0  1.0  2.0  1.0  0.0  2.0  2.0  ...  0.0  0.0  0.0   \n",
       "4    2.0  1.0  3.0  0.0  0.0  0.0  0.0  0.0  0.0  0.0  ...  0.0  0.0  0.0   \n",
       "..   ...  ...  ...  ...  ...  ...  ...  ...  ...  ...  ...  ...  ...  ...   \n",
       "123  4.0  4.0  3.0  8.0  0.0  2.0  0.0  0.0  3.0  3.0  ...  0.0  0.0  0.0   \n",
       "124  1.0  2.0  0.0  5.0  0.0  1.0  2.0  0.0  1.0  0.0  ...  0.0  0.0  0.0   \n",
       "125  1.0  1.0  1.0  4.0  0.0  0.0  0.0  1.0  0.0  0.0  ...  0.0  0.0  0.0   \n",
       "126  0.0  1.0  1.0  1.0  0.0  0.0  0.0  0.0  0.0  0.0  ...  0.0  0.0  0.0   \n",
       "127  6.0  6.0  6.0  9.0  0.0  0.0  9.0  3.0  6.0  3.0  ...  0.0  0.0  0.0   \n",
       "\n",
       "      ''  PDT    (    )   EX  direct  specific  \n",
       "0    0.0  0.0  0.0  0.0  0.0     3.0       4.0  \n",
       "1    0.0  0.0  0.0  0.0  0.0     5.0       4.0  \n",
       "2    0.0  0.0  0.0  0.0  0.0     4.0       4.0  \n",
       "3    0.0  0.0  0.0  0.0  0.0     4.0       3.0  \n",
       "4    0.0  0.0  0.0  0.0  0.0     1.0       2.0  \n",
       "..   ...  ...  ...  ...  ...     ...       ...  \n",
       "123  0.0  0.0  0.0  0.0  0.0     3.0       4.0  \n",
       "124  0.0  0.0  0.0  0.0  0.0     2.0       3.0  \n",
       "125  0.0  1.0  0.0  0.0  0.0     3.0       2.0  \n",
       "126  0.0  0.0  0.0  0.0  0.0     1.0       1.0  \n",
       "127  0.0  0.0  0.0  0.0  0.0     5.0       5.0  \n",
       "\n",
       "[128 rows x 38 columns]"
      ],
      "text/html": "<div>\n<style scoped>\n    .dataframe tbody tr th:only-of-type {\n        vertical-align: middle;\n    }\n\n    .dataframe tbody tr th {\n        vertical-align: top;\n    }\n\n    .dataframe thead th {\n        text-align: right;\n    }\n</style>\n<table border=\"1\" class=\"dataframe\">\n  <thead>\n    <tr style=\"text-align: right;\">\n      <th></th>\n      <th>VB</th>\n      <th>DT</th>\n      <th>JJ</th>\n      <th>NN</th>\n      <th>RBR</th>\n      <th>CC</th>\n      <th>VBN</th>\n      <th>MD</th>\n      <th>VBP</th>\n      <th>VBG</th>\n      <th>...</th>\n      <th>WDT</th>\n      <th>RBS</th>\n      <th>``</th>\n      <th>''</th>\n      <th>PDT</th>\n      <th>(</th>\n      <th>)</th>\n      <th>EX</th>\n      <th>direct</th>\n      <th>specific</th>\n    </tr>\n  </thead>\n  <tbody>\n    <tr>\n      <th>0</th>\n      <td>6.0</td>\n      <td>3.0</td>\n      <td>5.0</td>\n      <td>6.0</td>\n      <td>1.0</td>\n      <td>2.0</td>\n      <td>2.0</td>\n      <td>2.0</td>\n      <td>1.0</td>\n      <td>1.0</td>\n      <td>...</td>\n      <td>0.0</td>\n      <td>0.0</td>\n      <td>0.0</td>\n      <td>0.0</td>\n      <td>0.0</td>\n      <td>0.0</td>\n      <td>0.0</td>\n      <td>0.0</td>\n      <td>3.0</td>\n      <td>4.0</td>\n    </tr>\n    <tr>\n      <th>1</th>\n      <td>3.0</td>\n      <td>1.0</td>\n      <td>1.0</td>\n      <td>8.0</td>\n      <td>0.0</td>\n      <td>0.0</td>\n      <td>0.0</td>\n      <td>2.0</td>\n      <td>1.0</td>\n      <td>0.0</td>\n      <td>...</td>\n      <td>0.0</td>\n      <td>0.0</td>\n      <td>0.0</td>\n      <td>0.0</td>\n      <td>0.0</td>\n      <td>0.0</td>\n      <td>0.0</td>\n      <td>0.0</td>\n      <td>5.0</td>\n      <td>4.0</td>\n    </tr>\n    <tr>\n      <th>2</th>\n      <td>0.0</td>\n      <td>0.0</td>\n      <td>4.0</td>\n      <td>4.0</td>\n      <td>0.0</td>\n      <td>2.0</td>\n      <td>1.0</td>\n      <td>0.0</td>\n      <td>3.0</td>\n      <td>0.0</td>\n      <td>...</td>\n      <td>0.0</td>\n      <td>0.0</td>\n      <td>0.0</td>\n      <td>0.0</td>\n      <td>0.0</td>\n      <td>0.0</td>\n      <td>0.0</td>\n      <td>0.0</td>\n      <td>4.0</td>\n      <td>4.0</td>\n    </tr>\n    <tr>\n      <th>3</th>\n      <td>1.0</td>\n      <td>0.0</td>\n      <td>5.0</td>\n      <td>6.0</td>\n      <td>1.0</td>\n      <td>2.0</td>\n      <td>1.0</td>\n      <td>0.0</td>\n      <td>2.0</td>\n      <td>2.0</td>\n      <td>...</td>\n      <td>0.0</td>\n      <td>0.0</td>\n      <td>0.0</td>\n      <td>0.0</td>\n      <td>0.0</td>\n      <td>0.0</td>\n      <td>0.0</td>\n      <td>0.0</td>\n      <td>4.0</td>\n      <td>3.0</td>\n    </tr>\n    <tr>\n      <th>4</th>\n      <td>2.0</td>\n      <td>1.0</td>\n      <td>3.0</td>\n      <td>0.0</td>\n      <td>0.0</td>\n      <td>0.0</td>\n      <td>0.0</td>\n      <td>0.0</td>\n      <td>0.0</td>\n      <td>0.0</td>\n      <td>...</td>\n      <td>0.0</td>\n      <td>0.0</td>\n      <td>0.0</td>\n      <td>0.0</td>\n      <td>0.0</td>\n      <td>0.0</td>\n      <td>0.0</td>\n      <td>0.0</td>\n      <td>1.0</td>\n      <td>2.0</td>\n    </tr>\n    <tr>\n      <th>...</th>\n      <td>...</td>\n      <td>...</td>\n      <td>...</td>\n      <td>...</td>\n      <td>...</td>\n      <td>...</td>\n      <td>...</td>\n      <td>...</td>\n      <td>...</td>\n      <td>...</td>\n      <td>...</td>\n      <td>...</td>\n      <td>...</td>\n      <td>...</td>\n      <td>...</td>\n      <td>...</td>\n      <td>...</td>\n      <td>...</td>\n      <td>...</td>\n      <td>...</td>\n      <td>...</td>\n    </tr>\n    <tr>\n      <th>123</th>\n      <td>4.0</td>\n      <td>4.0</td>\n      <td>3.0</td>\n      <td>8.0</td>\n      <td>0.0</td>\n      <td>2.0</td>\n      <td>0.0</td>\n      <td>0.0</td>\n      <td>3.0</td>\n      <td>3.0</td>\n      <td>...</td>\n      <td>0.0</td>\n      <td>0.0</td>\n      <td>0.0</td>\n      <td>0.0</td>\n      <td>0.0</td>\n      <td>0.0</td>\n      <td>0.0</td>\n      <td>0.0</td>\n      <td>3.0</td>\n      <td>4.0</td>\n    </tr>\n    <tr>\n      <th>124</th>\n      <td>1.0</td>\n      <td>2.0</td>\n      <td>0.0</td>\n      <td>5.0</td>\n      <td>0.0</td>\n      <td>1.0</td>\n      <td>2.0</td>\n      <td>0.0</td>\n      <td>1.0</td>\n      <td>0.0</td>\n      <td>...</td>\n      <td>0.0</td>\n      <td>0.0</td>\n      <td>0.0</td>\n      <td>0.0</td>\n      <td>0.0</td>\n      <td>0.0</td>\n      <td>0.0</td>\n      <td>0.0</td>\n      <td>2.0</td>\n      <td>3.0</td>\n    </tr>\n    <tr>\n      <th>125</th>\n      <td>1.0</td>\n      <td>1.0</td>\n      <td>1.0</td>\n      <td>4.0</td>\n      <td>0.0</td>\n      <td>0.0</td>\n      <td>0.0</td>\n      <td>1.0</td>\n      <td>0.0</td>\n      <td>0.0</td>\n      <td>...</td>\n      <td>0.0</td>\n      <td>0.0</td>\n      <td>0.0</td>\n      <td>0.0</td>\n      <td>1.0</td>\n      <td>0.0</td>\n      <td>0.0</td>\n      <td>0.0</td>\n      <td>3.0</td>\n      <td>2.0</td>\n    </tr>\n    <tr>\n      <th>126</th>\n      <td>0.0</td>\n      <td>1.0</td>\n      <td>1.0</td>\n      <td>1.0</td>\n      <td>0.0</td>\n      <td>0.0</td>\n      <td>0.0</td>\n      <td>0.0</td>\n      <td>0.0</td>\n      <td>0.0</td>\n      <td>...</td>\n      <td>0.0</td>\n      <td>0.0</td>\n      <td>0.0</td>\n      <td>0.0</td>\n      <td>0.0</td>\n      <td>0.0</td>\n      <td>0.0</td>\n      <td>0.0</td>\n      <td>1.0</td>\n      <td>1.0</td>\n    </tr>\n    <tr>\n      <th>127</th>\n      <td>6.0</td>\n      <td>6.0</td>\n      <td>6.0</td>\n      <td>9.0</td>\n      <td>0.0</td>\n      <td>0.0</td>\n      <td>9.0</td>\n      <td>3.0</td>\n      <td>6.0</td>\n      <td>3.0</td>\n      <td>...</td>\n      <td>0.0</td>\n      <td>0.0</td>\n      <td>0.0</td>\n      <td>0.0</td>\n      <td>0.0</td>\n      <td>0.0</td>\n      <td>0.0</td>\n      <td>0.0</td>\n      <td>5.0</td>\n      <td>5.0</td>\n    </tr>\n  </tbody>\n</table>\n<p>128 rows × 38 columns</p>\n</div>"
     },
     "metadata": {},
     "execution_count": 53
    }
   ],
   "source": [
    "data"
   ]
  },
  {
   "cell_type": "code",
   "execution_count": 61,
   "metadata": {},
   "outputs": [
    {
     "output_type": "stream",
     "name": "stdout",
     "text": [
      "{'fit_time': array([0.08923817, 0.10243177, 0.106107  ]), 'score_time': array([0.00263   , 0.00214005, 0.00281692]), 'test_score': array([0.58139535, 0.55813953, 0.45238095]), 'train_score': array([0.90588235, 0.8       , 0.87209302])}\n"
     ]
    }
   ],
   "source": [
    "x_train = data.iloc[:, :-2]\n",
    "y_train = data['specific']\n",
    "\n",
    "model = LogisticRegression(max_iter=1000, class_weight='balanced').fit(x_train,y_train)\n",
    "# model = Lasso().fit(x_train,y_train)\n",
    "print(cross_validate(model, x_train, y_train, return_train_score=True, cv=3))"
   ]
  },
  {
   "cell_type": "code",
   "execution_count": 63,
   "metadata": {},
   "outputs": [
    {
     "output_type": "execute_result",
     "data": {
      "text/plain": [
       "                                                   all      scores\n",
       "0    do a Bible study finish Bible study and feel f...  (3.0, 4.0)\n",
       "1    I want to clean my house I will get everything...  (5.0, 4.0)\n",
       "2    Eat healthy and exercise I burn more calories ...  (4.0, 4.0)\n",
       "3    Spend quality time with my cat My cat appears ...  (4.0, 3.0)\n",
       "4          Go out to eat Care Free  Happy, no problems  (1.0, 2.0)\n",
       "..                                                 ...         ...\n",
       "251  Getting a new brand car A lot ammount of money...  (2.0, 2.0)\n",
       "252  Getting a new car A lot ammount of money That'...  (2.0, 2.0)\n",
       "253          visit honest wish this is very important   (1.0, 1.0)\n",
       "254  I wish to be debt free I will be so relieved I...  (4.0, 3.0)\n",
       "255  I would like the pain in my jaw to stop I can ...  (4.0, 4.0)\n",
       "\n",
       "[256 rows x 2 columns]"
      ],
      "text/html": "<div>\n<style scoped>\n    .dataframe tbody tr th:only-of-type {\n        vertical-align: middle;\n    }\n\n    .dataframe tbody tr th {\n        vertical-align: top;\n    }\n\n    .dataframe thead th {\n        text-align: right;\n    }\n</style>\n<table border=\"1\" class=\"dataframe\">\n  <thead>\n    <tr style=\"text-align: right;\">\n      <th></th>\n      <th>all</th>\n      <th>scores</th>\n    </tr>\n  </thead>\n  <tbody>\n    <tr>\n      <th>0</th>\n      <td>do a Bible study finish Bible study and feel f...</td>\n      <td>(3.0, 4.0)</td>\n    </tr>\n    <tr>\n      <th>1</th>\n      <td>I want to clean my house I will get everything...</td>\n      <td>(5.0, 4.0)</td>\n    </tr>\n    <tr>\n      <th>2</th>\n      <td>Eat healthy and exercise I burn more calories ...</td>\n      <td>(4.0, 4.0)</td>\n    </tr>\n    <tr>\n      <th>3</th>\n      <td>Spend quality time with my cat My cat appears ...</td>\n      <td>(4.0, 3.0)</td>\n    </tr>\n    <tr>\n      <th>4</th>\n      <td>Go out to eat Care Free  Happy, no problems</td>\n      <td>(1.0, 2.0)</td>\n    </tr>\n    <tr>\n      <th>...</th>\n      <td>...</td>\n      <td>...</td>\n    </tr>\n    <tr>\n      <th>251</th>\n      <td>Getting a new brand car A lot ammount of money...</td>\n      <td>(2.0, 2.0)</td>\n    </tr>\n    <tr>\n      <th>252</th>\n      <td>Getting a new car A lot ammount of money That'...</td>\n      <td>(2.0, 2.0)</td>\n    </tr>\n    <tr>\n      <th>253</th>\n      <td>visit honest wish this is very important</td>\n      <td>(1.0, 1.0)</td>\n    </tr>\n    <tr>\n      <th>254</th>\n      <td>I wish to be debt free I will be so relieved I...</td>\n      <td>(4.0, 3.0)</td>\n    </tr>\n    <tr>\n      <th>255</th>\n      <td>I would like the pain in my jaw to stop I can ...</td>\n      <td>(4.0, 4.0)</td>\n    </tr>\n  </tbody>\n</table>\n<p>256 rows × 2 columns</p>\n</div>"
     },
     "metadata": {},
     "execution_count": 63
    }
   ],
   "source": [
    "export_example = pd.read_pickle('all_values_example.pkl')\n",
    "export_example"
   ]
  },
  {
   "cell_type": "code",
   "execution_count": 68,
   "metadata": {},
   "outputs": [
    {
     "output_type": "execute_result",
     "data": {
      "text/plain": [
       "      VB   DT   JJ    NN  RBR   CC  VBN   MD  VBP  VBG  ...  RBS   ``   ''  \\\n",
       "0    6.0  3.0  5.0   6.0  1.0  2.0  2.0  2.0  1.0  1.0  ...  0.0  0.0  0.0   \n",
       "1    3.0  1.0  1.0   8.0  0.0  0.0  0.0  2.0  1.0  0.0  ...  0.0  0.0  0.0   \n",
       "2    0.0  0.0  4.0   4.0  0.0  2.0  1.0  0.0  3.0  0.0  ...  0.0  0.0  0.0   \n",
       "3    1.0  0.0  5.0   6.0  1.0  2.0  1.0  0.0  2.0  2.0  ...  0.0  0.0  0.0   \n",
       "4    2.0  1.0  3.0   0.0  0.0  0.0  0.0  0.0  0.0  0.0  ...  0.0  0.0  0.0   \n",
       "..   ...  ...  ...   ...  ...  ...  ...  ...  ...  ...  ...  ...  ...  ...   \n",
       "251  2.0  8.0  7.0  13.0  1.0  1.0  0.0  1.0  0.0  2.0  ...  0.0  0.0  0.0   \n",
       "252  2.0  7.0  7.0  13.0  1.0  1.0  0.0  1.0  0.0  2.0  ...  0.0  0.0  0.0   \n",
       "253  0.0  1.0  1.0   2.0  0.0  0.0  0.0  0.0  0.0  0.0  ...  0.0  0.0  0.0   \n",
       "254  4.0  2.0  4.0   9.0  0.0  0.0  0.0  2.0  0.0  0.0  ...  0.0  0.0  0.0   \n",
       "255  7.0  4.0  6.0   6.0  0.0  1.0  1.0  4.0  0.0  0.0  ...  0.0  0.0  0.0   \n",
       "\n",
       "     PDT    (    )   EX  NNP    $   FW  \n",
       "0    0.0  0.0  0.0  0.0  0.0  0.0  0.0  \n",
       "1    0.0  0.0  0.0  0.0  0.0  0.0  0.0  \n",
       "2    0.0  0.0  0.0  0.0  0.0  0.0  0.0  \n",
       "3    0.0  0.0  0.0  0.0  0.0  0.0  0.0  \n",
       "4    0.0  0.0  0.0  0.0  0.0  0.0  0.0  \n",
       "..   ...  ...  ...  ...  ...  ...  ...  \n",
       "251  0.0  0.0  0.0  0.0  0.0  0.0  0.0  \n",
       "252  0.0  0.0  0.0  0.0  0.0  0.0  0.0  \n",
       "253  0.0  0.0  0.0  0.0  0.0  0.0  0.0  \n",
       "254  0.0  0.0  0.0  0.0  0.0  0.0  0.0  \n",
       "255  0.0  0.0  0.0  0.0  0.0  0.0  0.0  \n",
       "\n",
       "[256 rows x 39 columns]"
      ],
      "text/html": "<div>\n<style scoped>\n    .dataframe tbody tr th:only-of-type {\n        vertical-align: middle;\n    }\n\n    .dataframe tbody tr th {\n        vertical-align: top;\n    }\n\n    .dataframe thead th {\n        text-align: right;\n    }\n</style>\n<table border=\"1\" class=\"dataframe\">\n  <thead>\n    <tr style=\"text-align: right;\">\n      <th></th>\n      <th>VB</th>\n      <th>DT</th>\n      <th>JJ</th>\n      <th>NN</th>\n      <th>RBR</th>\n      <th>CC</th>\n      <th>VBN</th>\n      <th>MD</th>\n      <th>VBP</th>\n      <th>VBG</th>\n      <th>...</th>\n      <th>RBS</th>\n      <th>``</th>\n      <th>''</th>\n      <th>PDT</th>\n      <th>(</th>\n      <th>)</th>\n      <th>EX</th>\n      <th>NNP</th>\n      <th>$</th>\n      <th>FW</th>\n    </tr>\n  </thead>\n  <tbody>\n    <tr>\n      <th>0</th>\n      <td>6.0</td>\n      <td>3.0</td>\n      <td>5.0</td>\n      <td>6.0</td>\n      <td>1.0</td>\n      <td>2.0</td>\n      <td>2.0</td>\n      <td>2.0</td>\n      <td>1.0</td>\n      <td>1.0</td>\n      <td>...</td>\n      <td>0.0</td>\n      <td>0.0</td>\n      <td>0.0</td>\n      <td>0.0</td>\n      <td>0.0</td>\n      <td>0.0</td>\n      <td>0.0</td>\n      <td>0.0</td>\n      <td>0.0</td>\n      <td>0.0</td>\n    </tr>\n    <tr>\n      <th>1</th>\n      <td>3.0</td>\n      <td>1.0</td>\n      <td>1.0</td>\n      <td>8.0</td>\n      <td>0.0</td>\n      <td>0.0</td>\n      <td>0.0</td>\n      <td>2.0</td>\n      <td>1.0</td>\n      <td>0.0</td>\n      <td>...</td>\n      <td>0.0</td>\n      <td>0.0</td>\n      <td>0.0</td>\n      <td>0.0</td>\n      <td>0.0</td>\n      <td>0.0</td>\n      <td>0.0</td>\n      <td>0.0</td>\n      <td>0.0</td>\n      <td>0.0</td>\n    </tr>\n    <tr>\n      <th>2</th>\n      <td>0.0</td>\n      <td>0.0</td>\n      <td>4.0</td>\n      <td>4.0</td>\n      <td>0.0</td>\n      <td>2.0</td>\n      <td>1.0</td>\n      <td>0.0</td>\n      <td>3.0</td>\n      <td>0.0</td>\n      <td>...</td>\n      <td>0.0</td>\n      <td>0.0</td>\n      <td>0.0</td>\n      <td>0.0</td>\n      <td>0.0</td>\n      <td>0.0</td>\n      <td>0.0</td>\n      <td>0.0</td>\n      <td>0.0</td>\n      <td>0.0</td>\n    </tr>\n    <tr>\n      <th>3</th>\n      <td>1.0</td>\n      <td>0.0</td>\n      <td>5.0</td>\n      <td>6.0</td>\n      <td>1.0</td>\n      <td>2.0</td>\n      <td>1.0</td>\n      <td>0.0</td>\n      <td>2.0</td>\n      <td>2.0</td>\n      <td>...</td>\n      <td>0.0</td>\n      <td>0.0</td>\n      <td>0.0</td>\n      <td>0.0</td>\n      <td>0.0</td>\n      <td>0.0</td>\n      <td>0.0</td>\n      <td>0.0</td>\n      <td>0.0</td>\n      <td>0.0</td>\n    </tr>\n    <tr>\n      <th>4</th>\n      <td>2.0</td>\n      <td>1.0</td>\n      <td>3.0</td>\n      <td>0.0</td>\n      <td>0.0</td>\n      <td>0.0</td>\n      <td>0.0</td>\n      <td>0.0</td>\n      <td>0.0</td>\n      <td>0.0</td>\n      <td>...</td>\n      <td>0.0</td>\n      <td>0.0</td>\n      <td>0.0</td>\n      <td>0.0</td>\n      <td>0.0</td>\n      <td>0.0</td>\n      <td>0.0</td>\n      <td>0.0</td>\n      <td>0.0</td>\n      <td>0.0</td>\n    </tr>\n    <tr>\n      <th>...</th>\n      <td>...</td>\n      <td>...</td>\n      <td>...</td>\n      <td>...</td>\n      <td>...</td>\n      <td>...</td>\n      <td>...</td>\n      <td>...</td>\n      <td>...</td>\n      <td>...</td>\n      <td>...</td>\n      <td>...</td>\n      <td>...</td>\n      <td>...</td>\n      <td>...</td>\n      <td>...</td>\n      <td>...</td>\n      <td>...</td>\n      <td>...</td>\n      <td>...</td>\n      <td>...</td>\n    </tr>\n    <tr>\n      <th>251</th>\n      <td>2.0</td>\n      <td>8.0</td>\n      <td>7.0</td>\n      <td>13.0</td>\n      <td>1.0</td>\n      <td>1.0</td>\n      <td>0.0</td>\n      <td>1.0</td>\n      <td>0.0</td>\n      <td>2.0</td>\n      <td>...</td>\n      <td>0.0</td>\n      <td>0.0</td>\n      <td>0.0</td>\n      <td>0.0</td>\n      <td>0.0</td>\n      <td>0.0</td>\n      <td>0.0</td>\n      <td>0.0</td>\n      <td>0.0</td>\n      <td>0.0</td>\n    </tr>\n    <tr>\n      <th>252</th>\n      <td>2.0</td>\n      <td>7.0</td>\n      <td>7.0</td>\n      <td>13.0</td>\n      <td>1.0</td>\n      <td>1.0</td>\n      <td>0.0</td>\n      <td>1.0</td>\n      <td>0.0</td>\n      <td>2.0</td>\n      <td>...</td>\n      <td>0.0</td>\n      <td>0.0</td>\n      <td>0.0</td>\n      <td>0.0</td>\n      <td>0.0</td>\n      <td>0.0</td>\n      <td>0.0</td>\n      <td>0.0</td>\n      <td>0.0</td>\n      <td>0.0</td>\n    </tr>\n    <tr>\n      <th>253</th>\n      <td>0.0</td>\n      <td>1.0</td>\n      <td>1.0</td>\n      <td>2.0</td>\n      <td>0.0</td>\n      <td>0.0</td>\n      <td>0.0</td>\n      <td>0.0</td>\n      <td>0.0</td>\n      <td>0.0</td>\n      <td>...</td>\n      <td>0.0</td>\n      <td>0.0</td>\n      <td>0.0</td>\n      <td>0.0</td>\n      <td>0.0</td>\n      <td>0.0</td>\n      <td>0.0</td>\n      <td>0.0</td>\n      <td>0.0</td>\n      <td>0.0</td>\n    </tr>\n    <tr>\n      <th>254</th>\n      <td>4.0</td>\n      <td>2.0</td>\n      <td>4.0</td>\n      <td>9.0</td>\n      <td>0.0</td>\n      <td>0.0</td>\n      <td>0.0</td>\n      <td>2.0</td>\n      <td>0.0</td>\n      <td>0.0</td>\n      <td>...</td>\n      <td>0.0</td>\n      <td>0.0</td>\n      <td>0.0</td>\n      <td>0.0</td>\n      <td>0.0</td>\n      <td>0.0</td>\n      <td>0.0</td>\n      <td>0.0</td>\n      <td>0.0</td>\n      <td>0.0</td>\n    </tr>\n    <tr>\n      <th>255</th>\n      <td>7.0</td>\n      <td>4.0</td>\n      <td>6.0</td>\n      <td>6.0</td>\n      <td>0.0</td>\n      <td>1.0</td>\n      <td>1.0</td>\n      <td>4.0</td>\n      <td>0.0</td>\n      <td>0.0</td>\n      <td>...</td>\n      <td>0.0</td>\n      <td>0.0</td>\n      <td>0.0</td>\n      <td>0.0</td>\n      <td>0.0</td>\n      <td>0.0</td>\n      <td>0.0</td>\n      <td>0.0</td>\n      <td>0.0</td>\n      <td>0.0</td>\n    </tr>\n  </tbody>\n</table>\n<p>256 rows × 39 columns</p>\n</div>"
     },
     "metadata": {},
     "execution_count": 68
    }
   ],
   "source": [
    "data = preprocess(export_example['all'])\n",
    "data"
   ]
  },
  {
   "cell_type": "code",
   "execution_count": 69,
   "metadata": {},
   "outputs": [],
   "source": [
    "from sklearn.preprocessing import MinMaxScaler\n",
    "\n",
    "scaler = MinMaxScaler() \n",
    "scaled_values = scaler.fit_transform(data) \n",
    "data.loc[:,:] = scaled_values"
   ]
  },
  {
   "cell_type": "code",
   "execution_count": 70,
   "metadata": {},
   "outputs": [],
   "source": [
    "data['direct'], data['specific'] = zip(*export_example['scores'])"
   ]
  },
  {
   "cell_type": "code",
   "execution_count": 79,
   "metadata": {},
   "outputs": [
    {
     "output_type": "stream",
     "name": "stdout",
     "text": [
      "{'fit_time': array([0.02265191, 0.02352738, 0.01994824, 0.0217936 , 0.02000427]), 'score_time': array([0.00233889, 0.00214076, 0.00214076, 0.00245929, 0.00315475]), 'test_score': array([0.57692308, 0.62745098, 0.70588235, 0.60784314, 0.60784314]), 'train_score': array([0.7254902 , 0.72682927, 0.68780488, 0.70243902, 0.74634146])}\n"
     ]
    }
   ],
   "source": [
    "x_train = data.iloc[:, :-2]\n",
    "y_train = data['specific']\n",
    "\n",
    "model = LogisticRegression().fit(x_train,y_train)\n",
    "# model = Lasso().fit(x_train,y_train)\n",
    "print(cross_validate(model, x_train, y_train, return_train_score=True, cv=5))"
   ]
  },
  {
   "cell_type": "code",
   "execution_count": 74,
   "metadata": {},
   "outputs": [
    {
     "output_type": "execute_result",
     "data": {
      "text/plain": [
       "           VB     DT        JJ        NN  RBR     CC       VBN        MD  \\\n",
       "0    0.500000  0.375  0.555556  0.315789  0.5  0.250  0.222222  0.333333   \n",
       "1    0.250000  0.125  0.111111  0.421053  0.0  0.000  0.000000  0.333333   \n",
       "2    0.000000  0.000  0.444444  0.210526  0.0  0.250  0.111111  0.000000   \n",
       "3    0.083333  0.000  0.555556  0.315789  0.5  0.250  0.111111  0.000000   \n",
       "4    0.166667  0.125  0.333333  0.000000  0.0  0.000  0.000000  0.000000   \n",
       "..        ...    ...       ...       ...  ...    ...       ...       ...   \n",
       "251  0.166667  1.000  0.777778  0.684211  0.5  0.125  0.000000  0.166667   \n",
       "252  0.166667  0.875  0.777778  0.684211  0.5  0.125  0.000000  0.166667   \n",
       "253  0.000000  0.125  0.111111  0.105263  0.0  0.000  0.000000  0.000000   \n",
       "254  0.333333  0.250  0.444444  0.473684  0.0  0.000  0.000000  0.333333   \n",
       "255  0.583333  0.500  0.666667  0.315789  0.0  0.125  0.111111  0.666667   \n",
       "\n",
       "          VBP       VBG  ...   ''  PDT    (    )   EX  NNP    $   FW  direct  \\\n",
       "0    0.166667  0.166667  ...  0.0  0.0  0.0  0.0  0.0  0.0  0.0  0.0     3.0   \n",
       "1    0.166667  0.000000  ...  0.0  0.0  0.0  0.0  0.0  0.0  0.0  0.0     5.0   \n",
       "2    0.500000  0.000000  ...  0.0  0.0  0.0  0.0  0.0  0.0  0.0  0.0     4.0   \n",
       "3    0.333333  0.333333  ...  0.0  0.0  0.0  0.0  0.0  0.0  0.0  0.0     4.0   \n",
       "4    0.000000  0.000000  ...  0.0  0.0  0.0  0.0  0.0  0.0  0.0  0.0     1.0   \n",
       "..        ...       ...  ...  ...  ...  ...  ...  ...  ...  ...  ...     ...   \n",
       "251  0.000000  0.333333  ...  0.0  0.0  0.0  0.0  0.0  0.0  0.0  0.0     2.0   \n",
       "252  0.000000  0.333333  ...  0.0  0.0  0.0  0.0  0.0  0.0  0.0  0.0     2.0   \n",
       "253  0.000000  0.000000  ...  0.0  0.0  0.0  0.0  0.0  0.0  0.0  0.0     1.0   \n",
       "254  0.000000  0.000000  ...  0.0  0.0  0.0  0.0  0.0  0.0  0.0  0.0     4.0   \n",
       "255  0.000000  0.000000  ...  0.0  0.0  0.0  0.0  0.0  0.0  0.0  0.0     4.0   \n",
       "\n",
       "     specific  \n",
       "0         4.0  \n",
       "1         4.0  \n",
       "2         4.0  \n",
       "3         3.0  \n",
       "4         2.0  \n",
       "..        ...  \n",
       "251       2.0  \n",
       "252       2.0  \n",
       "253       1.0  \n",
       "254       3.0  \n",
       "255       4.0  \n",
       "\n",
       "[256 rows x 41 columns]"
      ],
      "text/html": "<div>\n<style scoped>\n    .dataframe tbody tr th:only-of-type {\n        vertical-align: middle;\n    }\n\n    .dataframe tbody tr th {\n        vertical-align: top;\n    }\n\n    .dataframe thead th {\n        text-align: right;\n    }\n</style>\n<table border=\"1\" class=\"dataframe\">\n  <thead>\n    <tr style=\"text-align: right;\">\n      <th></th>\n      <th>VB</th>\n      <th>DT</th>\n      <th>JJ</th>\n      <th>NN</th>\n      <th>RBR</th>\n      <th>CC</th>\n      <th>VBN</th>\n      <th>MD</th>\n      <th>VBP</th>\n      <th>VBG</th>\n      <th>...</th>\n      <th>''</th>\n      <th>PDT</th>\n      <th>(</th>\n      <th>)</th>\n      <th>EX</th>\n      <th>NNP</th>\n      <th>$</th>\n      <th>FW</th>\n      <th>direct</th>\n      <th>specific</th>\n    </tr>\n  </thead>\n  <tbody>\n    <tr>\n      <th>0</th>\n      <td>0.500000</td>\n      <td>0.375</td>\n      <td>0.555556</td>\n      <td>0.315789</td>\n      <td>0.5</td>\n      <td>0.250</td>\n      <td>0.222222</td>\n      <td>0.333333</td>\n      <td>0.166667</td>\n      <td>0.166667</td>\n      <td>...</td>\n      <td>0.0</td>\n      <td>0.0</td>\n      <td>0.0</td>\n      <td>0.0</td>\n      <td>0.0</td>\n      <td>0.0</td>\n      <td>0.0</td>\n      <td>0.0</td>\n      <td>3.0</td>\n      <td>4.0</td>\n    </tr>\n    <tr>\n      <th>1</th>\n      <td>0.250000</td>\n      <td>0.125</td>\n      <td>0.111111</td>\n      <td>0.421053</td>\n      <td>0.0</td>\n      <td>0.000</td>\n      <td>0.000000</td>\n      <td>0.333333</td>\n      <td>0.166667</td>\n      <td>0.000000</td>\n      <td>...</td>\n      <td>0.0</td>\n      <td>0.0</td>\n      <td>0.0</td>\n      <td>0.0</td>\n      <td>0.0</td>\n      <td>0.0</td>\n      <td>0.0</td>\n      <td>0.0</td>\n      <td>5.0</td>\n      <td>4.0</td>\n    </tr>\n    <tr>\n      <th>2</th>\n      <td>0.000000</td>\n      <td>0.000</td>\n      <td>0.444444</td>\n      <td>0.210526</td>\n      <td>0.0</td>\n      <td>0.250</td>\n      <td>0.111111</td>\n      <td>0.000000</td>\n      <td>0.500000</td>\n      <td>0.000000</td>\n      <td>...</td>\n      <td>0.0</td>\n      <td>0.0</td>\n      <td>0.0</td>\n      <td>0.0</td>\n      <td>0.0</td>\n      <td>0.0</td>\n      <td>0.0</td>\n      <td>0.0</td>\n      <td>4.0</td>\n      <td>4.0</td>\n    </tr>\n    <tr>\n      <th>3</th>\n      <td>0.083333</td>\n      <td>0.000</td>\n      <td>0.555556</td>\n      <td>0.315789</td>\n      <td>0.5</td>\n      <td>0.250</td>\n      <td>0.111111</td>\n      <td>0.000000</td>\n      <td>0.333333</td>\n      <td>0.333333</td>\n      <td>...</td>\n      <td>0.0</td>\n      <td>0.0</td>\n      <td>0.0</td>\n      <td>0.0</td>\n      <td>0.0</td>\n      <td>0.0</td>\n      <td>0.0</td>\n      <td>0.0</td>\n      <td>4.0</td>\n      <td>3.0</td>\n    </tr>\n    <tr>\n      <th>4</th>\n      <td>0.166667</td>\n      <td>0.125</td>\n      <td>0.333333</td>\n      <td>0.000000</td>\n      <td>0.0</td>\n      <td>0.000</td>\n      <td>0.000000</td>\n      <td>0.000000</td>\n      <td>0.000000</td>\n      <td>0.000000</td>\n      <td>...</td>\n      <td>0.0</td>\n      <td>0.0</td>\n      <td>0.0</td>\n      <td>0.0</td>\n      <td>0.0</td>\n      <td>0.0</td>\n      <td>0.0</td>\n      <td>0.0</td>\n      <td>1.0</td>\n      <td>2.0</td>\n    </tr>\n    <tr>\n      <th>...</th>\n      <td>...</td>\n      <td>...</td>\n      <td>...</td>\n      <td>...</td>\n      <td>...</td>\n      <td>...</td>\n      <td>...</td>\n      <td>...</td>\n      <td>...</td>\n      <td>...</td>\n      <td>...</td>\n      <td>...</td>\n      <td>...</td>\n      <td>...</td>\n      <td>...</td>\n      <td>...</td>\n      <td>...</td>\n      <td>...</td>\n      <td>...</td>\n      <td>...</td>\n      <td>...</td>\n    </tr>\n    <tr>\n      <th>251</th>\n      <td>0.166667</td>\n      <td>1.000</td>\n      <td>0.777778</td>\n      <td>0.684211</td>\n      <td>0.5</td>\n      <td>0.125</td>\n      <td>0.000000</td>\n      <td>0.166667</td>\n      <td>0.000000</td>\n      <td>0.333333</td>\n      <td>...</td>\n      <td>0.0</td>\n      <td>0.0</td>\n      <td>0.0</td>\n      <td>0.0</td>\n      <td>0.0</td>\n      <td>0.0</td>\n      <td>0.0</td>\n      <td>0.0</td>\n      <td>2.0</td>\n      <td>2.0</td>\n    </tr>\n    <tr>\n      <th>252</th>\n      <td>0.166667</td>\n      <td>0.875</td>\n      <td>0.777778</td>\n      <td>0.684211</td>\n      <td>0.5</td>\n      <td>0.125</td>\n      <td>0.000000</td>\n      <td>0.166667</td>\n      <td>0.000000</td>\n      <td>0.333333</td>\n      <td>...</td>\n      <td>0.0</td>\n      <td>0.0</td>\n      <td>0.0</td>\n      <td>0.0</td>\n      <td>0.0</td>\n      <td>0.0</td>\n      <td>0.0</td>\n      <td>0.0</td>\n      <td>2.0</td>\n      <td>2.0</td>\n    </tr>\n    <tr>\n      <th>253</th>\n      <td>0.000000</td>\n      <td>0.125</td>\n      <td>0.111111</td>\n      <td>0.105263</td>\n      <td>0.0</td>\n      <td>0.000</td>\n      <td>0.000000</td>\n      <td>0.000000</td>\n      <td>0.000000</td>\n      <td>0.000000</td>\n      <td>...</td>\n      <td>0.0</td>\n      <td>0.0</td>\n      <td>0.0</td>\n      <td>0.0</td>\n      <td>0.0</td>\n      <td>0.0</td>\n      <td>0.0</td>\n      <td>0.0</td>\n      <td>1.0</td>\n      <td>1.0</td>\n    </tr>\n    <tr>\n      <th>254</th>\n      <td>0.333333</td>\n      <td>0.250</td>\n      <td>0.444444</td>\n      <td>0.473684</td>\n      <td>0.0</td>\n      <td>0.000</td>\n      <td>0.000000</td>\n      <td>0.333333</td>\n      <td>0.000000</td>\n      <td>0.000000</td>\n      <td>...</td>\n      <td>0.0</td>\n      <td>0.0</td>\n      <td>0.0</td>\n      <td>0.0</td>\n      <td>0.0</td>\n      <td>0.0</td>\n      <td>0.0</td>\n      <td>0.0</td>\n      <td>4.0</td>\n      <td>3.0</td>\n    </tr>\n    <tr>\n      <th>255</th>\n      <td>0.583333</td>\n      <td>0.500</td>\n      <td>0.666667</td>\n      <td>0.315789</td>\n      <td>0.0</td>\n      <td>0.125</td>\n      <td>0.111111</td>\n      <td>0.666667</td>\n      <td>0.000000</td>\n      <td>0.000000</td>\n      <td>...</td>\n      <td>0.0</td>\n      <td>0.0</td>\n      <td>0.0</td>\n      <td>0.0</td>\n      <td>0.0</td>\n      <td>0.0</td>\n      <td>0.0</td>\n      <td>0.0</td>\n      <td>4.0</td>\n      <td>4.0</td>\n    </tr>\n  </tbody>\n</table>\n<p>256 rows × 41 columns</p>\n</div>"
     },
     "metadata": {},
     "execution_count": 74
    }
   ],
   "source": [
    "data"
   ]
  },
  {
   "cell_type": "code",
   "execution_count": 81,
   "metadata": {},
   "outputs": [
    {
     "output_type": "execute_result",
     "data": {
      "text/plain": [
       "Counter({3.0: 145, 2.0: 99, 4.0: 9, 5.0: 3})"
      ]
     },
     "metadata": {},
     "execution_count": 81
    }
   ],
   "source": [
    "Counter(model.predict(x_train))"
   ]
  },
  {
   "cell_type": "code",
   "execution_count": 82,
   "metadata": {},
   "outputs": [
    {
     "output_type": "execute_result",
     "data": {
      "text/plain": [
       "Counter({4.0: 29, 3.0: 122, 2.0: 88, 1.0: 13, 5.0: 4})"
      ]
     },
     "metadata": {},
     "execution_count": 82
    }
   ],
   "source": [
    "Counter(y_train)"
   ]
  },
  {
   "cell_type": "code",
   "execution_count": 89,
   "metadata": {},
   "outputs": [],
   "source": [
    "balancer = imblearn.over_sampling.SMOTE(k_neighbors = 3)\n",
    "balanced = balancer.fit_resample(x_train, y_train)"
   ]
  },
  {
   "cell_type": "code",
   "execution_count": 92,
   "metadata": {},
   "outputs": [],
   "source": [
    "x_train = balanced[0]\n",
    "y_train = balanced[1]"
   ]
  },
  {
   "cell_type": "code",
   "execution_count": 95,
   "metadata": {},
   "outputs": [
    {
     "output_type": "stream",
     "name": "stdout",
     "text": [
      "{'fit_time': array([0.03123093, 0.03031492, 0.03254819]), 'score_time': array([0.00246811, 0.00301909, 0.0022738 ]), 'test_score': array([0.79411765, 0.77339901, 0.79310345]), 'train_score': array([0.83497537, 0.85749386, 0.83538084])}\n"
     ]
    }
   ],
   "source": [
    "model = LogisticRegression().fit(x_train,y_train)\n",
    "print(cross_validate(model, x_train, y_train, return_train_score=True, cv=3))"
   ]
  },
  {
   "cell_type": "code",
   "execution_count": 122,
   "metadata": {},
   "outputs": [],
   "source": [
    "clf = RandomForestClassifier(n_estimators=200, n_jobs=1, random_state=42, warm_start=False)"
   ]
  },
  {
   "cell_type": "code",
   "execution_count": 125,
   "metadata": {},
   "outputs": [],
   "source": [
    "model = clf.fit(x_train, y_train)"
   ]
  },
  {
   "cell_type": "code",
   "execution_count": 126,
   "metadata": {},
   "outputs": [
    {
     "output_type": "stream",
     "name": "stdout",
     "text": [
      "{'fit_time': array([0.49524021, 0.43730903, 0.44738078]), 'score_time': array([0.0354352 , 0.03281784, 0.03360224]), 'test_score': array([0.83823529, 0.85221675, 0.90147783]), 'train_score': array([1., 1., 1.])}\n"
     ]
    }
   ],
   "source": [
    "print(cross_validate(model, x_train, y_train, return_train_score=True, cv=3))"
   ]
  },
  {
   "cell_type": "code",
   "execution_count": 134,
   "metadata": {},
   "outputs": [
    {
     "output_type": "stream",
     "name": "stdout",
     "text": [
      "Fitting 5 folds for each of 100 candidates, totalling 500 fits\n"
     ]
    }
   ],
   "source": [
    "pipe = Pipeline([('classifier' , RandomForestClassifier())])\n",
    "\n",
    "# Create param grid.\n",
    "\n",
    "param_grid = [\n",
    "    {'classifier' : [LogisticRegression()],\n",
    "     'classifier__penalty' : ['l1', 'l2'],\n",
    "    'classifier__C' : np.logspace(-4, 4, 20),\n",
    "    'classifier__solver' : ['liblinear']},\n",
    "    {'classifier' : [RandomForestClassifier()],\n",
    "    'classifier__n_estimators' : list(range(10,201,20)),\n",
    "    'classifier__max_features' : list(range(6,32,5))}\n",
    "]\n",
    "\n",
    "# Create grid search object\n",
    "\n",
    "clf = GridSearchCV(pipe, param_grid = param_grid, cv = 5, verbose=True, n_jobs=1)\n",
    "\n",
    "# Fit on data\n",
    "\n",
    "best_clf = clf.fit(x_train, y_train)\n"
   ]
  },
  {
   "cell_type": "code",
   "execution_count": 141,
   "metadata": {},
   "outputs": [
    {
     "output_type": "execute_result",
     "data": {
      "text/plain": [
       "['best_general_model.joblib']"
      ]
     },
     "metadata": {},
     "execution_count": 141
    }
   ],
   "source": [
    "dump(best_clf, \"best_general_model.joblib\")"
   ]
  },
  {
   "cell_type": "code",
   "execution_count": 142,
   "metadata": {},
   "outputs": [
    {
     "output_type": "execute_result",
     "data": {
      "text/plain": [
       "Index(['VB', 'DT', 'JJ', 'NN', 'RBR', 'CC', 'VBN', 'MD', 'VBP', 'VBG', 'TO',\n",
       "       'IN', '.', 'JJR', 'PRP$', 'RB', 'NNS', 'VBZ', 'WRB', ',', 'PRP', ':',\n",
       "       'RP', 'CD', 'VBD', 'JJS', 'POS', 'WP', 'WDT', 'RBS', '``', '''', 'PDT',\n",
       "       '(', ')', 'EX', 'NNP', '$', 'FW', 'direct', 'specific'],\n",
       "      dtype='object')"
      ]
     },
     "metadata": {},
     "execution_count": 142
    }
   ],
   "source": [
    "data.columns"
   ]
  },
  {
   "cell_type": "code",
   "execution_count": null,
   "metadata": {},
   "outputs": [],
   "source": []
  }
 ]
}